{
  "nbformat": 4,
  "nbformat_minor": 2,
  "metadata": {
    "colab": {
      "name": "get_weekly_preds.ipynb",
      "provenance": [],
      "collapsed_sections": []
    },
    "kernelspec": {
      "display_name": "Python 3",
      "name": "python3"
    },
    "language_info": {
      "name": "python"
    }
  },
  "cells": [
    {
      "cell_type": "markdown",
      "source": [
        "Mount Drive\n"
      ],
      "metadata": {
        "id": "U9sQxCWH1csG"
      }
    },
    {
      "cell_type": "code",
      "execution_count": null,
      "source": [
        "from google.colab import drive\r\n",
        "drive.mount('/content/drive')"
      ],
      "outputs": [
        {
          "output_type": "stream",
          "name": "stdout",
          "text": [
            "Go to this URL in a browser: https://accounts.google.com/o/oauth2/auth?client_id=947318989803-6bn6qk8qdgf4n4g3pfee6491hc0brc4i.apps.googleusercontent.com&redirect_uri=urn%3aietf%3awg%3aoauth%3a2.0%3aoob&scope=email%20https%3a%2f%2fwww.googleapis.com%2fauth%2fdocs.test%20https%3a%2f%2fwww.googleapis.com%2fauth%2fdrive%20https%3a%2f%2fwww.googleapis.com%2fauth%2fdrive.photos.readonly%20https%3a%2f%2fwww.googleapis.com%2fauth%2fpeopleapi.readonly%20https%3a%2f%2fwww.googleapis.com%2fauth%2fdrive.activity.readonly%20https%3a%2f%2fwww.googleapis.com%2fauth%2fexperimentsandconfigs%20https%3a%2f%2fwww.googleapis.com%2fauth%2fphotos.native&response_type=code\n",
            "\n",
            "Enter your authorization code:\n",
            "4/1AX4XfWj5vb5wu9J7rNhIvftfAmBXpyB2eUbuhXFbxZYqDH6XjIgd2dJfNxI\n",
            "Mounted at /content/drive\n"
          ]
        }
      ],
      "metadata": {
        "id": "Irym_CdSqzYU",
        "colab": {
          "base_uri": "https://localhost:8080/"
        },
        "outputId": "bdda16ed-1c75-4c41-c417-3b9aae45c6c0"
      }
    },
    {
      "cell_type": "markdown",
      "source": [
        "Imports"
      ],
      "metadata": {
        "id": "u0YdTFXTZKnA"
      }
    },
    {
      "cell_type": "code",
      "execution_count": null,
      "source": [
        "from sklearn.preprocessing import StandardScaler\r\n",
        "import matplotlib.pyplot as plt\r\n",
        "import numpy as np\r\n",
        "import pandas as pd\r\n",
        "from pandas.core.frame import DataFrame\r\n",
        "import seaborn as sns\r\n",
        "import sklearn\r\n",
        "import sklearn.metrics as metrics\r\n",
        "from keras.backend import clear_session\r\n",
        "from keras.layers import Dense\r\n",
        "from keras.models import Sequential\r\n",
        "from sklearn.ensemble import RandomForestRegressor\r\n",
        "from sklearn.linear_model import LinearRegression\r\n",
        "from sklearn.neighbors import KNeighborsRegressor\r\n",
        "from sklearn.preprocessing import StandardScaler\r\n",
        "from sklearn.svm import SVR\r\n",
        "import numpy as np\r\n",
        "import pandas as pd\r\n",
        "from sklearn.decomposition import PCA\r\n",
        "from sklearn.model_selection import cross_val_score\r\n",
        "from sklearn.model_selection import KFold \r\n",
        "from sklearn.model_selection import RandomizedSearchCV, GridSearchCV\r\n",
        "import joblib\r\n",
        "import matplotlib.pyplot as plt\r\n",
        "import numpy as np\r\n",
        "import pandas as pd\r\n",
        "from pandas.core.frame import DataFrame\r\n",
        "import seaborn as sns\r\n",
        "import sklearn.metrics as metrics\r\n",
        "from keras.backend import clear_session\r\n",
        "from keras.layers import Dense\r\n",
        "from keras.models import Sequential\r\n",
        "from sklearn.ensemble import RandomForestRegressor\r\n",
        "from sklearn.linear_model import LinearRegression\r\n",
        "from sklearn.neighbors import KNeighborsRegressor\r\n",
        "from sklearn.preprocessing import StandardScaler\r\n",
        "from sklearn.svm import SVR\r\n",
        "import numpy as np\r\n",
        "import pandas as pd\r\n",
        "from sklearn.decomposition import PCA\r\n",
        "import tensorflow as tf\r\n",
        "from sklearn.preprocessing import StandardScaler\r\n",
        "import matplotlib.pyplot as plt\r\n",
        "import numpy as np\r\n",
        "import pandas as pd\r\n",
        "from pandas.core.frame import DataFrame\r\n",
        "import seaborn as sns\r\n",
        "import sklearn\r\n",
        "import sklearn.metrics as metrics\r\n",
        "from keras.backend import clear_session\r\n",
        "from keras.layers import Dense\r\n",
        "from keras.models import Sequential\r\n",
        "from sklearn.ensemble import RandomForestRegressor\r\n",
        "from sklearn.linear_model import LinearRegression\r\n",
        "from sklearn.neighbors import KNeighborsRegressor\r\n",
        "from sklearn.preprocessing import StandardScaler\r\n",
        "from sklearn.svm import SVR\r\n",
        "import numpy as np\r\n",
        "import pandas as pd\r\n",
        "from sklearn.decomposition import PCA\r\n",
        "from sklearn.model_selection import cross_val_score\r\n",
        "from sklearn.model_selection import KFold \r\n",
        "from sklearn.model_selection import RandomizedSearchCV, GridSearchCV\r\n",
        "import joblib\r\n",
        "from sklearn.ensemble import BaggingRegressor\r\n",
        "from sklearn.preprocessing import FunctionTransformer\r\n",
        "from sklearn.pipeline import Pipeline\r\n",
        "from sklearn import model_selection\r\n",
        "import keras\r\n",
        "from keras.optimizers import *\r\n",
        "from keras.models import * \r\n",
        "from keras.layers import *\r\n",
        "from keras.regularizers import *\r\n",
        "from keras.wrappers.scikit_learn import KerasRegressor\r\n"
      ],
      "outputs": [],
      "metadata": {
        "id": "d2ZehIhpZKQG"
      }
    },
    {
      "cell_type": "markdown",
      "source": [
        "Read Data"
      ],
      "metadata": {
        "id": "7Mnlt2BJyEtv"
      }
    },
    {
      "cell_type": "code",
      "execution_count": null,
      "source": [
        "  \r\n",
        "def regression_results(y_true, y_pred):\r\n",
        "    explained_variance=metrics.explained_variance_score(y_true, y_pred)\r\n",
        "    mean_absolute_error=metrics.mean_absolute_error(y_true, y_pred) \r\n",
        "    mse=metrics.mean_squared_error(y_true, y_pred) \r\n",
        "    r2=metrics.r2_score(y_true, y_pred)\r\n",
        "    print('explained_variance: ', round(explained_variance,4))    \r\n",
        "    print('r2: ', round(r2,4))\r\n",
        "    print('MAE: ', round(mean_absolute_error,4))\r\n",
        "    print('MSE: ', round(mse,4))\r\n",
        "    print('RMSE: ', round(np.sqrt(mse),4))\r\n",
        "\r\n",
        "def preprocess_data(df):\r\n",
        "    idxrs = df[['player_name', 'position', 'GW', 'kickoff_time',  'value',  'total_points']]\r\n",
        "    df = df.drop(columns = ['player_name', 'GW', 'kickoff_time', 'season']) # Drop indexing features\r\n",
        "    for col in df.columns:\r\n",
        "      df[col] = df[col].replace({True:1, False:0})   # Binary encoding\r\n",
        "    ohe_cols = []\r\n",
        "    for col in df.select_dtypes(include='object').columns:\r\n",
        "        ohe_cols.append(col)\r\n",
        "    df = pd.get_dummies(df, columns=ohe_cols, prefix=ohe_cols)  # One hot encodings\r\n",
        "    df['kickoff_time'] = idxrs['kickoff_time']\r\n",
        "    idxrs['total_points']\r\n",
        "    return df, idxrs\r\n",
        "\r\n",
        "\r\n",
        "def get_training_data(GW, scale):\r\n",
        "    df = pd.read_csv('C://Users//jd-vz//Desktop//Code//data//')\r\n",
        "    min_date = df[(df['GW'] == GW) & (df['season'] == 2020)]['kickoff_time'].min() # The first date of the gameweek\r\n",
        "    max_date = df[(df['GW'] == GW) & (df['season'] == 2020)]['kickoff_time'].max() # The last date of the gameweek\r\n",
        "    df, idxrs = preprocess_data(df)\r\n",
        "    df_scl = df[df['kickoff_time'] <= max_date].copy() # Only includes up to gameweek \r\n",
        "    idxrs = idxrs[idxrs['kickoff_time'] <= max_date] # Only includes gameweek\r\n",
        "    std_x, std_y = StandardScaler(), StandardScaler()\r\n",
        "    scaled_cols = []\r\n",
        "    drop_lst = list(idxrs.columns[idxrs.columns.isin(df_scl.columns)])\r\n",
        "    drop_lst.append('total_points')\r\n",
        "\r\n",
        "    if scale == True:\r\n",
        "      for col in df.columns.drop(drop_lst): # Drop response and indexing features\r\n",
        "        if df[col].nunique() > 2:\r\n",
        "          scaled_cols.append(col)\r\n",
        "      df_scl[scaled_cols] = std_x.fit_transform(df_scl[scaled_cols])\r\n",
        "      df_scl['total_points'] = std_y.fit_transform(df_scl['total_points'].to_numpy().reshape(-1, 1)) # Scale differently\r\n",
        "      \r\n",
        "    df_train, df_test = df_scl[df_scl['kickoff_time'] < min_date], df_scl[df_scl['kickoff_time'] >= min_date] # Split by date\r\n",
        "    X = df_train.drop(drop_lst, axis = 1)\r\n",
        "    y = df_train['total_points']\r\n",
        "    X_val = df_test.drop(drop_lst, axis = 1)\r\n",
        "    y_val = df_test['total_points']\r\n",
        "    test_idxrs = idxrs[idxrs['kickoff_time'] >= min_date]\r\n",
        "    return X, X_val, y, y_val, test_idxrs, std_y\r\n",
        "\r\n",
        "def regression_results(y_true, y_pred):\r\n",
        "    explained_variance=metrics.explained_variance_score(y_true, y_pred)\r\n",
        "    mean_absolute_error=metrics.mean_absolute_error(y_true, y_pred) \r\n",
        "    mse=metrics.mean_squared_error(y_true, y_pred) \r\n",
        "    r2=metrics.r2_score(y_true, y_pred)\r\n",
        "    print('explained_variance: ', round(explained_variance,4))    \r\n",
        "    print('r2: ', round(r2,4))\r\n",
        "    print('MAE: ', round(mean_absolute_error,4))\r\n",
        "    print('MSE: ', round(mse,4))\r\n",
        "    print('RMSE: ', round(np.sqrt(mse),4))\r\n",
        "\r\n"
      ],
      "outputs": [],
      "metadata": {
        "id": "MAj4HQ-RqvUc"
      }
    },
    {
      "cell_type": "markdown",
      "source": [
        "Save weekly predictions"
      ],
      "metadata": {
        "id": "VzN9gLCBIb2A"
      }
    },
    {
      "cell_type": "code",
      "execution_count": null,
      "source": [
        "def baseline_256(neurons = 256, dropout_rate = 0, activation = 'relu',\r\n",
        "                 init_mode = 'he_uniform', optimizer = 'Adam', weight_decay = 1e-3, \r\n",
        "                 hidden_layers = 2):\r\n",
        "    model = Sequential()\r\n",
        "    model.add(Dense(neurons, kernel_initializer=init_mode,  kernel_regularizer=l2(weight_decay), activation=activation))\r\n",
        "    model.add(Dense(neurons, kernel_initializer=init_mode,  kernel_regularizer=l2(weight_decay), activation=activation))\r\n",
        "    model.add(Dense(1, kernel_initializer=init_mode, activation='linear'))\r\n",
        "    model.compile(loss='mse', optimizer=optimizer, metrics=['mse'])\r\n",
        "    return model\r\n",
        "\r\n",
        "\r\n",
        "\r\n",
        "def get_predictions():\r\n",
        "  all_dfs = []\r\n",
        "  callback = tf.keras.callbacks.EarlyStopping(monitor='val_loss', patience=10,restore_best_weights=True)\r\n",
        "  for GW in range(1, 39):\r\n",
        "    print(f'Predicting for Gameweek {GW}')\r\n",
        "    X_train, X_test, y_train, y_test, idxrs_test, std_y  = get_training_data(GW = GW, scale = True)\r\n",
        "    models = []\r\n",
        "    models.append(('LR', Pipeline([('LR', LinearRegression())])))\r\n",
        "    # models.append(('Net', KerasRegressor(build_fn=baseline_256, epochs=100, \r\n",
        "    #                                                      batch_size=32, verbose=0, validation_split = 0.2)))\r\n",
        "    # callbacks = [callback],\r\n",
        "    for name, model in models:\r\n",
        "      if name == 'Net':\r\n",
        "        model.fit(X_train,y_train)\r\n",
        "        idxrs_test[name] =  np.round(std_y.inverse_transform(model.predict(X_test)))\r\n",
        "      else:\r\n",
        "        idxrs_test[name] =  np.round(std_y.inverse_transform(model.fit(X_train,y_train).predict(X_test)))\r\n",
        "    all_dfs.append(idxrs_test)\r\n",
        "  df_preds = pd.concat(all_dfs).reset_index(drop=True)\r\n",
        "  df_preds.loc[df_preds['position'] == 'DMID', 'position'] = 'MID'\r\n",
        "  df_preds.loc[df_preds['position'] == 'AMID', 'position'] = 'MID' # Replace \r\n",
        "  df_team = pd.read_csv('/content/drive/MyDrive/Data/collected_us.csv')[['player_name', 'kickoff_time', 'team', 'minutes']]\r\n",
        "  df_preds = pd.merge(df_preds, df_team, on = ['player_name', 'kickoff_time'])\r\n",
        "  df_preds.to_csv('/content/drive/MyDrive/Predictions/model_predictions.csv', index = False)\r\n",
        "  return df_preds\r\n",
        "\r\n"
      ],
      "outputs": [],
      "metadata": {
        "id": "KTMq9aPsPoif"
      }
    },
    {
      "cell_type": "code",
      "execution_count": null,
      "source": [
        "df = get_predictions()\r\n"
      ],
      "outputs": [
        {
          "output_type": "stream",
          "name": "stdout",
          "text": [
            "Predicting for Gameweek 1\n",
            "Predicting for Gameweek 2\n",
            "Predicting for Gameweek 3\n",
            "Predicting for Gameweek 4\n",
            "Predicting for Gameweek 5\n",
            "Predicting for Gameweek 6\n",
            "Predicting for Gameweek 7\n",
            "Predicting for Gameweek 8\n",
            "Predicting for Gameweek 9\n",
            "Predicting for Gameweek 10\n",
            "Predicting for Gameweek 11\n",
            "Predicting for Gameweek 12\n",
            "Predicting for Gameweek 13\n",
            "Predicting for Gameweek 14\n",
            "Predicting for Gameweek 15\n",
            "Predicting for Gameweek 16\n",
            "Predicting for Gameweek 17\n",
            "Predicting for Gameweek 18\n",
            "Predicting for Gameweek 19\n",
            "Predicting for Gameweek 20\n",
            "Predicting for Gameweek 21\n",
            "Predicting for Gameweek 22\n",
            "Predicting for Gameweek 23\n",
            "Predicting for Gameweek 24\n",
            "Predicting for Gameweek 25\n",
            "Predicting for Gameweek 26\n",
            "Predicting for Gameweek 27\n",
            "Predicting for Gameweek 28\n",
            "Predicting for Gameweek 29\n",
            "Predicting for Gameweek 30\n",
            "Predicting for Gameweek 31\n",
            "Predicting for Gameweek 32\n",
            "Predicting for Gameweek 33\n",
            "Predicting for Gameweek 34\n",
            "Predicting for Gameweek 35\n",
            "Predicting for Gameweek 36\n",
            "Predicting for Gameweek 37\n",
            "Predicting for Gameweek 38\n"
          ]
        }
      ],
      "metadata": {
        "colab": {
          "base_uri": "https://localhost:8080/"
        },
        "id": "9Me-seTQS5pB",
        "outputId": "ff3aed7f-5641-44c5-f795-2305fce440de"
      }
    },
    {
      "cell_type": "code",
      "execution_count": null,
      "source": [
        "df = pd.read_csv('/content/drive/MyDrive/Predictions/model_predictions.csv')\r\n",
        "\r\n",
        "\r\n",
        "\r\n",
        "\r\n",
        "df_true = pd.read_csv('./drive/MyDrive/Data/engineered_us.csv')\r\n",
        "df_true = df_true[['player_name',  'value', 'team', 'opponent_team',  'kickoff_time', 'total_points']]\r\n",
        "df_true = pd.merge(df_true, df_position, on = ['player_name', 'team', 'opponent_team',  'kickoff_time'])\r\n",
        "df_final = pd.merge(df_preds, df_true, on = ['player_name', 'team', 'opponent_team',  'kickoff_time'])\r\n",
        "regression_results(df_final['total_points'], df_final['Net'])\r\n",
        "# df_final.to_csv('/content/drive/MyDrive/Predictions/model_predictions.csv', index = False)"
      ],
      "outputs": [
        {
          "output_type": "execute_result",
          "data": {
            "text/plain": [
              "                player_name kickoff_time  season  ...  value total_points position\n",
              "0            Aaron Connolly   2020-09-14    2020  ...     55            1      FWD\n",
              "1           Aaron Cresswell   2020-09-12    2020  ...     50            1      DEF\n",
              "2            Aaron Ramsdale   2020-09-14    2020  ...     50            1       GK\n",
              "3        Abdoulaye Doucouré   2020-09-13    2020  ...     55            3      MID\n",
              "4              Adam Lallana   2020-09-14    2020  ...     65            1      MID\n",
              "...                     ...          ...     ...  ...    ...          ...      ...\n",
              "7447  Willian José Da Silva   2021-05-23    2020  ...     68            2      FWD\n",
              "7448             Willy Boly   2021-05-23    2020  ...     54            0      DEF\n",
              "7449        Youri Tielemans   2021-05-23    2020  ...     64            2      MID\n",
              "7450          Yves Bissouma   2021-05-23    2020  ...     44            2      MID\n",
              "7451         Çaglar Söyüncü   2021-05-23    2020  ...     53            0      DEF\n",
              "\n",
              "[7452 rows x 10 columns]"
            ],
            "text/html": [
              "<div>\n",
              "<style scoped>\n",
              "    .dataframe tbody tr th:only-of-type {\n",
              "        vertical-align: middle;\n",
              "    }\n",
              "\n",
              "    .dataframe tbody tr th {\n",
              "        vertical-align: top;\n",
              "    }\n",
              "\n",
              "    .dataframe thead th {\n",
              "        text-align: right;\n",
              "    }\n",
              "</style>\n",
              "<table border=\"1\" class=\"dataframe\">\n",
              "  <thead>\n",
              "    <tr style=\"text-align: right;\">\n",
              "      <th></th>\n",
              "      <th>player_name</th>\n",
              "      <th>kickoff_time</th>\n",
              "      <th>season</th>\n",
              "      <th>GW</th>\n",
              "      <th>team</th>\n",
              "      <th>opponent_team</th>\n",
              "      <th>Net</th>\n",
              "      <th>value</th>\n",
              "      <th>total_points</th>\n",
              "      <th>position</th>\n",
              "    </tr>\n",
              "  </thead>\n",
              "  <tbody>\n",
              "    <tr>\n",
              "      <th>0</th>\n",
              "      <td>Aaron Connolly</td>\n",
              "      <td>2020-09-14</td>\n",
              "      <td>2020</td>\n",
              "      <td>1</td>\n",
              "      <td>Brighton</td>\n",
              "      <td>Chelsea</td>\n",
              "      <td>1.0</td>\n",
              "      <td>55</td>\n",
              "      <td>1</td>\n",
              "      <td>FWD</td>\n",
              "    </tr>\n",
              "    <tr>\n",
              "      <th>1</th>\n",
              "      <td>Aaron Cresswell</td>\n",
              "      <td>2020-09-12</td>\n",
              "      <td>2020</td>\n",
              "      <td>1</td>\n",
              "      <td>West Ham</td>\n",
              "      <td>Newcastle</td>\n",
              "      <td>7.0</td>\n",
              "      <td>50</td>\n",
              "      <td>1</td>\n",
              "      <td>DEF</td>\n",
              "    </tr>\n",
              "    <tr>\n",
              "      <th>2</th>\n",
              "      <td>Aaron Ramsdale</td>\n",
              "      <td>2020-09-14</td>\n",
              "      <td>2020</td>\n",
              "      <td>1</td>\n",
              "      <td>Sheffield Utd</td>\n",
              "      <td>Wolves</td>\n",
              "      <td>3.0</td>\n",
              "      <td>50</td>\n",
              "      <td>1</td>\n",
              "      <td>GK</td>\n",
              "    </tr>\n",
              "    <tr>\n",
              "      <th>3</th>\n",
              "      <td>Abdoulaye Doucouré</td>\n",
              "      <td>2020-09-13</td>\n",
              "      <td>2020</td>\n",
              "      <td>1</td>\n",
              "      <td>Everton</td>\n",
              "      <td>Spurs</td>\n",
              "      <td>1.0</td>\n",
              "      <td>55</td>\n",
              "      <td>3</td>\n",
              "      <td>MID</td>\n",
              "    </tr>\n",
              "    <tr>\n",
              "      <th>4</th>\n",
              "      <td>Adam Lallana</td>\n",
              "      <td>2020-09-14</td>\n",
              "      <td>2020</td>\n",
              "      <td>1</td>\n",
              "      <td>Brighton</td>\n",
              "      <td>Chelsea</td>\n",
              "      <td>2.0</td>\n",
              "      <td>65</td>\n",
              "      <td>1</td>\n",
              "      <td>MID</td>\n",
              "    </tr>\n",
              "    <tr>\n",
              "      <th>...</th>\n",
              "      <td>...</td>\n",
              "      <td>...</td>\n",
              "      <td>...</td>\n",
              "      <td>...</td>\n",
              "      <td>...</td>\n",
              "      <td>...</td>\n",
              "      <td>...</td>\n",
              "      <td>...</td>\n",
              "      <td>...</td>\n",
              "      <td>...</td>\n",
              "    </tr>\n",
              "    <tr>\n",
              "      <th>7447</th>\n",
              "      <td>Willian José Da Silva</td>\n",
              "      <td>2021-05-23</td>\n",
              "      <td>2020</td>\n",
              "      <td>38</td>\n",
              "      <td>Wolves</td>\n",
              "      <td>Man Utd</td>\n",
              "      <td>1.0</td>\n",
              "      <td>68</td>\n",
              "      <td>2</td>\n",
              "      <td>FWD</td>\n",
              "    </tr>\n",
              "    <tr>\n",
              "      <th>7448</th>\n",
              "      <td>Willy Boly</td>\n",
              "      <td>2021-05-23</td>\n",
              "      <td>2020</td>\n",
              "      <td>38</td>\n",
              "      <td>Wolves</td>\n",
              "      <td>Man Utd</td>\n",
              "      <td>-0.0</td>\n",
              "      <td>54</td>\n",
              "      <td>0</td>\n",
              "      <td>DEF</td>\n",
              "    </tr>\n",
              "    <tr>\n",
              "      <th>7449</th>\n",
              "      <td>Youri Tielemans</td>\n",
              "      <td>2021-05-23</td>\n",
              "      <td>2020</td>\n",
              "      <td>38</td>\n",
              "      <td>Leicester</td>\n",
              "      <td>Spurs</td>\n",
              "      <td>2.0</td>\n",
              "      <td>64</td>\n",
              "      <td>2</td>\n",
              "      <td>MID</td>\n",
              "    </tr>\n",
              "    <tr>\n",
              "      <th>7450</th>\n",
              "      <td>Yves Bissouma</td>\n",
              "      <td>2021-05-23</td>\n",
              "      <td>2020</td>\n",
              "      <td>38</td>\n",
              "      <td>Brighton</td>\n",
              "      <td>Arsenal</td>\n",
              "      <td>3.0</td>\n",
              "      <td>44</td>\n",
              "      <td>2</td>\n",
              "      <td>MID</td>\n",
              "    </tr>\n",
              "    <tr>\n",
              "      <th>7451</th>\n",
              "      <td>Çaglar Söyüncü</td>\n",
              "      <td>2021-05-23</td>\n",
              "      <td>2020</td>\n",
              "      <td>38</td>\n",
              "      <td>Leicester</td>\n",
              "      <td>Spurs</td>\n",
              "      <td>8.0</td>\n",
              "      <td>53</td>\n",
              "      <td>0</td>\n",
              "      <td>DEF</td>\n",
              "    </tr>\n",
              "  </tbody>\n",
              "</table>\n",
              "<p>7452 rows × 10 columns</p>\n",
              "</div>"
            ]
          },
          "metadata": {},
          "execution_count": 10
        }
      ],
      "metadata": {
        "colab": {
          "base_uri": "https://localhost:8080/",
          "height": 419
        },
        "id": "b0016nqnMCIC",
        "outputId": "75508ee2-52e0-4cdb-d53b-eb1f2ee8c48e"
      }
    },
    {
      "cell_type": "code",
      "execution_count": null,
      "source": [
        "import pandas as pd\n",
        "df = pd.read_csv('/content/drive/MyDrive/Predictions/model_predictions.csv')\n",
        "df = df[df['GW'] == 2]\n",
        "regression_results(df['total_points'], df['LR'])\n"
      ],
      "outputs": [
        {
          "output_type": "error",
          "ename": "FileNotFoundError",
          "evalue": "ignored",
          "traceback": [
            "\u001b[0;31m---------------------------------------------------------------------------\u001b[0m",
            "\u001b[0;31mFileNotFoundError\u001b[0m                         Traceback (most recent call last)",
            "\u001b[0;32m<ipython-input-3-6062ad50027f>\u001b[0m in \u001b[0;36m<module>\u001b[0;34m()\u001b[0m\n\u001b[1;32m      1\u001b[0m \u001b[0;32mimport\u001b[0m \u001b[0mpandas\u001b[0m \u001b[0;32mas\u001b[0m \u001b[0mpd\u001b[0m\u001b[0;34m\u001b[0m\u001b[0;34m\u001b[0m\u001b[0m\n\u001b[0;32m----> 2\u001b[0;31m \u001b[0mdf\u001b[0m \u001b[0;34m=\u001b[0m \u001b[0mpd\u001b[0m\u001b[0;34m.\u001b[0m\u001b[0mread_csv\u001b[0m\u001b[0;34m(\u001b[0m\u001b[0;34m'/content/drive/MyDrive/Predictions/model_predictions.csv'\u001b[0m\u001b[0;34m)\u001b[0m\u001b[0;34m\u001b[0m\u001b[0;34m\u001b[0m\u001b[0m\n\u001b[0m\u001b[1;32m      3\u001b[0m \u001b[0mdf\u001b[0m \u001b[0;34m=\u001b[0m \u001b[0mdf\u001b[0m\u001b[0;34m[\u001b[0m\u001b[0mdf\u001b[0m\u001b[0;34m[\u001b[0m\u001b[0;34m'GW'\u001b[0m\u001b[0;34m]\u001b[0m \u001b[0;34m==\u001b[0m \u001b[0;36m2\u001b[0m\u001b[0;34m]\u001b[0m\u001b[0;34m\u001b[0m\u001b[0;34m\u001b[0m\u001b[0m\n\u001b[1;32m      4\u001b[0m \u001b[0mregression_results\u001b[0m\u001b[0;34m(\u001b[0m\u001b[0mdf\u001b[0m\u001b[0;34m[\u001b[0m\u001b[0;34m'total_points'\u001b[0m\u001b[0;34m]\u001b[0m\u001b[0;34m,\u001b[0m \u001b[0mdf\u001b[0m\u001b[0;34m[\u001b[0m\u001b[0;34m'LR'\u001b[0m\u001b[0;34m]\u001b[0m\u001b[0;34m)\u001b[0m\u001b[0;34m\u001b[0m\u001b[0;34m\u001b[0m\u001b[0m\n",
            "\u001b[0;32m/usr/local/lib/python3.7/dist-packages/pandas/io/parsers.py\u001b[0m in \u001b[0;36mread_csv\u001b[0;34m(filepath_or_buffer, sep, delimiter, header, names, index_col, usecols, squeeze, prefix, mangle_dupe_cols, dtype, engine, converters, true_values, false_values, skipinitialspace, skiprows, skipfooter, nrows, na_values, keep_default_na, na_filter, verbose, skip_blank_lines, parse_dates, infer_datetime_format, keep_date_col, date_parser, dayfirst, cache_dates, iterator, chunksize, compression, thousands, decimal, lineterminator, quotechar, quoting, doublequote, escapechar, comment, encoding, dialect, error_bad_lines, warn_bad_lines, delim_whitespace, low_memory, memory_map, float_precision)\u001b[0m\n\u001b[1;32m    686\u001b[0m     )\n\u001b[1;32m    687\u001b[0m \u001b[0;34m\u001b[0m\u001b[0m\n\u001b[0;32m--> 688\u001b[0;31m     \u001b[0;32mreturn\u001b[0m \u001b[0m_read\u001b[0m\u001b[0;34m(\u001b[0m\u001b[0mfilepath_or_buffer\u001b[0m\u001b[0;34m,\u001b[0m \u001b[0mkwds\u001b[0m\u001b[0;34m)\u001b[0m\u001b[0;34m\u001b[0m\u001b[0;34m\u001b[0m\u001b[0m\n\u001b[0m\u001b[1;32m    689\u001b[0m \u001b[0;34m\u001b[0m\u001b[0m\n\u001b[1;32m    690\u001b[0m \u001b[0;34m\u001b[0m\u001b[0m\n",
            "\u001b[0;32m/usr/local/lib/python3.7/dist-packages/pandas/io/parsers.py\u001b[0m in \u001b[0;36m_read\u001b[0;34m(filepath_or_buffer, kwds)\u001b[0m\n\u001b[1;32m    452\u001b[0m \u001b[0;34m\u001b[0m\u001b[0m\n\u001b[1;32m    453\u001b[0m     \u001b[0;31m# Create the parser.\u001b[0m\u001b[0;34m\u001b[0m\u001b[0;34m\u001b[0m\u001b[0;34m\u001b[0m\u001b[0m\n\u001b[0;32m--> 454\u001b[0;31m     \u001b[0mparser\u001b[0m \u001b[0;34m=\u001b[0m \u001b[0mTextFileReader\u001b[0m\u001b[0;34m(\u001b[0m\u001b[0mfp_or_buf\u001b[0m\u001b[0;34m,\u001b[0m \u001b[0;34m**\u001b[0m\u001b[0mkwds\u001b[0m\u001b[0;34m)\u001b[0m\u001b[0;34m\u001b[0m\u001b[0;34m\u001b[0m\u001b[0m\n\u001b[0m\u001b[1;32m    455\u001b[0m \u001b[0;34m\u001b[0m\u001b[0m\n\u001b[1;32m    456\u001b[0m     \u001b[0;32mif\u001b[0m \u001b[0mchunksize\u001b[0m \u001b[0;32mor\u001b[0m \u001b[0miterator\u001b[0m\u001b[0;34m:\u001b[0m\u001b[0;34m\u001b[0m\u001b[0;34m\u001b[0m\u001b[0m\n",
            "\u001b[0;32m/usr/local/lib/python3.7/dist-packages/pandas/io/parsers.py\u001b[0m in \u001b[0;36m__init__\u001b[0;34m(self, f, engine, **kwds)\u001b[0m\n\u001b[1;32m    946\u001b[0m             \u001b[0mself\u001b[0m\u001b[0;34m.\u001b[0m\u001b[0moptions\u001b[0m\u001b[0;34m[\u001b[0m\u001b[0;34m\"has_index_names\"\u001b[0m\u001b[0;34m]\u001b[0m \u001b[0;34m=\u001b[0m \u001b[0mkwds\u001b[0m\u001b[0;34m[\u001b[0m\u001b[0;34m\"has_index_names\"\u001b[0m\u001b[0;34m]\u001b[0m\u001b[0;34m\u001b[0m\u001b[0;34m\u001b[0m\u001b[0m\n\u001b[1;32m    947\u001b[0m \u001b[0;34m\u001b[0m\u001b[0m\n\u001b[0;32m--> 948\u001b[0;31m         \u001b[0mself\u001b[0m\u001b[0;34m.\u001b[0m\u001b[0m_make_engine\u001b[0m\u001b[0;34m(\u001b[0m\u001b[0mself\u001b[0m\u001b[0;34m.\u001b[0m\u001b[0mengine\u001b[0m\u001b[0;34m)\u001b[0m\u001b[0;34m\u001b[0m\u001b[0;34m\u001b[0m\u001b[0m\n\u001b[0m\u001b[1;32m    949\u001b[0m \u001b[0;34m\u001b[0m\u001b[0m\n\u001b[1;32m    950\u001b[0m     \u001b[0;32mdef\u001b[0m \u001b[0mclose\u001b[0m\u001b[0;34m(\u001b[0m\u001b[0mself\u001b[0m\u001b[0;34m)\u001b[0m\u001b[0;34m:\u001b[0m\u001b[0;34m\u001b[0m\u001b[0;34m\u001b[0m\u001b[0m\n",
            "\u001b[0;32m/usr/local/lib/python3.7/dist-packages/pandas/io/parsers.py\u001b[0m in \u001b[0;36m_make_engine\u001b[0;34m(self, engine)\u001b[0m\n\u001b[1;32m   1178\u001b[0m     \u001b[0;32mdef\u001b[0m \u001b[0m_make_engine\u001b[0m\u001b[0;34m(\u001b[0m\u001b[0mself\u001b[0m\u001b[0;34m,\u001b[0m \u001b[0mengine\u001b[0m\u001b[0;34m=\u001b[0m\u001b[0;34m\"c\"\u001b[0m\u001b[0;34m)\u001b[0m\u001b[0;34m:\u001b[0m\u001b[0;34m\u001b[0m\u001b[0;34m\u001b[0m\u001b[0m\n\u001b[1;32m   1179\u001b[0m         \u001b[0;32mif\u001b[0m \u001b[0mengine\u001b[0m \u001b[0;34m==\u001b[0m \u001b[0;34m\"c\"\u001b[0m\u001b[0;34m:\u001b[0m\u001b[0;34m\u001b[0m\u001b[0;34m\u001b[0m\u001b[0m\n\u001b[0;32m-> 1180\u001b[0;31m             \u001b[0mself\u001b[0m\u001b[0;34m.\u001b[0m\u001b[0m_engine\u001b[0m \u001b[0;34m=\u001b[0m \u001b[0mCParserWrapper\u001b[0m\u001b[0;34m(\u001b[0m\u001b[0mself\u001b[0m\u001b[0;34m.\u001b[0m\u001b[0mf\u001b[0m\u001b[0;34m,\u001b[0m \u001b[0;34m**\u001b[0m\u001b[0mself\u001b[0m\u001b[0;34m.\u001b[0m\u001b[0moptions\u001b[0m\u001b[0;34m)\u001b[0m\u001b[0;34m\u001b[0m\u001b[0;34m\u001b[0m\u001b[0m\n\u001b[0m\u001b[1;32m   1181\u001b[0m         \u001b[0;32melse\u001b[0m\u001b[0;34m:\u001b[0m\u001b[0;34m\u001b[0m\u001b[0;34m\u001b[0m\u001b[0m\n\u001b[1;32m   1182\u001b[0m             \u001b[0;32mif\u001b[0m \u001b[0mengine\u001b[0m \u001b[0;34m==\u001b[0m \u001b[0;34m\"python\"\u001b[0m\u001b[0;34m:\u001b[0m\u001b[0;34m\u001b[0m\u001b[0;34m\u001b[0m\u001b[0m\n",
            "\u001b[0;32m/usr/local/lib/python3.7/dist-packages/pandas/io/parsers.py\u001b[0m in \u001b[0;36m__init__\u001b[0;34m(self, src, **kwds)\u001b[0m\n\u001b[1;32m   2008\u001b[0m         \u001b[0mkwds\u001b[0m\u001b[0;34m[\u001b[0m\u001b[0;34m\"usecols\"\u001b[0m\u001b[0;34m]\u001b[0m \u001b[0;34m=\u001b[0m \u001b[0mself\u001b[0m\u001b[0;34m.\u001b[0m\u001b[0musecols\u001b[0m\u001b[0;34m\u001b[0m\u001b[0;34m\u001b[0m\u001b[0m\n\u001b[1;32m   2009\u001b[0m \u001b[0;34m\u001b[0m\u001b[0m\n\u001b[0;32m-> 2010\u001b[0;31m         \u001b[0mself\u001b[0m\u001b[0;34m.\u001b[0m\u001b[0m_reader\u001b[0m \u001b[0;34m=\u001b[0m \u001b[0mparsers\u001b[0m\u001b[0;34m.\u001b[0m\u001b[0mTextReader\u001b[0m\u001b[0;34m(\u001b[0m\u001b[0msrc\u001b[0m\u001b[0;34m,\u001b[0m \u001b[0;34m**\u001b[0m\u001b[0mkwds\u001b[0m\u001b[0;34m)\u001b[0m\u001b[0;34m\u001b[0m\u001b[0;34m\u001b[0m\u001b[0m\n\u001b[0m\u001b[1;32m   2011\u001b[0m         \u001b[0mself\u001b[0m\u001b[0;34m.\u001b[0m\u001b[0munnamed_cols\u001b[0m \u001b[0;34m=\u001b[0m \u001b[0mself\u001b[0m\u001b[0;34m.\u001b[0m\u001b[0m_reader\u001b[0m\u001b[0;34m.\u001b[0m\u001b[0munnamed_cols\u001b[0m\u001b[0;34m\u001b[0m\u001b[0;34m\u001b[0m\u001b[0m\n\u001b[1;32m   2012\u001b[0m \u001b[0;34m\u001b[0m\u001b[0m\n",
            "\u001b[0;32mpandas/_libs/parsers.pyx\u001b[0m in \u001b[0;36mpandas._libs.parsers.TextReader.__cinit__\u001b[0;34m()\u001b[0m\n",
            "\u001b[0;32mpandas/_libs/parsers.pyx\u001b[0m in \u001b[0;36mpandas._libs.parsers.TextReader._setup_parser_source\u001b[0;34m()\u001b[0m\n",
            "\u001b[0;31mFileNotFoundError\u001b[0m: [Errno 2] No such file or directory: '/content/drive/MyDrive/Predictions/model_predictions.csv'"
          ]
        }
      ],
      "metadata": {
        "colab": {
          "base_uri": "https://localhost:8080/",
          "height": 425
        },
        "id": "Un_YSQMCcqSE",
        "outputId": "b8c9e92f-22a9-424b-f5d1-cb41c0706b56"
      }
    },
    {
      "cell_type": "code",
      "execution_count": null,
      "source": [
        "import seaborn as sns\n",
        "  \n",
        "def plot_results(true_value, predicted_value, title):\n",
        "    sns.set()\n",
        "    plt.figure(figsize=(10,10))\n",
        "    plt.scatter(true_value, predicted_value, c='crimson')\n",
        "    p1 = max(max(predicted_value), max(true_value))\n",
        "    p2 = min(min(predicted_value), min(true_value))\n",
        "    plt.plot([p1, p2], [p1, p2], 'b-')\n",
        "    plt.xlabel('True Values', fontsize=15)\n",
        "    plt.ylabel('Predictions', fontsize=15)\n",
        "    plt.title(title)\n",
        "    plt.axis('equal')\n",
        "    plt.show()\n",
        "plot_results(df['total_points'], df['LR'], 'Neural Network 2020/21')"
      ],
      "outputs": [
        {
          "output_type": "display_data",
          "data": {
            "text/plain": [
              "<Figure size 720x720 with 1 Axes>"
            ],
            "image/png": "[encoded data removed]"
          },
          "metadata": {}
        }
      ],
      "metadata": {
        "colab": {
          "base_uri": "https://localhost:8080/",
          "height": 629
        },
        "id": "rErAjY5dfgmd",
        "outputId": "fa2f4321-8b35-4ad3-862e-172ff4c284f5"
      }
    },
    {
      "cell_type": "code",
      "execution_count": null,
      "source": [
        "def create_model():\n",
        "    activation='relu' \n",
        "    dropout_rate=0.0 \n",
        "    init_mode='uniform'\n",
        "    weight_constraint=0 \n",
        "    optimizer='adam' \n",
        "    lr = 0.01\n",
        "    momemntum=0\n",
        "\n",
        "    model = Sequential()\n",
        "    model.add(Dense(8, \n",
        "                    input_dim=input_dim, kernel_initializer=init_mode, \n",
        "                    activation=activation,\n",
        "                    kernel_constraint=maxnorm(weight_constraint)))\n",
        "    model.add(Dropout(dropout_rate)) \n",
        "    model.add(Dense(1, kernel_initializer=init_mode, activation='linear'))\n",
        "    model.compile(loss='binary_crossentropy', \n",
        "                  optimizer=optimizer, \n",
        "                  metrics=['accuracy'])\n",
        "    return model\n",
        "    model = Sequential()\n",
        "    model.add(Dense(neurons, kernel_initializer=init_mode,  kernel_regularizer=l2(weight_decay), activation=activation))\n",
        "    model.add(Dense(neurons, kernel_initializer=init_mode,  kernel_regularizer=l2(weight_decay), activation=activation))\n",
        "    model.add(Dense(1, kernel_initializer=init_mode, activation='linear'))\n",
        "    model.compile(loss='mse', optimizer=optimizer, metrics=['mse'])\n",
        "# create model\n",
        "model = KerasClassifier(build_fn=create_model, batch_size=1000, epochs=10) \n",
        "activation =  ['relu'] # softmax, softplus, softsign \n",
        "momentum = [0.0, 0.2]\n",
        "learn_rate = [0.001, 0.01, 0.1]\n",
        "dropout_rate = [0.0,  0.2]\n",
        "weight_constraint=[0]\n",
        "neurons = [1, 5, 10, 15, 20, 25, 30]\n",
        "init = ['uniform', 'lecun_uniform', 'normal', 'zero', 'glorot_normal', 'glorot_uniform', 'he_normal', 'he_uniform']\n",
        "optimizer = [ 'SGD', 'RMSprop', 'Adagrad', 'Adadelta', 'Adam', 'Adamax', 'Nadam']\n",
        "epochs = [30, 50]\n",
        "batch_size = [32, 512] \n",
        "param_grid = dict(epochs=epochs, batch_size=batch_size)\n",
        "grid = GridSearchCV(estimator=model, param_grid=param_grid, n_jobs=-1)\n",
        "grid_result = grid.fit(X, Y) \n",
        "print(\"Best: %f using %s\" % (grid_result.best_score_, grid_result.best_params_))\n",
        "means = grid_result.cv_results_['mean_test_score']\n",
        "stds = grid_result.cv_results_['std_test_score']\n",
        "params = grid_result.cv_results_['params']\n",
        "for mean, stdev, param in zip(means, stds, params):\n",
        "    print(\"%f (%f) with: %r\" % (mean, stdev, param))"
      ],
      "outputs": [
        {
          "output_type": "error",
          "ename": "NameError",
          "evalue": "ignored",
          "traceback": [
            "\u001b[0;31m---------------------------------------------------------------------------\u001b[0m",
            "\u001b[0;31mNameError\u001b[0m                                 Traceback (most recent call last)",
            "\u001b[0;32m<ipython-input-1-3ebec3bc58c9>\u001b[0m in \u001b[0;36m<module>\u001b[0;34m()\u001b[0m\n\u001b[1;32m      7\u001b[0m \u001b[0;34m\u001b[0m\u001b[0m\n\u001b[1;32m      8\u001b[0m \u001b[0;34m\u001b[0m\u001b[0m\n\u001b[0;32m----> 9\u001b[0;31m \u001b[0mget_gameweek_preds\u001b[0m\u001b[0;34m(\u001b[0m\u001b[0;34m)\u001b[0m\u001b[0;34m\u001b[0m\u001b[0;34m\u001b[0m\u001b[0m\n\u001b[0m\u001b[1;32m     10\u001b[0m \u001b[0;34m\u001b[0m\u001b[0m\n\u001b[1;32m     11\u001b[0m \u001b[0;34m\u001b[0m\u001b[0m\n",
            "\u001b[0;32m<ipython-input-1-3ebec3bc58c9>\u001b[0m in \u001b[0;36mget_gameweek_preds\u001b[0;34m(GW)\u001b[0m\n\u001b[1;32m      1\u001b[0m \u001b[0;32mdef\u001b[0m \u001b[0mget_gameweek_preds\u001b[0m\u001b[0;34m(\u001b[0m\u001b[0mGW\u001b[0m \u001b[0;34m=\u001b[0m \u001b[0;36m1\u001b[0m\u001b[0;34m)\u001b[0m\u001b[0;34m:\u001b[0m\u001b[0;34m\u001b[0m\u001b[0;34m\u001b[0m\u001b[0m\n\u001b[0;32m----> 2\u001b[0;31m     \u001b[0mX_train\u001b[0m\u001b[0;34m,\u001b[0m \u001b[0mX_test\u001b[0m\u001b[0;34m,\u001b[0m \u001b[0my_train\u001b[0m\u001b[0;34m,\u001b[0m \u001b[0my_test\u001b[0m\u001b[0;34m,\u001b[0m \u001b[0mstd_x\u001b[0m\u001b[0;34m,\u001b[0m \u001b[0mstd_y\u001b[0m \u001b[0;34m=\u001b[0m \u001b[0mget_training_data\u001b[0m\u001b[0;34m(\u001b[0m\u001b[0mGW\u001b[0m \u001b[0;34m=\u001b[0m \u001b[0;36m1\u001b[0m\u001b[0;34m,\u001b[0m \u001b[0mscale\u001b[0m \u001b[0;34m=\u001b[0m \u001b[0;32mTrue\u001b[0m\u001b[0;34m)\u001b[0m\u001b[0;34m\u001b[0m\u001b[0;34m\u001b[0m\u001b[0m\n\u001b[0m\u001b[1;32m      3\u001b[0m     \u001b[0mregressor\u001b[0m \u001b[0;34m=\u001b[0m \u001b[0mLinearRegression\u001b[0m\u001b[0;34m(\u001b[0m\u001b[0mnormalize\u001b[0m\u001b[0;34m=\u001b[0m\u001b[0;32mFalse\u001b[0m\u001b[0;34m,\u001b[0m \u001b[0mn_jobs\u001b[0m\u001b[0;34m=\u001b[0m\u001b[0;34m-\u001b[0m\u001b[0;36m1\u001b[0m\u001b[0;34m)\u001b[0m\u001b[0;34m\u001b[0m\u001b[0;34m\u001b[0m\u001b[0m\n\u001b[1;32m      4\u001b[0m     \u001b[0my_test_rescaled\u001b[0m \u001b[0;34m=\u001b[0m \u001b[0mnp\u001b[0m\u001b[0;34m.\u001b[0m\u001b[0mround\u001b[0m\u001b[0;34m(\u001b[0m\u001b[0mscl_y\u001b[0m\u001b[0;34m.\u001b[0m\u001b[0minverse_transform\u001b[0m\u001b[0;34m(\u001b[0m\u001b[0my_test\u001b[0m\u001b[0;34m)\u001b[0m\u001b[0;34m)\u001b[0m\u001b[0;34m\u001b[0m\u001b[0;34m\u001b[0m\u001b[0m\n\u001b[1;32m      5\u001b[0m     \u001b[0my_pred_test\u001b[0m \u001b[0;34m=\u001b[0m \u001b[0mnp\u001b[0m\u001b[0;34m.\u001b[0m\u001b[0mround\u001b[0m\u001b[0;34m(\u001b[0m\u001b[0mscl_y\u001b[0m\u001b[0;34m.\u001b[0m\u001b[0minverse_transform\u001b[0m\u001b[0;34m(\u001b[0m\u001b[0mregressor\u001b[0m\u001b[0;34m.\u001b[0m\u001b[0mpredict\u001b[0m\u001b[0;34m(\u001b[0m\u001b[0mX_test\u001b[0m\u001b[0;34m)\u001b[0m\u001b[0;34m)\u001b[0m\u001b[0;34m)\u001b[0m\u001b[0;34m\u001b[0m\u001b[0;34m\u001b[0m\u001b[0m\n",
            "\u001b[0;31mNameError\u001b[0m: name 'get_training_data' is not defined"
          ]
        }
      ],
      "metadata": {
        "colab": {
          "base_uri": "https://localhost:8080/",
          "height": 350
        },
        "id": "hIhsdDT_IbY-",
        "outputId": "76635293-c78b-40fd-cf17-14bf4570ed92"
      }
    },
    {
      "cell_type": "code",
      "execution_count": null,
      "source": [
        "from sklearn.neural_network import MLPRegressor\n",
        "\n",
        "param_grid = {\n",
        "    'hidden_layer_sizes': [(256, 256)],\n",
        "    'max_iter': [50], # Maximum number of epochs\n",
        "    'activation': ['relu'], # Activation function for hidden layers\n",
        "    'solver': ['adam'],\n",
        "    'alpha': [0], #  L2 regularization coefficient\n",
        "    'learning_rate': ['adaptive'],\n",
        "    'batch_size' : [32],\n",
        "    'early_stopping':[False], # Early Stopping\n",
        "    'learning_rate_init': [0.001], # Value for learning rate\n",
        "    'momentum':[0.9], # SGD momentum\n",
        "    'n_iter_no_change':[10], # Convergence for tolerance\n",
        "    'nesterovs_momentum':[True], # SGD momentum\n",
        "    'validation_fraction':[0.2], # Size of validation split\n",
        "     'beta_1': [0.9], # Adam coeff\n",
        "      'beta_2': [0.999], # Adam coeff\n",
        "      # 'dropout': [0], # Dropoout\n",
        "    'epsilon':[1e-08]\n",
        "}\n",
        "X_train, X_test, y_train, y_test, idxrs_test, std_y = get_training_data(GW = 1, scale = True)\n",
        "grid = GridSearchCV(MLPRegressor(verbose = True), param_grid, n_jobs= 8, cv=4, verbose = 10).fit(X_train, y_train)\n",
        "print(grid.best_params_) "
      ],
      "outputs": [
        {
          "output_type": "stream",
          "name": "stdout",
          "text": [
            "Fitting 4 folds for each of 1 candidates, totalling 4 fits\n"
          ]
        },
        {
          "output_type": "stream",
          "name": "stderr",
          "text": [
            "[Parallel(n_jobs=8)]: Using backend LokyBackend with 8 concurrent workers.\n",
            "[Parallel(n_jobs=8)]: Done   1 tasks      | elapsed:  1.3min\n",
            "[Parallel(n_jobs=8)]: Done   2 out of   4 | elapsed:  1.4min remaining:  1.4min\n",
            "[Parallel(n_jobs=8)]: Done   4 out of   4 | elapsed:  1.4min remaining:    0.0s\n",
            "[Parallel(n_jobs=8)]: Done   4 out of   4 | elapsed:  1.4min finished\n"
          ]
        },
        {
          "output_type": "stream",
          "name": "stdout",
          "text": [
            "Iteration 1, loss = 0.03246183\n",
            "Iteration 2, loss = 0.01460330\n",
            "Iteration 3, loss = 0.00433857\n",
            "Iteration 4, loss = 0.00353956\n",
            "Iteration 5, loss = 0.00260819\n",
            "Iteration 6, loss = 0.00269363\n",
            "Iteration 7, loss = 0.00263980\n",
            "Iteration 8, loss = 0.00215318\n",
            "Iteration 9, loss = 0.00187986\n",
            "Iteration 10, loss = 0.00177476\n",
            "Iteration 11, loss = 0.00294179\n",
            "Iteration 12, loss = 0.00192569\n",
            "Iteration 13, loss = 0.00164122\n",
            "Iteration 14, loss = 0.00150732\n",
            "Iteration 15, loss = 0.00129758\n",
            "Iteration 16, loss = 0.00186408\n",
            "Iteration 17, loss = 0.00179047\n",
            "Iteration 18, loss = 0.00142730\n",
            "Iteration 19, loss = 0.00102291\n",
            "Iteration 20, loss = 0.00099840\n",
            "Iteration 21, loss = 0.00142550\n",
            "Iteration 22, loss = 0.00125946\n",
            "Iteration 23, loss = 0.00135634\n",
            "Iteration 24, loss = 0.00090816\n",
            "Iteration 25, loss = 0.00165577\n",
            "Iteration 26, loss = 0.00078185\n",
            "Iteration 27, loss = 0.00077147\n",
            "Iteration 28, loss = 0.00081121\n",
            "Iteration 29, loss = 0.00078396\n",
            "Iteration 30, loss = 0.00093315\n",
            "Iteration 31, loss = 0.00094681\n",
            "Iteration 32, loss = 0.00075307\n",
            "Iteration 33, loss = 0.00082331\n",
            "Iteration 34, loss = 0.00183809\n",
            "Iteration 35, loss = 0.00070074\n",
            "Iteration 36, loss = 0.00053303\n",
            "Iteration 37, loss = 0.00044053\n",
            "Iteration 38, loss = 0.00052280\n",
            "Iteration 39, loss = 0.00061684\n",
            "Iteration 40, loss = 0.00063059\n",
            "Iteration 41, loss = 0.00140438\n",
            "Iteration 42, loss = 0.00042630\n",
            "Iteration 43, loss = 0.00051831\n",
            "Iteration 44, loss = 0.00051667\n",
            "Iteration 45, loss = 0.00053438\n",
            "Iteration 46, loss = 0.00044150\n",
            "Iteration 47, loss = 0.00034307\n",
            "Training loss did not improve more than tol=0.000100 for 10 consecutive epochs. Stopping.\n",
            "{'activation': 'relu', 'alpha': 0, 'batch_size': 32, 'beta_1': 0.9, 'beta_2': 0.999, 'early_stopping': False, 'epsilon': 1e-08, 'hidden_layer_sizes': (256, 256), 'learning_rate': 'adaptive', 'learning_rate_init': 0.001, 'max_iter': 50, 'momentum': 0.9, 'n_iter_no_change': 10, 'nesterovs_momentum': True, 'solver': 'adam', 'validation_fraction': 0.2}\n"
          ]
        }
      ],
      "metadata": {
        "colab": {
          "base_uri": "https://localhost:8080/"
        },
        "id": "MwW7EIaA5TI5",
        "outputId": "be82c744-ccbb-4ede-8743-af45d7852a5e"
      }
    },
    {
      "cell_type": "code",
      "execution_count": null,
      "source": [
        "MLPRegressor(activation='relu', alpha=0, batch_size=32, beta_1=0.9,\n",
        "             beta_2=0.999, early_stopping=False, epsilon=1e-08,\n",
        "             hidden_layer_sizes=(256, 256), learning_rate='adaptive',\n",
        "             learning_rate_init=0.001, max_fun=15000, max_iter=50, momentum=0.9,\n",
        "             n_iter_no_change=10, nesterovs_momentum=True, power_t=0.5,\n",
        "             random_state=None, shuffle=True, solver='adam', tol=0.0001,\n",
        "             validation_fraction=0.2, verbose=True, warm_start=False)\n"
      ],
      "outputs": [
        {
          "output_type": "stream",
          "name": "stdout",
          "text": [
            "MLPRegressor(activation='relu', alpha=0, batch_size=32, beta_1=0.9,\n",
            "             beta_2=0.999, early_stopping=False, epsilon=1e-08,\n",
            "             hidden_layer_sizes=(256, 256), learning_rate='adaptive',\n",
            "             learning_rate_init=0.001, max_fun=15000, max_iter=50, momentum=0.9,\n",
            "             n_iter_no_change=10, nesterovs_momentum=True, power_t=0.5,\n",
            "             random_state=None, shuffle=True, solver='adam', tol=0.0001,\n",
            "             validation_fraction=0.2, verbose=True, warm_start=False)\n"
          ]
        }
      ],
      "metadata": {
        "colab": {
          "base_uri": "https://localhost:8080/"
        },
        "id": "06JwlS3Y747W",
        "outputId": "dfa3c6f1-b600-426a-b2b8-17adbe19f8e8"
      }
    }
  ]
}
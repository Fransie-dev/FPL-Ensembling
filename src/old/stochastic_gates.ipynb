{
  "nbformat": 4,
  "nbformat_minor": 0,
  "metadata": {
    "colab": {
      "name": "stochastic_gates.ipynb",
      "provenance": []
    },
    "kernelspec": {
      "name": "python3",
      "display_name": "Python 3"
    },
    "language_info": {
      "name": "python"
    },
    "accelerator": "GPU"
  },
  "cells": [
    {
      "cell_type": "code",
      "metadata": {
        "id": "LDEa8NX-2s_K"
      },
      "source": [
        "! pip install stg"
      ],
      "execution_count": null,
      "outputs": []
    },
    {
      "cell_type": "code",
      "metadata": {
        "id": "wD1QMw2gD6W9"
      },
      "source": [
        "import pandas as pd\n",
        "from stg import STG\n",
        "import numpy as np\n",
        "import torch\n",
        "import matplotlib.pyplot as plt \n",
        "from sklearn.model_selection import train_test_split\n",
        "from sklearn.preprocessing import StandardScaler"
      ],
      "execution_count": null,
      "outputs": []
    },
    {
      "cell_type": "code",
      "metadata": {
        "id": "dBHpeMFxEP7w"
      },
      "source": [
        "def one_hot_encode(df_test):\n",
        "    \"\"\"[One hot encode all features but the players name and the kickoff time]\n",
        "\n",
        "    Args:\n",
        "        df ([type]): [description]\n",
        "\n",
        "    Returns:\n",
        "        [type]: [description]\n",
        "    \"\"\"\n",
        "    cat = df_test.select_dtypes(exclude='number').columns.drop(['player_name', 'kickoff_time']) \n",
        "    df_test = pd.get_dummies(df_test, columns=cat, prefix=cat)\n",
        "    return df_test\n",
        "\n",
        "df = pd.read_csv('/content/drive/MyDrive/Data/collected_us.csv')\n",
        "df = one_hot_encode(df)\n",
        "df = df.drop(columns = ['player_name', 'kickoff_time'])\n",
        "X_train, X_test, y_train, y_test = train_test_split(df.drop(columns = ['total_points']),\n",
        "                                                    df['total_points'],\n",
        "                                                    train_size=0.9)\n",
        "X_train, X_valid, y_train, y_valid = train_test_split(X_train, y_train, train_size=0.8)\n",
        "\n",
        "num_feats = df.select_dtypes(include='number').drop(columns = ['total_points']).columns\n",
        "std_scaler_X, std_scaler_Y = StandardScaler(), StandardScaler()\n",
        "df[num_feats] = std_scaler_X.fit_transform(df[num_feats])\n",
        "df['total_points'] = std_scaler_Y.fit_transform(df['total_points'].to_numpy().reshape(-1, 1))\n"
      ],
      "execution_count": null,
      "outputs": []
    },
    {
      "cell_type": "code",
      "metadata": {
        "id": "up79C3UiEuUa"
      },
      "source": [
        "# args_cuda = torch.cuda.is_available()\n",
        "# device = torch.device(\"cuda\" if args_cuda else \"cpu\") \n",
        "# feature_selection = True\n",
        "# model = STG(task_type='regression',input_dim=X_train.shape[1], output_dim=1, hidden_dims=[500, 50, 10], activation='tanh',\n",
        "#     optimizer='SGD', learning_rate=0.1, batch_size=X_train.shape[0], feature_selection=feature_selection, sigma=0.5, lam=0.1, random_state=1, device=device)"
      ],
      "execution_count": null,
      "outputs": []
    },
    {
      "cell_type": "code",
      "metadata": {
        "colab": {
          "base_uri": "https://localhost:8080/"
        },
        "id": "xX2h6PbTcO6t",
        "outputId": "4e18b1d2-cd52-4692-e26c-e8285624c4e6"
      },
      "source": [
        "args_cuda = torch.cuda.is_available()\n",
        "device = torch.device(\"cuda\" if args_cuda else \"cpu\") \n",
        "model_1 = STG(task_type='regression',\n",
        "            input_dim=X_train.shape[1],\n",
        "            output_dim=1, hidden_dims=[500, 500, 10], \n",
        "            activation='tanh', optimizer='Adam', \n",
        "            batch_size=1000, feature_selection=True,\n",
        "            sigma=0.5, lam=0.1, random_state=1, \n",
        "            device=device)\n",
        "model_1.fit(X_train.to_numpy(), y_train.to_numpy(), nr_epochs=10000, valid_X=X_valid.to_numpy(), valid_y=y_valid.to_numpy(), print_interval=1000)\n",
        "model_1.get_gates(mode='prob')"
      ],
      "execution_count": null,
      "outputs": [
        {
          "output_type": "stream",
          "name": "stderr",
          "text": [
            "/usr/local/lib/python3.7/dist-packages/torch/nn/modules/loss.py:528: UserWarning: Using a target size (torch.Size([1000])) that is different to the input size (torch.Size([1000, 1])). This will likely lead to incorrect results due to broadcasting. Please ensure they have the same size.\n",
            "  return F.mse_loss(input, target, reduction=self.reduction)\n",
            "/usr/local/lib/python3.7/dist-packages/torch/nn/modules/loss.py:528: UserWarning: Using a target size (torch.Size([182])) that is different to the input size (torch.Size([182, 1])). This will likely lead to incorrect results due to broadcasting. Please ensure they have the same size.\n",
            "  return F.mse_loss(input, target, reduction=self.reduction)\n",
            "/usr/local/lib/python3.7/dist-packages/torch/nn/modules/loss.py:528: UserWarning: Using a target size (torch.Size([796])) that is different to the input size (torch.Size([796, 1])). This will likely lead to incorrect results due to broadcasting. Please ensure they have the same size.\n",
            "  return F.mse_loss(input, target, reduction=self.reduction)\n"
          ]
        },
        {
          "output_type": "stream",
          "name": "stdout",
          "text": [
            "Epoch: 1000: loss=9.396727 valid_loss=8.914227\n",
            "Epoch: 2000: loss=9.121513 valid_loss=8.694063\n",
            "Epoch: 3000: loss=9.110545 valid_loss=8.694158\n",
            "Epoch: 4000: loss=9.099881 valid_loss=8.694168\n",
            "Epoch: 5000: loss=9.091145 valid_loss=8.694057\n",
            "Epoch: 6000: loss=9.090299 valid_loss=8.694093\n",
            "Epoch: 7000: loss=9.089788 valid_loss=8.693920\n",
            "Epoch: 8000: loss=9.089512 valid_loss=8.694031\n",
            "Epoch: 9000: loss=9.089415 valid_loss=8.694071\n",
            "Epoch: 10000: loss=9.088988 valid_loss=8.694114\n"
          ]
        },
        {
          "output_type": "execute_result",
          "data": {
            "text/plain": [
              "array([0.        , 0.        , 0.        , 0.        , 0.        ,\n",
              "       0.        , 0.        , 0.        , 0.        , 0.        ,\n",
              "       0.        , 0.        , 0.        , 0.        , 0.        ,\n",
              "       0.40309405, 0.        , 0.        , 0.        , 0.1901471 ,\n",
              "       0.37381482, 0.39817762, 0.        , 0.        , 0.        ,\n",
              "       0.13108307, 0.08375868, 0.0783484 , 0.09804624, 0.212078  ,\n",
              "       0.14880225, 0.        , 0.        , 0.        , 0.        ,\n",
              "       0.        , 0.        , 0.        , 0.        , 0.22764117,\n",
              "       0.        , 0.        , 0.        , 0.        , 0.        ,\n",
              "       0.        , 0.        , 0.        , 0.        , 0.        ,\n",
              "       0.        , 0.        , 0.        , 0.        , 0.        ,\n",
              "       0.        , 0.        , 0.        , 0.        , 0.        ,\n",
              "       0.        , 0.        , 0.        , 0.        , 0.        ,\n",
              "       0.        , 0.        , 0.        , 0.        , 0.        ,\n",
              "       0.        , 0.        , 0.        , 0.        , 0.        ,\n",
              "       0.        , 0.        , 0.        , 0.        , 0.        ,\n",
              "       0.        , 0.        , 0.        , 0.        , 0.        ,\n",
              "       0.        , 0.        , 0.        , 0.        , 0.        ,\n",
              "       0.        , 0.        ], dtype=float32)"
            ]
          },
          "metadata": {},
          "execution_count": 42
        }
      ]
    },
    {
      "cell_type": "code",
      "metadata": {
        "colab": {
          "base_uri": "https://localhost:8080/"
        },
        "id": "BmAAMLlGFD6r",
        "outputId": "9a05080e-e26c-4226-c1c4-6788a83d0903"
      },
      "source": [
        "model_2 = STG(task_type='regression',\n",
        "            input_dim=X_train.shape[1],\n",
        "            output_dim=1, hidden_dims=[500, 500, 10], \n",
        "            activation='tanh', optimizer='Adam', \n",
        "            batch_size=1000, feature_selection=True,\n",
        "            sigma=0.5, lam=1, random_state=1, \n",
        "            device=device)\n",
        "model_2.fit(X_train.to_numpy(), y_train.to_numpy(), nr_epochs=10000, valid_X=X_valid.to_numpy(), valid_y=y_valid.to_numpy(), print_interval=1000)\n",
        "model_2.get_gates(mode='prob')"
      ],
      "execution_count": null,
      "outputs": [
        {
          "output_type": "stream",
          "name": "stderr",
          "text": [
            "/usr/local/lib/python3.7/dist-packages/torch/nn/modules/loss.py:528: UserWarning: Using a target size (torch.Size([1000])) that is different to the input size (torch.Size([1000, 1])). This will likely lead to incorrect results due to broadcasting. Please ensure they have the same size.\n",
            "  return F.mse_loss(input, target, reduction=self.reduction)\n",
            "/usr/local/lib/python3.7/dist-packages/torch/nn/modules/loss.py:528: UserWarning: Using a target size (torch.Size([182])) that is different to the input size (torch.Size([182, 1])). This will likely lead to incorrect results due to broadcasting. Please ensure they have the same size.\n",
            "  return F.mse_loss(input, target, reduction=self.reduction)\n",
            "/usr/local/lib/python3.7/dist-packages/torch/nn/modules/loss.py:528: UserWarning: Using a target size (torch.Size([796])) that is different to the input size (torch.Size([796, 1])). This will likely lead to incorrect results due to broadcasting. Please ensure they have the same size.\n",
            "  return F.mse_loss(input, target, reduction=self.reduction)\n"
          ]
        },
        {
          "output_type": "stream",
          "name": "stdout",
          "text": [
            "Epoch: 1000: loss=9.947467 valid_loss=8.793331\n",
            "Epoch: 2000: loss=9.710049 valid_loss=8.694086\n",
            "Epoch: 3000: loss=9.592251 valid_loss=8.693769\n",
            "Epoch: 4000: loss=9.473643 valid_loss=8.693996\n",
            "Epoch: 5000: loss=9.364418 valid_loss=8.694068\n",
            "Epoch: 6000: loss=9.275361 valid_loss=8.693905\n",
            "Epoch: 7000: loss=9.210593 valid_loss=8.694105\n",
            "Epoch: 8000: loss=9.167796 valid_loss=8.695414\n",
            "Epoch: 9000: loss=9.140938 valid_loss=8.695639\n",
            "Epoch: 10000: loss=9.133689 valid_loss=8.694740\n"
          ]
        },
        {
          "output_type": "execute_result",
          "data": {
            "text/plain": [
              "array([0.        , 0.        , 0.        , 0.        , 0.        ,\n",
              "       0.        , 0.        , 0.        , 0.        , 0.        ,\n",
              "       0.        , 0.        , 0.        , 0.        , 0.        ,\n",
              "       0.3183236 , 0.        , 0.        , 0.        , 0.        ,\n",
              "       0.11706156, 0.        , 0.        , 0.        , 0.        ,\n",
              "       0.        , 0.        , 0.        , 0.        , 0.        ,\n",
              "       0.        , 0.        , 0.        , 0.        , 0.        ,\n",
              "       0.        , 0.        , 0.        , 0.        , 0.        ,\n",
              "       0.        , 0.        , 0.        , 0.        , 0.        ,\n",
              "       0.        , 0.        , 0.        , 0.        , 0.        ,\n",
              "       0.        , 0.        , 0.        , 0.        , 0.        ,\n",
              "       0.        , 0.        , 0.        , 0.        , 0.        ,\n",
              "       0.        , 0.        , 0.        , 0.        , 0.        ,\n",
              "       0.        , 0.        , 0.        , 0.        , 0.        ,\n",
              "       0.        , 0.        , 0.        , 0.        , 0.        ,\n",
              "       0.        , 0.        , 0.        , 0.        , 0.        ,\n",
              "       0.        , 0.        , 0.        , 0.        , 0.        ,\n",
              "       0.        , 0.        , 0.        , 0.        , 0.        ,\n",
              "       0.        , 0.        ], dtype=float32)"
            ]
          },
          "metadata": {},
          "execution_count": 43
        }
      ]
    },
    {
      "cell_type": "code",
      "metadata": {
        "colab": {
          "base_uri": "https://localhost:8080/"
        },
        "id": "qqQxAn-PJrTA",
        "outputId": "12ce6d3d-70b6-4ed0-be42-e589e0a4118f"
      },
      "source": [
        "model = STG(task_type='regression',\n",
        "            input_dim=X_train.shape[1],\n",
        "            output_dim=1, hidden_dims=[500, 500, 10], \n",
        "            activation='tanh', optimizer='Adam', \n",
        "            learning_rate = 1e-3, batch_size=1000, feature_selection=True,\n",
        "            sigma=0.5, lam=10, random_state=1, \n",
        "            device=device)\n",
        "model.fit(X_train.to_numpy(), y_train.to_numpy(), nr_epochs=10000, valid_X=X_valid.to_numpy(), valid_y=y_valid.to_numpy(), print_interval=1000)\n",
        "model.get_gates(mode='prob')"
      ],
      "execution_count": null,
      "outputs": [
        {
          "metadata": {
            "tags": null
          },
          "name": "stderr",
          "output_type": "stream",
          "text": [
            "/usr/local/lib/python3.7/dist-packages/torch/nn/modules/loss.py:528: UserWarning: Using a target size (torch.Size([1000])) that is different to the input size (torch.Size([1000, 1])). This will likely lead to incorrect results due to broadcasting. Please ensure they have the same size.\n",
            "  return F.mse_loss(input, target, reduction=self.reduction)\n",
            "/usr/local/lib/python3.7/dist-packages/torch/nn/modules/loss.py:528: UserWarning: Using a target size (torch.Size([182])) that is different to the input size (torch.Size([182, 1])). This will likely lead to incorrect results due to broadcasting. Please ensure they have the same size.\n",
            "  return F.mse_loss(input, target, reduction=self.reduction)\n",
            "/usr/local/lib/python3.7/dist-packages/torch/nn/modules/loss.py:528: UserWarning: Using a target size (torch.Size([796])) that is different to the input size (torch.Size([796, 1])). This will likely lead to incorrect results due to broadcasting. Please ensure they have the same size.\n",
            "  return F.mse_loss(input, target, reduction=self.reduction)\n"
          ]
        },
        {
          "output_type": "stream",
          "name": "stdout",
          "text": [
            "Epoch: 1000: loss=16.700958 valid_loss=8.754470\n",
            "Epoch: 2000: loss=15.507972 valid_loss=8.694247\n",
            "Epoch: 3000: loss=14.275728 valid_loss=8.694243\n",
            "Epoch: 4000: loss=13.041790 valid_loss=8.697556\n",
            "Epoch: 5000: loss=11.970069 valid_loss=8.696157\n",
            "Epoch: 6000: loss=11.065308 valid_loss=9.022763\n",
            "Epoch: 7000: loss=10.394793 valid_loss=8.715897\n",
            "Epoch: 8000: loss=9.886919 valid_loss=8.693138\n",
            "Epoch: 9000: loss=9.568016 valid_loss=8.692205\n",
            "Epoch: 10000: loss=9.334016 valid_loss=8.692654\n"
          ]
        },
        {
          "output_type": "execute_result",
          "data": {
            "text/plain": [
              "array([0., 0., 0., 0., 0., 0., 0., 0., 0., 0., 0., 0., 0., 0., 0., 0., 0.,\n",
              "       0., 0., 0., 0., 0., 0., 0., 0., 0., 0., 0., 0., 0., 0., 0., 0., 0.,\n",
              "       0., 0., 0., 0., 0., 0., 0., 0., 0., 0., 0., 0., 0., 0., 0., 0., 0.,\n",
              "       0., 0., 0., 0., 0., 0., 0., 0., 0., 0., 0., 0., 0., 0., 0., 0., 0.,\n",
              "       0., 0., 0., 0., 0., 0., 0., 0., 0., 0., 0., 0., 0., 0., 0., 0., 0.,\n",
              "       0., 0., 0., 0., 0., 0., 0.], dtype=float32)"
            ]
          },
          "metadata": {},
          "execution_count": 44
        }
      ]
    },
    {
      "cell_type": "code",
      "metadata": {
        "colab": {
          "base_uri": "https://localhost:8080/"
        },
        "id": "95hazKEpLjwZ",
        "outputId": "e875f5e9-0854-4b49-bd94-305890497d3e"
      },
      "source": [
        ""
      ],
      "execution_count": null,
      "outputs": [
        {
          "output_type": "execute_result",
          "data": {
            "text/plain": [
              "(21087, 95)"
            ]
          },
          "metadata": {},
          "execution_count": 30
        }
      ]
    }
  ]
}
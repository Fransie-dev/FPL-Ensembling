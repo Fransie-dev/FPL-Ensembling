{
  "nbformat": 4,
  "nbformat_minor": 0,
  "metadata": {
    "colab": {
      "name": "new_meta.ipynb",
      "provenance": [],
      "collapsed_sections": []
    },
    "kernelspec": {
      "display_name": "Python 3",
      "name": "python3"
    },
    "language_info": {
      "name": "python"
    }
  },
  "cells": [
    {
      "cell_type": "markdown",
      "metadata": {
        "id": "zjifzdvReydE"
      },
      "source": [
        "Mount Drive"
      ]
    },
    {
      "cell_type": "code",
      "metadata": {
        "colab": {
          "base_uri": "https://localhost:8080/"
        },
        "id": "mACUJCoO5gBG",
        "outputId": "8ba1f99e-98e0-47f9-9369-8684d77999e2"
      },
      "source": [
        "from google.colab import drive\n",
        "import pandas as pd\n",
        "import numpy as np\n",
        "drive.mount('/content/drive')"
      ],
      "execution_count": null,
      "outputs": [
        {
          "output_type": "stream",
          "name": "stdout",
          "text": [
            "Mounted at /content/drive\n"
          ]
        }
      ]
    },
    {
      "cell_type": "code",
      "metadata": {
        "colab": {
          "base_uri": "https://localhost:8080/"
        },
        "id": "9iORFc02e01K",
        "outputId": "d322f6b4-5906-4ac4-bcb9-71ea34e37939"
      },
      "source": [
        "! pip install catboost\n",
        "! pip install shap"
      ],
      "execution_count": null,
      "outputs": [
        {
          "output_type": "stream",
          "name": "stdout",
          "text": [
            "Collecting catboost\n",
            "  Downloading catboost-1.0.3-cp37-none-manylinux1_x86_64.whl (76.3 MB)\n",
            "\u001b[K     |████████████████████████████████| 76.3 MB 26 kB/s \n",
            "\u001b[?25hRequirement already satisfied: plotly in /usr/local/lib/python3.7/dist-packages (from catboost) (4.4.1)\n",
            "Requirement already satisfied: numpy>=1.16.0 in /usr/local/lib/python3.7/dist-packages (from catboost) (1.19.5)\n",
            "Requirement already satisfied: six in /usr/local/lib/python3.7/dist-packages (from catboost) (1.15.0)\n",
            "Requirement already satisfied: graphviz in /usr/local/lib/python3.7/dist-packages (from catboost) (0.10.1)\n",
            "Requirement already satisfied: scipy in /usr/local/lib/python3.7/dist-packages (from catboost) (1.4.1)\n",
            "Requirement already satisfied: matplotlib in /usr/local/lib/python3.7/dist-packages (from catboost) (3.2.2)\n",
            "Requirement already satisfied: pandas>=0.24.0 in /usr/local/lib/python3.7/dist-packages (from catboost) (1.1.5)\n",
            "Requirement already satisfied: pytz>=2017.2 in /usr/local/lib/python3.7/dist-packages (from pandas>=0.24.0->catboost) (2018.9)\n",
            "Requirement already satisfied: python-dateutil>=2.7.3 in /usr/local/lib/python3.7/dist-packages (from pandas>=0.24.0->catboost) (2.8.2)\n",
            "Requirement already satisfied: pyparsing!=2.0.4,!=2.1.2,!=2.1.6,>=2.0.1 in /usr/local/lib/python3.7/dist-packages (from matplotlib->catboost) (2.4.7)\n",
            "Requirement already satisfied: cycler>=0.10 in /usr/local/lib/python3.7/dist-packages (from matplotlib->catboost) (0.10.0)\n",
            "Requirement already satisfied: kiwisolver>=1.0.1 in /usr/local/lib/python3.7/dist-packages (from matplotlib->catboost) (1.3.2)\n",
            "Requirement already satisfied: retrying>=1.3.3 in /usr/local/lib/python3.7/dist-packages (from plotly->catboost) (1.3.3)\n",
            "Installing collected packages: catboost\n",
            "Successfully installed catboost-1.0.3\n",
            "Collecting shap\n",
            "  Downloading shap-0.40.0.tar.gz (371 kB)\n",
            "\u001b[K     |████████████████████████████████| 371 kB 28.6 MB/s \n",
            "\u001b[?25h  Installing build dependencies ... \u001b[?25l\u001b[?25hdone\n",
            "  Getting requirements to build wheel ... \u001b[?25l\u001b[?25hdone\n",
            "    Preparing wheel metadata ... \u001b[?25l\u001b[?25hdone\n",
            "Requirement already satisfied: pandas in /usr/local/lib/python3.7/dist-packages (from shap) (1.1.5)\n",
            "Requirement already satisfied: numpy in /usr/local/lib/python3.7/dist-packages (from shap) (1.19.5)\n",
            "Requirement already satisfied: cloudpickle in /usr/local/lib/python3.7/dist-packages (from shap) (1.3.0)\n",
            "Requirement already satisfied: scipy in /usr/local/lib/python3.7/dist-packages (from shap) (1.4.1)\n",
            "Requirement already satisfied: tqdm>4.25.0 in /usr/local/lib/python3.7/dist-packages (from shap) (4.62.3)\n",
            "Requirement already satisfied: scikit-learn in /usr/local/lib/python3.7/dist-packages (from shap) (0.22.2.post1)\n",
            "Requirement already satisfied: packaging>20.9 in /usr/local/lib/python3.7/dist-packages (from shap) (21.0)\n",
            "Collecting slicer==0.0.7\n",
            "  Downloading slicer-0.0.7-py3-none-any.whl (14 kB)\n",
            "Requirement already satisfied: numba in /usr/local/lib/python3.7/dist-packages (from shap) (0.51.2)\n",
            "Requirement already satisfied: pyparsing>=2.0.2 in /usr/local/lib/python3.7/dist-packages (from packaging>20.9->shap) (2.4.7)\n",
            "Requirement already satisfied: setuptools in /usr/local/lib/python3.7/dist-packages (from numba->shap) (57.4.0)\n",
            "Requirement already satisfied: llvmlite<0.35,>=0.34.0.dev0 in /usr/local/lib/python3.7/dist-packages (from numba->shap) (0.34.0)\n",
            "Requirement already satisfied: pytz>=2017.2 in /usr/local/lib/python3.7/dist-packages (from pandas->shap) (2018.9)\n",
            "Requirement already satisfied: python-dateutil>=2.7.3 in /usr/local/lib/python3.7/dist-packages (from pandas->shap) (2.8.2)\n",
            "Requirement already satisfied: six>=1.5 in /usr/local/lib/python3.7/dist-packages (from python-dateutil>=2.7.3->pandas->shap) (1.15.0)\n",
            "Requirement already satisfied: joblib>=0.11 in /usr/local/lib/python3.7/dist-packages (from scikit-learn->shap) (1.0.1)\n",
            "Building wheels for collected packages: shap\n",
            "  Building wheel for shap (PEP 517) ... \u001b[?25l\u001b[?25hdone\n",
            "  Created wheel for shap: filename=shap-0.40.0-cp37-cp37m-linux_x86_64.whl size=509234 sha256=04fc283da189f31d34db3a0e3f31053c11cc7e8a191d2c031b088eff25e4009d\n",
            "  Stored in directory: /root/.cache/pip/wheels/ec/35/84/e304841ac4b910bc95fe9a6e5302eb2507b4333728851dcbfb\n",
            "Successfully built shap\n",
            "Installing collected packages: slicer, shap\n",
            "Successfully installed shap-0.40.0 slicer-0.0.7\n"
          ]
        }
      ]
    },
    {
      "cell_type": "markdown",
      "metadata": {
        "id": "814PW_x0e1jU"
      },
      "source": [
        "Cat-Boost Meta-Learner "
      ]
    },
    {
      "cell_type": "code",
      "metadata": {
        "id": "NKdSYC6_BCZh"
      },
      "source": [
        "import time\n",
        "import datetime\n",
        "from math import sqrt\n",
        "import matplotlib.pyplot as plt\n",
        "import shap\n",
        "import numpy as np\n",
        "import pandas\n",
        "import sklearn.metrics as metrics\n",
        "from keras.layers import Dense\n",
        "from keras.models import Sequential\n",
        "from keras.wrappers.scikit_learn import KerasRegressor\n",
        "from numpy import asarray, hstack, vstack\n",
        "from sklearn.ensemble import RandomForestRegressor\n",
        "from sklearn.linear_model import LinearRegression\n",
        "from sklearn.metrics import mean_squared_error\n",
        "from sklearn.neighbors import KNeighborsRegressor\n",
        "from sklearn.preprocessing import StandardScaler, MinMaxScaler\n",
        "from sklearn.svm import SVR\n",
        "from sklearn.model_selection import KFold\n",
        "import pandas as pd\n",
        "import keras \n",
        "import tensorflow\n",
        "from sklearn.pipeline import Pipeline\n",
        "from sklearn.preprocessing import FunctionTransformer\n",
        "import catboost as cb\n",
        "from sklearn.neural_network import MLPRegressor\n",
        "from sklearn.metrics import r2_score, mean_squared_error\n",
        "from sklearn.model_selection import train_test_split\n",
        "\n",
        "pd.options.mode.chained_assignment = None  \n",
        "bwd_feat = pd.read_csv('./drive/MyDrive/BorutaShap/bwd_feat.csv')['Feat']\n",
        "bor_feat = pd.read_csv('./drive/MyDrive/BorutaShap/borutashap.csv')['feat']\n",
        "knn_feat = pd.read_csv('./drive/MyDrive/BorutaShap/knn_step.csv')['feat']\n",
        "step_feat = pd.read_csv('./drive/MyDrive/BorutaShap/step_feat.csv')['Feat']\n",
        "get_bwd_data = FunctionTransformer(lambda x: x[bwd_feat.values], validate=False)\n",
        "get_bor_data = FunctionTransformer(lambda x: x[bor_feat.values], validate=False)\n",
        "get_knn_data = FunctionTransformer(lambda x: x[knn_feat.values], validate=False)\n",
        "\n",
        "\n",
        "def gameweek_rmses(df):\n",
        "    results = pd.DataFrame(index = np.arange(1,39))\n",
        "    for name, model in get_models(cat_features=None):\n",
        "        RMSE = np.sqrt(mean_squared_error(df['total_points'], df[name]))\n",
        "        results[f'{name}'] = RMSE\n",
        "    results['Meta'] =  np.sqrt(mean_squared_error(df['total_points'], df['Meta']))\n",
        "    results.drop_duplicates(inplace = True)\n",
        "    results['Best'] = results.idxmin(axis=1)\n",
        "    results['BestRSME'] = results.min(axis=1)\n",
        "    return results.round(3)\n",
        "\n",
        "def split_dfs(df, GW, szn = 2020, idx = False):\n",
        "    X_test = df[(df['season'] == szn) & (df['GW'] == GW)]\n",
        "    y_test = X_test['total_points']\n",
        "    X_train = df[df['kickoff_time'] < X_test['kickoff_time'].min()]\n",
        "    y_train = X_train['total_points']\n",
        "    if idx == True:\n",
        "        idxrs_test = X_test[['player_name', 'kickoff_time', 'GW', 'season']]\n",
        "        X_test.drop(DROP_COLS, axis = 1, inplace = True), X_train.drop(DROP_COLS, axis = 1, inplace = True) \n",
        "        return X_train, X_test, y_train, y_test, idxrs_test\n",
        "    else:\n",
        "        # Removes kickoff time, gameweek, season and total points\n",
        "        X_test.drop(DROP_COLS, axis = 1, inplace = True), X_train.drop(DROP_COLS, axis = 1, inplace = True) \n",
        "        return X_train, X_test, y_train, y_test\n",
        "\n",
        "\n",
        "def get_training_data(GW, df, df_encoded, X_oof_train, std_x, std_y): \n",
        "    if GW == 1:\n",
        "        # Get, sort and round numerical precision..\n",
        "        df =  pd.read_csv('/content/drive/MyDrive/Data/rollbacked_us_testing.csv').round(8).sort_values(by = ['season', 'GW', 'player_name', 'kickoff_time'])\n",
        "        X_oof_train = pd.read_csv('./drive/MyDrive/Predictions/unrounded_oof_predictions_10.csv').round(8)\n",
        "        df = df[df['season'] < 2021] # Predict for /21 \n",
        "        # Encode cats\n",
        "        df_encoded = encode_categoricals(df)\n",
        "        # Scale data\n",
        "        for data in [df_encoded, df]:\n",
        "            scaled_cols, error_cols, std_x, std_y = [], [], StandardScaler(), StandardScaler()\n",
        "            for col in data.select_dtypes(include = 'number').drop([col1 for col1 in DROP_COLS if col1 in data.select_dtypes(include = 'number').columns], axis = 1).columns:\n",
        "                if data[col].nunique() > 2:\n",
        "                    scaled_cols.append(col)\n",
        "                if data[col].min() < 1e-7:\n",
        "                    error_cols.append(col)\n",
        "            data[scaled_cols] = std_x.fit_transform(data[scaled_cols])\n",
        "            data['total_points'] = std_y.fit_transform(data['total_points'].to_numpy().reshape(-1, 1))\n",
        "\n",
        "        X_oof_train[scaled_cols] = std_x.transform(X_oof_train[scaled_cols])\n",
        "        X_oof_train.drop(DROP_COLS, axis = 1, inplace = True)\n",
        "        for name, _ in get_models():\n",
        "            X_oof_train[name] = std_y.transform(X_oof_train[name].to_numpy().reshape(-1, 1))\n",
        "    else:\n",
        "        pass \n",
        "      \n",
        "  \n",
        "    # Construct data for CBoost base + get indexers\n",
        "    X_train, X_test, y_train, y_test, idxrs_test = split_dfs(df, GW, idx = True) \n",
        "\n",
        "    # Construct data for other base learners\n",
        "    X_train_encoded, X_test_encoded, y_train_encoded, y_test_encoded = split_dfs(df_encoded, GW) # Does not contain player name\n",
        "\n",
        "    return X_train, X_test, X_train_encoded, X_test_encoded, y_train, y_test, df, df_encoded, std_x, std_y, X_oof_train, idxrs_test\n",
        "\n",
        "def encode_categoricals(df):\n",
        "    # Any model that needs numerical preprocessing cannot use the name feature\n",
        "    encode_df = df.drop(columns = ['player_name'], axis = 1)\n",
        "    # Encode booleans\n",
        "    for col in encode_df.columns:\n",
        "      if pd.api.types.is_bool_dtype(encode_df[col]):\n",
        "        encode_df[col] = encode_df[col].replace({True:1, False:0})\n",
        "    # One hot encode \n",
        "    encode_df = pd.get_dummies(encode_df, columns=OHE_COLS, prefix=OHE_COLS)\n",
        "    # Ordinal encoding\n",
        "    mapping = {'Low': 0, 'Medium': 0.5, 'Hard':1}\n",
        "    encode_df['FDR'] = encode_df['FDR'].map(lambda x : mapping[x])\n",
        "    return encode_df\n",
        "\n",
        "def get_models(cat_features = None):\n",
        "\n",
        "    models = list()\n",
        "    # Linear Regression\n",
        "    models.append(('LR', Pipeline([('selector', get_bwd_data), ('LR', LinearRegression())]))) # Done\n",
        "    # CatBoost\n",
        "    models.append(('CBoost', Pipeline([('CBoost', cb.CatBoostRegressor(loss_function='RMSE', cat_features = cat_features,\n",
        "                                                                       task_type=TASK_TYPE, logging_level='Silent', depth = 6,\n",
        "                                                                       l2_leaf_reg = 1, learning_rate = 0.03,\n",
        "                                                                       bagging_temperature = 0.1, iterations = ITERATIONS))]))) \n",
        "    # SVR\n",
        "    models.append(('SVR', Pipeline([('selector', get_bor_data), ('SVR', SVR(C=6, cache_size=200, coef0=0.0, degree=3, epsilon=0.6, gamma=0.005, \n",
        "                                                                            kernel='rbf', max_iter=-1, shrinking=True, tol=0.001, verbose=False))]))) \n",
        "    # KNN\n",
        "    models.append(('KNN', Pipeline([('selector', get_knn_data), ('KNN', KNeighborsRegressor(algorithm='kd_tree', leaf_size=1, metric='manhattan',\n",
        "                                                                                            metric_params=None, n_jobs=8, n_neighbors=86, p=2,\n",
        "                                                                                            weights='distance'))]))) \n",
        "    # Neural Network\n",
        "    models.append(('MLP', Pipeline([('selector', get_bor_data), ('MLP', MLPRegressor(activation='identity', alpha=1e-05, batch_size=16, beta_1=0.9,\n",
        "                                                                                     beta_2=0.999, early_stopping=True, epsilon=1e-07,\n",
        "                                                                                     hidden_layer_sizes=(64, 128), learning_rate='constant',\n",
        "                                                                                     learning_rate_init=0.0001, max_fun=15000, max_iter=50,\n",
        "                                                                                     momentum=0.9, n_iter_no_change=10, nesterovs_momentum=True,\n",
        "                                                                                     power_t=0.5, random_state=0, shuffle=True, solver='adam',\n",
        "                                                                                     tol=1e-08, validation_fraction=0.1, verbose=False,\n",
        "                                                                                     warm_start=False))])))  \n",
        "    return models\n",
        "\n",
        "\n",
        "\n",
        "def get_out_of_fold_predictions(GW, X_train, X_test, X_train_encoded, X_test_encoded, y_train, y_test, models):\n",
        "    meta_X, meta_y, y_index, fold_yhats = list(), list(), list(), list()\n",
        "    # Store folds\n",
        "    meta_y.extend(y_test)\n",
        "    y_index = y_test.index\n",
        "    # Encode categorical features for base learners' \n",
        "    # Get validation predictions of all base learners\n",
        "    for name, model in models:\n",
        "        start = time.time()\n",
        "        if name in ['CBoost']:\n",
        "            X_train_base, X_test_base = X_train, X_test\n",
        "            if EARLY_STOPPING:\n",
        "                X_train_es, X_val, y_train_es, y_val = train_test_split(X_train_base, y_train, test_size=0.1, random_state=1)\n",
        "                model.fit(X_train_es, y_train_es, CBoost__early_stopping_rounds = 100, CBoost__eval_set = [(X_test_base, y_test)])\n",
        "            else:\n",
        "                 model.fit(X_train_base, y_train)\n",
        "        else:\n",
        "            X_train_base, X_test_base = X_train_encoded, X_test_encoded\n",
        "            model.fit(X_train_base, y_train)  \n",
        "\n",
        "        # Get base learners' predictions\n",
        "        yhat = model.predict(X_test_base)  \n",
        "        fold_yhats.append(yhat.reshape(len(yhat), 1)) \n",
        "        # Profile model\n",
        "        if VERBOSE:\n",
        "            print(f'{GW}: {name}: {round(time.time()-start,3)} seconds') \n",
        "    # Store base learner predictions as columns\n",
        "    meta_X.append(hstack(fold_yhats)) \n",
        "    # Scaled out-of-fold predictions of base learners\n",
        "    y_oof_true = pd.DataFrame(asarray(meta_y), index=y_index)\n",
        "    X_oof_preds = pd.DataFrame(vstack(meta_X), columns = [name for name, _ in models], index=y_index)\n",
        "    return X_oof_preds, y_oof_true, y_index \n",
        "    \n",
        "\n",
        "def construct_oof_data(GW, X_train, X_test, X_train_encoded, X_test_encoded, y_train, y_test, X_oof_train):\n",
        "    if not PROPAGATE:\n",
        "      X_train.drop(['team', 'opponent_team', 'player_name'], axis = 1, inplace = True)\n",
        "      X_test.drop(['team', 'opponent_team', 'player_name'], axis = 1, inplace = True)\n",
        "    # Categorical features in level-0 training set\n",
        "    cat_features_train = np.where(X_train.dtypes == 'object')[0] \n",
        "    # Base learners \n",
        "    models = get_models(cat_features_train) \n",
        "    # Get base learners OOF preds\n",
        "    X_oof_preds, y_oof_true, y_index = get_out_of_fold_predictions(GW, X_train, X_test, X_train_encoded, X_test_encoded, y_train, y_test, models) \n",
        "    # Construct propagated level-1 test set\n",
        "    X_oof_test = pd.merge(X_oof_preds, X_test, left_index=True, right_index=True) \n",
        "    X_oof_test.to_csv(f'/content/drive/MyDrive/Predictions/{GW}_oof.csv', index = False)\n",
        "    # Categorical features in level-1 testing set\n",
        "    # Concatenate new data to training data\n",
        "    if GW > 1:\n",
        "        X_oof_train = pd.concat([X_oof_train, pd.read_csv(f'/content/drive/MyDrive/Predictions/{GW - 1}_oof.csv')])\n",
        "    X_oof_train = X_oof_train[X_oof_test.columns]\n",
        "    return X_oof_test, y_oof_true, cat_features_train,  models, X_oof_train\n",
        "\n",
        "\n",
        "def fit_meta_model(GW, X_oof_train, y_oof_train, X_oof_test, y_oof_true): \n",
        "    start = time.time()\n",
        "    model =  cb.CatBoostRegressor(cat_features =  np.where(X_oof_train.dtypes == 'object')[0], task_type=TASK_TYPE,\n",
        "                                  depth = 8, \n",
        "                                  iterations = ITERATIONS,\n",
        "                                  l2_leaf_reg = 1,\n",
        "                                  learning_rate = 0.03, \n",
        "                                  logging_level = 'Silent') # Test: Can early stopping improve performance?\n",
        "    if EARLY_STOPPING:\n",
        "        X_train, X_val, y_train, y_val = train_test_split(X_oof_train, y_oof_train, test_size=0.1, random_state=1)\n",
        "        model.fit(X_train, y_train, early_stopping_rounds = 100, eval_set = [(X_val, y_val)])\n",
        "    else:\n",
        "        model.fit(X_oof_train, y_oof_train)\n",
        "    print(f'{GW}: Meta: {round(time.time()-start,3)} seconds') \n",
        "    return model\n",
        "\n",
        "def main():\n",
        "    # For all gameweeks\n",
        "    for GW in list(range(1,39)):\n",
        "        if not VERBOSE:\n",
        "            print(GW)\n",
        "        if GW == 1:\n",
        "            results, df, df_encoded, std_x, std_y, X_oof_train = [], [], [], [], [], []\n",
        "        else:\n",
        "            pass\n",
        "        # Level-0 training + testing sets\n",
        "        X_train, X_test, X_train_encoded, X_test_encoded, y_train, y_test, df, df_encoded, std_x, std_y, X_oof_train, idxrs_test = get_training_data(GW, df, df_encoded, X_oof_train, std_x, std_y)\n",
        "        # Construct level-1 training + testing sets\n",
        "        X_oof_test, y_oof_true, cat_features_train,  models, X_oof_train = construct_oof_data(GW, X_train, X_test, X_train_encoded, X_test_encoded, y_train, y_test, X_oof_train)\n",
        "        # Fit meta-learner on level-1 training set\n",
        "        meta_model = fit_meta_model(GW, X_oof_train, y_train, X_oof_test, y_oof_true) \n",
        "        # Predict using meta_model\n",
        "        meta_preds = meta_model.predict(X_oof_test)\n",
        "\n",
        "        # # Check shaps\n",
        "        # explainer = shap.TreeExplainer(meta_model)\n",
        "        # shap_values = explainer.shap_values(X_oof_test)\n",
        "        # shap.summary_plot(shap_values, X_oof_test, show = False)\n",
        "        # plt.savefig('./drive/MyDrive/figs/shap_test_meta.pdf', bbox_inches = 'tight')\n",
        "\n",
        "        # Print weekly RMSE\n",
        "        if VERBOSE:\n",
        "            print(f'{GW} : Meta-learner : RMSE = {sqrt(mean_squared_error(np.round(std_y.inverse_transform(y_test)), np.round(std_y.inverse_transform(meta_preds))))}')\n",
        "            for name, _ in models:\n",
        "                print(f'{GW} : {name} : RMSE = {sqrt(mean_squared_error(np.round(std_y.inverse_transform(y_test)), np.round(std_y.inverse_transform(X_oof_test[name]))))}')\n",
        "        # Should response be rounded\n",
        "        if ROUND:\n",
        "            for name, _ in models:\n",
        "                idxrs_test[name] = np.round(std_y.inverse_transform(X_oof_test[name]))\n",
        "            idxrs_test['Meta'] = np.round(std_y.inverse_transform(meta_preds))\n",
        "        else: \n",
        "            for name, _ in models:\n",
        "                idxrs_test[name] = std_y.inverse_transform(X_oof_test[name])\n",
        "            idxrs_test['Meta'] = std_y.inverse_transform(meta_preds)\n",
        "        # Save weekly results\n",
        "        results.append(idxrs_test)\n",
        "    # Concatenate all predictions\n",
        "    df_preds = pd.concat(results).reset_index(drop=True)    \n",
        "    # Save the results with the original player name\n",
        "    # df = pd.read_csv('/content/drive/MyDrive/Data/collected_us_updated.csv')[['player_name', 'position', 'team', 'value', 'kickoff_time', 'total_points']]\n",
        "    # df = df[df['kickoff_time'] > '2020-08-12'] # Predicted for the /21 season\n",
        "    # df_preds = pd.merge(df_preds, df, on = ['player_name', 'kickoff_time'], how = 'inner')\n",
        "    df_preds.to_csv('/content/drive/MyDrive/Predictions/new_meta_early_stop_no_rounding_test_final.csv', index = False)\n",
        "    # Use the previous gameweek testing results as early stopping criterion\n",
        "\n",
        "\n",
        "\n",
        "\n",
        "\n",
        "# Test parameters\n",
        "N_SPLITS = 10\n",
        "TASK_TYPE = 'CPU' # GPU is giving inconsistent results\n",
        "ITERATIONS = 1000 \n",
        "VERBOSE = True\n",
        "PROPAGATE = True # Player name, team and opponent team features\n",
        "ROUND = False\n",
        "EARLY_STOPPING = True\n",
        "OHE_COLS =  ['team', 'position', 'opponent_team', 'position_location', 'premium_players']\n",
        "DROP_COLS = ['kickoff_time', 'total_points', 'GW', 'season']\n",
        "# main()"
      ],
      "execution_count": null,
      "outputs": []
    },
    {
      "cell_type": "code",
      "metadata": {
        "colab": {
          "base_uri": "https://localhost:8080/",
          "height": 419
        },
        "id": "PnQqRkqsLKx8",
        "outputId": "1598dd39-b21d-475d-8fdc-3ca2318af8ef"
      },
      "source": [
        "df_preds = pd.read_csv('/content/drive/MyDrive/Predictions/new_meta_early_stop_no_rounding_test_final.csv')\n",
        "df_correct = pd.read_csv('/content/drive/MyDrive/Data/collected_us_updated.csv').sort_values(['season', 'GW', 'player_name',  'kickoff_time'])\n",
        "df_correct = df_correct[df_correct['season'] == 2020]\n",
        "df_correct.reset_index(drop = True, inplace = True)\n",
        "df_correct['H2O'] = df_results['automl'].values"
      ],
      "execution_count": null,
      "outputs": [
        {
          "output_type": "execute_result",
          "data": {
            "text/html": [
              "<div>\n",
              "<style scoped>\n",
              "    .dataframe tbody tr th:only-of-type {\n",
              "        vertical-align: middle;\n",
              "    }\n",
              "\n",
              "    .dataframe tbody tr th {\n",
              "        vertical-align: top;\n",
              "    }\n",
              "\n",
              "    .dataframe thead th {\n",
              "        text-align: right;\n",
              "    }\n",
              "</style>\n",
              "<table border=\"1\" class=\"dataframe\">\n",
              "  <thead>\n",
              "    <tr style=\"text-align: right;\">\n",
              "      <th></th>\n",
              "      <th>player_name</th>\n",
              "      <th>kickoff_time</th>\n",
              "      <th>GW</th>\n",
              "      <th>season</th>\n",
              "      <th>LR</th>\n",
              "      <th>CBoost</th>\n",
              "      <th>SVR</th>\n",
              "      <th>KNN</th>\n",
              "      <th>MLP</th>\n",
              "      <th>Meta</th>\n",
              "    </tr>\n",
              "  </thead>\n",
              "  <tbody>\n",
              "    <tr>\n",
              "      <th>0</th>\n",
              "      <td>Aaron Connolly</td>\n",
              "      <td>2020-09-14</td>\n",
              "      <td>1</td>\n",
              "      <td>2020</td>\n",
              "      <td>1.170578</td>\n",
              "      <td>1.613324</td>\n",
              "      <td>3.223093</td>\n",
              "      <td>3.149316</td>\n",
              "      <td>2.061467</td>\n",
              "      <td>2.835205</td>\n",
              "    </tr>\n",
              "    <tr>\n",
              "      <th>1</th>\n",
              "      <td>Aaron Cresswell</td>\n",
              "      <td>2020-09-12</td>\n",
              "      <td>1</td>\n",
              "      <td>2020</td>\n",
              "      <td>2.163982</td>\n",
              "      <td>3.263234</td>\n",
              "      <td>2.875090</td>\n",
              "      <td>2.798591</td>\n",
              "      <td>3.235438</td>\n",
              "      <td>2.910930</td>\n",
              "    </tr>\n",
              "    <tr>\n",
              "      <th>2</th>\n",
              "      <td>Aaron Ramsdale</td>\n",
              "      <td>2020-09-14</td>\n",
              "      <td>1</td>\n",
              "      <td>2020</td>\n",
              "      <td>1.753843</td>\n",
              "      <td>3.815019</td>\n",
              "      <td>3.844155</td>\n",
              "      <td>3.171717</td>\n",
              "      <td>3.065320</td>\n",
              "      <td>2.908770</td>\n",
              "    </tr>\n",
              "    <tr>\n",
              "      <th>3</th>\n",
              "      <td>Abdoulaye Doucouré</td>\n",
              "      <td>2020-09-13</td>\n",
              "      <td>1</td>\n",
              "      <td>2020</td>\n",
              "      <td>0.596630</td>\n",
              "      <td>3.318724</td>\n",
              "      <td>3.100850</td>\n",
              "      <td>2.682273</td>\n",
              "      <td>2.589561</td>\n",
              "      <td>2.810104</td>\n",
              "    </tr>\n",
              "    <tr>\n",
              "      <th>4</th>\n",
              "      <td>Aboubakar Kamara</td>\n",
              "      <td>2020-09-12</td>\n",
              "      <td>1</td>\n",
              "      <td>2020</td>\n",
              "      <td>2.612433</td>\n",
              "      <td>2.346020</td>\n",
              "      <td>2.739583</td>\n",
              "      <td>1.807111</td>\n",
              "      <td>2.785375</td>\n",
              "      <td>2.936902</td>\n",
              "    </tr>\n",
              "    <tr>\n",
              "      <th>...</th>\n",
              "      <td>...</td>\n",
              "      <td>...</td>\n",
              "      <td>...</td>\n",
              "      <td>...</td>\n",
              "      <td>...</td>\n",
              "      <td>...</td>\n",
              "      <td>...</td>\n",
              "      <td>...</td>\n",
              "      <td>...</td>\n",
              "      <td>...</td>\n",
              "    </tr>\n",
              "    <tr>\n",
              "      <th>10424</th>\n",
              "      <td>Willian José Da Silva</td>\n",
              "      <td>2021-05-23</td>\n",
              "      <td>38</td>\n",
              "      <td>2020</td>\n",
              "      <td>1.461409</td>\n",
              "      <td>1.750808</td>\n",
              "      <td>2.386834</td>\n",
              "      <td>1.612086</td>\n",
              "      <td>1.618549</td>\n",
              "      <td>1.914618</td>\n",
              "    </tr>\n",
              "    <tr>\n",
              "      <th>10425</th>\n",
              "      <td>Willy Boly</td>\n",
              "      <td>2021-05-23</td>\n",
              "      <td>38</td>\n",
              "      <td>2020</td>\n",
              "      <td>2.724923</td>\n",
              "      <td>3.192019</td>\n",
              "      <td>2.550103</td>\n",
              "      <td>2.747661</td>\n",
              "      <td>2.802891</td>\n",
              "      <td>2.834726</td>\n",
              "    </tr>\n",
              "    <tr>\n",
              "      <th>10426</th>\n",
              "      <td>Youri Tielemans</td>\n",
              "      <td>2021-05-23</td>\n",
              "      <td>38</td>\n",
              "      <td>2020</td>\n",
              "      <td>2.978103</td>\n",
              "      <td>2.547918</td>\n",
              "      <td>3.338898</td>\n",
              "      <td>2.927123</td>\n",
              "      <td>3.503087</td>\n",
              "      <td>2.878180</td>\n",
              "    </tr>\n",
              "    <tr>\n",
              "      <th>10427</th>\n",
              "      <td>Yves Bissouma</td>\n",
              "      <td>2021-05-23</td>\n",
              "      <td>38</td>\n",
              "      <td>2020</td>\n",
              "      <td>2.094588</td>\n",
              "      <td>2.247594</td>\n",
              "      <td>2.684218</td>\n",
              "      <td>2.296442</td>\n",
              "      <td>2.754506</td>\n",
              "      <td>2.569465</td>\n",
              "    </tr>\n",
              "    <tr>\n",
              "      <th>10428</th>\n",
              "      <td>Çaglar Söyüncü</td>\n",
              "      <td>2021-05-23</td>\n",
              "      <td>38</td>\n",
              "      <td>2020</td>\n",
              "      <td>2.950752</td>\n",
              "      <td>2.578532</td>\n",
              "      <td>3.410637</td>\n",
              "      <td>2.998558</td>\n",
              "      <td>3.293165</td>\n",
              "      <td>2.731731</td>\n",
              "    </tr>\n",
              "  </tbody>\n",
              "</table>\n",
              "<p>10429 rows × 10 columns</p>\n",
              "</div>"
            ],
            "text/plain": [
              "                 player_name kickoff_time  GW  ...       KNN       MLP      Meta\n",
              "0             Aaron Connolly   2020-09-14   1  ...  3.149316  2.061467  2.835205\n",
              "1            Aaron Cresswell   2020-09-12   1  ...  2.798591  3.235438  2.910930\n",
              "2             Aaron Ramsdale   2020-09-14   1  ...  3.171717  3.065320  2.908770\n",
              "3         Abdoulaye Doucouré   2020-09-13   1  ...  2.682273  2.589561  2.810104\n",
              "4           Aboubakar Kamara   2020-09-12   1  ...  1.807111  2.785375  2.936902\n",
              "...                      ...          ...  ..  ...       ...       ...       ...\n",
              "10424  Willian José Da Silva   2021-05-23  38  ...  1.612086  1.618549  1.914618\n",
              "10425             Willy Boly   2021-05-23  38  ...  2.747661  2.802891  2.834726\n",
              "10426        Youri Tielemans   2021-05-23  38  ...  2.927123  3.503087  2.878180\n",
              "10427          Yves Bissouma   2021-05-23  38  ...  2.296442  2.754506  2.569465\n",
              "10428         Çaglar Söyüncü   2021-05-23  38  ...  2.998558  3.293165  2.731731\n",
              "\n",
              "[10429 rows x 10 columns]"
            ]
          },
          "metadata": {},
          "execution_count": 7
        }
      ]
    },
    {
      "cell_type": "code",
      "metadata": {
        "colab": {
          "base_uri": "https://localhost:8080/",
          "height": 408
        },
        "id": "4P2QS7FHsNdm",
        "outputId": "65f45b87-e815-4fc8-8c4a-a92a941564af"
      },
      "source": [
        "pd.read_csv('/content/drive/MyDrive/Predictions/new_meta_train.csv')"
      ],
      "execution_count": null,
      "outputs": [
        {
          "output_type": "execute_result",
          "data": {
            "text/html": [
              "<div>\n",
              "<style scoped>\n",
              "    .dataframe tbody tr th:only-of-type {\n",
              "        vertical-align: middle;\n",
              "    }\n",
              "\n",
              "    .dataframe tbody tr th {\n",
              "        vertical-align: top;\n",
              "    }\n",
              "\n",
              "    .dataframe thead th {\n",
              "        text-align: right;\n",
              "    }\n",
              "</style>\n",
              "<table border=\"1\" class=\"dataframe\">\n",
              "  <thead>\n",
              "    <tr style=\"text-align: right;\">\n",
              "      <th></th>\n",
              "      <th>player_name</th>\n",
              "      <th>kickoff_time</th>\n",
              "      <th>GW</th>\n",
              "      <th>season</th>\n",
              "      <th>total_points</th>\n",
              "      <th>LR</th>\n",
              "      <th>CBoost</th>\n",
              "      <th>SVR</th>\n",
              "      <th>KNN</th>\n",
              "      <th>MLP</th>\n",
              "      <th>Meta</th>\n",
              "    </tr>\n",
              "  </thead>\n",
              "  <tbody>\n",
              "    <tr>\n",
              "      <th>0</th>\n",
              "      <td>Aaron Cresswell</td>\n",
              "      <td>2019-08-10</td>\n",
              "      <td>1</td>\n",
              "      <td>2019</td>\n",
              "      <td>0.0</td>\n",
              "      <td>1.0</td>\n",
              "      <td>1.0</td>\n",
              "      <td>2.0</td>\n",
              "      <td>1.0</td>\n",
              "      <td>1.0</td>\n",
              "      <td>3.0</td>\n",
              "    </tr>\n",
              "    <tr>\n",
              "      <th>1</th>\n",
              "      <td>Aaron Lennon</td>\n",
              "      <td>2019-08-10</td>\n",
              "      <td>1</td>\n",
              "      <td>2019</td>\n",
              "      <td>1.0</td>\n",
              "      <td>3.0</td>\n",
              "      <td>4.0</td>\n",
              "      <td>3.0</td>\n",
              "      <td>3.0</td>\n",
              "      <td>3.0</td>\n",
              "      <td>3.0</td>\n",
              "    </tr>\n",
              "    <tr>\n",
              "      <th>2</th>\n",
              "      <td>Aaron Ramsdale</td>\n",
              "      <td>2019-08-10</td>\n",
              "      <td>1</td>\n",
              "      <td>2019</td>\n",
              "      <td>2.0</td>\n",
              "      <td>3.0</td>\n",
              "      <td>3.0</td>\n",
              "      <td>3.0</td>\n",
              "      <td>2.0</td>\n",
              "      <td>3.0</td>\n",
              "      <td>3.0</td>\n",
              "    </tr>\n",
              "    <tr>\n",
              "      <th>3</th>\n",
              "      <td>Aaron Wan-Bissaka</td>\n",
              "      <td>2019-08-11</td>\n",
              "      <td>1</td>\n",
              "      <td>2019</td>\n",
              "      <td>8.0</td>\n",
              "      <td>3.0</td>\n",
              "      <td>4.0</td>\n",
              "      <td>3.0</td>\n",
              "      <td>2.0</td>\n",
              "      <td>3.0</td>\n",
              "      <td>3.0</td>\n",
              "    </tr>\n",
              "    <tr>\n",
              "      <th>4</th>\n",
              "      <td>Abdoulaye Doucouré</td>\n",
              "      <td>2019-08-10</td>\n",
              "      <td>1</td>\n",
              "      <td>2019</td>\n",
              "      <td>0.0</td>\n",
              "      <td>5.0</td>\n",
              "      <td>5.0</td>\n",
              "      <td>4.0</td>\n",
              "      <td>3.0</td>\n",
              "      <td>5.0</td>\n",
              "      <td>3.0</td>\n",
              "    </tr>\n",
              "    <tr>\n",
              "      <th>...</th>\n",
              "      <td>...</td>\n",
              "      <td>...</td>\n",
              "      <td>...</td>\n",
              "      <td>...</td>\n",
              "      <td>...</td>\n",
              "      <td>...</td>\n",
              "      <td>...</td>\n",
              "      <td>...</td>\n",
              "      <td>...</td>\n",
              "      <td>...</td>\n",
              "      <td>...</td>\n",
              "    </tr>\n",
              "    <tr>\n",
              "      <th>10653</th>\n",
              "      <td>William Smallbone</td>\n",
              "      <td>2020-07-26</td>\n",
              "      <td>38</td>\n",
              "      <td>2019</td>\n",
              "      <td>7.0</td>\n",
              "      <td>3.0</td>\n",
              "      <td>1.0</td>\n",
              "      <td>3.0</td>\n",
              "      <td>3.0</td>\n",
              "      <td>3.0</td>\n",
              "      <td>3.0</td>\n",
              "    </tr>\n",
              "    <tr>\n",
              "      <th>10654</th>\n",
              "      <td>Willy Boly</td>\n",
              "      <td>2020-07-26</td>\n",
              "      <td>38</td>\n",
              "      <td>2019</td>\n",
              "      <td>1.0</td>\n",
              "      <td>1.0</td>\n",
              "      <td>1.0</td>\n",
              "      <td>2.0</td>\n",
              "      <td>1.0</td>\n",
              "      <td>1.0</td>\n",
              "      <td>3.0</td>\n",
              "    </tr>\n",
              "    <tr>\n",
              "      <th>10655</th>\n",
              "      <td>Willy Caballero</td>\n",
              "      <td>2020-07-26</td>\n",
              "      <td>38</td>\n",
              "      <td>2019</td>\n",
              "      <td>6.0</td>\n",
              "      <td>3.0</td>\n",
              "      <td>3.0</td>\n",
              "      <td>3.0</td>\n",
              "      <td>2.0</td>\n",
              "      <td>3.0</td>\n",
              "      <td>3.0</td>\n",
              "    </tr>\n",
              "    <tr>\n",
              "      <th>10656</th>\n",
              "      <td>Youri Tielemans</td>\n",
              "      <td>2020-07-26</td>\n",
              "      <td>38</td>\n",
              "      <td>2019</td>\n",
              "      <td>2.0</td>\n",
              "      <td>0.0</td>\n",
              "      <td>1.0</td>\n",
              "      <td>2.0</td>\n",
              "      <td>1.0</td>\n",
              "      <td>1.0</td>\n",
              "      <td>3.0</td>\n",
              "    </tr>\n",
              "    <tr>\n",
              "      <th>10657</th>\n",
              "      <td>Yves Bissouma</td>\n",
              "      <td>2020-07-26</td>\n",
              "      <td>38</td>\n",
              "      <td>2019</td>\n",
              "      <td>7.0</td>\n",
              "      <td>3.0</td>\n",
              "      <td>3.0</td>\n",
              "      <td>3.0</td>\n",
              "      <td>3.0</td>\n",
              "      <td>3.0</td>\n",
              "      <td>3.0</td>\n",
              "    </tr>\n",
              "  </tbody>\n",
              "</table>\n",
              "<p>10658 rows × 11 columns</p>\n",
              "</div>"
            ],
            "text/plain": [
              "              player_name kickoff_time  GW  season  ...  SVR  KNN  MLP  Meta\n",
              "0         Aaron Cresswell   2019-08-10   1    2019  ...  2.0  1.0  1.0   3.0\n",
              "1            Aaron Lennon   2019-08-10   1    2019  ...  3.0  3.0  3.0   3.0\n",
              "2          Aaron Ramsdale   2019-08-10   1    2019  ...  3.0  2.0  3.0   3.0\n",
              "3       Aaron Wan-Bissaka   2019-08-11   1    2019  ...  3.0  2.0  3.0   3.0\n",
              "4      Abdoulaye Doucouré   2019-08-10   1    2019  ...  4.0  3.0  5.0   3.0\n",
              "...                   ...          ...  ..     ...  ...  ...  ...  ...   ...\n",
              "10653   William Smallbone   2020-07-26  38    2019  ...  3.0  3.0  3.0   3.0\n",
              "10654          Willy Boly   2020-07-26  38    2019  ...  2.0  1.0  1.0   3.0\n",
              "10655     Willy Caballero   2020-07-26  38    2019  ...  3.0  2.0  3.0   3.0\n",
              "10656     Youri Tielemans   2020-07-26  38    2019  ...  2.0  1.0  1.0   3.0\n",
              "10657       Yves Bissouma   2020-07-26  38    2019  ...  3.0  3.0  3.0   3.0\n",
              "\n",
              "[10658 rows x 11 columns]"
            ]
          },
          "metadata": {},
          "execution_count": 29
        }
      ]
    },
    {
      "cell_type": "code",
      "metadata": {
        "colab": {
          "base_uri": "https://localhost:8080/",
          "height": 744
        },
        "id": "kNub2MR74T4n",
        "outputId": "d5b54c80-6497-4a75-ddd1-26d61dced1f0"
      },
      "source": [
        "import matplotlib.pyplot as plt\n",
        "import seaborn as sns\n",
        "sns.set()\n",
        "import matplotlib \n",
        "def plot_results(true_value, predicted_value, title, ax):\n",
        "    plt.figure(figsize=(10,10))\n",
        "    ax.scatter(true_value, predicted_value, edgecolors=(0, 0, 0), c = 'crimson')\n",
        "    p1 = max(max(predicted_value), max(true_value))\n",
        "    p2 = min(min(predicted_value), min(true_value))\n",
        "    ax.plot([p1, p2], [p1, p2], 'k--', lw=4)\n",
        "    plt.xlabel('True points', fontsize=15)\n",
        "    plt.ylabel('Predicted points', fontsize=15)\n",
        "    plt.title(title)\n",
        "    plt.axis('equal')\n",
        "# df[df['position'] == 'FWD']\n",
        "df = pd.read_csv('/content/drive/MyDrive/Predictions/new_meta_train.csv')\n",
        "\n",
        "\n",
        "# %%\n",
        "fig, ((ax1, ax2, ax3), (ax4, ax5, ax6)) = plt.subplots(ncols=3, nrows = 2, sharey=True, sharex = True, figsize = (20, 10),  constrained_layout = True)\n",
        "axs = [ax1, ax2, ax3, ax4, ax5, ax6]\n",
        "\n",
        "df = pd.read_csv('/content/drive/MyDrive/Predictions/new_meta_cboost_vanilla.csv')\n",
        "if 'meta' in df.columns:\n",
        "    df['Meta'] = df['meta']\n",
        "i = 0\n",
        "for name, ax in list(zip(['LR', 'CBoost', 'SVR', 'KNN', 'MLP', 'Meta'], axs)):\n",
        "    sns.scatterplot(x = 'total_points', y = name, data = df, ax = ax, edgecolor = 'gray', color = matplotlib.colors.to_hex(sns.color_palette('magma', 6)[i]))\n",
        "    ax.set_title(name,fontsize=15)\n",
        "    ax.set_xlabel('True points',fontsize=15)\n",
        "    ax.set_ylabel('Predicted points', fontsize=15)\n",
        "    p1 = max(max(df[name]), max(df['total_points']))\n",
        "    p2 = min(min(df[name]), min(df['total_points']))\n",
        "    ax.plot([p1, p2], [p1, p2], lw=1, c = 'slategray')\n",
        "    i += 1\n",
        "plt.savefig('/content/drive/MyDrive/figs/testing_preds.png', bbox_inches='tight') \n",
        "\n",
        "\n"
      ],
      "execution_count": null,
      "outputs": [
        {
          "output_type": "display_data",
          "data": {
            "image/png": "[encoded data removed]",
            "text/plain": [
              "<Figure size 1440x720 with 6 Axes>"
            ]
          },
          "metadata": {}
        }
      ]
    },
    {
      "cell_type": "markdown",
      "metadata": {
        "id": "pxxXDMKNASri"
      },
      "source": [
        "Training regression metrics"
      ]
    },
    {
      "cell_type": "code",
      "metadata": {
        "colab": {
          "base_uri": "https://localhost:8080/"
        },
        "id": "-MfB0PV2ASXk",
        "outputId": "cafa8a1f-e5ff-413f-ee6a-de6f6068a990"
      },
      "source": [
        "def regression_metrics(y_true, y_pred, name):\n",
        "    explained_variance=metrics.explained_variance_score(y_true, y_pred)\n",
        "    mean_absolute_error=metrics.mean_absolute_error(y_true, y_pred) \n",
        "    mse=metrics.mean_squared_error(y_true, y_pred) \n",
        "    r2=metrics.r2_score(y_true, y_pred)\n",
        "    return pd.DataFrame({\"MAE\":[mean_absolute_error], 'R2':[r2],\n",
        "                         \"MSE\": [mse],\n",
        "                         \"RMSE\":[np.sqrt(mse)]}, index = [name]).T.round(3)\n",
        "# print(regression_metrics(df['total_points'], df['automl'], 'automl').to_latex())\n",
        "\n",
        "# df = pd.read_csv('/content/drive/MyDrive/Predictions/new_meta_cboost_vanilla.csv')\n",
        "# df_base['avg_base_preds'] = 0\n",
        "# for name, model in get_models(cat_features=None):\n",
        "#       df_base['avg_base_preds'] += df_base[name]/5\n",
        "\n",
        "\n",
        "# df_preds = pd.read_csv('/content/drive/MyDrive/Predictions/other_metas.csv')\n",
        "# df_preds['avg_meta_preds'] = 0\n",
        "# for name, model in get_meta_models(cat_features=None):\n",
        "#       df_preds['avg_meta_preds'] += df_preds[name]/5\n",
        "\n",
        "# df_preds['avg_meta_preds'] = np.round(df_preds['avg_meta_preds'])\n",
        "# df_preds['avg_base_preds'] = np.round(df_base['avg_base_preds'])\n",
        "# df = df_preds\n",
        "\n",
        "# def gameweek_rmses(df):\n",
        "#     results = pd.DataFrame(index = np.arange(1,39))\n",
        "#     results['automl'] = np.sqrt(mean_squared_error(df['total_points'], df['automl']))\n",
        "#     results.drop_duplicates(inplace = True)\n",
        "#     return results.round(3)\n",
        "\n",
        "# df = pd.read_csv('/content/drive/MyDrive/Predictions/h2o_export/h2o_results.csv')\n",
        "# results = df.groupby('GW').apply(gameweek_rmses).reset_index()\n",
        "# print(results.append(results.sum().rename('Total')).to_latex())\n",
        "# print(regression_metrics(df['total_points'], df['automl'], 'automl').to_latex())\n",
        "\n",
        "# df = pd.read_csv('/content/drive/MyDrive/Predictions/empty_stadium_performance.csv')\n",
        "# df = pd.read_csv('/content/drive/MyDrive/Predictions/new_meta_cboost_with_prop_and_early_stop.csv')\n",
        "# df = df[df['season'] == 2020]\n",
        "# df = df[df['GW'] < 8]\n",
        "# results = df.groupby('GW').apply(gameweek_rmses).reset_index()\n",
        "# print(results.append(results.sum().rename('Total')).to_latex())\n",
        "\n",
        "df = pd.read_csv('/content/drive/MyDrive/Predictions/new_meta_train.csv')\n",
        "# df = pd.read_csv('/content/drive/MyDrive/Predictions/new_meta_cboost_vanilla.csv')\n",
        "\n",
        "\n",
        "\n",
        "results = []\n",
        "for name in ['LR',   'CBoost', 'SVR','KNN', 'MLP', 'Meta']:\n",
        "    results.append(regression_metrics(df['total_points'], df[name], name))\n",
        "print(pd.concat(results, axis = 1).to_latex())\n"
      ],
      "execution_count": null,
      "outputs": [
        {
          "output_type": "stream",
          "name": "stdout",
          "text": [
            "\\begin{tabular}{lrrrrrr}\n",
            "\\toprule\n",
            "{} &      LR &  CBoost &    SVR &    KNN &     MLP &   Meta \\\\\n",
            "\\midrule\n",
            "MAE  &   2.366 &   2.391 &  2.287 &  2.269 &   2.348 &  1.973 \\\\\n",
            "R2   &  -0.187 &  -0.244 & -0.085 & -0.135 &  -0.174 &  0.202 \\\\\n",
            "MSE  &  10.420 &  10.918 &  9.520 &  9.958 &  10.302 &  7.003 \\\\\n",
            "RMSE &   3.228 &   3.304 &  3.085 &  3.156 &   3.210 &  2.646 \\\\\n",
            "\\bottomrule\n",
            "\\end{tabular}\n",
            "\n"
          ]
        }
      ]
    },
    {
      "cell_type": "markdown",
      "metadata": {
        "id": "JlpAtxRRfv4s"
      },
      "source": [
        "CatBoost Meta Learner with propagation (> 80 min)"
      ]
    },
    {
      "cell_type": "code",
      "metadata": {
        "colab": {
          "base_uri": "https://localhost:8080/",
          "height": 223
        },
        "id": "JF0XSgiPfyos",
        "outputId": "233614a2-8c42-4992-a35e-f86dd7bc6984"
      },
      "source": [
        "# df = pd.read_csv('/content/drive/MyDrive/Predictions/new_meta_cboost_vanilla.csv')\n",
        "# df = pd.read_csv('/content/drive/MyDrive/Predictions/new_meta_train.csv')\n",
        "#  LR &   CBoost &      SVR &      KNN &      MLP &     Meta &                                               Best &  BestRSME \\\\\n",
        "\n",
        "# Total &  741 &       38 &  106.521 &  105.146 &  107.434 &  107.053 &  106.357 &  108.011 &  CBoostLRKNNSVRCBoostCBoostCBoostCBoostMLPLRLRC... &   104.638 \\\\\n",
        "# Total &  741 &       38 &  106.954 &  105.731 &  108.202 &  107.678 &  106.838 &  107.520 &  CBoostLRKNNMLPMLPCBoostCBoostCBoostCBoostCBoos... &   104.943 \\\\\n",
        "# Total &  741 &       38 &  106.954 &  107.917 &  108.202 &  107.678 &  106.838 &  108.348 &  CBoostLRKNNMLPMLPMLPCBoostKNNMLPLRLRSVRLRLRLRK... &   105.404 \\\\\n",
        "\n",
        "df = pd.read_csv('/content/drive/MyDrive/Predictions/new_meta_early_stop_no_rounding.csv')\n",
        "results = df.groupby('GW').apply(gameweek_rmses).reset_index()\n",
        "print(results.append(results.sum().rename('Total')).to_latex())\n",
        "print(\"Total season performance\")\n",
        "for name in ['LR', 'KNN', 'MLP', 'SVR', 'CBoost', 'Meta']:\n",
        "    print(f'{name} : {np.sqrt(mean_squared_error(df.total_points, df[name]))}')"
      ],
      "execution_count": null,
      "outputs": [
        {
          "output_type": "error",
          "ename": "NameError",
          "evalue": "ignored",
          "traceback": [
            "\u001b[0;31m---------------------------------------------------------------------------\u001b[0m",
            "\u001b[0;31mNameError\u001b[0m                                 Traceback (most recent call last)",
            "\u001b[0;32m<ipython-input-1-d1cdda436ebd>\u001b[0m in \u001b[0;36m<module>\u001b[0;34m()\u001b[0m\n\u001b[1;32m      7\u001b[0m \u001b[0;31m# Total &  741 &       38 &  106.954 &  107.917 &  108.202 &  107.678 &  106.838 &  108.348 &  CBoostLRKNNMLPMLPMLPCBoostKNNMLPLRLRSVRLRLRLRK... &   105.404 \\\\\u001b[0m\u001b[0;34m\u001b[0m\u001b[0;34m\u001b[0m\u001b[0;34m\u001b[0m\u001b[0m\n\u001b[1;32m      8\u001b[0m \u001b[0;34m\u001b[0m\u001b[0m\n\u001b[0;32m----> 9\u001b[0;31m \u001b[0mdf\u001b[0m \u001b[0;34m=\u001b[0m \u001b[0mpd\u001b[0m\u001b[0;34m.\u001b[0m\u001b[0mread_csv\u001b[0m\u001b[0;34m(\u001b[0m\u001b[0;34m'/content/drive/MyDrive/Predictions/new_meta_early_stop_no_rounding.csv'\u001b[0m\u001b[0;34m)\u001b[0m\u001b[0;34m\u001b[0m\u001b[0;34m\u001b[0m\u001b[0m\n\u001b[0m\u001b[1;32m     10\u001b[0m \u001b[0mresults\u001b[0m \u001b[0;34m=\u001b[0m \u001b[0mdf\u001b[0m\u001b[0;34m.\u001b[0m\u001b[0mgroupby\u001b[0m\u001b[0;34m(\u001b[0m\u001b[0;34m'GW'\u001b[0m\u001b[0;34m)\u001b[0m\u001b[0;34m.\u001b[0m\u001b[0mapply\u001b[0m\u001b[0;34m(\u001b[0m\u001b[0mgameweek_rmses\u001b[0m\u001b[0;34m)\u001b[0m\u001b[0;34m.\u001b[0m\u001b[0mreset_index\u001b[0m\u001b[0;34m(\u001b[0m\u001b[0;34m)\u001b[0m\u001b[0;34m\u001b[0m\u001b[0;34m\u001b[0m\u001b[0m\n\u001b[1;32m     11\u001b[0m \u001b[0mprint\u001b[0m\u001b[0;34m(\u001b[0m\u001b[0mresults\u001b[0m\u001b[0;34m.\u001b[0m\u001b[0mappend\u001b[0m\u001b[0;34m(\u001b[0m\u001b[0mresults\u001b[0m\u001b[0;34m.\u001b[0m\u001b[0msum\u001b[0m\u001b[0;34m(\u001b[0m\u001b[0;34m)\u001b[0m\u001b[0;34m.\u001b[0m\u001b[0mrename\u001b[0m\u001b[0;34m(\u001b[0m\u001b[0;34m'Total'\u001b[0m\u001b[0;34m)\u001b[0m\u001b[0;34m)\u001b[0m\u001b[0;34m.\u001b[0m\u001b[0mto_latex\u001b[0m\u001b[0;34m(\u001b[0m\u001b[0;34m)\u001b[0m\u001b[0;34m)\u001b[0m\u001b[0;34m\u001b[0m\u001b[0;34m\u001b[0m\u001b[0m\n",
            "\u001b[0;31mNameError\u001b[0m: name 'pd' is not defined"
          ]
        }
      ]
    },
    {
      "cell_type": "markdown",
      "metadata": {
        "id": "xq163RQBe9GH"
      },
      "source": [
        "CatBoost Meta Learner with propagation and early stopping (~ 20 min)"
      ]
    },
    {
      "cell_type": "code",
      "metadata": {
        "colab": {
          "base_uri": "https://localhost:8080/"
        },
        "id": "2pdC_8uYvdzB",
        "outputId": "28ca720a-1eda-440c-e224-1ebaa11fcae6"
      },
      "source": [
        "df = pd.read_csv('/content/drive/MyDrive/Predictions/new_meta_cboost_with_prop_and_early_stop.csv')\n",
        "\n",
        "def gameweek_rmses(df):\n",
        "    results = pd.DataFrame(index = np.arange(1,8))\n",
        "    for name, model in get_models(cat_features=None):\n",
        "        RMSE = np.sqrt(mean_squared_error(df['total_points'], df[name]))\n",
        "        results[f'{name}'] = RMSE\n",
        "    results['Meta'] =  np.sqrt(mean_squared_error(df['total_points'], df['Meta']))\n",
        "    results.drop_duplicates(inplace = True)\n",
        "    results['Best'] = results.idxmin(axis=1)\n",
        "    results['BestRSME'] = results.min(axis=1)\n",
        "    return results.round(3)\n",
        "df = df[df['GW'] < 8]\n",
        "results = df.groupby('GW').apply(gameweek_rmses).reset_index()\n",
        "print(results.append(results.sum().rename('Total')).to_latex())\n",
        "print(\"Total season performance\")\n",
        "for name in ['LR', 'KNN', 'MLP', 'SVR', 'CBoost', 'Meta']:\n",
        "    print(f'{name} : {np.sqrt(mean_squared_error(df.total_points, df[name]))}')"
      ],
      "execution_count": null,
      "outputs": [
        {
          "output_type": "stream",
          "name": "stdout",
          "text": [
            "\\begin{tabular}{lrrrrrrrrlr}\n",
            "\\toprule\n",
            "{} &  GW &  level\\_1 &      LR &  CBoost &     SVR &     KNN &     MLP &    Meta &                           Best &  BestRSME \\\\\n",
            "\\midrule\n",
            "0     &   1 &        1 &   3.356 &   3.056 &   3.172 &   3.312 &   3.169 &   3.321 &                         CBoost &     3.056 \\\\\n",
            "1     &   2 &        1 &   3.505 &   3.563 &   3.653 &   3.611 &   3.554 &   3.760 &                             LR &     3.505 \\\\\n",
            "2     &   3 &        1 &   2.970 &   2.928 &   2.939 &   2.902 &   2.939 &   2.906 &                            KNN &     2.902 \\\\\n",
            "3     &   4 &        1 &   3.727 &   3.691 &   3.632 &   3.698 &   3.618 &   3.745 &                            MLP &     3.618 \\\\\n",
            "4     &   5 &        1 &   2.635 &   2.639 &   2.779 &   2.653 &   2.628 &   2.762 &                            MLP &     2.628 \\\\\n",
            "5     &   6 &        1 &   2.586 &   2.538 &   2.653 &   2.605 &   2.566 &   2.580 &                         CBoost &     2.538 \\\\\n",
            "6     &   7 &        1 &   2.910 &   2.823 &   3.019 &   2.989 &   2.971 &   3.023 &                         CBoost &     2.823 \\\\\n",
            "Total &  28 &        7 &  21.689 &  21.238 &  21.847 &  21.770 &  21.445 &  22.097 &  CBoostLRKNNMLPMLPCBoostCBoost &    21.070 \\\\\n",
            "\\bottomrule\n",
            "\\end{tabular}\n",
            "\n",
            "Total season performance\n",
            "LR : 3.1183965082782246\n",
            "KNN : 3.1311802158668423\n",
            "MLP : 3.0852933171008097\n",
            "SVR : 3.1414379999889857\n",
            "CBoost : 3.0615666493685008\n",
            "Meta : 3.1823912300373705\n"
          ]
        }
      ]
    },
    {
      "cell_type": "markdown",
      "metadata": {
        "id": "j256JxkIfBNw"
      },
      "source": [
        "CatBoost Meta-Learner with prop (wiuth the player name, team, and opponent team features removed) and with early stopping"
      ]
    },
    {
      "cell_type": "code",
      "metadata": {
        "colab": {
          "base_uri": "https://localhost:8080/"
        },
        "id": "ZDqUuDO91mNM",
        "outputId": "1cf06b8d-ddc7-434d-989a-b6297e5e0cfe"
      },
      "source": [
        "df_preds = pd.read_csv('/content/drive/MyDrive/Predictions/new_meta_early_stop_no_rounding_test_final.csv')\n",
        "df_correct = pd.read_csv('/content/drive/MyDrive/Data/collected_us_updated.csv').sort_values(['season', 'GW', 'player_name',  'kickoff_time'])\n",
        "df_correct = df_correct[df_correct['season'] == 2020]\n",
        "df_correct.reset_index(drop = True, inplace = True)\n",
        "df_preds[['total_points', 'team', 'position']] = df_correct[['total_points', 'team', 'position']]\n",
        "\n",
        "results = df_preds.groupby('GW').apply(gameweek_rmses).reset_index()\n",
        "print(results.append(results.sum().rename('Total')).to_latex())\n",
        "print(\"Total season performance\")\n",
        "for name in ['LR', 'KNN', 'MLP', 'SVR', 'CBoost', 'Meta']:\n",
        "    print(f'{name} : {np.sqrt(mean_squared_error(df_preds.total_points, df_preds[name]))}')"
      ],
      "execution_count": null,
      "outputs": [
        {
          "output_type": "stream",
          "name": "stdout",
          "text": [
            "\\begin{tabular}{lrrrrrrrrlr}\n",
            "\\toprule\n",
            "{} &   GW &  level\\_1 &       LR &   CBoost &      SVR &      KNN &      MLP &     Meta &                                               Best &  BestRSME \\\\\n",
            "\\midrule\n",
            "0     &    1 &        1 &    3.365 &    3.041 &    3.191 &    3.258 &    3.171 &    3.330 &                                             CBoost &     3.041 \\\\\n",
            "1     &    2 &        1 &    3.522 &    3.545 &    3.626 &    3.584 &    3.535 &    3.807 &                                                 LR &     3.522 \\\\\n",
            "2     &    3 &        1 &    2.954 &    2.931 &    2.913 &    2.866 &    2.912 &    2.975 &                                                KNN &     2.866 \\\\\n",
            "3     &    4 &        1 &    3.715 &    3.666 &    3.622 &    3.673 &    3.631 &    3.726 &                                                SVR &     3.622 \\\\\n",
            "4     &    5 &        1 &    2.635 &    2.631 &    2.748 &    2.651 &    2.621 &    2.818 &                                                MLP &     2.621 \\\\\n",
            "5     &    6 &        1 &    2.590 &    2.531 &    2.607 &    2.558 &    2.561 &    2.591 &                                             CBoost &     2.531 \\\\\n",
            "6     &    7 &        1 &    2.902 &    2.840 &    3.012 &    2.950 &    2.930 &    3.051 &                                             CBoost &     2.840 \\\\\n",
            "7     &    8 &        1 &    2.626 &    2.562 &    2.680 &    2.654 &    2.641 &    2.770 &                                             CBoost &     2.562 \\\\\n",
            "8     &    9 &        1 &    2.478 &    2.445 &    2.501 &    2.489 &    2.455 &    2.528 &                                             CBoost &     2.445 \\\\\n",
            "9     &   10 &        1 &    2.953 &    2.971 &    2.973 &    2.975 &    2.969 &    3.024 &                                                 LR &     2.953 \\\\\n",
            "10    &   11 &        1 &    2.651 &    2.668 &    2.761 &    2.722 &    2.653 &    2.901 &                                                 LR &     2.651 \\\\\n",
            "11    &   12 &        1 &    2.690 &    2.608 &    2.622 &    2.651 &    2.612 &    2.657 &                                             CBoost &     2.608 \\\\\n",
            "12    &   13 &        1 &    2.612 &    2.594 &    2.652 &    2.662 &    2.636 &    2.637 &                                             CBoost &     2.594 \\\\\n",
            "13    &   14 &        1 &    3.019 &    3.091 &    3.160 &    3.102 &    3.074 &    3.221 &                                                 LR &     3.019 \\\\\n",
            "14    &   15 &        1 &    2.658 &    2.650 &    2.681 &    2.667 &    2.683 &    2.695 &                                             CBoost &     2.650 \\\\\n",
            "15    &   16 &        1 &    2.549 &    2.536 &    2.578 &    2.537 &    2.598 &    2.579 &                                             CBoost &     2.536 \\\\\n",
            "16    &   17 &        1 &    2.845 &    2.848 &    2.898 &    2.871 &    2.841 &    2.910 &                                                MLP &     2.841 \\\\\n",
            "17    &   18 &        1 &    2.356 &    2.337 &    2.320 &    2.330 &    2.377 &    2.330 &                                                SVR &     2.320 \\\\\n",
            "18    &   19 &        1 &    2.740 &    2.701 &    2.716 &    2.769 &    2.740 &    2.745 &                                             CBoost &     2.701 \\\\\n",
            "19    &   20 &        1 &    2.826 &    2.799 &    2.835 &    2.864 &    2.869 &    2.886 &                                             CBoost &     2.799 \\\\\n",
            "20    &   21 &        1 &    2.797 &    2.787 &    2.770 &    2.750 &    2.741 &    2.746 &                                                MLP &     2.741 \\\\\n",
            "21    &   22 &        1 &    2.907 &    2.925 &    2.974 &    2.932 &    2.892 &    3.032 &                                                MLP &     2.892 \\\\\n",
            "22    &   23 &        1 &    2.725 &    2.699 &    2.810 &    2.802 &    2.722 &    2.810 &                                             CBoost &     2.699 \\\\\n",
            "23    &   24 &        1 &    2.880 &    2.869 &    2.946 &    2.954 &    2.889 &    2.922 &                                             CBoost &     2.869 \\\\\n",
            "24    &   25 &        1 &    2.560 &    2.526 &    2.523 &    2.517 &    2.547 &    2.551 &                                                KNN &     2.517 \\\\\n",
            "25    &   26 &        1 &    2.652 &    2.615 &    2.658 &    2.677 &    2.642 &    2.667 &                                             CBoost &     2.615 \\\\\n",
            "26    &   27 &        1 &    2.906 &    2.801 &    2.969 &    2.926 &    2.908 &    2.955 &                                             CBoost &     2.801 \\\\\n",
            "27    &   28 &        1 &    2.475 &    2.452 &    2.521 &    2.529 &    2.493 &    2.556 &                                             CBoost &     2.452 \\\\\n",
            "28    &   29 &        1 &    2.610 &    2.569 &    2.697 &    2.685 &    2.619 &    2.726 &                                             CBoost &     2.569 \\\\\n",
            "29    &   30 &        1 &    3.062 &    3.027 &    3.029 &    3.042 &    3.065 &    3.066 &                                             CBoost &     3.027 \\\\\n",
            "30    &   31 &        1 &    2.994 &    2.928 &    2.935 &    2.962 &    2.977 &    2.939 &                                             CBoost &     2.928 \\\\\n",
            "31    &   32 &        1 &    2.549 &    2.522 &    2.601 &    2.623 &    2.544 &    2.614 &                                             CBoost &     2.522 \\\\\n",
            "32    &   33 &        1 &    2.743 &    2.631 &    2.672 &    2.649 &    2.723 &    2.641 &                                             CBoost &     2.631 \\\\\n",
            "33    &   34 &        1 &    2.682 &    2.566 &    2.794 &    2.763 &    2.697 &    2.758 &                                             CBoost &     2.566 \\\\\n",
            "34    &   35 &        1 &    2.671 &    2.627 &    2.705 &    2.679 &    2.664 &    2.681 &                                             CBoost &     2.627 \\\\\n",
            "35    &   36 &        1 &    3.066 &    3.045 &    3.051 &    3.095 &    3.070 &    3.071 &                                             CBoost &     3.045 \\\\\n",
            "36    &   37 &        1 &    2.659 &    2.613 &    2.670 &    2.619 &    2.669 &    2.596 &                                               Meta &     2.596 \\\\\n",
            "37    &   38 &        1 &    2.918 &    2.886 &    3.044 &    3.026 &    2.972 &    3.017 &                                             CBoost &     2.886 \\\\\n",
            "Total &  741 &       38 &  106.542 &  105.083 &  107.465 &  107.063 &  106.343 &  108.529 &  CBoostLRKNNSVRMLPCBoostCBoostCBoostCBoostLRLRC... &   104.705 \\\\\n",
            "\\bottomrule\n",
            "\\end{tabular}\n",
            "\n",
            "Total season performance\n",
            "LR : 2.817764242757806\n",
            "KNN : 2.832163703459819\n",
            "MLP : 2.8117728828037367\n",
            "SVR : 2.8415835684573656\n",
            "CBoost : 2.780811808089189\n",
            "Meta : 2.8709281743886\n"
          ]
        }
      ]
    },
    {
      "cell_type": "markdown",
      "metadata": {
        "id": "IIS_OFbbhYcr"
      },
      "source": [
        "Other learners-performance as meta-learners"
      ]
    },
    {
      "cell_type": "code",
      "metadata": {
        "id": "UpWblOPlEq7c",
        "colab": {
          "base_uri": "https://localhost:8080/"
        },
        "outputId": "bfb8bba1-d081-4f21-b285-7169be89f720"
      },
      "source": [
        "def get_meta_models(cat_features = None):\n",
        "\n",
        "    models = list()\n",
        "    # Linear Regression\n",
        "    models.append(('LR', Pipeline([('LR', LinearRegression())]))) \n",
        "    # CatBoost\n",
        "    models.append(('CBoost', Pipeline([('CBoost', cb.CatBoostRegressor(loss_function='RMSE', cat_features = cat_features,\n",
        "                                                                       task_type=TASK_TYPE, logging_level='Silent', depth = 2,\n",
        "                                                                       l2_leaf_reg = 3, learning_rate = 0.03,\n",
        "                                                                       bagging_temperature = 0.1, iterations = ITERATIONS))]))) \n",
        "    # SVR\n",
        "    models.append(('SVR', Pipeline([('SVR', SVR(C=100.0, cache_size=200, coef0=0.0, degree=3, epsilon=0.6, gamma=0.005,\n",
        "                                               kernel='rbf', max_iter=-1, shrinking=True, tol=0.001, verbose=False))])))  \n",
        "    \n",
        "    # KNN\n",
        "    models.append(('KNN', Pipeline([('KNN', KNeighborsRegressor(algorithm='kd_tree', leaf_size=10, metric='euclidean',\n",
        "                                                                metric_params=None, n_jobs=8, n_neighbors=300, p=2,\n",
        "                                                                weights='uniform'))]))) \n",
        "    # Neural Network\n",
        "    models.append(('MLP', Pipeline([('MLP', MLPRegressor(activation='relu', alpha=0, batch_size=16, beta_1=0.9,\n",
        "                                                         beta_2=0.999, early_stopping=True, epsilon=1e-07,\n",
        "                                                         hidden_layer_sizes=(128, 256), learning_rate='constant',\n",
        "                                                         learning_rate_init=0.0001, max_fun=15000, max_iter=20,\n",
        "                                                         momentum=0.9, n_iter_no_change=10, nesterovs_momentum=True,\n",
        "                                                         power_t=0.5, random_state=0, shuffle=True, solver='adam',\n",
        "                                                         tol=1e-08, validation_fraction=0.1, verbose=False,\n",
        "                                                         warm_start=False))])))  \n",
        "    return models\n",
        "\n",
        "def meta_preds(GW, X_oof_train, y_oof_train, X_oof_test, y_oof_test): \n",
        "    preds, fold_yhats = list(), list()\n",
        "    for name, model in get_meta_models():\n",
        "        start = time.time()\n",
        "        model.fit(X_oof_train, y_oof_train)\n",
        "        yhat = model.predict(X_oof_test)  \n",
        "        fold_yhats.append(yhat.reshape(len(yhat), 1)) \n",
        "        print(f'{GW}: Meta: {round(time.time()-start,3)} seconds') \n",
        "    preds.append(hstack(fold_yhats)) \n",
        "    preds = pd.DataFrame(vstack(preds), columns = [name for name, _ in get_meta_models()])\n",
        "    return preds\n",
        "\n",
        "def quick_level_1(GW):  \n",
        "    # Separate training and testing\n",
        "    df_train = pd.read_csv('./drive/MyDrive/Predictions/oof_predictions_10.csv')\n",
        "    df_preds = pd.read_csv('/content/drive/MyDrive/Predictions/new_meta_cboost_vanilla.csv')\n",
        "    std_x, std_y = StandardScaler(), StandardScaler()\n",
        "    df_concat_train = df_preds[df_preds['GW'] < GW]\n",
        "    df_test = df_preds[df_preds['GW'] == GW]  \n",
        "    # Predictors\n",
        "    X_oof_train  = std_x.fit_transform(pd.concat([df_train[[name for name, _ in get_meta_models()]], \n",
        "                                                  df_concat_train[[name for name, _ in get_meta_models()]]]))\n",
        "    X_oof_test  = std_x.transform(df_test[[name for name, _ in get_meta_models()]])\n",
        "    \n",
        "    # Response\n",
        "    y_oof_train = std_y.fit_transform(pd.concat([df_train['total_points'], \n",
        "                                                 df_concat_train['total_points']]).to_numpy().reshape(-1, 1))\n",
        "    y_oof_test = std_y.fit_transform(df_test['total_points'].to_numpy().reshape(-1, 1))\n",
        "    # Keep track of players and gameweeks\n",
        "    test_idx = df_test[['player_name', 'kickoff_time', 'GW', 'season']]\n",
        "    return X_oof_train, y_oof_train, X_oof_test, y_oof_test, test_idx, std_y\n",
        "\n",
        "def main():\n",
        "    # For all gameweeks\n",
        "    results = []\n",
        "    for GW in list(range(1,39)):\n",
        "        # Get level-1 data set\n",
        "        X_oof_train, y_oof_train, X_oof_test, y_oof_test, idxrs_test, std_y = quick_level_1(GW)\n",
        "        # Get three models predictions\n",
        "        meta_predictions = meta_preds(GW, X_oof_train, y_oof_train, X_oof_test, y_oof_test)\n",
        "        # Save weekly results\n",
        "        for name, _ in get_meta_models():\n",
        "            idxrs_test[name] = std_y.inverse_transform(meta_predictions[name].to_numpy().reshape(-1, 1))\n",
        "        # Indexers + results\n",
        "        idxrs_test['total_points'] = std_y.inverse_transform(y_oof_test)\n",
        "        results.append(idxrs_test)\n",
        "    # Concat all preds\n",
        "    df_preds = pd.concat(results).reset_index(drop=True)    \n",
        "    df_preds.to_csv('/content/drive/MyDrive/Predictions/other_metas.csv', index = False)\n",
        "main()\n"
      ],
      "execution_count": null,
      "outputs": [
        {
          "output_type": "stream",
          "name": "stdout",
          "text": [
            "1: Meta: 0.015 seconds\n",
            "1: Meta: 0.983 seconds\n"
          ]
        },
        {
          "output_type": "stream",
          "name": "stderr",
          "text": [
            "A column-vector y was passed when a 1d array was expected. Please change the shape of y to (n_samples, ), for example using ravel().\n"
          ]
        },
        {
          "output_type": "stream",
          "name": "stdout",
          "text": [
            "1: Meta: 3.644 seconds\n",
            "1: Meta: 0.134 seconds\n"
          ]
        },
        {
          "output_type": "stream",
          "name": "stderr",
          "text": [
            "A column-vector y was passed when a 1d array was expected. Please change the shape of y to (n_samples, ), for example using ravel().\n",
            "Stochastic Optimizer: Maximum iterations (20) reached and the optimization hasn't converged yet.\n"
          ]
        },
        {
          "output_type": "stream",
          "name": "stdout",
          "text": [
            "1: Meta: 14.805 seconds\n",
            "2: Meta: 0.002 seconds\n",
            "2: Meta: 0.903 seconds\n"
          ]
        },
        {
          "output_type": "stream",
          "name": "stderr",
          "text": [
            "A column-vector y was passed when a 1d array was expected. Please change the shape of y to (n_samples, ), for example using ravel().\n"
          ]
        },
        {
          "output_type": "stream",
          "name": "stdout",
          "text": [
            "2: Meta: 3.404 seconds\n",
            "2: Meta: 0.133 seconds\n"
          ]
        },
        {
          "output_type": "stream",
          "name": "stderr",
          "text": [
            "A column-vector y was passed when a 1d array was expected. Please change the shape of y to (n_samples, ), for example using ravel().\n"
          ]
        },
        {
          "output_type": "stream",
          "name": "stdout",
          "text": [
            "2: Meta: 12.801 seconds\n",
            "3: Meta: 0.001 seconds\n",
            "3: Meta: 0.943 seconds\n"
          ]
        },
        {
          "output_type": "stream",
          "name": "stderr",
          "text": [
            "A column-vector y was passed when a 1d array was expected. Please change the shape of y to (n_samples, ), for example using ravel().\n"
          ]
        },
        {
          "output_type": "stream",
          "name": "stdout",
          "text": [
            "3: Meta: 3.55 seconds\n",
            "3: Meta: 0.132 seconds\n"
          ]
        },
        {
          "output_type": "stream",
          "name": "stderr",
          "text": [
            "A column-vector y was passed when a 1d array was expected. Please change the shape of y to (n_samples, ), for example using ravel().\n"
          ]
        },
        {
          "output_type": "stream",
          "name": "stdout",
          "text": [
            "3: Meta: 11.672 seconds\n",
            "4: Meta: 0.002 seconds\n",
            "4: Meta: 0.931 seconds\n"
          ]
        },
        {
          "output_type": "stream",
          "name": "stderr",
          "text": [
            "A column-vector y was passed when a 1d array was expected. Please change the shape of y to (n_samples, ), for example using ravel().\n"
          ]
        },
        {
          "output_type": "stream",
          "name": "stdout",
          "text": [
            "4: Meta: 3.665 seconds\n",
            "4: Meta: 0.134 seconds\n"
          ]
        },
        {
          "output_type": "stream",
          "name": "stderr",
          "text": [
            "A column-vector y was passed when a 1d array was expected. Please change the shape of y to (n_samples, ), for example using ravel().\n"
          ]
        },
        {
          "output_type": "stream",
          "name": "stdout",
          "text": [
            "4: Meta: 15.422 seconds\n",
            "5: Meta: 0.002 seconds\n",
            "5: Meta: 0.944 seconds\n"
          ]
        },
        {
          "output_type": "stream",
          "name": "stderr",
          "text": [
            "A column-vector y was passed when a 1d array was expected. Please change the shape of y to (n_samples, ), for example using ravel().\n"
          ]
        },
        {
          "output_type": "stream",
          "name": "stdout",
          "text": [
            "5: Meta: 3.914 seconds\n",
            "5: Meta: 0.138 seconds\n"
          ]
        },
        {
          "output_type": "stream",
          "name": "stderr",
          "text": [
            "A column-vector y was passed when a 1d array was expected. Please change the shape of y to (n_samples, ), for example using ravel().\n",
            "Stochastic Optimizer: Maximum iterations (20) reached and the optimization hasn't converged yet.\n"
          ]
        },
        {
          "output_type": "stream",
          "name": "stdout",
          "text": [
            "5: Meta: 16.228 seconds\n",
            "6: Meta: 0.002 seconds\n",
            "6: Meta: 0.938 seconds\n"
          ]
        },
        {
          "output_type": "stream",
          "name": "stderr",
          "text": [
            "A column-vector y was passed when a 1d array was expected. Please change the shape of y to (n_samples, ), for example using ravel().\n"
          ]
        },
        {
          "output_type": "stream",
          "name": "stdout",
          "text": [
            "6: Meta: 4.164 seconds\n",
            "6: Meta: 0.138 seconds\n"
          ]
        },
        {
          "output_type": "stream",
          "name": "stderr",
          "text": [
            "A column-vector y was passed when a 1d array was expected. Please change the shape of y to (n_samples, ), for example using ravel().\n"
          ]
        },
        {
          "output_type": "stream",
          "name": "stdout",
          "text": [
            "6: Meta: 16.101 seconds\n",
            "7: Meta: 0.002 seconds\n",
            "7: Meta: 0.94 seconds\n"
          ]
        },
        {
          "output_type": "stream",
          "name": "stderr",
          "text": [
            "A column-vector y was passed when a 1d array was expected. Please change the shape of y to (n_samples, ), for example using ravel().\n"
          ]
        },
        {
          "output_type": "stream",
          "name": "stdout",
          "text": [
            "7: Meta: 4.449 seconds\n",
            "7: Meta: 0.153 seconds\n"
          ]
        },
        {
          "output_type": "stream",
          "name": "stderr",
          "text": [
            "A column-vector y was passed when a 1d array was expected. Please change the shape of y to (n_samples, ), for example using ravel().\n",
            "Stochastic Optimizer: Maximum iterations (20) reached and the optimization hasn't converged yet.\n"
          ]
        },
        {
          "output_type": "stream",
          "name": "stdout",
          "text": [
            "7: Meta: 17.032 seconds\n",
            "8: Meta: 0.002 seconds\n",
            "8: Meta: 0.948 seconds\n"
          ]
        },
        {
          "output_type": "stream",
          "name": "stderr",
          "text": [
            "A column-vector y was passed when a 1d array was expected. Please change the shape of y to (n_samples, ), for example using ravel().\n"
          ]
        },
        {
          "output_type": "stream",
          "name": "stdout",
          "text": [
            "8: Meta: 4.453 seconds\n",
            "8: Meta: 0.143 seconds\n"
          ]
        },
        {
          "output_type": "stream",
          "name": "stderr",
          "text": [
            "A column-vector y was passed when a 1d array was expected. Please change the shape of y to (n_samples, ), for example using ravel().\n",
            "Stochastic Optimizer: Maximum iterations (20) reached and the optimization hasn't converged yet.\n"
          ]
        },
        {
          "output_type": "stream",
          "name": "stdout",
          "text": [
            "8: Meta: 17.29 seconds\n",
            "9: Meta: 0.002 seconds\n",
            "9: Meta: 0.956 seconds\n"
          ]
        },
        {
          "output_type": "stream",
          "name": "stderr",
          "text": [
            "A column-vector y was passed when a 1d array was expected. Please change the shape of y to (n_samples, ), for example using ravel().\n"
          ]
        },
        {
          "output_type": "stream",
          "name": "stdout",
          "text": [
            "9: Meta: 5.074 seconds\n",
            "9: Meta: 0.143 seconds\n"
          ]
        },
        {
          "output_type": "stream",
          "name": "stderr",
          "text": [
            "A column-vector y was passed when a 1d array was expected. Please change the shape of y to (n_samples, ), for example using ravel().\n"
          ]
        },
        {
          "output_type": "stream",
          "name": "stdout",
          "text": [
            "9: Meta: 14.207 seconds\n",
            "10: Meta: 0.002 seconds\n",
            "10: Meta: 0.955 seconds\n"
          ]
        },
        {
          "output_type": "stream",
          "name": "stderr",
          "text": [
            "A column-vector y was passed when a 1d array was expected. Please change the shape of y to (n_samples, ), for example using ravel().\n"
          ]
        },
        {
          "output_type": "stream",
          "name": "stdout",
          "text": [
            "10: Meta: 5.357 seconds\n",
            "10: Meta: 0.144 seconds\n"
          ]
        },
        {
          "output_type": "stream",
          "name": "stderr",
          "text": [
            "A column-vector y was passed when a 1d array was expected. Please change the shape of y to (n_samples, ), for example using ravel().\n",
            "Stochastic Optimizer: Maximum iterations (20) reached and the optimization hasn't converged yet.\n"
          ]
        },
        {
          "output_type": "stream",
          "name": "stdout",
          "text": [
            "10: Meta: 18.232 seconds\n",
            "11: Meta: 0.002 seconds\n",
            "11: Meta: 0.989 seconds\n"
          ]
        },
        {
          "output_type": "stream",
          "name": "stderr",
          "text": [
            "A column-vector y was passed when a 1d array was expected. Please change the shape of y to (n_samples, ), for example using ravel().\n"
          ]
        },
        {
          "output_type": "stream",
          "name": "stdout",
          "text": [
            "11: Meta: 5.118 seconds\n",
            "11: Meta: 0.146 seconds\n"
          ]
        },
        {
          "output_type": "stream",
          "name": "stderr",
          "text": [
            "A column-vector y was passed when a 1d array was expected. Please change the shape of y to (n_samples, ), for example using ravel().\n"
          ]
        },
        {
          "output_type": "stream",
          "name": "stdout",
          "text": [
            "11: Meta: 12.014 seconds\n",
            "12: Meta: 0.002 seconds\n",
            "12: Meta: 0.969 seconds\n"
          ]
        },
        {
          "output_type": "stream",
          "name": "stderr",
          "text": [
            "A column-vector y was passed when a 1d array was expected. Please change the shape of y to (n_samples, ), for example using ravel().\n"
          ]
        },
        {
          "output_type": "stream",
          "name": "stdout",
          "text": [
            "12: Meta: 5.115 seconds\n",
            "12: Meta: 0.149 seconds\n"
          ]
        },
        {
          "output_type": "stream",
          "name": "stderr",
          "text": [
            "A column-vector y was passed when a 1d array was expected. Please change the shape of y to (n_samples, ), for example using ravel().\n"
          ]
        },
        {
          "output_type": "stream",
          "name": "stdout",
          "text": [
            "12: Meta: 16.873 seconds\n",
            "13: Meta: 0.002 seconds\n",
            "13: Meta: 0.967 seconds\n"
          ]
        },
        {
          "output_type": "stream",
          "name": "stderr",
          "text": [
            "A column-vector y was passed when a 1d array was expected. Please change the shape of y to (n_samples, ), for example using ravel().\n"
          ]
        },
        {
          "output_type": "stream",
          "name": "stdout",
          "text": [
            "13: Meta: 5.735 seconds\n",
            "13: Meta: 0.151 seconds\n"
          ]
        },
        {
          "output_type": "stream",
          "name": "stderr",
          "text": [
            "A column-vector y was passed when a 1d array was expected. Please change the shape of y to (n_samples, ), for example using ravel().\n"
          ]
        },
        {
          "output_type": "stream",
          "name": "stdout",
          "text": [
            "13: Meta: 19.211 seconds\n",
            "14: Meta: 0.002 seconds\n",
            "14: Meta: 0.982 seconds\n"
          ]
        },
        {
          "output_type": "stream",
          "name": "stderr",
          "text": [
            "A column-vector y was passed when a 1d array was expected. Please change the shape of y to (n_samples, ), for example using ravel().\n"
          ]
        },
        {
          "output_type": "stream",
          "name": "stdout",
          "text": [
            "14: Meta: 6.131 seconds\n",
            "14: Meta: 0.154 seconds\n"
          ]
        },
        {
          "output_type": "stream",
          "name": "stderr",
          "text": [
            "A column-vector y was passed when a 1d array was expected. Please change the shape of y to (n_samples, ), for example using ravel().\n"
          ]
        },
        {
          "output_type": "stream",
          "name": "stdout",
          "text": [
            "14: Meta: 12.655 seconds\n",
            "15: Meta: 0.002 seconds\n",
            "15: Meta: 0.991 seconds\n"
          ]
        },
        {
          "output_type": "stream",
          "name": "stderr",
          "text": [
            "A column-vector y was passed when a 1d array was expected. Please change the shape of y to (n_samples, ), for example using ravel().\n"
          ]
        },
        {
          "output_type": "stream",
          "name": "stdout",
          "text": [
            "15: Meta: 6.401 seconds\n",
            "15: Meta: 0.152 seconds\n"
          ]
        },
        {
          "output_type": "stream",
          "name": "stderr",
          "text": [
            "A column-vector y was passed when a 1d array was expected. Please change the shape of y to (n_samples, ), for example using ravel().\n",
            "Stochastic Optimizer: Maximum iterations (20) reached and the optimization hasn't converged yet.\n"
          ]
        },
        {
          "output_type": "stream",
          "name": "stdout",
          "text": [
            "15: Meta: 19.947 seconds\n",
            "16: Meta: 0.002 seconds\n",
            "16: Meta: 0.99 seconds\n"
          ]
        },
        {
          "output_type": "stream",
          "name": "stderr",
          "text": [
            "A column-vector y was passed when a 1d array was expected. Please change the shape of y to (n_samples, ), for example using ravel().\n"
          ]
        },
        {
          "output_type": "stream",
          "name": "stdout",
          "text": [
            "16: Meta: 6.371 seconds\n",
            "16: Meta: 0.161 seconds\n"
          ]
        },
        {
          "output_type": "stream",
          "name": "stderr",
          "text": [
            "A column-vector y was passed when a 1d array was expected. Please change the shape of y to (n_samples, ), for example using ravel().\n",
            "Stochastic Optimizer: Maximum iterations (20) reached and the optimization hasn't converged yet.\n"
          ]
        },
        {
          "output_type": "stream",
          "name": "stdout",
          "text": [
            "16: Meta: 20.387 seconds\n",
            "17: Meta: 0.002 seconds\n",
            "17: Meta: 1.0 seconds\n"
          ]
        },
        {
          "output_type": "stream",
          "name": "stderr",
          "text": [
            "A column-vector y was passed when a 1d array was expected. Please change the shape of y to (n_samples, ), for example using ravel().\n"
          ]
        },
        {
          "output_type": "stream",
          "name": "stdout",
          "text": [
            "17: Meta: 6.463 seconds\n",
            "17: Meta: 0.157 seconds\n"
          ]
        },
        {
          "output_type": "stream",
          "name": "stderr",
          "text": [
            "A column-vector y was passed when a 1d array was expected. Please change the shape of y to (n_samples, ), for example using ravel().\n",
            "Stochastic Optimizer: Maximum iterations (20) reached and the optimization hasn't converged yet.\n"
          ]
        },
        {
          "output_type": "stream",
          "name": "stdout",
          "text": [
            "17: Meta: 20.732 seconds\n",
            "18: Meta: 0.002 seconds\n",
            "18: Meta: 1.021 seconds\n"
          ]
        },
        {
          "output_type": "stream",
          "name": "stderr",
          "text": [
            "A column-vector y was passed when a 1d array was expected. Please change the shape of y to (n_samples, ), for example using ravel().\n"
          ]
        },
        {
          "output_type": "stream",
          "name": "stdout",
          "text": [
            "18: Meta: 6.991 seconds\n",
            "18: Meta: 0.167 seconds\n"
          ]
        },
        {
          "output_type": "stream",
          "name": "stderr",
          "text": [
            "A column-vector y was passed when a 1d array was expected. Please change the shape of y to (n_samples, ), for example using ravel().\n",
            "Stochastic Optimizer: Maximum iterations (20) reached and the optimization hasn't converged yet.\n"
          ]
        },
        {
          "output_type": "stream",
          "name": "stdout",
          "text": [
            "18: Meta: 21.088 seconds\n",
            "19: Meta: 0.002 seconds\n",
            "19: Meta: 1.047 seconds\n"
          ]
        },
        {
          "output_type": "stream",
          "name": "stderr",
          "text": [
            "A column-vector y was passed when a 1d array was expected. Please change the shape of y to (n_samples, ), for example using ravel().\n"
          ]
        },
        {
          "output_type": "stream",
          "name": "stdout",
          "text": [
            "19: Meta: 7.084 seconds\n",
            "19: Meta: 0.16 seconds\n"
          ]
        },
        {
          "output_type": "stream",
          "name": "stderr",
          "text": [
            "A column-vector y was passed when a 1d array was expected. Please change the shape of y to (n_samples, ), for example using ravel().\n"
          ]
        },
        {
          "output_type": "stream",
          "name": "stdout",
          "text": [
            "19: Meta: 20.303 seconds\n",
            "20: Meta: 0.002 seconds\n",
            "20: Meta: 1.025 seconds\n"
          ]
        },
        {
          "output_type": "stream",
          "name": "stderr",
          "text": [
            "A column-vector y was passed when a 1d array was expected. Please change the shape of y to (n_samples, ), for example using ravel().\n"
          ]
        },
        {
          "output_type": "stream",
          "name": "stdout",
          "text": [
            "20: Meta: 7.175 seconds\n",
            "20: Meta: 0.162 seconds\n"
          ]
        },
        {
          "output_type": "stream",
          "name": "stderr",
          "text": [
            "A column-vector y was passed when a 1d array was expected. Please change the shape of y to (n_samples, ), for example using ravel().\n"
          ]
        },
        {
          "output_type": "stream",
          "name": "stdout",
          "text": [
            "20: Meta: 16.413 seconds\n",
            "21: Meta: 0.002 seconds\n",
            "21: Meta: 1.052 seconds\n"
          ]
        },
        {
          "output_type": "stream",
          "name": "stderr",
          "text": [
            "A column-vector y was passed when a 1d array was expected. Please change the shape of y to (n_samples, ), for example using ravel().\n"
          ]
        },
        {
          "output_type": "stream",
          "name": "stdout",
          "text": [
            "21: Meta: 7.902 seconds\n",
            "21: Meta: 0.166 seconds\n"
          ]
        },
        {
          "output_type": "stream",
          "name": "stderr",
          "text": [
            "A column-vector y was passed when a 1d array was expected. Please change the shape of y to (n_samples, ), for example using ravel().\n",
            "Stochastic Optimizer: Maximum iterations (20) reached and the optimization hasn't converged yet.\n"
          ]
        },
        {
          "output_type": "stream",
          "name": "stdout",
          "text": [
            "21: Meta: 22.193 seconds\n",
            "22: Meta: 0.002 seconds\n",
            "22: Meta: 1.078 seconds\n"
          ]
        },
        {
          "output_type": "stream",
          "name": "stderr",
          "text": [
            "A column-vector y was passed when a 1d array was expected. Please change the shape of y to (n_samples, ), for example using ravel().\n"
          ]
        },
        {
          "output_type": "stream",
          "name": "stdout",
          "text": [
            "22: Meta: 8.093 seconds\n",
            "22: Meta: 0.164 seconds\n"
          ]
        },
        {
          "output_type": "stream",
          "name": "stderr",
          "text": [
            "A column-vector y was passed when a 1d array was expected. Please change the shape of y to (n_samples, ), for example using ravel().\n"
          ]
        },
        {
          "output_type": "stream",
          "name": "stdout",
          "text": [
            "22: Meta: 20.351 seconds\n",
            "23: Meta: 0.002 seconds\n",
            "23: Meta: 1.086 seconds\n"
          ]
        },
        {
          "output_type": "stream",
          "name": "stderr",
          "text": [
            "A column-vector y was passed when a 1d array was expected. Please change the shape of y to (n_samples, ), for example using ravel().\n"
          ]
        },
        {
          "output_type": "stream",
          "name": "stdout",
          "text": [
            "23: Meta: 8.226 seconds\n",
            "23: Meta: 0.169 seconds\n"
          ]
        },
        {
          "output_type": "stream",
          "name": "stderr",
          "text": [
            "A column-vector y was passed when a 1d array was expected. Please change the shape of y to (n_samples, ), for example using ravel().\n",
            "Stochastic Optimizer: Maximum iterations (20) reached and the optimization hasn't converged yet.\n"
          ]
        },
        {
          "output_type": "stream",
          "name": "stdout",
          "text": [
            "23: Meta: 22.923 seconds\n",
            "24: Meta: 0.002 seconds\n",
            "24: Meta: 1.122 seconds\n"
          ]
        },
        {
          "output_type": "stream",
          "name": "stderr",
          "text": [
            "A column-vector y was passed when a 1d array was expected. Please change the shape of y to (n_samples, ), for example using ravel().\n"
          ]
        },
        {
          "output_type": "stream",
          "name": "stdout",
          "text": [
            "24: Meta: 8.581 seconds\n",
            "24: Meta: 0.182 seconds\n"
          ]
        },
        {
          "output_type": "stream",
          "name": "stderr",
          "text": [
            "A column-vector y was passed when a 1d array was expected. Please change the shape of y to (n_samples, ), for example using ravel().\n"
          ]
        },
        {
          "output_type": "stream",
          "name": "stdout",
          "text": [
            "24: Meta: 22.225 seconds\n",
            "25: Meta: 0.002 seconds\n",
            "25: Meta: 1.127 seconds\n"
          ]
        },
        {
          "output_type": "stream",
          "name": "stderr",
          "text": [
            "A column-vector y was passed when a 1d array was expected. Please change the shape of y to (n_samples, ), for example using ravel().\n"
          ]
        },
        {
          "output_type": "stream",
          "name": "stdout",
          "text": [
            "25: Meta: 8.905 seconds\n",
            "25: Meta: 0.175 seconds\n"
          ]
        },
        {
          "output_type": "stream",
          "name": "stderr",
          "text": [
            "A column-vector y was passed when a 1d array was expected. Please change the shape of y to (n_samples, ), for example using ravel().\n"
          ]
        },
        {
          "output_type": "stream",
          "name": "stdout",
          "text": [
            "25: Meta: 14.174 seconds\n",
            "26: Meta: 0.002 seconds\n",
            "26: Meta: 1.17 seconds\n"
          ]
        },
        {
          "output_type": "stream",
          "name": "stderr",
          "text": [
            "A column-vector y was passed when a 1d array was expected. Please change the shape of y to (n_samples, ), for example using ravel().\n"
          ]
        },
        {
          "output_type": "stream",
          "name": "stdout",
          "text": [
            "26: Meta: 8.969 seconds\n",
            "26: Meta: 0.175 seconds\n"
          ]
        },
        {
          "output_type": "stream",
          "name": "stderr",
          "text": [
            "A column-vector y was passed when a 1d array was expected. Please change the shape of y to (n_samples, ), for example using ravel().\n"
          ]
        },
        {
          "output_type": "stream",
          "name": "stdout",
          "text": [
            "26: Meta: 19.235 seconds\n",
            "27: Meta: 0.002 seconds\n",
            "27: Meta: 1.195 seconds\n"
          ]
        },
        {
          "output_type": "stream",
          "name": "stderr",
          "text": [
            "A column-vector y was passed when a 1d array was expected. Please change the shape of y to (n_samples, ), for example using ravel().\n"
          ]
        },
        {
          "output_type": "stream",
          "name": "stdout",
          "text": [
            "27: Meta: 9.874 seconds\n",
            "27: Meta: 0.175 seconds\n"
          ]
        },
        {
          "output_type": "stream",
          "name": "stderr",
          "text": [
            "A column-vector y was passed when a 1d array was expected. Please change the shape of y to (n_samples, ), for example using ravel().\n"
          ]
        },
        {
          "output_type": "stream",
          "name": "stdout",
          "text": [
            "27: Meta: 19.876 seconds\n",
            "28: Meta: 0.002 seconds\n",
            "28: Meta: 1.229 seconds\n"
          ]
        },
        {
          "output_type": "stream",
          "name": "stderr",
          "text": [
            "A column-vector y was passed when a 1d array was expected. Please change the shape of y to (n_samples, ), for example using ravel().\n"
          ]
        },
        {
          "output_type": "stream",
          "name": "stdout",
          "text": [
            "28: Meta: 9.63 seconds\n",
            "28: Meta: 0.179 seconds\n"
          ]
        },
        {
          "output_type": "stream",
          "name": "stderr",
          "text": [
            "A column-vector y was passed when a 1d array was expected. Please change the shape of y to (n_samples, ), for example using ravel().\n"
          ]
        },
        {
          "output_type": "stream",
          "name": "stdout",
          "text": [
            "28: Meta: 18.914 seconds\n",
            "29: Meta: 0.002 seconds\n",
            "29: Meta: 1.226 seconds\n"
          ]
        },
        {
          "output_type": "stream",
          "name": "stderr",
          "text": [
            "A column-vector y was passed when a 1d array was expected. Please change the shape of y to (n_samples, ), for example using ravel().\n"
          ]
        },
        {
          "output_type": "stream",
          "name": "stdout",
          "text": [
            "29: Meta: 9.889 seconds\n",
            "29: Meta: 0.175 seconds\n"
          ]
        },
        {
          "output_type": "stream",
          "name": "stderr",
          "text": [
            "A column-vector y was passed when a 1d array was expected. Please change the shape of y to (n_samples, ), for example using ravel().\n",
            "Stochastic Optimizer: Maximum iterations (20) reached and the optimization hasn't converged yet.\n"
          ]
        },
        {
          "output_type": "stream",
          "name": "stdout",
          "text": [
            "29: Meta: 25.665 seconds\n",
            "30: Meta: 0.002 seconds\n",
            "30: Meta: 1.281 seconds\n"
          ]
        },
        {
          "output_type": "stream",
          "name": "stderr",
          "text": [
            "A column-vector y was passed when a 1d array was expected. Please change the shape of y to (n_samples, ), for example using ravel().\n"
          ]
        },
        {
          "output_type": "stream",
          "name": "stdout",
          "text": [
            "30: Meta: 9.754 seconds\n",
            "30: Meta: 0.192 seconds\n"
          ]
        },
        {
          "output_type": "stream",
          "name": "stderr",
          "text": [
            "A column-vector y was passed when a 1d array was expected. Please change the shape of y to (n_samples, ), for example using ravel().\n",
            "Stochastic Optimizer: Maximum iterations (20) reached and the optimization hasn't converged yet.\n"
          ]
        },
        {
          "output_type": "stream",
          "name": "stdout",
          "text": [
            "30: Meta: 25.849 seconds\n",
            "31: Meta: 0.002 seconds\n",
            "31: Meta: 1.266 seconds\n"
          ]
        },
        {
          "output_type": "stream",
          "name": "stderr",
          "text": [
            "A column-vector y was passed when a 1d array was expected. Please change the shape of y to (n_samples, ), for example using ravel().\n"
          ]
        },
        {
          "output_type": "stream",
          "name": "stdout",
          "text": [
            "31: Meta: 10.38 seconds\n",
            "31: Meta: 0.19 seconds\n"
          ]
        },
        {
          "output_type": "stream",
          "name": "stderr",
          "text": [
            "A column-vector y was passed when a 1d array was expected. Please change the shape of y to (n_samples, ), for example using ravel().\n",
            "Stochastic Optimizer: Maximum iterations (20) reached and the optimization hasn't converged yet.\n"
          ]
        },
        {
          "output_type": "stream",
          "name": "stdout",
          "text": [
            "31: Meta: 26.379 seconds\n",
            "32: Meta: 0.002 seconds\n",
            "32: Meta: 1.325 seconds\n"
          ]
        },
        {
          "output_type": "stream",
          "name": "stderr",
          "text": [
            "A column-vector y was passed when a 1d array was expected. Please change the shape of y to (n_samples, ), for example using ravel().\n"
          ]
        },
        {
          "output_type": "stream",
          "name": "stdout",
          "text": [
            "32: Meta: 10.889 seconds\n",
            "32: Meta: 0.183 seconds\n"
          ]
        },
        {
          "output_type": "stream",
          "name": "stderr",
          "text": [
            "A column-vector y was passed when a 1d array was expected. Please change the shape of y to (n_samples, ), for example using ravel().\n",
            "Stochastic Optimizer: Maximum iterations (20) reached and the optimization hasn't converged yet.\n"
          ]
        },
        {
          "output_type": "stream",
          "name": "stdout",
          "text": [
            "32: Meta: 26.606 seconds\n",
            "33: Meta: 0.002 seconds\n",
            "33: Meta: 1.281 seconds\n"
          ]
        },
        {
          "output_type": "stream",
          "name": "stderr",
          "text": [
            "A column-vector y was passed when a 1d array was expected. Please change the shape of y to (n_samples, ), for example using ravel().\n"
          ]
        },
        {
          "output_type": "stream",
          "name": "stdout",
          "text": [
            "33: Meta: 11.281 seconds\n",
            "33: Meta: 0.196 seconds\n"
          ]
        },
        {
          "output_type": "stream",
          "name": "stderr",
          "text": [
            "A column-vector y was passed when a 1d array was expected. Please change the shape of y to (n_samples, ), for example using ravel().\n"
          ]
        },
        {
          "output_type": "stream",
          "name": "stdout",
          "text": [
            "33: Meta: 18.973 seconds\n",
            "34: Meta: 0.005 seconds\n",
            "34: Meta: 1.316 seconds\n"
          ]
        },
        {
          "output_type": "stream",
          "name": "stderr",
          "text": [
            "A column-vector y was passed when a 1d array was expected. Please change the shape of y to (n_samples, ), for example using ravel().\n"
          ]
        },
        {
          "output_type": "stream",
          "name": "stdout",
          "text": [
            "34: Meta: 11.18 seconds\n",
            "34: Meta: 0.19 seconds\n"
          ]
        },
        {
          "output_type": "stream",
          "name": "stderr",
          "text": [
            "A column-vector y was passed when a 1d array was expected. Please change the shape of y to (n_samples, ), for example using ravel().\n"
          ]
        },
        {
          "output_type": "stream",
          "name": "stdout",
          "text": [
            "34: Meta: 19.097 seconds\n",
            "35: Meta: 0.003 seconds\n",
            "35: Meta: 1.319 seconds\n"
          ]
        },
        {
          "output_type": "stream",
          "name": "stderr",
          "text": [
            "A column-vector y was passed when a 1d array was expected. Please change the shape of y to (n_samples, ), for example using ravel().\n"
          ]
        },
        {
          "output_type": "stream",
          "name": "stdout",
          "text": [
            "35: Meta: 11.732 seconds\n"
          ]
        },
        {
          "output_type": "stream",
          "name": "stderr",
          "text": [
            "A column-vector y was passed when a 1d array was expected. Please change the shape of y to (n_samples, ), for example using ravel().\n",
            "Stochastic Optimizer: Maximum iterations (20) reached and the optimization hasn't converged yet.\n"
          ]
        },
        {
          "output_type": "stream",
          "name": "stdout",
          "text": [
            "35: Meta: 0.2 seconds\n",
            "35: Meta: 27.916 seconds\n",
            "36: Meta: 0.002 seconds\n",
            "36: Meta: 1.378 seconds\n"
          ]
        },
        {
          "output_type": "stream",
          "name": "stderr",
          "text": [
            "A column-vector y was passed when a 1d array was expected. Please change the shape of y to (n_samples, ), for example using ravel().\n"
          ]
        },
        {
          "output_type": "stream",
          "name": "stdout",
          "text": [
            "36: Meta: 12.377 seconds\n",
            "36: Meta: 0.209 seconds\n"
          ]
        },
        {
          "output_type": "stream",
          "name": "stderr",
          "text": [
            "A column-vector y was passed when a 1d array was expected. Please change the shape of y to (n_samples, ), for example using ravel().\n"
          ]
        },
        {
          "output_type": "stream",
          "name": "stdout",
          "text": [
            "36: Meta: 22.672 seconds\n",
            "37: Meta: 0.002 seconds\n",
            "37: Meta: 1.421 seconds\n"
          ]
        },
        {
          "output_type": "stream",
          "name": "stderr",
          "text": [
            "A column-vector y was passed when a 1d array was expected. Please change the shape of y to (n_samples, ), for example using ravel().\n"
          ]
        },
        {
          "output_type": "stream",
          "name": "stdout",
          "text": [
            "37: Meta: 12.999 seconds\n",
            "37: Meta: 0.211 seconds\n"
          ]
        },
        {
          "output_type": "stream",
          "name": "stderr",
          "text": [
            "A column-vector y was passed when a 1d array was expected. Please change the shape of y to (n_samples, ), for example using ravel().\n"
          ]
        },
        {
          "output_type": "stream",
          "name": "stdout",
          "text": [
            "37: Meta: 25.592 seconds\n",
            "38: Meta: 0.002 seconds\n",
            "38: Meta: 1.433 seconds\n"
          ]
        },
        {
          "output_type": "stream",
          "name": "stderr",
          "text": [
            "A column-vector y was passed when a 1d array was expected. Please change the shape of y to (n_samples, ), for example using ravel().\n"
          ]
        },
        {
          "output_type": "stream",
          "name": "stdout",
          "text": [
            "38: Meta: 12.865 seconds\n",
            "38: Meta: 0.202 seconds\n"
          ]
        },
        {
          "output_type": "stream",
          "name": "stderr",
          "text": [
            "A column-vector y was passed when a 1d array was expected. Please change the shape of y to (n_samples, ), for example using ravel().\n"
          ]
        },
        {
          "output_type": "stream",
          "name": "stdout",
          "text": [
            "38: Meta: 26.093 seconds\n"
          ]
        }
      ]
    },
    {
      "cell_type": "markdown",
      "metadata": {
        "id": "ZiA5WG2ENtlI"
      },
      "source": [
        "Simple weighted average of base and meta-learners"
      ]
    },
    {
      "cell_type": "code",
      "metadata": {
        "colab": {
          "base_uri": "https://localhost:8080/"
        },
        "id": "r1k0L_Lv8VP3",
        "outputId": "c1c7fada-baf5-4a58-9241-6b12c919ac6a"
      },
      "source": [
        "def gameweek_rmses(df):\n",
        "    results = pd.DataFrame(index = np.arange(1,39))\n",
        "    for name, model in get_meta_models(cat_features=None):\n",
        "        RMSE = np.sqrt(mean_squared_error(df['total_points'], df[name]))\n",
        "        results[f'{name}'] = RMSE\n",
        "    results['Avg. Base'] =  np.sqrt(mean_squared_error(df['total_points'], df['avg_base_preds']))\n",
        "    results['Avg. Meta'] =  np.sqrt(mean_squared_error(df['total_points'], df['avg_meta_preds']))\n",
        "    results.drop_duplicates(inplace = True)\n",
        "    results['Best'] = results.idxmin(axis=1)\n",
        "    results['BestRSME'] = results.min(axis=1)\n",
        "    return results.round(3)\n",
        "\n",
        "\n",
        "df_base = pd.read_csv('/content/drive/MyDrive/Predictions/new_meta_cboost_vanilla.csv')\n",
        "df_base['avg_base_preds'] = 0\n",
        "for name, model in get_models(cat_features=None):\n",
        "      df_base['avg_base_preds'] += df_base[name]/5\n",
        "\n",
        "\n",
        "df_preds = pd.read_csv('/content/drive/MyDrive/Predictions/other_metas.csv')\n",
        "df_preds['avg_meta_preds'] = 0\n",
        "for name, model in get_meta_models(cat_features=None):\n",
        "      df_preds['avg_meta_preds'] += df_preds[name]/5\n",
        "\n",
        "df_preds['avg_meta_preds'] = np.round(df_preds['avg_meta_preds'])\n",
        "df_preds['avg_base_preds'] = np.round(df_base['avg_base_preds'])\n",
        "\n",
        "\n",
        "# df_preds['H2O'] = pd.read_csv(\"/content/drive/MyDrive/Predictions/h2o_results.csv\")['automl'].values\n",
        "\n",
        "results = df_preds.groupby('GW').apply(gameweek_rmses).reset_index()\n",
        "print(results.append(results.sum().rename('Total')).to_latex())\n",
        "df_preds.shape"
      ],
      "execution_count": null,
      "outputs": [
        {
          "output_type": "stream",
          "name": "stdout",
          "text": [
            "\\begin{tabular}{lrrrrrrrrrlr}\n",
            "\\toprule\n",
            "{} &   GW &  level\\_1 &       LR &   CBoost &      SVR &      KNN &      MLP &  Avg. Base &  Avg. Meta &                                               Best &  BestRSME \\\\\n",
            "\\midrule\n",
            "0     &    1 &        1 &    3.080 &    3.014 &    3.129 &    3.128 &    3.112 &      3.124 &      3.072 &                                             CBoost &     3.014 \\\\\n",
            "1     &    2 &        1 &    3.569 &    3.606 &    3.584 &    3.571 &    3.623 &      3.562 &      3.578 &                                          Avg. Base &     3.562 \\\\\n",
            "2     &    3 &        1 &    3.029 &    3.035 &    2.983 &    2.991 &    3.050 &      2.930 &      3.032 &                                          Avg. Base &     2.930 \\\\\n",
            "3     &    4 &        1 &    3.774 &    3.754 &    3.740 &    3.729 &    3.807 &      3.660 &      3.741 &                                          Avg. Base &     3.660 \\\\\n",
            "4     &    5 &        1 &    2.682 &    2.715 &    2.749 &    2.661 &    2.710 &      2.671 &      2.727 &                                                KNN &     2.661 \\\\\n",
            "5     &    6 &        1 &    2.614 &    2.623 &    2.584 &    2.635 &    2.633 &      2.590 &      2.626 &                                                SVR &     2.584 \\\\\n",
            "6     &    7 &        1 &    2.862 &    2.855 &    2.900 &    2.877 &    2.842 &      2.908 &      2.880 &                                                MLP &     2.842 \\\\\n",
            "7     &    8 &        1 &    2.623 &    2.608 &    2.692 &    2.612 &    2.621 &      2.622 &      2.634 &                                             CBoost &     2.608 \\\\\n",
            "8     &    9 &        1 &    2.493 &    2.481 &    2.526 &    2.509 &    2.493 &      2.498 &      2.494 &                                             CBoost &     2.481 \\\\\n",
            "9     &   10 &        1 &    2.991 &    3.017 &    2.983 &    2.992 &    3.039 &      2.957 &      3.010 &                                          Avg. Base &     2.957 \\\\\n",
            "10    &   11 &        1 &    2.673 &    2.666 &    2.791 &    2.684 &    2.672 &      2.710 &      2.691 &                                             CBoost &     2.666 \\\\\n",
            "11    &   12 &        1 &    2.621 &    2.626 &    2.609 &    2.623 &    2.636 &      2.626 &      2.628 &                                                SVR &     2.609 \\\\\n",
            "12    &   13 &        1 &    2.626 &    2.618 &    2.622 &    2.615 &    2.659 &      2.667 &      2.638 &                                                KNN &     2.615 \\\\\n",
            "13    &   14 &        1 &    3.083 &    3.066 &    3.147 &    3.058 &    3.074 &      3.083 &      3.101 &                                                KNN &     3.058 \\\\\n",
            "14    &   15 &        1 &    2.705 &    2.720 &    2.692 &    2.687 &    2.704 &      2.687 &      2.713 &                                          Avg. Base &     2.687 \\\\\n",
            "15    &   16 &        1 &    2.511 &    2.537 &    2.524 &    2.504 &    2.500 &      2.530 &      2.534 &                                                MLP &     2.500 \\\\\n",
            "16    &   17 &        1 &    2.878 &    2.836 &    2.909 &    2.882 &    2.889 &      2.886 &      2.848 &                                             CBoost &     2.836 \\\\\n",
            "17    &   18 &        1 &    2.345 &    2.365 &    2.322 &    2.338 &    2.346 &      2.357 &      2.347 &                                                SVR &     2.322 \\\\\n",
            "18    &   19 &        1 &    2.674 &    2.694 &    2.698 &    2.672 &    2.671 &      2.732 &      2.697 &                                                MLP &     2.671 \\\\\n",
            "19    &   20 &        1 &    2.815 &    2.827 &    2.840 &    2.804 &    2.817 &      2.822 &      2.800 &                                          Avg. Meta &     2.800 \\\\\n",
            "20    &   21 &        1 &    2.748 &    2.747 &    2.753 &    2.748 &    2.750 &      2.764 &      2.727 &                                          Avg. Meta &     2.727 \\\\\n",
            "21    &   22 &        1 &    2.932 &    2.938 &    2.990 &    2.945 &    2.955 &      2.911 &      2.940 &                                          Avg. Base &     2.911 \\\\\n",
            "22    &   23 &        1 &    2.752 &    2.753 &    2.780 &    2.759 &    2.772 &      2.818 &      2.773 &                                                 LR &     2.752 \\\\\n",
            "23    &   24 &        1 &    2.890 &    2.912 &    2.926 &    2.892 &    2.897 &      2.910 &      2.920 &                                                 LR &     2.890 \\\\\n",
            "24    &   25 &        1 &    2.533 &    2.529 &    2.537 &    2.534 &    2.542 &      2.546 &      2.553 &                                             CBoost &     2.529 \\\\\n",
            "25    &   26 &        1 &    2.662 &    2.664 &    2.651 &    2.647 &    2.672 &      2.649 &      2.655 &                                                KNN &     2.647 \\\\\n",
            "26    &   27 &        1 &    2.840 &    2.867 &    2.907 &    2.871 &    2.866 &      2.908 &      2.875 &                                                 LR &     2.840 \\\\\n",
            "27    &   28 &        1 &    2.465 &    2.460 &    2.527 &    2.479 &    2.485 &      2.510 &      2.530 &                                             CBoost &     2.460 \\\\\n",
            "28    &   29 &        1 &    2.609 &    2.592 &    2.694 &    2.619 &    2.657 &      2.665 &      2.630 &                                             CBoost &     2.592 \\\\\n",
            "29    &   30 &        1 &    3.079 &    3.083 &    3.040 &    3.074 &    3.127 &      3.053 &      3.079 &                                                SVR &     3.040 \\\\\n",
            "30    &   31 &        1 &    2.943 &    2.955 &    2.936 &    2.949 &    2.949 &      2.955 &      2.933 &                                          Avg. Meta &     2.933 \\\\\n",
            "31    &   32 &        1 &    2.522 &    2.513 &    2.574 &    2.524 &    2.509 &      2.566 &      2.517 &                                                MLP &     2.509 \\\\\n",
            "32    &   33 &        1 &    2.697 &    2.694 &    2.668 &    2.694 &    2.691 &      2.700 &      2.726 &                                                SVR &     2.668 \\\\\n",
            "33    &   34 &        1 &    2.620 &    2.610 &    2.734 &    2.625 &    2.618 &      2.668 &      2.629 &                                             CBoost &     2.610 \\\\\n",
            "34    &   35 &        1 &    2.629 &    2.623 &    2.673 &    2.637 &    2.623 &      2.655 &      2.615 &                                          Avg. Meta &     2.615 \\\\\n",
            "35    &   36 &        1 &    3.071 &    3.099 &    3.059 &    3.104 &    3.097 &      3.109 &      3.074 &                                                SVR &     3.059 \\\\\n",
            "36    &   37 &        1 &    2.662 &    2.661 &    2.647 &    2.658 &    2.664 &      2.656 &      2.677 &                                                SVR &     2.647 \\\\\n",
            "37    &   38 &        1 &    2.899 &    2.873 &    2.986 &    2.893 &    2.878 &      2.955 &      2.906 &                                             CBoost &     2.873 \\\\\n",
            "Total &  741 &       38 &  106.201 &  106.236 &  107.106 &  106.224 &  106.650 &    106.620 &    106.550 &  CBoostAvg. BaseAvg. BaseAvg. BaseKNNSVRMLPCBoo... &   105.365 \\\\\n",
            "\\bottomrule\n",
            "\\end{tabular}\n",
            "\n"
          ]
        },
        {
          "output_type": "execute_result",
          "data": {
            "text/plain": [
              "(10435, 12)"
            ]
          },
          "metadata": {},
          "execution_count": 63
        }
      ]
    },
    {
      "cell_type": "markdown",
      "metadata": {
        "id": "R7LxL3cmkCP_"
      },
      "source": [
        "Remove full stadium matches and test on 2021/22"
      ]
    },
    {
      "cell_type": "code",
      "metadata": {
        "colab": {
          "base_uri": "https://localhost:8080/"
        },
        "id": "WKSGj0rqIy1B",
        "outputId": "52d64c3a-1be3-40ee-e5ca-a6b37af4c581"
      },
      "source": [
        "df = pd.read_csv('./drive/MyDrive/Data/rollbacked_us_testing.csv')\n",
        "df = df[df['kickoff_time'] > '2020-04-01']\n",
        "df.groupby(['season'])['GW'].value_counts()\n",
        "# df[df['season'] == 2021]['kickoff_time'].min()"
      ],
      "execution_count": null,
      "outputs": [
        {
          "data": {
            "text/plain": [
              "season  GW\n",
              "2019    30    362\n",
              "        38    304\n",
              "        33    300\n",
              "        31    299\n",
              "        35    299\n",
              "        36    297\n",
              "        32    296\n",
              "        37    292\n",
              "        34    290\n",
              "2020    26    466\n",
              "        35    417\n",
              "        19    413\n",
              "        24    334\n",
              "        25    304\n",
              "        27    302\n",
              "        30    284\n",
              "        38    281\n",
              "        10    279\n",
              "        7     277\n",
              "        20    277\n",
              "        22    277\n",
              "        31    277\n",
              "        32    275\n",
              "        2     274\n",
              "        3     274\n",
              "        4     274\n",
              "        14    274\n",
              "        15    274\n",
              "        23    274\n",
              "        37    274\n",
              "        5     273\n",
              "        6     273\n",
              "        21    272\n",
              "        28    272\n",
              "        9     270\n",
              "        12    270\n",
              "        13    270\n",
              "        8     268\n",
              "        34    247\n",
              "        11    246\n",
              "        17    245\n",
              "        1     220\n",
              "        16    217\n",
              "        33    217\n",
              "        36    214\n",
              "        18    164\n",
              "        29    110\n",
              "2021    5     281\n",
              "        1     280\n",
              "        6     275\n",
              "        2     273\n",
              "        4     273\n",
              "        3     270\n",
              "        7     269\n",
              "Name: GW, dtype: int64"
            ]
          },
          "execution_count": 57,
          "metadata": {},
          "output_type": "execute_result"
        }
      ]
    },
    {
      "cell_type": "code",
      "metadata": {
        "colab": {
          "base_uri": "https://localhost:8080/"
        },
        "id": "f8rcIjDo5a0F",
        "outputId": "36a892e7-245a-42eb-f8d7-032bc36e2120"
      },
      "source": [
        "def construct_level_1_training(X, y, models):\n",
        "    meta_X, meta_y, y_index = list(), list(), list()\n",
        "    kfold = KFold(n_splits=N_SPLITS, shuffle=True)\n",
        "    for k, (train_ix, test_ix) in enumerate(kfold.split(X)):\n",
        "        fold_yhats = list()\n",
        "        train_X, test_X = X.iloc[train_ix, :], X.iloc[test_ix, :]\n",
        "        encoded_train_X, encoded_test_X = encode_categoricals(train_X), encode_categoricals(test_X)\n",
        "        train_y, test_y = y.iloc[train_ix], y.iloc[test_ix]\n",
        "        meta_y.extend(test_y)\n",
        "        y_index.extend(test_ix)\n",
        "        start = time.time()\n",
        "         # Out of fold predictions  \n",
        "        for name, model in models:\n",
        "            X_train = train_X if name in ['CBoost'] else encoded_train_X\n",
        "            X_test = test_X if name in ['CBoost'] else encoded_test_X\n",
        "            model.fit(X_train, train_y)  \n",
        "            yhat = model.predict(X_test)  \n",
        "            fold_yhats.append(yhat.reshape(len(yhat), 1)) \n",
        "         # Model predictions as columns\n",
        "        meta_X.append(hstack(fold_yhats))\n",
        "        print(f'Fold {k+1}: {round(time.time()-start,3)} seconds') \n",
        "    # Note, not rounded or unscaled\n",
        "    meta_X = pd.DataFrame(vstack(meta_X), columns = [name for name, _ in get_models()], index=y_index)\n",
        "    X_oof_train = pd.merge(meta_X, X, left_index=True, right_index=True) \n",
        "    return X_oof_train\n",
        "\n",
        "\n",
        "def get_models(cat_features = None):\n",
        "\n",
        "    models = list()\n",
        "    # Linear Regression\n",
        "    models.append(('LR', Pipeline([('selector', get_bwd_data), ('LR', LinearRegression())]))) # Done\n",
        "    # CatBoost\n",
        "    models.append(('CBoost', Pipeline([('CBoost', cb.CatBoostRegressor(loss_function='RMSE', cat_features = cat_features,\n",
        "                                                                       task_type=TASK_TYPE, logging_level='Silent', depth = 6,\n",
        "                                                                       l2_leaf_reg = 1, learning_rate = 0.03,\n",
        "                                                                       bagging_temperature = 0.1, iterations = ITERATIONS))]))) \n",
        "    # SVR\n",
        "    models.append(('SVR', Pipeline([('selector', get_bor_data), ('SVR', SVR(C=6, cache_size=200, coef0=0.0, degree=3, epsilon=0.6, gamma=0.005, \n",
        "                                                                            kernel='rbf', max_iter=-1, shrinking=True, tol=0.001, verbose=False))]))) \n",
        "    # KNN\n",
        "    models.append(('KNN', Pipeline([('selector', get_knn_data), ('KNN', KNeighborsRegressor(algorithm='kd_tree', leaf_size=1, metric='manhattan',\n",
        "                                                                                            metric_params=None, n_jobs=8, n_neighbors=86, p=2,\n",
        "                                                                                            weights='distance'))]))) \n",
        "    # Neural Network\n",
        "    models.append(('MLP', Pipeline([('selector', get_bor_data), ('MLP', MLPRegressor(activation='identity', alpha=1e-05, batch_size=16, beta_1=0.9,\n",
        "                                                                                     beta_2=0.999, early_stopping=True, epsilon=1e-07,\n",
        "                                                                                     hidden_layer_sizes=(64, 128), learning_rate='constant',\n",
        "                                                                                     learning_rate_init=0.0001, max_fun=15000, max_iter=50,\n",
        "                                                                                     momentum=0.9, n_iter_no_change=10, nesterovs_momentum=True,\n",
        "                                                                                     power_t=0.5, random_state=0, shuffle=True, solver='adam',\n",
        "                                                                                     tol=1e-08, validation_fraction=0.1, verbose=False,\n",
        "                                                                                     warm_start=False))])))  \n",
        "    return models\n",
        "\n",
        "\n",
        "\n",
        "def get_empty_stadium_training_data(GW, df, df_encoded, X_oof_train, std_x, std_y): \n",
        "    if GW == 1:\n",
        "        # Get, sort and round numerical precision..\n",
        "        df = pd.read_csv('./drive/MyDrive/Data/rollbacked_us_testing.csv').round(8).sort_values(by = ['season', 'GW', 'player_name', 'kickoff_time'])\n",
        "        df = df[df['kickoff_time'] > '2020-04-01'] # Empty stadiums\n",
        "        df.reset_index(inplace = True, drop = True)\n",
        "        # Encode cats\n",
        "        df_encoded = encode_categoricals(df)\n",
        "        # Scale data\n",
        "        for data in [df_encoded, df]:\n",
        "            scaled_cols, error_cols, std_x, std_y = [], [], StandardScaler(), StandardScaler()\n",
        "            for col in data.select_dtypes(include = 'number').drop([col1 for col1 in DROP_COLS if col1 in data.select_dtypes(include = 'number').columns], axis = 1).columns:\n",
        "                if data[col].nunique() > 2:\n",
        "                    scaled_cols.append(col)\n",
        "                if data[col].min() < 1e-7:\n",
        "                    error_cols.append(col)\n",
        "            data[scaled_cols] = std_x.fit_transform(data[scaled_cols])\n",
        "            data['total_points'] = std_y.fit_transform(data['total_points'].to_numpy().reshape(-1, 1))\n",
        "\n",
        "        # Create a fresh OOF training set for the /22 season\n",
        "        X, _, y, _ = split_dfs(df, GW, szn = 2021) \n",
        "        X_oof_train = construct_level_1_training(X, y, models = get_models(cat_features = np.where(X.dtypes == 'object')[0]))\n",
        "        X_oof_train.to_csv('/content/drive/MyDrive/Predictions/unrounded_out_of_fold_21.csv', index = False)\n",
        "        # X_oof_train =  pd.read_csv('/content/drive/MyDrive/Predictions/out_of_fold_21.csv').round(8).sort_values(by = ['season', 'GW', 'player_name', 'kickoff_time'])\n",
        "    else:\n",
        "        pass \n",
        "\n",
        "  \n",
        "    # Construct data for CBoost base + get indexers\n",
        "    X_train, X_test, y_train, y_test, idxrs_test = split_dfs(df, GW, idx = True, szn = 2021) \n",
        "\n",
        "    # Construct data for other base learners\n",
        "    X_train_encoded, X_test_encoded, y_train_encoded, y_test_encoded = split_dfs(df_encoded, GW, szn = 2021) # Does not contain player name\n",
        "    \n",
        "    return X_train, X_test, X_train_encoded, X_test_encoded, y_train, y_test, df, df_encoded, std_x, std_y, X_oof_train, idxrs_test\n",
        "\n",
        "def main():\n",
        "    # For all gameweeks\n",
        "    for GW in list(range(1,8)): # Predict for first seven gameweeks\n",
        "        if not VERBOSE:\n",
        "            print(GW)\n",
        "        if GW == 1:\n",
        "            results, df, df_encoded, std_x, std_y, X_oof_train = [], [], [], [], [], []\n",
        "        else:\n",
        "            pass\n",
        "        # Level-0 training + testing sets\n",
        "        X_train, X_test, X_train_encoded, X_test_encoded, y_train, y_test, df, df_encoded, std_x, std_y, X_oof_train, idxrs_test = get_empty_stadium_training_data(GW, df, df_encoded, X_oof_train, std_x, std_y)\n",
        "        # Construct level-1 training + testing sets\n",
        "        X_oof_test, y_oof_true, cat_features_train,  models, X_oof_train = construct_oof_data(GW, X_train, X_test, X_train_encoded, X_test_encoded, y_train, y_test, X_oof_train)\n",
        "        # Fit meta-learner on level-1 training set\n",
        "        meta_model = fit_meta_model(GW, X_oof_train, y_train, X_oof_test, y_oof_true) \n",
        "        # Predict using meta_model\n",
        "        meta_preds = meta_model.predict(X_oof_test)\n",
        "        # Print weekly RMSE\n",
        "        if VERBOSE:\n",
        "            print(f'{GW} : Meta-learner : RMSE = {sqrt(mean_squared_error(np.round(std_y.inverse_transform(y_test)), np.round(std_y.inverse_transform(meta_preds))))}')\n",
        "            for name, _ in models:\n",
        "                print(f'{GW} : {name} : RMSE = {sqrt(mean_squared_error(np.round(std_y.inverse_transform(y_test)), np.round(std_y.inverse_transform(X_oof_test[name]))))}')\n",
        "        # Should response be rounded\n",
        "        if ROUND:\n",
        "            for name, _ in models:\n",
        "                idxrs_test[name] = np.round(std_y.inverse_transform(X_oof_test[name]))\n",
        "            idxrs_test['Meta'] = np.round(std_y.inverse_transform(meta_preds))\n",
        "        else: \n",
        "            for name, _ in models:\n",
        "                idxrs_test[name] = std_y.inverse_transform(X_oof_test[name])\n",
        "            idxrs_test['Meta'] = std_y.inverse_transform(meta_preds)\n",
        "        # Save weekly results\n",
        "        results.append(idxrs_test)\n",
        "    # Concatenate all predictions\n",
        "    df_preds = pd.concat(results).reset_index(drop=True)    \n",
        "    # Save the results with the original player name\n",
        "    df = pd.read_csv('/content/drive/MyDrive/Data/collected_us_updated.csv')[['player_name', 'position', 'team', 'value', 'kickoff_time', 'total_points']]\n",
        "    df = df[df['kickoff_time'] > '2021-08-01'] # Predicted for the /22 season\n",
        "    df_preds = pd.merge(df_preds, df, on = ['player_name', 'kickoff_time'])\n",
        "    df_preds.to_csv('/content/drive/MyDrive/Predictions/empty_stadium_performance.csv', index = False)\n",
        "    # Use the previous gameweek testing results as early stopping criterion\n",
        "\n",
        "# Test parameters\n",
        "N_SPLITS = 10\n",
        "TASK_TYPE = 'CPU' # GPU is giving inconsistent results\n",
        "ITERATIONS = 1000 \n",
        "VERBOSE = True\n",
        "PROPAGATE = True # Player name, team and opponent team features\n",
        "ROUND = True\n",
        "EARLY_STOPPING = True\n",
        "OHE_COLS =  ['team', 'position', 'opponent_team', 'position_location', 'premium_players']\n",
        "DROP_COLS = ['kickoff_time', 'total_points', 'GW', 'season']\n",
        "main()"
      ],
      "execution_count": null,
      "outputs": [
        {
          "name": "stdout",
          "output_type": "stream",
          "text": [
            "Fold 1: 48.077 seconds\n",
            "Fold 2: 46.967 seconds\n",
            "Fold 3: 44.854 seconds\n",
            "Fold 4: 46.646 seconds\n",
            "Fold 5: 48.403 seconds\n",
            "Fold 6: 47.365 seconds\n",
            "Fold 7: 49.691 seconds\n",
            "Fold 8: 46.748 seconds\n",
            "Fold 9: 46.791 seconds\n",
            "Fold 10: 44.708 seconds\n",
            "1: LR: 0.023 seconds\n",
            "1: CBoost: 21.611 seconds\n",
            "1: SVR: 10.561 seconds\n",
            "1: KNN: 0.685 seconds\n",
            "1: MLP: 6.543 seconds\n",
            "1: Meta: 13.382 seconds\n",
            "1 : Meta-learner : RMSE = 3.1920660573186317\n",
            "1 : LR : RMSE = 2.9477594396907145\n",
            "1 : CBoost : RMSE = 2.90381522434587\n",
            "1 : SVR : RMSE = 2.9111853256019273\n",
            "1 : KNN : RMSE = 3.0231251569006723\n",
            "1 : MLP : RMSE = 2.909958271669397\n",
            "2: LR: 0.028 seconds\n",
            "2: CBoost: 12.945 seconds\n",
            "2: SVR: 11.06 seconds\n",
            "2: KNN: 0.787 seconds\n",
            "2: MLP: 14.41 seconds\n",
            "2: Meta: 44.999 seconds\n",
            "2 : Meta-learner : RMSE = 3.075365906339514\n",
            "2 : LR : RMSE = 2.845856830359022\n",
            "2 : CBoost : RMSE = 2.776141154004909\n",
            "2 : SVR : RMSE = 2.9581946776565857\n",
            "2 : KNN : RMSE = 2.8727595187810717\n",
            "2 : MLP : RMSE = 2.840703622273374\n",
            "3: LR: 0.021 seconds\n",
            "3: CBoost: 8.934 seconds\n",
            "3: SVR: 11.503 seconds\n",
            "3: KNN: 0.788 seconds\n"
          ]
        },
        {
          "name": "stderr",
          "output_type": "stream",
          "text": [
            "/usr/local/lib/python3.7/dist-packages/sklearn/neural_network/_multilayer_perceptron.py:571: ConvergenceWarning: Stochastic Optimizer: Maximum iterations (50) reached and the optimization hasn't converged yet.\n",
            "  % self.max_iter, ConvergenceWarning)\n"
          ]
        },
        {
          "name": "stdout",
          "output_type": "stream",
          "text": [
            "3: MLP: 21.719 seconds\n",
            "3: Meta: 32.832 seconds\n",
            "3 : Meta-learner : RMSE = 2.796823595120404\n",
            "3 : LR : RMSE = 2.5298221281347035\n",
            "3 : CBoost : RMSE = 2.5393204106902596\n",
            "3 : SVR : RMSE = 2.5582111805799856\n",
            "3 : KNN : RMSE = 2.621139136018989\n",
            "3 : MLP : RMSE = 2.536401650632907\n",
            "4: LR: 0.023 seconds\n",
            "4: CBoost: 14.187 seconds\n",
            "4: SVR: 11.841 seconds\n",
            "4: KNN: 0.788 seconds\n",
            "4: MLP: 9.699 seconds\n",
            "4: Meta: 46.661 seconds\n",
            "4 : Meta-learner : RMSE = 2.9113897843110044\n",
            "4 : LR : RMSE = 2.7389471520698425\n",
            "4 : CBoost : RMSE = 2.760262237369417\n",
            "4 : SVR : RMSE = 2.7396157587323273\n",
            "4 : KNN : RMSE = 2.836186884525779\n",
            "4 : MLP : RMSE = 2.718812496650218\n",
            "5: LR: 0.027 seconds\n",
            "5: CBoost: 15.931 seconds\n",
            "5: SVR: 12.375 seconds\n",
            "5: KNN: 0.897 seconds\n",
            "5: MLP: 19.777 seconds\n",
            "5: Meta: 47.841 seconds\n",
            "5 : Meta-learner : RMSE = 2.8183435734879168\n",
            "5 : LR : RMSE = 2.757713220479188\n",
            "5 : CBoost : RMSE = 2.70823181669401\n",
            "5 : SVR : RMSE = 2.7069174599960224\n",
            "5 : KNN : RMSE = 2.7421839751804864\n",
            "5 : MLP : RMSE = 2.742832782471047\n",
            "6: LR: 0.027 seconds\n",
            "6: CBoost: 6.024 seconds\n",
            "6: SVR: 13.098 seconds\n",
            "6: KNN: 0.897 seconds\n",
            "6: MLP: 8.213 seconds\n",
            "6: Meta: 33.0 seconds\n",
            "6 : Meta-learner : RMSE = 2.6900490025952384\n",
            "6 : LR : RMSE = 2.597901250835164\n",
            "6 : CBoost : RMSE = 2.6076809620810595\n",
            "6 : SVR : RMSE = 2.586679162731453\n",
            "6 : KNN : RMSE = 2.57893565078873\n",
            "6 : MLP : RMSE = 2.5761140573281374\n",
            "7: LR: 0.028 seconds\n",
            "7: CBoost: 4.566 seconds\n",
            "7: SVR: 13.743 seconds\n",
            "7: KNN: 0.893 seconds\n",
            "7: MLP: 15.514 seconds\n",
            "7: Meta: 17.8 seconds\n",
            "7 : Meta-learner : RMSE = 2.6457513110645907\n",
            "7 : LR : RMSE = 2.586783681355361\n",
            "7 : CBoost : RMSE = 2.6032578959569976\n",
            "7 : SVR : RMSE = 2.610388169229252\n",
            "7 : KNN : RMSE = 2.642236295149471\n",
            "7 : MLP : RMSE = 2.633781117324994\n"
          ]
        }
      ]
    },
    {
      "cell_type": "code",
      "metadata": {
        "colab": {
          "base_uri": "https://localhost:8080/"
        },
        "id": "N_Zp96lN5a7H",
        "outputId": "661ca860-1d8b-4912-86de-34917695b145"
      },
      "source": [
        "def gameweek_rmses(df):\n",
        "    results = pd.DataFrame(index = np.arange(1,8))\n",
        "    for name, model in get_models(cat_features=None):\n",
        "        RMSE = np.sqrt(mean_squared_error(df['total_points'], df[name]))\n",
        "        results[f'{name}'] = RMSE\n",
        "    results['Meta'] =  np.sqrt(mean_squared_error(df['total_points'], df['Meta']))\n",
        "    results.drop_duplicates(inplace = True)\n",
        "    results['Best Learner'] = results.idxmin(axis=1)\n",
        "    results['Best RMsE'] = results.min(axis=1)\n",
        "    return results.round(3)\n",
        "\n",
        "df = pd.read_csv('/content/drive/MyDrive/Predictions/empty_stadium_performance.csv')\n",
        "results = df.groupby('GW').apply(gameweek_rmses).reset_index()\n",
        "print(results.append(results.sum().rename('Total')).to_latex())\n",
        "print(\"Total season performance\")\n",
        "for name in ['LR', 'KNN', 'MLP', 'SVR', 'CBoost', 'Meta']:\n",
        "    print(f'{name} : {np.sqrt(mean_squared_error(df.total_points, df[name]))}')"
      ],
      "execution_count": null,
      "outputs": [
        {
          "name": "stdout",
          "output_type": "stream",
          "text": [
            "\\begin{tabular}{lrrrrrrrrlr}\n",
            "\\toprule\n",
            "{} &  GW &  level\\_1 &      LR &  CBoost &     SVR &     KNN &     MLP &    Meta &                  Best Learner &  Best RMsE \\\\\n",
            "\\midrule\n",
            "0     &   1 &        1 &   2.948 &   2.904 &   2.911 &   3.023 &   2.910 &   3.192 &                        CBoost &      2.904 \\\\\n",
            "1     &   2 &        1 &   2.846 &   2.776 &   2.958 &   2.873 &   2.841 &   3.075 &                        CBoost &      2.776 \\\\\n",
            "2     &   3 &        1 &   2.530 &   2.539 &   2.558 &   2.621 &   2.536 &   2.797 &                            LR &      2.530 \\\\\n",
            "3     &   4 &        1 &   2.739 &   2.760 &   2.740 &   2.836 &   2.719 &   2.911 &                           MLP &      2.719 \\\\\n",
            "4     &   5 &        1 &   2.760 &   2.704 &   2.706 &   2.744 &   2.745 &   2.820 &                        CBoost &      2.704 \\\\\n",
            "5     &   6 &        1 &   2.700 &   2.721 &   2.690 &   2.670 &   2.680 &   2.776 &                           KNN &      2.670 \\\\\n",
            "6     &   7 &        1 &   2.587 &   2.603 &   2.610 &   2.642 &   2.634 &   2.646 &                            LR &      2.587 \\\\\n",
            "Total &  28 &        7 &  19.110 &  19.007 &  19.173 &  19.409 &  19.065 &  20.217 &  CBoostCBoostLRMLPCBoostKNNLR &     18.890 \\\\\n",
            "\\bottomrule\n",
            "\\end{tabular}\n",
            "\n",
            "Total season performance\n",
            "LR : 2.734578958070525\n",
            "KNN : 2.777086205397267\n",
            "MLP : 2.7270649271484384\n",
            "SVR : 2.743303535104033\n",
            "CBoost : 2.7187659538269036\n",
            "Meta : 2.8945986420748038\n"
          ]
        }
      ]
    },
    {
      "cell_type": "markdown",
      "metadata": {
        "id": "4e8hTWhioRDU"
      },
      "source": [
        "H2o Ensemble (> 80 min)"
      ]
    },
    {
      "cell_type": "code",
      "metadata": {
        "colab": {
          "base_uri": "https://localhost:8080/"
        },
        "id": "rcb1LC3saXuM",
        "outputId": "ac4da4a7-5c5b-4f2d-d232-664826d57cc5"
      },
      "source": [
        "! pip install h2o"
      ],
      "execution_count": null,
      "outputs": [
        {
          "name": "stdout",
          "output_type": "stream",
          "text": [
            "Collecting h2o\n",
            "  Downloading h2o-3.34.0.3.tar.gz (175.8 MB)\n",
            "\u001b[K     |████████████████████████████████| 175.8 MB 33 kB/s \n",
            "\u001b[?25hRequirement already satisfied: requests in /usr/local/lib/python3.7/dist-packages (from h2o) (2.23.0)\n",
            "Requirement already satisfied: tabulate in /usr/local/lib/python3.7/dist-packages (from h2o) (0.8.9)\n",
            "Requirement already satisfied: future in /usr/local/lib/python3.7/dist-packages (from h2o) (0.16.0)\n",
            "Requirement already satisfied: certifi>=2017.4.17 in /usr/local/lib/python3.7/dist-packages (from requests->h2o) (2021.5.30)\n",
            "Requirement already satisfied: idna<3,>=2.5 in /usr/local/lib/python3.7/dist-packages (from requests->h2o) (2.10)\n",
            "Requirement already satisfied: chardet<4,>=3.0.2 in /usr/local/lib/python3.7/dist-packages (from requests->h2o) (3.0.4)\n",
            "Requirement already satisfied: urllib3!=1.25.0,!=1.25.1,<1.26,>=1.21.1 in /usr/local/lib/python3.7/dist-packages (from requests->h2o) (1.24.3)\n",
            "Building wheels for collected packages: h2o\n",
            "  Building wheel for h2o (setup.py) ... \u001b[?25l\u001b[?25hdone\n",
            "  Created wheel for h2o: filename=h2o-3.34.0.3-py2.py3-none-any.whl size=175832480 sha256=bee5dd1969f4deea783f46dee5f82766c731d8c838beb45c4b86fa157e1cc03c\n",
            "  Stored in directory: /root/.cache/pip/wheels/2a/52/cf/01f6938288f0731963463ff72510db67f9f3076f801038b2f7\n",
            "Successfully built h2o\n",
            "Installing collected packages: h2o\n",
            "Successfully installed h2o-3.34.0.3\n"
          ]
        }
      ]
    },
    {
      "cell_type": "code",
      "metadata": {
        "colab": {
          "base_uri": "https://localhost:8080/",
          "height": 525
        },
        "id": "JXq28rf9esdE",
        "outputId": "413c253f-ed53-433f-c1b4-f9dcd2eea881"
      },
      "source": [
        "import h2o\n",
        "from h2o.automl import H2OAutoML\n",
        "h2o.init(max_mem_size='16G')\n"
      ],
      "execution_count": null,
      "outputs": [
        {
          "name": "stdout",
          "output_type": "stream",
          "text": [
            "Checking whether there is an H2O instance running at http://localhost:54321 ..... not found.\n",
            "Attempting to start a local H2O server...\n",
            "  Java Version: openjdk version \"11.0.11\" 2021-04-20; OpenJDK Runtime Environment (build 11.0.11+9-Ubuntu-0ubuntu2.18.04); OpenJDK 64-Bit Server VM (build 11.0.11+9-Ubuntu-0ubuntu2.18.04, mixed mode, sharing)\n",
            "  Starting server from /usr/local/lib/python3.7/dist-packages/h2o/backend/bin/h2o.jar\n",
            "  Ice root: /tmp/tmp0szfp17i\n",
            "  JVM stdout: /tmp/tmp0szfp17i/h2o_unknownUser_started_from_python.out\n",
            "  JVM stderr: /tmp/tmp0szfp17i/h2o_unknownUser_started_from_python.err\n",
            "  Server is running at http://127.0.0.1:54321\n",
            "Connecting to H2O server at http://127.0.0.1:54321 ... successful.\n"
          ]
        },
        {
          "data": {
            "text/html": [
              "<div style=\"overflow:auto\"><table style=\"width:50%\"><tr><td>H2O_cluster_uptime:</td>\n",
              "<td>02 secs</td></tr>\n",
              "<tr><td>H2O_cluster_timezone:</td>\n",
              "<td>Etc/UTC</td></tr>\n",
              "<tr><td>H2O_data_parsing_timezone:</td>\n",
              "<td>UTC</td></tr>\n",
              "<tr><td>H2O_cluster_version:</td>\n",
              "<td>3.34.0.3</td></tr>\n",
              "<tr><td>H2O_cluster_version_age:</td>\n",
              "<td>29 days </td></tr>\n",
              "<tr><td>H2O_cluster_name:</td>\n",
              "<td>H2O_from_python_unknownUser_kdixsg</td></tr>\n",
              "<tr><td>H2O_cluster_total_nodes:</td>\n",
              "<td>1</td></tr>\n",
              "<tr><td>H2O_cluster_free_memory:</td>\n",
              "<td>16 Gb</td></tr>\n",
              "<tr><td>H2O_cluster_total_cores:</td>\n",
              "<td>2</td></tr>\n",
              "<tr><td>H2O_cluster_allowed_cores:</td>\n",
              "<td>2</td></tr>\n",
              "<tr><td>H2O_cluster_status:</td>\n",
              "<td>locked, healthy</td></tr>\n",
              "<tr><td>H2O_connection_url:</td>\n",
              "<td>http://127.0.0.1:54321</td></tr>\n",
              "<tr><td>H2O_connection_proxy:</td>\n",
              "<td>{\"http\": null, \"https\": null}</td></tr>\n",
              "<tr><td>H2O_internal_security:</td>\n",
              "<td>False</td></tr>\n",
              "<tr><td>H2O_API_Extensions:</td>\n",
              "<td>Amazon S3, XGBoost, Algos, AutoML, Core V3, TargetEncoder, Core V4</td></tr>\n",
              "<tr><td>Python_version:</td>\n",
              "<td>3.7.12 final</td></tr></table></div>"
            ],
            "text/plain": [
              "--------------------------  ------------------------------------------------------------------\n",
              "H2O_cluster_uptime:         02 secs\n",
              "H2O_cluster_timezone:       Etc/UTC\n",
              "H2O_data_parsing_timezone:  UTC\n",
              "H2O_cluster_version:        3.34.0.3\n",
              "H2O_cluster_version_age:    29 days\n",
              "H2O_cluster_name:           H2O_from_python_unknownUser_kdixsg\n",
              "H2O_cluster_total_nodes:    1\n",
              "H2O_cluster_free_memory:    16 Gb\n",
              "H2O_cluster_total_cores:    2\n",
              "H2O_cluster_allowed_cores:  2\n",
              "H2O_cluster_status:         locked, healthy\n",
              "H2O_connection_url:         http://127.0.0.1:54321\n",
              "H2O_connection_proxy:       {\"http\": null, \"https\": null}\n",
              "H2O_internal_security:      False\n",
              "H2O_API_Extensions:         Amazon S3, XGBoost, Algos, AutoML, Core V3, TargetEncoder, Core V4\n",
              "Python_version:             3.7.12 final\n",
              "--------------------------  ------------------------------------------------------------------"
            ]
          },
          "metadata": {},
          "output_type": "display_data"
        }
      ]
    },
    {
      "cell_type": "code",
      "metadata": {
        "colab": {
          "base_uri": "https://localhost:8080/"
        },
        "id": "Qt6oCulloa7e",
        "outputId": "663ca69f-8391-4191-e297-a3fb01b71cfd"
      },
      "source": [
        "def split_dfs(df, GW, szn = 2020, idx = False):\n",
        "    df_test = df[(df['season'] == szn) & (df['GW'] == GW)]\n",
        "    df_train = df[df['kickoff_time'] < df_test['kickoff_time'].min()]\n",
        "    y_train = X_train['total_points']\n",
        "    if idx == True:\n",
        "        idxrs_test = X_test[['player_name', 'kickoff_time', 'GW', 'season']]\n",
        "        X_test, X_train = X_test.drop(DROP_COLS, axis = 1), X_train.drop(DROP_COLS, axis = 1) \n",
        "        return X_train, X_test, y_train, y_test, idxrs_test\n",
        "    else:\n",
        "        # Removes kickoff time, gameweek, season and total points\n",
        "        X_test, X_train = X_test.drop(DROP_COLS, axis = 1), X_train.drop(DROP_COLS, axis = 1) \n",
        "        return X_train, X_test, y_train, y_test\n",
        "\n",
        "def main():\n",
        "    # For all gameweeks\n",
        "    df = h2o.import_file('./drive/MyDrive/Data/rollbacked_us_testing.csv', col_types={'kickoff_time':'time'})\n",
        "    df = df[df['season'] < 2021]\n",
        "    for GW in list(range(1,39)):\n",
        "        print(GW)\n",
        "        df_test = df[(df['season'] == 2020) & (df['GW'] == GW)]\n",
        "        df_train = df[df['kickoff_time'] < df_test['kickoff_time'].min()]\n",
        "        if GW == 1:\n",
        "            results = df_test[['player_name', 'kickoff_time', 'GW', 'season', 'total_points']]\n",
        "            results['automl'] = 0\n",
        "            results = results[results['kickoff_time'] > '2025-08-01' ]\n",
        "        idxrs_test = df_test[['player_name', 'kickoff_time', 'GW', 'season', 'total_points']] \n",
        "        df_train, df_test = df_train.drop(DROP_COLS, axis = 1), df_test.drop(DROP_COLS, axis = 1)\n",
        "        aml = H2OAutoML(max_runtime_secs=MAX_TIME, seed=1,export_checkpoints_dir = '/content/drive/MyDrive/Predictions/h2o_export/')\n",
        "        aml.train(x=df_train.columns, y='total_points', training_frame = df_train)\n",
        "        idxrs_test['automl'] = aml.predict(df_test)\n",
        "        results = results.rbind(idxrs_test)\n",
        "    h2o.export_file(results, path = f\"/content/drive/MyDrive/Predictions/h2o_export/h2o_results.csv\", force= True )\n",
        "\n",
        "DROP_COLS = ['kickoff_time',  'GW', 'season', 'player_name']\n",
        "MAX_TIME = 240\n",
        "main()\n",
        "   "
      ],
      "execution_count": null,
      "outputs": [
        {
          "name": "stdout",
          "output_type": "stream",
          "text": [
            "Parse progress: |████████████████████████████████████████████████████████████████| (done) 100%\n",
            "1\n",
            "AutoML progress: |███████████████████████████████████████████████████████████████| (done) 100%\n",
            "stackedensemble prediction progress: |███████████████████████████████████████████| (done) 100%\n",
            "2\n",
            "AutoML progress: |███████████████████████████████████████████████████████████████| (done) 100%\n",
            "stackedensemble prediction progress: |███████████████████████████████████████████| (done) 100%\n",
            "3\n",
            "AutoML progress: |███████████████████████████████████████████████████████████████| (done) 100%\n",
            "stackedensemble prediction progress: |███████████████████████████████████████████| (done) 100%\n",
            "4\n",
            "AutoML progress: |███████████████████████████████████████████████████████████████| (done) 100%\n",
            "stackedensemble prediction progress: |███████████████████████████████████████████| (done) 100%\n",
            "5\n",
            "AutoML progress: |███████████████████████████████████████████████████████████████| (done) 100%\n",
            "stackedensemble prediction progress: |███████████████████████████████████████████| (done) 100%\n",
            "6\n",
            "AutoML progress: |███████████████████████████████████████████████████████████████| (done) 100%\n",
            "stackedensemble prediction progress: |███████████████████████████████████████████| (done) 100%\n",
            "7\n",
            "AutoML progress: |███████████████████████████████████████████████████████████████| (done) 100%\n",
            "stackedensemble prediction progress: |███████████████████████████████████████████| (done) 100%\n",
            "8\n",
            "AutoML progress: |███████████████████████████████████████████████████████████████| (done) 100%\n",
            "stackedensemble prediction progress: |███████████████████████████████████████████| (done) 100%\n",
            "9\n",
            "AutoML progress: |███████████████████████████████████████████████████████████████| (done) 100%\n",
            "stackedensemble prediction progress: |███████████████████████████████████████████| (done) 100%\n",
            "10\n",
            "AutoML progress: |███████████████████████████████████████████████████████████████| (done) 100%\n",
            "stackedensemble prediction progress: |███████████████████████████████████████████| (done) 100%\n",
            "11\n",
            "AutoML progress: |███████████████████████████████████████████████████████████████| (done) 100%\n",
            "stackedensemble prediction progress: |███████████████████████████████████████████| (done) 100%\n",
            "12\n",
            "AutoML progress: |███████████████████████████████████████████████████████████████| (done) 100%\n",
            "stackedensemble prediction progress: |███████████████████████████████████████████| (done) 100%\n",
            "13\n",
            "AutoML progress: |███████████████████████████████████████████████████████████████| (done) 100%\n",
            "stackedensemble prediction progress: |███████████████████████████████████████████| (done) 100%\n",
            "14\n",
            "AutoML progress: |███████████████████████████████████████████████████████████████| (done) 100%\n",
            "stackedensemble prediction progress: |███████████████████████████████████████████| (done) 100%\n",
            "15\n",
            "AutoML progress: |███████████████████████████████████████████████████████████████| (done) 100%\n",
            "stackedensemble prediction progress: |███████████████████████████████████████████| (done) 100%\n",
            "16\n",
            "AutoML progress: |███████████████████████████████████████████████████████████████| (done) 100%\n",
            "stackedensemble prediction progress: |███████████████████████████████████████████| (done) 100%\n",
            "17\n",
            "AutoML progress: |███████████████████████████████████████████████████████████████| (done) 100%\n",
            "stackedensemble prediction progress: |███████████████████████████████████████████| (done) 100%\n",
            "18\n",
            "AutoML progress: |███████████████████████████████████████████████████████████████| (done) 100%\n",
            "stackedensemble prediction progress: |███████████████████████████████████████████| (done) 100%\n",
            "19\n",
            "AutoML progress: |███████████████████████████████████████████████████████████████| (done) 100%\n",
            "stackedensemble prediction progress: |███████████████████████████████████████████| (done) 100%\n",
            "20\n",
            "AutoML progress: |███████████████████████████████████████████████████████████████| (done) 100%\n",
            "stackedensemble prediction progress: |███████████████████████████████████████████| (done) 100%\n",
            "21\n",
            "AutoML progress: |███████████████████████████████████████████████████████████████| (done) 100%\n",
            "stackedensemble prediction progress: |███████████████████████████████████████████| (done) 100%\n",
            "22\n",
            "AutoML progress: |███████████████████████████████████████████████████████████████| (done) 100%\n",
            "stackedensemble prediction progress: |███████████████████████████████████████████| (done) 100%\n",
            "23\n",
            "AutoML progress: |███████████████████████████████████████████████████████████████| (done) 100%\n",
            "stackedensemble prediction progress: |███████████████████████████████████████████| (done) 100%\n",
            "24\n",
            "AutoML progress: |███████████████████████████████████████████████████████████████| (done) 100%\n",
            "stackedensemble prediction progress: |███████████████████████████████████████████| (done) 100%\n",
            "25\n",
            "AutoML progress: |███████████████████████████████████████████████████████████████| (done) 100%\n",
            "stackedensemble prediction progress: |███████████████████████████████████████████| (done) 100%\n",
            "26\n",
            "AutoML progress: |███████████████████████████████████████████████████████████████| (done) 100%\n",
            "stackedensemble prediction progress: |███████████████████████████████████████████| (done) 100%\n",
            "27\n",
            "AutoML progress: |███████████████████████████████████████████████████████████████| (done) 100%\n",
            "stackedensemble prediction progress: |███████████████████████████████████████████| (done) 100%\n",
            "28\n",
            "AutoML progress: |███████████████████████████████████████████████████████████████| (done) 100%\n",
            "stackedensemble prediction progress: |███████████████████████████████████████████| (done) 100%\n",
            "29\n",
            "AutoML progress: |███████████████████████████████████████████████████████████████| (done) 100%\n",
            "stackedensemble prediction progress: |███████████████████████████████████████████| (done) 100%\n",
            "30\n",
            "AutoML progress: |███████████████████████████████████████████████████████████████| (done) 100%\n",
            "stackedensemble prediction progress: |███████████████████████████████████████████| (done) 100%\n",
            "31\n",
            "AutoML progress: |███████████████████████████████████████████████████████████████| (done) 100%\n",
            "stackedensemble prediction progress: |███████████████████████████████████████████| (done) 100%\n",
            "32\n",
            "AutoML progress: |███████████████████████████████████████████████████████████████| (done) 100%\n",
            "stackedensemble prediction progress: |███████████████████████████████████████████| (done) 100%\n",
            "33\n",
            "AutoML progress: |███████████████████████████████████████████████████████████████| (done) 100%\n",
            "stackedensemble prediction progress: |███████████████████████████████████████████| (done) 100%\n",
            "34\n",
            "AutoML progress: |███████████████████████████████████████████████████████████████| (done) 100%\n",
            "stackedensemble prediction progress: |███████████████████████████████████████████| (done) 100%\n",
            "35\n",
            "AutoML progress: |███████████████████████████████████████████████████████████████| (done) 100%\n",
            "stackedensemble prediction progress: |███████████████████████████████████████████| (done) 100%\n",
            "36\n",
            "AutoML progress: |███████████████████████████████████████████████████████████████| (done) 100%\n",
            "stackedensemble prediction progress: |███████████████████████████████████████████| (done) 100%\n",
            "37\n",
            "AutoML progress: |███████████████████████████████████████████████████████████████| (done) 100%\n",
            "stackedensemble prediction progress: |███████████████████████████████████████████| (done) 100%\n",
            "38\n",
            "AutoML progress: |███████████████████████████████████████████████████████████████| (done) 100%\n",
            "stackedensemble prediction progress: |███████████████████████████████████████████| (done) 100%\n",
            "Export File progress: |██████████████████████████████████████████████████████████| (done) 100%\n"
          ]
        }
      ]
    },
    {
      "cell_type": "code",
      "metadata": {
        "colab": {
          "base_uri": "https://localhost:8080/"
        },
        "id": "XBRB0NiWe88J",
        "outputId": "71220093-91af-4d69-e0b6-f5e76a151582"
      },
      "source": [
        "def gameweek_rmses(df):\n",
        "    results = pd.DataFrame(index = np.arange(1,8))\n",
        "    RMSE = np.sqrt(mean_squared_error(df['total_points'], round(df['automl'])))\n",
        "    results['H2o'] = RMSE\n",
        "    results.drop_duplicates(inplace = True)\n",
        "    return results.round(3)\n",
        "\n",
        "df = pd.read_csv('/content/drive/MyDrive/Predictions/h2o_results.csv')\n",
        "# df = pd.read_csv('/content/drive/MyDrive/Predictions/h2o_export/h2o_results.csv')\n",
        "results = df.groupby('GW').apply(gameweek_rmses).reset_index()\n",
        "print(results.append(results.sum().rename('Total')).to_latex())\n",
        "print(\"Total season performance\")\n",
        "# df = pd.read_csv('./drive/MyDrive/Data/rollbacked_us_testing.csv')\n",
        "# df[df['season'] == 2020]"
      ],
      "execution_count": null,
      "outputs": [
        {
          "output_type": "stream",
          "name": "stdout",
          "text": [
            "\\begin{tabular}{lrrr}\n",
            "\\toprule\n",
            "{} &     GW &  level\\_1 &      H2o \\\\\n",
            "\\midrule\n",
            "0     &    1.0 &      1.0 &    3.136 \\\\\n",
            "1     &    2.0 &      1.0 &    3.496 \\\\\n",
            "2     &    3.0 &      1.0 &    2.973 \\\\\n",
            "3     &    4.0 &      1.0 &    3.758 \\\\\n",
            "4     &    5.0 &      1.0 &    2.703 \\\\\n",
            "5     &    6.0 &      1.0 &    2.637 \\\\\n",
            "6     &    7.0 &      1.0 &    2.943 \\\\\n",
            "7     &    8.0 &      1.0 &    2.646 \\\\\n",
            "8     &    9.0 &      1.0 &    2.500 \\\\\n",
            "9     &   10.0 &      1.0 &    2.948 \\\\\n",
            "10    &   11.0 &      1.0 &    2.628 \\\\\n",
            "11    &   12.0 &      1.0 &    2.707 \\\\\n",
            "12    &   13.0 &      1.0 &    2.692 \\\\\n",
            "13    &   14.0 &      1.0 &    3.077 \\\\\n",
            "14    &   15.0 &      1.0 &    2.694 \\\\\n",
            "15    &   16.0 &      1.0 &    2.500 \\\\\n",
            "16    &   17.0 &      1.0 &    2.846 \\\\\n",
            "17    &   18.0 &      1.0 &    2.426 \\\\\n",
            "18    &   19.0 &      1.0 &    2.772 \\\\\n",
            "19    &   20.0 &      1.0 &    2.823 \\\\\n",
            "20    &   21.0 &      1.0 &    2.793 \\\\\n",
            "21    &   22.0 &      1.0 &    2.956 \\\\\n",
            "22    &   23.0 &      1.0 &    2.744 \\\\\n",
            "23    &   24.0 &      1.0 &    2.878 \\\\\n",
            "24    &   25.0 &      1.0 &    2.536 \\\\\n",
            "25    &   26.0 &      1.0 &    2.668 \\\\\n",
            "26    &   27.0 &      1.0 &    2.907 \\\\\n",
            "27    &   28.0 &      1.0 &    2.438 \\\\\n",
            "28    &   29.0 &      1.0 &    2.671 \\\\\n",
            "29    &   30.0 &      1.0 &    3.091 \\\\\n",
            "30    &   31.0 &      1.0 &    2.973 \\\\\n",
            "31    &   32.0 &      1.0 &    2.518 \\\\\n",
            "32    &   33.0 &      1.0 &    2.703 \\\\\n",
            "33    &   34.0 &      1.0 &    2.620 \\\\\n",
            "34    &   35.0 &      1.0 &    2.688 \\\\\n",
            "35    &   36.0 &      1.0 &    3.109 \\\\\n",
            "36    &   37.0 &      1.0 &    2.662 \\\\\n",
            "37    &   38.0 &      1.0 &    3.002 \\\\\n",
            "Total &  741.0 &     38.0 &  106.862 \\\\\n",
            "\\bottomrule\n",
            "\\end{tabular}\n",
            "\n",
            "Total season performance\n"
          ]
        }
      ]
    },
    {
      "cell_type": "markdown",
      "metadata": {
        "id": "fi-KCnvMWShd"
      },
      "source": [
        ""
      ]
    },
    {
      "cell_type": "code",
      "metadata": {
        "id": "_OHxVh1TWS8s"
      },
      "source": [
        ""
      ],
      "execution_count": null,
      "outputs": []
    },
    {
      "cell_type": "code",
      "metadata": {
        "colab": {
          "background_save": true
        },
        "id": "hhuxSQNxfZWc",
        "outputId": "ac0c22a3-3cdd-4b90-cb89-ffb45fd3f873"
      },
      "source": [
        "lb = aml.leaderboard\n",
        "lb.head()"
      ],
      "execution_count": null,
      "outputs": [
        {
          "data": {
            "text/html": [
              "<table>\n",
              "<thead>\n",
              "<tr><th>model_id                                              </th><th style=\"text-align: right;\">  mean_residual_deviance</th><th style=\"text-align: right;\">   rmse</th><th style=\"text-align: right;\">    mse</th><th style=\"text-align: right;\">    mae</th><th style=\"text-align: right;\">  rmsle</th></tr>\n",
              "</thead>\n",
              "<tbody>\n",
              "<tr><td>StackedEnsemble_AllModels_3_AutoML_2_20211105_95444   </td><td style=\"text-align: right;\">                 7.46602</td><td style=\"text-align: right;\">2.7324 </td><td style=\"text-align: right;\">7.46602</td><td style=\"text-align: right;\">1.91812</td><td style=\"text-align: right;\">    nan</td></tr>\n",
              "<tr><td>StackedEnsemble_AllModels_2_AutoML_2_20211105_95444   </td><td style=\"text-align: right;\">                 7.50898</td><td style=\"text-align: right;\">2.74025</td><td style=\"text-align: right;\">7.50898</td><td style=\"text-align: right;\">1.92868</td><td style=\"text-align: right;\">    nan</td></tr>\n",
              "<tr><td>StackedEnsemble_BestOfFamily_4_AutoML_2_20211105_95444</td><td style=\"text-align: right;\">                 7.51406</td><td style=\"text-align: right;\">2.74118</td><td style=\"text-align: right;\">7.51406</td><td style=\"text-align: right;\">1.93095</td><td style=\"text-align: right;\">    nan</td></tr>\n",
              "<tr><td>StackedEnsemble_AllModels_1_AutoML_2_20211105_95444   </td><td style=\"text-align: right;\">                 7.51905</td><td style=\"text-align: right;\">2.74209</td><td style=\"text-align: right;\">7.51905</td><td style=\"text-align: right;\">1.93791</td><td style=\"text-align: right;\">    nan</td></tr>\n",
              "<tr><td>StackedEnsemble_BestOfFamily_3_AutoML_2_20211105_95444</td><td style=\"text-align: right;\">                 7.52255</td><td style=\"text-align: right;\">2.74273</td><td style=\"text-align: right;\">7.52255</td><td style=\"text-align: right;\">1.93289</td><td style=\"text-align: right;\">    nan</td></tr>\n",
              "<tr><td>StackedEnsemble_BestOfFamily_1_AutoML_2_20211105_95444</td><td style=\"text-align: right;\">                 7.53254</td><td style=\"text-align: right;\">2.74455</td><td style=\"text-align: right;\">7.53254</td><td style=\"text-align: right;\">1.94417</td><td style=\"text-align: right;\">    nan</td></tr>\n",
              "<tr><td>StackedEnsemble_BestOfFamily_2_AutoML_2_20211105_95444</td><td style=\"text-align: right;\">                 7.53307</td><td style=\"text-align: right;\">2.74464</td><td style=\"text-align: right;\">7.53307</td><td style=\"text-align: right;\">1.94273</td><td style=\"text-align: right;\">    nan</td></tr>\n",
              "<tr><td>GLM_1_AutoML_2_20211105_95444                         </td><td style=\"text-align: right;\">                 7.62846</td><td style=\"text-align: right;\">2.76197</td><td style=\"text-align: right;\">7.62846</td><td style=\"text-align: right;\">1.98199</td><td style=\"text-align: right;\">    nan</td></tr>\n",
              "<tr><td>GBM_grid_1_AutoML_2_20211105_95444_model_9            </td><td style=\"text-align: right;\">                 7.67012</td><td style=\"text-align: right;\">2.7695 </td><td style=\"text-align: right;\">7.67012</td><td style=\"text-align: right;\">1.94672</td><td style=\"text-align: right;\">    nan</td></tr>\n",
              "<tr><td>GBM_grid_1_AutoML_2_20211105_95444_model_7            </td><td style=\"text-align: right;\">                 7.69536</td><td style=\"text-align: right;\">2.77405</td><td style=\"text-align: right;\">7.69536</td><td style=\"text-align: right;\">1.97656</td><td style=\"text-align: right;\">    nan</td></tr>\n",
              "</tbody>\n",
              "</table>"
            ]
          },
          "metadata": {},
          "output_type": "display_data"
        },
        {
          "data": {
            "text/plain": [
              ""
            ]
          },
          "execution_count": null,
          "metadata": {},
          "output_type": "execute_result"
        }
      ]
    },
    {
      "cell_type": "code",
      "metadata": {
        "colab": {
          "background_save": true
        },
        "id": "3zK3HKNZflvC",
        "outputId": "68c046db-f929-486d-c0ed-384fad44ea8e"
      },
      "source": [
        "pred = aml.predict(test)\n",
        "pred.head()"
      ],
      "execution_count": null,
      "outputs": [
        {
          "name": "stdout",
          "output_type": "stream",
          "text": [
            "stackedensemble prediction progress: |███████████████████████████████████████████| (done) 100%\n"
          ]
        },
        {
          "data": {
            "text/html": [
              "<table>\n",
              "<thead>\n",
              "<tr><th style=\"text-align: right;\">  predict</th></tr>\n",
              "</thead>\n",
              "<tbody>\n",
              "<tr><td style=\"text-align: right;\">  2.96677</td></tr>\n",
              "<tr><td style=\"text-align: right;\">  1.24223</td></tr>\n",
              "<tr><td style=\"text-align: right;\">  3.40559</td></tr>\n",
              "<tr><td style=\"text-align: right;\">  1.89421</td></tr>\n",
              "<tr><td style=\"text-align: right;\">  3.49283</td></tr>\n",
              "<tr><td style=\"text-align: right;\">  1.50029</td></tr>\n",
              "<tr><td style=\"text-align: right;\">  4.83665</td></tr>\n",
              "<tr><td style=\"text-align: right;\">  3.71405</td></tr>\n",
              "<tr><td style=\"text-align: right;\">  4.35036</td></tr>\n",
              "<tr><td style=\"text-align: right;\">  3.22198</td></tr>\n",
              "</tbody>\n",
              "</table>"
            ]
          },
          "metadata": {},
          "output_type": "display_data"
        },
        {
          "data": {
            "text/plain": [
              ""
            ]
          },
          "execution_count": null,
          "metadata": {},
          "output_type": "execute_result"
        }
      ]
    },
    {
      "cell_type": "code",
      "metadata": {
        "colab": {
          "base_uri": "https://localhost:8080/"
        },
        "id": "D4Hj2Wb-fqaO",
        "outputId": "a6201d07-831d-4d12-be58-b0d25f59f909"
      },
      "source": [
        "perf = aml.leader.model_performance(test)\n",
        "perf"
      ],
      "execution_count": null,
      "outputs": [
        {
          "name": "stdout",
          "output_type": "stream",
          "text": [
            "\n",
            "ModelMetricsRegressionGLM: stackedensemble\n",
            "** Reported on test data. **\n",
            "\n",
            "MSE: 7.145803200674479\n",
            "RMSE: 2.673163519254757\n",
            "MAE: 1.8864207014081138\n",
            "RMSLE: NaN\n",
            "R^2: 0.1930173104985583\n",
            "Mean Residual Deviance: 7.145803200674479\n",
            "Null degrees of freedom: 4500\n",
            "Residual degrees of freedom: 4482\n",
            "Null deviance: 39856.25932837164\n",
            "Residual deviance: 32163.260206235827\n",
            "AIC: 21664.61468858056\n"
          ]
        },
        {
          "data": {
            "text/plain": [
              ""
            ]
          },
          "execution_count": 98,
          "metadata": {},
          "output_type": "execute_result"
        }
      ]
    },
    {
      "cell_type": "code",
      "metadata": {
        "id": "NyCc2KJuaOrW"
      },
      "source": [
        "def gameweek_rmses(df):\n",
        "    results = pd.DataFrame(index = np.arange(1,8))\n",
        "    for name, model in get_models(cat_features=None):\n",
        "        RMSE = np.sqrt(mean_squared_error(df['total_points'], df[name]))\n",
        "        results[f'{name}'] = RMSE\n",
        "    results['Meta'] =  np.sqrt(mean_squared_error(df['total_points'], df['Meta']))\n",
        "    results.drop_duplicates(inplace = True)\n",
        "    results['Best Learner'] = results.idxmin(axis=1)\n",
        "    results['Best RMsE'] = results.min(axis=1)\n",
        "    return results.round(3)"
      ],
      "execution_count": null,
      "outputs": []
    },
    {
      "cell_type": "code",
      "metadata": {
        "id": "0VtWXAsundmN"
      },
      "source": [
        "df_preds = pd.read_csv('/content/drive/MyDrive/Predictions/new_meta_early_stop_no_rounding_test_final.csv')\n",
        "df_correct = pd.read_csv('/content/drive/MyDrive/Data/collected_us_updated.csv').sort_values(['season', 'GW', 'player_name',  'kickoff_time'])\n",
        "df_correct = df_correct[df_correct['season'] == 2020]\n",
        "df_correct.reset_index(drop = True, inplace = True)\n",
        "df_preds[['total_points', 'team', 'position']] = df_correct[['total_points', 'team', 'position']]\n",
        "import seaborn as sns\n",
        "import matplotlib.pyplot as plt\n",
        "df_preds['Position'] =df_preds['position']\n",
        "df_preds['Points scored'] = df_preds['total_points']\n",
        "sns.pairplot(df_preds[['LR','CBoost', 'SVR', 'KNN', 'MLP','Meta',\t'Points scored', 'Position']], hue = 'Position', palette = 'magma')\n",
        "plt.savefig('/content/drive/MyDrive/figs/preds.png', bbox_inches='tight') "
      ],
      "execution_count": null,
      "outputs": []
    },
    {
      "cell_type": "code",
      "metadata": {
        "id": "jFKXCTUUqw1A"
      },
      "source": [
        "import seaborn as sns\n",
        "import pandas as pd\n",
        "import matplotlib.pyplot as plt\n",
        "import matplotlib\n",
        "sns.set()\n",
        "df_preds = pd.read_csv('/content/drive/MyDrive/Predictions/new_meta_early_stop_no_rounding_test_final.csv')\n",
        "df_correct = pd.read_csv('/content/drive/MyDrive/Data/collected_us_updated.csv').sort_values(['season', 'GW', 'player_name',  'kickoff_time'])\n",
        "df_correct = df_correct[df_correct['season'] == 2020]\n",
        "df_correct.reset_index(drop = True, inplace = True)\n",
        "df_preds[['total_points', 'team', 'position']] = df_correct[['total_points', 'team', 'position']]\n",
        "df_preds['Position'] =df_preds['position']\n",
        "df_preds['Points scored'] = df_preds['total_points']\n",
        "plt.figure(figsize = (12,6))\n",
        "# %%\n",
        "fig, ((ax1, ax2, ax3), (ax4, ax5, ax6)) = plt.subplots(ncols=3, nrows = 2, sharey=True, sharex = True, figsize = (20, 10),  constrained_layout = True)\n",
        "axs = [ax1, ax2, ax3, ax4, ax5, ax6]\n",
        "\n",
        "i = 0\n",
        "for name, ax in list(zip(['LR', 'CBoost', 'SVR', 'KNN', 'MLP', 'Meta'], axs)):\n",
        "    # sns.scatterplot(x = 'total_points', y = name, data = df, ax = ax, color = matplotlib.colors.to_hex(sns.color_palette('PuBu_r', 18)[i]))\n",
        "    sns.kdeplot(data = df_preds, x = name, fill = True, multiple = 'stack', edgecolor = 'black', ax = ax,\n",
        "                color = matplotlib.colors.to_hex(sns.color_palette('magma', 6)[i]))\n",
        "    sns.kdeplot(data = df_preds, x = 'total_points', fill = True, multiple = 'stack', edgecolor = 'black', ax = ax)\n",
        "    ax.set_title(name,fontsize=15)\n",
        "    ax.set_xlabel('Point forecast',fontsize=15)\n",
        "    i += 1\n",
        "plt.savefig('/content/drive/MyDrive/figs/testing_distribs.png', bbox_inches='tight') "
      ],
      "execution_count": null,
      "outputs": []
    },
    {
      "cell_type": "code",
      "metadata": {
        "colab": {
          "base_uri": "https://localhost:8080/",
          "height": 414
        },
        "id": "FYAQoIRCYVHV",
        "outputId": "52ce6e67-5291-4629-be5f-0d56b0ff458a"
      },
      "source": [
        "df_preds"
      ],
      "execution_count": null,
      "outputs": [
        {
          "output_type": "execute_result",
          "data": {
            "text/html": [
              "<div>\n",
              "<style scoped>\n",
              "    .dataframe tbody tr th:only-of-type {\n",
              "        vertical-align: middle;\n",
              "    }\n",
              "\n",
              "    .dataframe tbody tr th {\n",
              "        vertical-align: top;\n",
              "    }\n",
              "\n",
              "    .dataframe thead th {\n",
              "        text-align: right;\n",
              "    }\n",
              "</style>\n",
              "<table border=\"1\" class=\"dataframe\">\n",
              "  <thead>\n",
              "    <tr style=\"text-align: right;\">\n",
              "      <th></th>\n",
              "      <th>player_name</th>\n",
              "      <th>kickoff_time</th>\n",
              "      <th>GW</th>\n",
              "      <th>season</th>\n",
              "      <th>LR</th>\n",
              "      <th>CBoost</th>\n",
              "      <th>SVR</th>\n",
              "      <th>KNN</th>\n",
              "      <th>MLP</th>\n",
              "      <th>Meta</th>\n",
              "      <th>total_points</th>\n",
              "      <th>team</th>\n",
              "      <th>position</th>\n",
              "      <th>Position</th>\n",
              "      <th>Points scored</th>\n",
              "    </tr>\n",
              "  </thead>\n",
              "  <tbody>\n",
              "    <tr>\n",
              "      <th>0</th>\n",
              "      <td>Aaron Connolly</td>\n",
              "      <td>2020-09-14</td>\n",
              "      <td>1</td>\n",
              "      <td>2020</td>\n",
              "      <td>1.170578</td>\n",
              "      <td>1.613324</td>\n",
              "      <td>3.223093</td>\n",
              "      <td>3.149316</td>\n",
              "      <td>2.061467</td>\n",
              "      <td>2.835205</td>\n",
              "      <td>1</td>\n",
              "      <td>Brighton</td>\n",
              "      <td>FWD</td>\n",
              "      <td>FWD</td>\n",
              "      <td>1</td>\n",
              "    </tr>\n",
              "    <tr>\n",
              "      <th>1</th>\n",
              "      <td>Aaron Cresswell</td>\n",
              "      <td>2020-09-12</td>\n",
              "      <td>1</td>\n",
              "      <td>2020</td>\n",
              "      <td>2.163982</td>\n",
              "      <td>3.263234</td>\n",
              "      <td>2.875090</td>\n",
              "      <td>2.798591</td>\n",
              "      <td>3.235438</td>\n",
              "      <td>2.910930</td>\n",
              "      <td>1</td>\n",
              "      <td>West Ham</td>\n",
              "      <td>DEF</td>\n",
              "      <td>DEF</td>\n",
              "      <td>1</td>\n",
              "    </tr>\n",
              "    <tr>\n",
              "      <th>2</th>\n",
              "      <td>Aaron Ramsdale</td>\n",
              "      <td>2020-09-14</td>\n",
              "      <td>1</td>\n",
              "      <td>2020</td>\n",
              "      <td>1.753843</td>\n",
              "      <td>3.815019</td>\n",
              "      <td>3.844155</td>\n",
              "      <td>3.171717</td>\n",
              "      <td>3.065320</td>\n",
              "      <td>2.908770</td>\n",
              "      <td>1</td>\n",
              "      <td>Sheffield Utd</td>\n",
              "      <td>GK</td>\n",
              "      <td>GK</td>\n",
              "      <td>1</td>\n",
              "    </tr>\n",
              "    <tr>\n",
              "      <th>3</th>\n",
              "      <td>Abdoulaye Doucouré</td>\n",
              "      <td>2020-09-13</td>\n",
              "      <td>1</td>\n",
              "      <td>2020</td>\n",
              "      <td>0.596630</td>\n",
              "      <td>3.318724</td>\n",
              "      <td>3.100850</td>\n",
              "      <td>2.682273</td>\n",
              "      <td>2.589561</td>\n",
              "      <td>2.810104</td>\n",
              "      <td>3</td>\n",
              "      <td>Everton</td>\n",
              "      <td>MID</td>\n",
              "      <td>MID</td>\n",
              "      <td>3</td>\n",
              "    </tr>\n",
              "    <tr>\n",
              "      <th>4</th>\n",
              "      <td>Aboubakar Kamara</td>\n",
              "      <td>2020-09-12</td>\n",
              "      <td>1</td>\n",
              "      <td>2020</td>\n",
              "      <td>2.612433</td>\n",
              "      <td>2.346020</td>\n",
              "      <td>2.739583</td>\n",
              "      <td>1.807111</td>\n",
              "      <td>2.785375</td>\n",
              "      <td>2.936902</td>\n",
              "      <td>2</td>\n",
              "      <td>Fulham</td>\n",
              "      <td>MID</td>\n",
              "      <td>MID</td>\n",
              "      <td>2</td>\n",
              "    </tr>\n",
              "    <tr>\n",
              "      <th>...</th>\n",
              "      <td>...</td>\n",
              "      <td>...</td>\n",
              "      <td>...</td>\n",
              "      <td>...</td>\n",
              "      <td>...</td>\n",
              "      <td>...</td>\n",
              "      <td>...</td>\n",
              "      <td>...</td>\n",
              "      <td>...</td>\n",
              "      <td>...</td>\n",
              "      <td>...</td>\n",
              "      <td>...</td>\n",
              "      <td>...</td>\n",
              "      <td>...</td>\n",
              "      <td>...</td>\n",
              "    </tr>\n",
              "    <tr>\n",
              "      <th>10424</th>\n",
              "      <td>Willian José Da Silva</td>\n",
              "      <td>2021-05-23</td>\n",
              "      <td>38</td>\n",
              "      <td>2020</td>\n",
              "      <td>1.461409</td>\n",
              "      <td>1.750808</td>\n",
              "      <td>2.386834</td>\n",
              "      <td>1.612086</td>\n",
              "      <td>1.618549</td>\n",
              "      <td>1.914618</td>\n",
              "      <td>2</td>\n",
              "      <td>Wolves</td>\n",
              "      <td>FWD</td>\n",
              "      <td>FWD</td>\n",
              "      <td>2</td>\n",
              "    </tr>\n",
              "    <tr>\n",
              "      <th>10425</th>\n",
              "      <td>Willy Boly</td>\n",
              "      <td>2021-05-23</td>\n",
              "      <td>38</td>\n",
              "      <td>2020</td>\n",
              "      <td>2.724923</td>\n",
              "      <td>3.192019</td>\n",
              "      <td>2.550103</td>\n",
              "      <td>2.747661</td>\n",
              "      <td>2.802891</td>\n",
              "      <td>2.834726</td>\n",
              "      <td>0</td>\n",
              "      <td>Wolves</td>\n",
              "      <td>DEF</td>\n",
              "      <td>DEF</td>\n",
              "      <td>0</td>\n",
              "    </tr>\n",
              "    <tr>\n",
              "      <th>10426</th>\n",
              "      <td>Youri Tielemans</td>\n",
              "      <td>2021-05-23</td>\n",
              "      <td>38</td>\n",
              "      <td>2020</td>\n",
              "      <td>2.978103</td>\n",
              "      <td>2.547918</td>\n",
              "      <td>3.338898</td>\n",
              "      <td>2.927123</td>\n",
              "      <td>3.503087</td>\n",
              "      <td>2.878180</td>\n",
              "      <td>2</td>\n",
              "      <td>Leicester</td>\n",
              "      <td>MID</td>\n",
              "      <td>MID</td>\n",
              "      <td>2</td>\n",
              "    </tr>\n",
              "    <tr>\n",
              "      <th>10427</th>\n",
              "      <td>Yves Bissouma</td>\n",
              "      <td>2021-05-23</td>\n",
              "      <td>38</td>\n",
              "      <td>2020</td>\n",
              "      <td>2.094588</td>\n",
              "      <td>2.247594</td>\n",
              "      <td>2.684218</td>\n",
              "      <td>2.296442</td>\n",
              "      <td>2.754506</td>\n",
              "      <td>2.569465</td>\n",
              "      <td>2</td>\n",
              "      <td>Brighton</td>\n",
              "      <td>MID</td>\n",
              "      <td>MID</td>\n",
              "      <td>2</td>\n",
              "    </tr>\n",
              "    <tr>\n",
              "      <th>10428</th>\n",
              "      <td>Çaglar Söyüncü</td>\n",
              "      <td>2021-05-23</td>\n",
              "      <td>38</td>\n",
              "      <td>2020</td>\n",
              "      <td>2.950752</td>\n",
              "      <td>2.578532</td>\n",
              "      <td>3.410637</td>\n",
              "      <td>2.998558</td>\n",
              "      <td>3.293165</td>\n",
              "      <td>2.731731</td>\n",
              "      <td>0</td>\n",
              "      <td>Leicester</td>\n",
              "      <td>DEF</td>\n",
              "      <td>DEF</td>\n",
              "      <td>0</td>\n",
              "    </tr>\n",
              "  </tbody>\n",
              "</table>\n",
              "<p>10429 rows × 15 columns</p>\n",
              "</div>"
            ],
            "text/plain": [
              "                 player_name kickoff_time  GW  ...  position  Position  Points scored\n",
              "0             Aaron Connolly   2020-09-14   1  ...       FWD       FWD              1\n",
              "1            Aaron Cresswell   2020-09-12   1  ...       DEF       DEF              1\n",
              "2             Aaron Ramsdale   2020-09-14   1  ...        GK        GK              1\n",
              "3         Abdoulaye Doucouré   2020-09-13   1  ...       MID       MID              3\n",
              "4           Aboubakar Kamara   2020-09-12   1  ...       MID       MID              2\n",
              "...                      ...          ...  ..  ...       ...       ...            ...\n",
              "10424  Willian José Da Silva   2021-05-23  38  ...       FWD       FWD              2\n",
              "10425             Willy Boly   2021-05-23  38  ...       DEF       DEF              0\n",
              "10426        Youri Tielemans   2021-05-23  38  ...       MID       MID              2\n",
              "10427          Yves Bissouma   2021-05-23  38  ...       MID       MID              2\n",
              "10428         Çaglar Söyüncü   2021-05-23  38  ...       DEF       DEF              0\n",
              "\n",
              "[10429 rows x 15 columns]"
            ]
          },
          "metadata": {},
          "execution_count": 10
        }
      ]
    },
    {
      "cell_type": "code",
      "metadata": {
        "colab": {
          "base_uri": "https://localhost:8080/"
        },
        "id": "f6E6EegphOit",
        "outputId": "dc2404e4-2606-4421-d068-b9a7a9227525"
      },
      "source": [
        "# preds\n",
        "df_preds = pd.read_csv('/content/drive/MyDrive/Predictions/new_meta_early_stop_no_rounding_test_final.csv')\n",
        "# idxrs\n",
        "df_correct = pd.read_csv('/content/drive/MyDrive/Data/collected_us_updated.csv').sort_values(['season', 'GW', 'player_name',  'kickoff_time'])\n",
        "df_correct = df_correct[df_correct['season'] == 2020]\n",
        "df_correct.reset_index(drop = True, inplace = True)\n",
        "# other meta_preds\n",
        "df_meta_preds = pd.read_csv('/content/drive/MyDrive/Predictions/other_metas.csv')\n",
        "# h2o\n",
        "df_h2o = pd.read_csv('/content/drive/MyDrive/Predictions/h2o_results.csv')\n",
        "\n",
        "def gameweek_rmses(df):\n",
        "    results = pd.DataFrame(index = np.arange(1,8))\n",
        "    for name in ['LR', 'CBoost', 'SVR', 'KNN', 'MLP', 'Meta', 'Avg. Meta', 'Avg. Base', 'H2O']:\n",
        "        RMSE = np.sqrt(mean_squared_error(df['total_points'], df[name]))\n",
        "        results[f'{name}'] = RMSE\n",
        "    results.drop_duplicates(inplace = True)\n",
        "    results['Learner'] = results.idxmin(axis=1)\n",
        "    results['RMSE'] = results.min(axis=1)\n",
        "    return results.round(3)\n",
        "\n",
        "df_preds[['total_points', 'team', 'position']] = df_correct[['total_points', 'team', 'position']]\n",
        "\n",
        "\n",
        "df_preds['Avg. Base'] = 0\n",
        "df_preds['Avg. Meta'] = 0\n",
        "for name, model in get_models(cat_features=None):\n",
        "      df_preds['Avg. Base'] += df_preds[name]/5\n",
        "      df_preds['Avg. Meta'] += df_meta_preds[name]/5\n",
        "df_preds['H2O'] = df_h2o['automl'].values\n",
        "results = df_preds.groupby('GW').apply(gameweek_rmses).reset_index()\n",
        "print(results.append(results.sum().rename('Total')).to_latex())\n",
        "\n",
        "\n",
        "def regression_metrics(y_true, y_pred, name):\n",
        "    explained_variance=metrics.explained_variance_score(y_true, y_pred)\n",
        "    mean_absolute_error=metrics.mean_absolute_error(y_true, y_pred) \n",
        "    mse=metrics.mean_squared_error(y_true, y_pred) \n",
        "    r2=metrics.r2_score(y_true, y_pred)\n",
        "    return pd.DataFrame({\"MAE\":[mean_absolute_error], 'R2':[r2],\n",
        "                         \"MSE\": [mse],\n",
        "                         \"RMSE\":[np.sqrt(mse)]}, index = [name]).T.round(3)\n",
        "results = []\n",
        "\n",
        "for name in ['LR', 'CBoost', 'SVR', 'KNN', 'MLP', 'Meta', 'H2O', 'Avg. Meta', 'Avg. Base']:\n",
        "    results.append(regression_metrics(df_preds['total_points'], df_preds[name], name))\n",
        "\n",
        "print(pd.concat(results, axis = 1).to_latex())\n",
        "df_preds.to_csv('/content/drive/MyDrive/Data/all_preds.csv')"
      ],
      "execution_count": null,
      "outputs": [
        {
          "output_type": "stream",
          "name": "stdout",
          "text": [
            "\\begin{tabular}{lrrrrrrrrrrrlr}\n",
            "\\toprule\n",
            "{} &   GW &  level\\_1 &       LR &   CBoost &      SVR &      KNN &      MLP &     Meta &  Avg. Meta &  Avg. Base &      H2O &                                            Learner &     RMSE \\\\\n",
            "\\midrule\n",
            "0     &    1 &        1 &    3.365 &    3.041 &    3.191 &    3.258 &    3.171 &    3.330 &      3.055 &      3.132 &    3.138 &                                             CBoost &    3.041 \\\\\n",
            "1     &    2 &        1 &    3.522 &    3.545 &    3.626 &    3.584 &    3.535 &    3.807 &      3.577 &      3.535 &    3.461 &                                                H2O &    3.461 \\\\\n",
            "2     &    3 &        1 &    2.954 &    2.931 &    2.913 &    2.866 &    2.912 &    2.975 &      3.007 &      2.891 &    2.962 &                                                KNN &    2.866 \\\\\n",
            "3     &    4 &        1 &    3.715 &    3.666 &    3.622 &    3.673 &    3.631 &    3.726 &      3.741 &      3.643 &    3.755 &                                                SVR &    3.622 \\\\\n",
            "4     &    5 &        1 &    2.635 &    2.631 &    2.748 &    2.651 &    2.621 &    2.818 &      2.692 &      2.629 &    2.682 &                                                MLP &    2.621 \\\\\n",
            "5     &    6 &        1 &    2.590 &    2.531 &    2.607 &    2.558 &    2.561 &    2.591 &      2.608 &      2.546 &    2.615 &                                             CBoost &    2.531 \\\\\n",
            "6     &    7 &        1 &    2.902 &    2.840 &    3.012 &    2.950 &    2.930 &    3.051 &      2.856 &      2.901 &    2.935 &                                             CBoost &    2.840 \\\\\n",
            "7     &    8 &        1 &    2.626 &    2.562 &    2.680 &    2.654 &    2.641 &    2.770 &      2.623 &      2.611 &    2.607 &                                             CBoost &    2.562 \\\\\n",
            "8     &    9 &        1 &    2.478 &    2.445 &    2.501 &    2.489 &    2.455 &    2.528 &      2.489 &      2.451 &    2.466 &                                             CBoost &    2.445 \\\\\n",
            "9     &   10 &        1 &    2.953 &    2.971 &    2.973 &    2.975 &    2.969 &    3.024 &      2.993 &      2.949 &    2.932 &                                                H2O &    2.932 \\\\\n",
            "10    &   11 &        1 &    2.651 &    2.668 &    2.761 &    2.722 &    2.653 &    2.901 &      2.683 &      2.663 &    2.619 &                                                H2O &    2.619 \\\\\n",
            "11    &   12 &        1 &    2.690 &    2.608 &    2.622 &    2.651 &    2.612 &    2.657 &      2.612 &      2.614 &    2.685 &                                             CBoost &    2.608 \\\\\n",
            "12    &   13 &        1 &    2.612 &    2.594 &    2.652 &    2.662 &    2.636 &    2.637 &      2.616 &      2.609 &    2.637 &                                             CBoost &    2.594 \\\\\n",
            "13    &   14 &        1 &    3.019 &    3.091 &    3.160 &    3.102 &    3.074 &    3.221 &      3.075 &      3.071 &    3.066 &                                                 LR &    3.019 \\\\\n",
            "14    &   15 &        1 &    2.658 &    2.650 &    2.681 &    2.667 &    2.683 &    2.695 &      2.693 &      2.648 &    2.675 &                                          Avg. Base &    2.648 \\\\\n",
            "15    &   16 &        1 &    2.549 &    2.536 &    2.578 &    2.537 &    2.598 &    2.579 &      2.503 &      2.539 &    2.518 &                                          Avg. Meta &    2.503 \\\\\n",
            "16    &   17 &        1 &    2.845 &    2.848 &    2.898 &    2.871 &    2.841 &    2.910 &      2.866 &      2.839 &    2.821 &                                                H2O &    2.821 \\\\\n",
            "17    &   18 &        1 &    2.356 &    2.337 &    2.320 &    2.330 &    2.377 &    2.330 &      2.333 &      2.319 &    2.393 &                                          Avg. Base &    2.319 \\\\\n",
            "18    &   19 &        1 &    2.740 &    2.701 &    2.716 &    2.769 &    2.740 &    2.745 &      2.671 &      2.710 &    2.750 &                                          Avg. Meta &    2.671 \\\\\n",
            "19    &   20 &        1 &    2.826 &    2.799 &    2.835 &    2.864 &    2.869 &    2.886 &      2.811 &      2.818 &    2.831 &                                             CBoost &    2.799 \\\\\n",
            "20    &   21 &        1 &    2.797 &    2.787 &    2.770 &    2.750 &    2.741 &    2.746 &      2.741 &      2.750 &    2.749 &                                          Avg. Meta &    2.741 \\\\\n",
            "21    &   22 &        1 &    2.907 &    2.925 &    2.974 &    2.932 &    2.892 &    3.032 &      2.943 &      2.908 &    2.937 &                                                MLP &    2.892 \\\\\n",
            "22    &   23 &        1 &    2.725 &    2.699 &    2.810 &    2.802 &    2.722 &    2.810 &      3.115 &      2.733 &    2.727 &                                             CBoost &    2.699 \\\\\n",
            "23    &   24 &        1 &    2.880 &    2.869 &    2.946 &    2.954 &    2.889 &    2.922 &      3.194 &      2.884 &    2.865 &                                                H2O &    2.865 \\\\\n",
            "24    &   25 &        1 &    2.560 &    2.526 &    2.523 &    2.517 &    2.547 &    2.551 &      2.884 &      2.512 &    2.539 &                                          Avg. Base &    2.512 \\\\\n",
            "25    &   26 &        1 &    2.652 &    2.615 &    2.658 &    2.677 &    2.642 &    2.667 &      3.061 &      2.629 &    2.660 &                                             CBoost &    2.615 \\\\\n",
            "26    &   27 &        1 &    2.906 &    2.801 &    2.969 &    2.926 &    2.908 &    2.955 &      3.315 &      2.879 &    2.865 &                                             CBoost &    2.801 \\\\\n",
            "27    &   28 &        1 &    2.475 &    2.452 &    2.521 &    2.529 &    2.493 &    2.556 &      3.018 &      2.469 &    2.439 &                                                H2O &    2.439 \\\\\n",
            "28    &   29 &        1 &    2.610 &    2.569 &    2.697 &    2.685 &    2.619 &    2.726 &      3.144 &      2.619 &    2.640 &                                             CBoost &    2.569 \\\\\n",
            "29    &   30 &        1 &    3.062 &    3.027 &    3.029 &    3.042 &    3.065 &    3.066 &      3.390 &      3.026 &    3.063 &                                          Avg. Base &    3.026 \\\\\n",
            "30    &   31 &        1 &    2.994 &    2.928 &    2.935 &    2.962 &    2.977 &    2.939 &      3.273 &      2.939 &    2.950 &                                             CBoost &    2.928 \\\\\n",
            "31    &   32 &        1 &    2.549 &    2.522 &    2.601 &    2.623 &    2.544 &    2.614 &      3.002 &      2.542 &    2.520 &                                                H2O &    2.520 \\\\\n",
            "32    &   33 &        1 &    2.743 &    2.631 &    2.672 &    2.649 &    2.723 &    2.641 &      3.001 &      2.665 &    2.707 &                                             CBoost &    2.631 \\\\\n",
            "33    &   34 &        1 &    2.682 &    2.566 &    2.794 &    2.763 &    2.697 &    2.758 &      3.235 &      2.677 &    2.604 &                                             CBoost &    2.566 \\\\\n",
            "34    &   35 &        1 &    2.671 &    2.627 &    2.705 &    2.679 &    2.664 &    2.681 &      2.989 &      2.646 &    2.649 &                                             CBoost &    2.627 \\\\\n",
            "35    &   36 &        1 &    3.066 &    3.045 &    3.051 &    3.095 &    3.070 &    3.071 &      3.303 &      3.049 &    3.122 &                                             CBoost &    3.045 \\\\\n",
            "36    &   37 &        1 &    2.659 &    2.613 &    2.670 &    2.619 &    2.669 &    2.596 &      2.907 &      2.623 &    2.629 &                                               Meta &    2.596 \\\\\n",
            "37    &   38 &        1 &    2.918 &    2.886 &    3.044 &    3.026 &    2.972 &    3.017 &      3.445 &      2.947 &    2.977 &                                             CBoost &    2.886 \\\\\n",
            "Total &  741 &       38 &  106.542 &  105.083 &  107.465 &  107.063 &  106.343 &  108.529 &    112.464 &    105.615 &  106.190 &  CBoostH2OKNNSVRMLPCBoostCBoostCBoostCBoostH2OH... &  104.480 \\\\\n",
            "\\bottomrule\n",
            "\\end{tabular}\n",
            "\n",
            "\\begin{tabular}{lrrrrrrrrr}\n",
            "\\toprule\n",
            "{} &     LR &  CBoost &    SVR &    KNN &    MLP &   Meta &    H2O &  Avg. Meta &  Avg. Base \\\\\n",
            "\\midrule\n",
            "MAE  &  1.997 &   1.978 &  2.105 &  1.993 &  2.017 &  2.095 &  1.995 &      2.187 &      1.996 \\\\\n",
            "R2   &  0.126 &   0.149 &  0.111 &  0.117 &  0.130 &  0.093 &  0.132 &      0.022 &      0.141 \\\\\n",
            "MSE  &  7.940 &   7.733 &  8.075 &  8.021 &  7.906 &  8.242 &  7.890 &      8.885 &      7.804 \\\\\n",
            "RMSE &  2.818 &   2.781 &  2.842 &  2.832 &  2.812 &  2.871 &  2.809 &      2.981 &      2.794 \\\\\n",
            "\\bottomrule\n",
            "\\end{tabular}\n",
            "\n"
          ]
        }
      ]
    },
    {
      "cell_type": "code",
      "metadata": {
        "colab": {
          "base_uri": "https://localhost:8080/",
          "height": 414
        },
        "id": "kYrcY2ewnsAK",
        "outputId": "c61e4b9d-aa26-4a1a-8891-dac657b4100b"
      },
      "source": [
        "df_preds"
      ],
      "execution_count": null,
      "outputs": [
        {
          "output_type": "execute_result",
          "data": {
            "text/html": [
              "<div>\n",
              "<style scoped>\n",
              "    .dataframe tbody tr th:only-of-type {\n",
              "        vertical-align: middle;\n",
              "    }\n",
              "\n",
              "    .dataframe tbody tr th {\n",
              "        vertical-align: top;\n",
              "    }\n",
              "\n",
              "    .dataframe thead th {\n",
              "        text-align: right;\n",
              "    }\n",
              "</style>\n",
              "<table border=\"1\" class=\"dataframe\">\n",
              "  <thead>\n",
              "    <tr style=\"text-align: right;\">\n",
              "      <th></th>\n",
              "      <th>player_name</th>\n",
              "      <th>kickoff_time</th>\n",
              "      <th>GW</th>\n",
              "      <th>season</th>\n",
              "      <th>LR</th>\n",
              "      <th>CBoost</th>\n",
              "      <th>SVR</th>\n",
              "      <th>KNN</th>\n",
              "      <th>MLP</th>\n",
              "      <th>Meta</th>\n",
              "      <th>total_points</th>\n",
              "      <th>team</th>\n",
              "      <th>position</th>\n",
              "      <th>Position</th>\n",
              "      <th>Points scored</th>\n",
              "      <th>Avg. Base</th>\n",
              "      <th>Avg. Meta</th>\n",
              "      <th>H2O</th>\n",
              "    </tr>\n",
              "  </thead>\n",
              "  <tbody>\n",
              "    <tr>\n",
              "      <th>0</th>\n",
              "      <td>Aaron Connolly</td>\n",
              "      <td>2020-09-14</td>\n",
              "      <td>1</td>\n",
              "      <td>2020</td>\n",
              "      <td>1.170578</td>\n",
              "      <td>1.613324</td>\n",
              "      <td>3.223093</td>\n",
              "      <td>3.149316</td>\n",
              "      <td>2.061467</td>\n",
              "      <td>2.835205</td>\n",
              "      <td>1</td>\n",
              "      <td>Brighton</td>\n",
              "      <td>FWD</td>\n",
              "      <td>FWD</td>\n",
              "      <td>1</td>\n",
              "      <td>2.243556</td>\n",
              "      <td>2.644241</td>\n",
              "      <td>1.962747</td>\n",
              "    </tr>\n",
              "    <tr>\n",
              "      <th>1</th>\n",
              "      <td>Aaron Cresswell</td>\n",
              "      <td>2020-09-12</td>\n",
              "      <td>1</td>\n",
              "      <td>2020</td>\n",
              "      <td>2.163982</td>\n",
              "      <td>3.263234</td>\n",
              "      <td>2.875090</td>\n",
              "      <td>2.798591</td>\n",
              "      <td>3.235438</td>\n",
              "      <td>2.910930</td>\n",
              "      <td>1</td>\n",
              "      <td>West Ham</td>\n",
              "      <td>DEF</td>\n",
              "      <td>DEF</td>\n",
              "      <td>1</td>\n",
              "      <td>2.867267</td>\n",
              "      <td>3.816985</td>\n",
              "      <td>3.261957</td>\n",
              "    </tr>\n",
              "    <tr>\n",
              "      <th>2</th>\n",
              "      <td>Aaron Ramsdale</td>\n",
              "      <td>2020-09-14</td>\n",
              "      <td>1</td>\n",
              "      <td>2020</td>\n",
              "      <td>1.753843</td>\n",
              "      <td>3.815019</td>\n",
              "      <td>3.844155</td>\n",
              "      <td>3.171717</td>\n",
              "      <td>3.065320</td>\n",
              "      <td>2.908770</td>\n",
              "      <td>1</td>\n",
              "      <td>Sheffield Utd</td>\n",
              "      <td>GK</td>\n",
              "      <td>GK</td>\n",
              "      <td>1</td>\n",
              "      <td>3.130011</td>\n",
              "      <td>3.692799</td>\n",
              "      <td>3.221976</td>\n",
              "    </tr>\n",
              "    <tr>\n",
              "      <th>3</th>\n",
              "      <td>Abdoulaye Doucouré</td>\n",
              "      <td>2020-09-13</td>\n",
              "      <td>1</td>\n",
              "      <td>2020</td>\n",
              "      <td>0.596630</td>\n",
              "      <td>3.318724</td>\n",
              "      <td>3.100850</td>\n",
              "      <td>2.682273</td>\n",
              "      <td>2.589561</td>\n",
              "      <td>2.810104</td>\n",
              "      <td>3</td>\n",
              "      <td>Everton</td>\n",
              "      <td>MID</td>\n",
              "      <td>MID</td>\n",
              "      <td>3</td>\n",
              "      <td>2.457608</td>\n",
              "      <td>3.212567</td>\n",
              "      <td>2.432865</td>\n",
              "    </tr>\n",
              "    <tr>\n",
              "      <th>4</th>\n",
              "      <td>Aboubakar Kamara</td>\n",
              "      <td>2020-09-12</td>\n",
              "      <td>1</td>\n",
              "      <td>2020</td>\n",
              "      <td>2.612433</td>\n",
              "      <td>2.346020</td>\n",
              "      <td>2.739583</td>\n",
              "      <td>1.807111</td>\n",
              "      <td>2.785375</td>\n",
              "      <td>2.936902</td>\n",
              "      <td>2</td>\n",
              "      <td>Fulham</td>\n",
              "      <td>MID</td>\n",
              "      <td>MID</td>\n",
              "      <td>2</td>\n",
              "      <td>2.458104</td>\n",
              "      <td>3.082775</td>\n",
              "      <td>2.291493</td>\n",
              "    </tr>\n",
              "    <tr>\n",
              "      <th>...</th>\n",
              "      <td>...</td>\n",
              "      <td>...</td>\n",
              "      <td>...</td>\n",
              "      <td>...</td>\n",
              "      <td>...</td>\n",
              "      <td>...</td>\n",
              "      <td>...</td>\n",
              "      <td>...</td>\n",
              "      <td>...</td>\n",
              "      <td>...</td>\n",
              "      <td>...</td>\n",
              "      <td>...</td>\n",
              "      <td>...</td>\n",
              "      <td>...</td>\n",
              "      <td>...</td>\n",
              "      <td>...</td>\n",
              "      <td>...</td>\n",
              "      <td>...</td>\n",
              "    </tr>\n",
              "    <tr>\n",
              "      <th>10424</th>\n",
              "      <td>Willian José Da Silva</td>\n",
              "      <td>2021-05-23</td>\n",
              "      <td>38</td>\n",
              "      <td>2020</td>\n",
              "      <td>1.461409</td>\n",
              "      <td>1.750808</td>\n",
              "      <td>2.386834</td>\n",
              "      <td>1.612086</td>\n",
              "      <td>1.618549</td>\n",
              "      <td>1.914618</td>\n",
              "      <td>2</td>\n",
              "      <td>Wolves</td>\n",
              "      <td>FWD</td>\n",
              "      <td>FWD</td>\n",
              "      <td>2</td>\n",
              "      <td>1.765937</td>\n",
              "      <td>4.089070</td>\n",
              "      <td>1.465834</td>\n",
              "    </tr>\n",
              "    <tr>\n",
              "      <th>10425</th>\n",
              "      <td>Willy Boly</td>\n",
              "      <td>2021-05-23</td>\n",
              "      <td>38</td>\n",
              "      <td>2020</td>\n",
              "      <td>2.724923</td>\n",
              "      <td>3.192019</td>\n",
              "      <td>2.550103</td>\n",
              "      <td>2.747661</td>\n",
              "      <td>2.802891</td>\n",
              "      <td>2.834726</td>\n",
              "      <td>0</td>\n",
              "      <td>Wolves</td>\n",
              "      <td>DEF</td>\n",
              "      <td>DEF</td>\n",
              "      <td>0</td>\n",
              "      <td>2.803519</td>\n",
              "      <td>2.838640</td>\n",
              "      <td>2.809660</td>\n",
              "    </tr>\n",
              "    <tr>\n",
              "      <th>10426</th>\n",
              "      <td>Youri Tielemans</td>\n",
              "      <td>2021-05-23</td>\n",
              "      <td>38</td>\n",
              "      <td>2020</td>\n",
              "      <td>2.978103</td>\n",
              "      <td>2.547918</td>\n",
              "      <td>3.338898</td>\n",
              "      <td>2.927123</td>\n",
              "      <td>3.503087</td>\n",
              "      <td>2.878180</td>\n",
              "      <td>2</td>\n",
              "      <td>Leicester</td>\n",
              "      <td>MID</td>\n",
              "      <td>MID</td>\n",
              "      <td>2</td>\n",
              "      <td>3.059026</td>\n",
              "      <td>2.562530</td>\n",
              "      <td>3.115147</td>\n",
              "    </tr>\n",
              "    <tr>\n",
              "      <th>10427</th>\n",
              "      <td>Yves Bissouma</td>\n",
              "      <td>2021-05-23</td>\n",
              "      <td>38</td>\n",
              "      <td>2020</td>\n",
              "      <td>2.094588</td>\n",
              "      <td>2.247594</td>\n",
              "      <td>2.684218</td>\n",
              "      <td>2.296442</td>\n",
              "      <td>2.754506</td>\n",
              "      <td>2.569465</td>\n",
              "      <td>2</td>\n",
              "      <td>Brighton</td>\n",
              "      <td>MID</td>\n",
              "      <td>MID</td>\n",
              "      <td>2</td>\n",
              "      <td>2.415470</td>\n",
              "      <td>3.857227</td>\n",
              "      <td>2.083439</td>\n",
              "    </tr>\n",
              "    <tr>\n",
              "      <th>10428</th>\n",
              "      <td>Çaglar Söyüncü</td>\n",
              "      <td>2021-05-23</td>\n",
              "      <td>38</td>\n",
              "      <td>2020</td>\n",
              "      <td>2.950752</td>\n",
              "      <td>2.578532</td>\n",
              "      <td>3.410637</td>\n",
              "      <td>2.998558</td>\n",
              "      <td>3.293165</td>\n",
              "      <td>2.731731</td>\n",
              "      <td>0</td>\n",
              "      <td>Leicester</td>\n",
              "      <td>DEF</td>\n",
              "      <td>DEF</td>\n",
              "      <td>0</td>\n",
              "      <td>3.046329</td>\n",
              "      <td>3.118300</td>\n",
              "      <td>2.532209</td>\n",
              "    </tr>\n",
              "  </tbody>\n",
              "</table>\n",
              "<p>10429 rows × 18 columns</p>\n",
              "</div>"
            ],
            "text/plain": [
              "                 player_name kickoff_time  GW  ...  Avg. Base  Avg. Meta       H2O\n",
              "0             Aaron Connolly   2020-09-14   1  ...   2.243556   2.644241  1.962747\n",
              "1            Aaron Cresswell   2020-09-12   1  ...   2.867267   3.816985  3.261957\n",
              "2             Aaron Ramsdale   2020-09-14   1  ...   3.130011   3.692799  3.221976\n",
              "3         Abdoulaye Doucouré   2020-09-13   1  ...   2.457608   3.212567  2.432865\n",
              "4           Aboubakar Kamara   2020-09-12   1  ...   2.458104   3.082775  2.291493\n",
              "...                      ...          ...  ..  ...        ...        ...       ...\n",
              "10424  Willian José Da Silva   2021-05-23  38  ...   1.765937   4.089070  1.465834\n",
              "10425             Willy Boly   2021-05-23  38  ...   2.803519   2.838640  2.809660\n",
              "10426        Youri Tielemans   2021-05-23  38  ...   3.059026   2.562530  3.115147\n",
              "10427          Yves Bissouma   2021-05-23  38  ...   2.415470   3.857227  2.083439\n",
              "10428         Çaglar Söyüncü   2021-05-23  38  ...   3.046329   3.118300  2.532209\n",
              "\n",
              "[10429 rows x 18 columns]"
            ]
          },
          "metadata": {},
          "execution_count": 6
        }
      ]
    }
  ]
}
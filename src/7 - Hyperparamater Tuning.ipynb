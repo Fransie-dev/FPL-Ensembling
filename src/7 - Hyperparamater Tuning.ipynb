{
  "nbformat": 4,
  "nbformat_minor": 0,
  "metadata": {
    "orig_nbformat": 4,
    "colab": {
      "name": "hyper_parameter.ipynb",
      "provenance": [],
      "collapsed_sections": []
    },
    "language_info": {
      "name": "python"
    },
    "kernelspec": {
      "name": "python3",
      "display_name": "Python 3"
    }
  },
  "cells": [
    {
      "cell_type": "markdown",
      "metadata": {
        "id": "U9sQxCWH1csG"
      },
      "source": [
        "Mount Drive\n"
      ]
    },
    {
      "cell_type": "code",
      "metadata": {
        "id": "Irym_CdSqzYU",
        "colab": {
          "base_uri": "https://localhost:8080/"
        },
        "outputId": "56d83d45-f948-4f47-d42d-228e30ec1894"
      },
      "source": [
        "from google.colab import drive\n",
        "import pandas as pd\n",
        "import numpy as np\n",
        "drive.mount('/content/drive')"
      ],
      "execution_count": 47,
      "outputs": [
        {
          "output_type": "stream",
          "name": "stdout",
          "text": [
            "Drive already mounted at /content/drive; to attempt to forcibly remount, call drive.mount(\"/content/drive\", force_remount=True).\n"
          ]
        }
      ]
    },
    {
      "cell_type": "markdown",
      "metadata": {
        "id": "2R27ucx0MWd1"
      },
      "source": [
        "Imports"
      ]
    },
    {
      "cell_type": "code",
      "metadata": {
        "id": "6uTtpkOlMUkU"
      },
      "source": [
        "from sklearn.preprocessing import StandardScaler\n",
        "import matplotlib.pyplot as plt\n",
        "import numpy as np\n",
        "import pandas as pd\n",
        "from pandas.core.frame import DataFrame\n",
        "import seaborn as sns\n",
        "import sklearn\n",
        "import sklearn.metrics as metrics\n",
        "from keras.backend import clear_session\n",
        "from keras.layers import Dense\n",
        "from keras.models import Sequential\n",
        "from sklearn.ensemble import RandomForestRegressor\n",
        "from sklearn.linear_model import LinearRegression\n",
        "from sklearn.neighbors import KNeighborsRegressor\n",
        "from sklearn.preprocessing import StandardScaler\n",
        "from sklearn.svm import SVR\n",
        "import numpy as np\n",
        "import pandas as pd\n",
        "from sklearn.decomposition import PCA\n",
        "from sklearn.model_selection import cross_val_score\n",
        "from sklearn.model_selection import KFold \n",
        "from sklearn.model_selection import RandomizedSearchCV, GridSearchCV\n",
        "import joblib\n",
        "from sklearn.neural_network import MLPRegressor"
      ],
      "execution_count": 48,
      "outputs": []
    },
    {
      "cell_type": "markdown",
      "metadata": {
        "id": "7Mnlt2BJyEtv"
      },
      "source": [
        "Read Data"
      ]
    },
    {
      "cell_type": "code",
      "metadata": {
        "id": "MAj4HQ-RqvUc"
      },
      "source": [
        "def scale_datasets(df):\n",
        "  scaled_cols = []\n",
        "  for col in df.columns.drop('total_points'):\n",
        "    if df[col].nunique() > 2:\n",
        "      scaled_cols.append(col)\n",
        "  std_pred, std_resp = StandardScaler(), StandardScaler()\n",
        "  X_train, y_train = df.drop('total_points', axis=1), df['total_points'] \n",
        "  X_train[scaled_cols] = pd.DataFrame(std_pred.fit_transform(X_train[scaled_cols]), \n",
        "                                      columns=df[scaled_cols].columns,\n",
        "                                      index=X_train.index)\n",
        "  y_train = pd.DataFrame(std_resp.fit_transform(y_train.to_numpy().reshape(-1, 1)),\n",
        "                                                columns=['total_points'], index=y_train.index)\n",
        "  return X_train, y_train, std_resp\n",
        "\n",
        "def dont_scale_datasets(df):\n",
        "  X_train, y_train = df.drop('total_points', axis=1), df['total_points'] \n",
        "  return X_train, y_train\n",
        "\n",
        "def preprocess_data(df):\n",
        "  # Drop indexing features\n",
        "  idxrs = df[['player_name', 'kickoff_time', 'season', 'GW']]\n",
        "  df = df.drop(columns = ['player_name', 'kickoff_time', 'season', 'GW'])\n",
        "  # Binary encoding\n",
        "  for col in df.columns:\n",
        "    df[col] = df[col].replace({True:1, False:0})\n",
        "  # One hot encodings\n",
        "  ohe_cols = []\n",
        "  for col in df.select_dtypes(include='object').columns:\n",
        "      ohe_cols.append(col)\n",
        "  df = pd.get_dummies(df, columns=ohe_cols, prefix=ohe_cols)\n",
        "  df['kickoff_time'] = idxrs['kickoff_time']\n",
        "  df['GW'] = idxrs['GW']\n",
        "  return df\n",
        "\n",
        "\n",
        "def get_training_data(GW, scale):\n",
        "    df = pd.read_csv('./drive/MyDrive/Data/engineered_us.csv')\n",
        "    df.drop(['team', 'opponent_team'], inplace = True, axis = 1)\n",
        "    df = preprocess_data(df)\n",
        "    min_date = df[(df['GW'] == GW) & (df['kickoff_time'] >= '2020-08-12')]['kickoff_time'].min() # The first date of the gameweek\n",
        "    max_date = df[(df['GW'] == GW) & (df['kickoff_time'] > '2020-08-12')]['kickoff_time'].max() # The last date of the gameweek\n",
        "    df_scl = df[df['kickoff_time'] <= max_date].copy() # Only includes up to gameweek \n",
        "    std_x, std_y = StandardScaler(), StandardScaler()\n",
        "    scaled_cols = []\n",
        "    if scale == True:\n",
        "      for col in df.columns.drop(['total_points', 'kickoff_time']):\n",
        "        if df[col].nunique() > 2:\n",
        "          scaled_cols.append(col)\n",
        "      df_scl[scaled_cols] = std_x.fit_transform(df_scl[scaled_cols])\n",
        "      df_scl['total_points'] = std_y.fit_transform(df_scl['total_points'].to_numpy().reshape(-1, 1))\n",
        "      df_train, df_test = df_scl[df_scl['kickoff_time'] < min_date], df_scl[df_scl['kickoff_time'] >= min_date] \n",
        "      X = df_train.drop(['total_points', 'kickoff_time', 'GW'], axis = 1)\n",
        "      y = df_train['total_points']\n",
        "      X_val = df_test.drop(['total_points', 'kickoff_time', 'GW'], axis = 1)\n",
        "      y_val = df_test['total_points']\n",
        "    else:\n",
        "      df_train, df_test = df_scl[df_scl['kickoff_time'] < min_date], df_scl[df_scl['kickoff_time'] >= min_date] \n",
        "      X = df_train.drop(['total_points', 'kickoff_time', 'GW'], axis = 1)\n",
        "      y = df_train['total_points']\n",
        "      X_val = df_test.drop(['total_points', 'kickoff_time', 'GW'], axis = 1)\n",
        "      y_val = df_test['total_points']\n",
        "    return X, X_val, y, y_val, std_x, std_y\n",
        "\n",
        "def write_grid_results(grid, file = 'results.txt'):\n",
        "  f = open(f'/content/drive/MyDrive/Parameters/{file}', 'w')\n",
        "  print(\"Best: %f using %s\" % (grid.best_score_, grid.best_params_))\n",
        "  f.write(\"Best: %f using %s\\n\\n\" % (grid.best_score_, grid.best_params_))\n",
        "  means = grid.cv_results_['mean_test_score']\n",
        "  stds = grid.cv_results_['std_test_score']\n",
        "  params = grid.cv_results_['params'] \n",
        "  used = []\n",
        "  for mean, stdev, param in zip(means, stds, params):\n",
        "      print(\"%f (%f) with: %r\" % (mean, stdev, param))\n",
        "      f.write(\"%f (%f) with: %r\\n\\n\" % (mean, stdev, param))\n",
        "      used.append(param)\n",
        "  f.close()\n",
        "  \n",
        "\n",
        "\n",
        "X_train, X_test, y_train, y_test, std_x, std_y = get_training_data(GW = 1, scale = True)"
      ],
      "execution_count": 49,
      "outputs": []
    },
    {
      "cell_type": "markdown",
      "metadata": {
        "id": "4uLkN3DsJKpw"
      },
      "source": [
        "Neural Network Parameter Tuning (~120 min)\n",
        "\n",
        "---\n",
        "\n"
      ]
    },
    {
      "cell_type": "markdown",
      "metadata": {
        "id": "BM4HuJx3cVH3"
      },
      "source": [
        "Coarse Grid Search"
      ]
    },
    {
      "cell_type": "code",
      "metadata": {
        "colab": {
          "base_uri": "https://localhost:8080/"
        },
        "id": "LUXHEbxuJK8B",
        "outputId": "751dcba7-c307-4f34-a5d3-334b2aa3ee0c"
      },
      "source": [
        "param_grid = {\n",
        "    'hidden_layer_sizes': [(128, 128), (256, 256), (512,512)],\n",
        "    'max_iter': [100], # Maximum number of epochs\n",
        "    'activation': ['relu'], # Activation function for hidden layers\n",
        "    'solver': ['adam'],\n",
        "    'alpha': [0, 0.001], #  L2 regularization coefficient\n",
        "    'learning_rate': ['constant'],\n",
        "    'batch_size' : [32],\n",
        "    'power_t':[0.5],\n",
        "    'learning_rate_init': [0.001], # Value for learning rate\n",
        "    'momentum':[0.9], # SGD momentum\n",
        "    'n_iter_no_change':[10], # Convergence for tolerance\n",
        "    'nesterovs_momentum':[True], # SGD momentum\n",
        "    'validation_fraction':[0.2], # Size of validation split\n",
        "    'beta_1': [0.9], # Adam coeff\n",
        "    'beta_2': [0.999], # Adam coeff\n",
        "    'epsilon':[1e-07], # As keras\n",
        "    'tol':[1e-08]\n",
        "}\n",
        "\n",
        "net_grid = GridSearchCV(MLPRegressor(verbose = True,  random_state=0, shuffle = True, early_stopping = True), \n",
        "                        param_grid, n_jobs= 8, cv=4, verbose = 10).fit(X_train, y_train)\n",
        "joblib.dump(net_grid, '/content/drive/MyDrive/Parameters/coarse_net_grid.pkl')"
      ],
      "execution_count": null,
      "outputs": [
        {
          "output_type": "stream",
          "name": "stdout",
          "text": [
            "Fitting 4 folds for each of 6 candidates, totalling 24 fits\n"
          ]
        },
        {
          "output_type": "stream",
          "name": "stderr",
          "text": [
            "[Parallel(n_jobs=8)]: Using backend LokyBackend with 8 concurrent workers.\n",
            "[Parallel(n_jobs=8)]: Done   2 tasks      | elapsed:   16.4s\n",
            "[Parallel(n_jobs=8)]: Done   9 tasks      | elapsed:  1.6min\n",
            "[Parallel(n_jobs=8)]: Done  12 out of  24 | elapsed:  2.1min remaining:  2.1min\n",
            "[Parallel(n_jobs=8)]: Done  15 out of  24 | elapsed:  3.4min remaining:  2.0min\n",
            "[Parallel(n_jobs=8)]: Done  18 out of  24 | elapsed:  4.3min remaining:  1.4min\n",
            "[Parallel(n_jobs=8)]: Done  21 out of  24 | elapsed:  5.6min remaining:   48.2s\n",
            "[Parallel(n_jobs=8)]: Done  24 out of  24 | elapsed:  5.9min remaining:    0.0s\n",
            "[Parallel(n_jobs=8)]: Done  24 out of  24 | elapsed:  5.9min finished\n"
          ]
        },
        {
          "output_type": "stream",
          "name": "stdout",
          "text": [
            "Iteration 1, loss = 0.46283567\n",
            "Validation score: 0.083300\n",
            "Iteration 2, loss = 0.43213520\n",
            "Validation score: 0.122935\n",
            "Iteration 3, loss = 0.41612623\n",
            "Validation score: 0.088830\n",
            "Iteration 4, loss = 0.40481531\n",
            "Validation score: 0.109708\n",
            "Iteration 5, loss = 0.39311951\n",
            "Validation score: 0.096975\n",
            "Iteration 6, loss = 0.38375429\n",
            "Validation score: 0.117076\n",
            "Iteration 7, loss = 0.36884377\n",
            "Validation score: 0.041643\n",
            "Iteration 8, loss = 0.35998928\n",
            "Validation score: 0.080032\n",
            "Iteration 9, loss = 0.34635992\n",
            "Validation score: 0.080331\n",
            "Iteration 10, loss = 0.32667170\n",
            "Validation score: 0.052176\n",
            "Iteration 11, loss = 0.31280642\n",
            "Validation score: 0.031341\n",
            "Iteration 12, loss = 0.29484215\n",
            "Validation score: 0.052294\n",
            "Iteration 13, loss = 0.28297861\n",
            "Validation score: -0.018697\n",
            "Validation score did not improve more than tol=0.000000 for 10 consecutive epochs. Stopping.\n"
          ]
        },
        {
          "output_type": "execute_result",
          "data": {
            "text/plain": [
              "['/content/drive/MyDrive/Parameters/coarse_net_grid.pkl']"
            ]
          },
          "metadata": {},
          "execution_count": 15
        }
      ]
    },
    {
      "cell_type": "code",
      "metadata": {
        "colab": {
          "base_uri": "https://localhost:8080/"
        },
        "id": "HiEP12NPSwyR",
        "outputId": "5ac4ca68-1707-4a39-8322-697f9a2cdfad"
      },
      "source": [
        "net_results = joblib.load('/content/drive/MyDrive/Parameters/coarse_net_grid.pkl')\n",
        "net_results.best_estimator_"
      ],
      "execution_count": null,
      "outputs": [
        {
          "output_type": "execute_result",
          "data": {
            "text/plain": [
              "MLPRegressor(activation='relu', alpha=0.001, batch_size=32, beta_1=0.9,\n",
              "             beta_2=0.999, early_stopping=True, epsilon=1e-07,\n",
              "             hidden_layer_sizes=(1024, 1024), learning_rate='constant',\n",
              "             learning_rate_init=0.001, max_fun=15000, max_iter=100,\n",
              "             momentum=0.9, n_iter_no_change=10, nesterovs_momentum=True,\n",
              "             power_t=0.5, random_state=0, shuffle=True, solver='adam',\n",
              "             tol=1e-08, validation_fraction=0.2, verbose=True,\n",
              "             warm_start=False)"
            ]
          },
          "metadata": {},
          "execution_count": 5
        }
      ]
    },
    {
      "cell_type": "markdown",
      "metadata": {
        "id": "ZDKQ7ko_ca1P"
      },
      "source": [
        "Fine Grid Search"
      ]
    },
    {
      "cell_type": "code",
      "metadata": {
        "id": "ovCFnzuzcgOv",
        "colab": {
          "base_uri": "https://localhost:8080/"
        },
        "outputId": "97bd7807-0501-47d1-c69f-9edfe8d673c8"
      },
      "source": [
        "param_grid = {\n",
        "    'hidden_layer_sizes': [(512,512)], # , (1024,768), (768,1024)\n",
        "    'max_iter': [100], # Maximum number of epochs\n",
        "    'activation': ['relu'], # Activation function for hidden layers\n",
        "    'solver': ['adam'],\n",
        "    'alpha': [0, 0.001, 0.01, 0.1], #  L2 regularization coefficient\n",
        "    'learning_rate': ['adaptive'],\n",
        "    'batch_size' : [32],\n",
        "    'power_t':[0.5],\n",
        "    'learning_rate_init': [0.1], # Value for learning rate\n",
        "    'momentum':[0.9], # SGD momentum\n",
        "    'n_iter_no_change':[10], # Convergence for tolerance\n",
        "    'nesterovs_momentum':[True], # SGD momentum\n",
        "    'validation_fraction':[0.2], # Size of validation split\n",
        "    'beta_1': [0.9], # Adam coeff\n",
        "    'beta_2': [0.999], # Adam coeff\n",
        "    'epsilon':[1e-07], # As keras\n",
        "    'tol':[1e-08]\n",
        "}\n",
        "# verbose = True,  random_state=0, shuffle = True, early_stopping = True\n",
        "net_grid = GridSearchCV(MLPRegressor(), param_grid, n_jobs=-1, cv=4, verbose = 10).fit(X_train, y_train)\n",
        "joblib.dump(net_grid, '/content/drive/MyDrive/Parameters/fine_net_grid.pkl')"
      ],
      "execution_count": null,
      "outputs": [
        {
          "output_type": "stream",
          "name": "stdout",
          "text": [
            "Fitting 4 folds for each of 4 candidates, totalling 16 fits\n"
          ]
        },
        {
          "output_type": "stream",
          "name": "stderr",
          "text": [
            "[Parallel(n_jobs=-1)]: Using backend LokyBackend with 2 concurrent workers.\n",
            "[Parallel(n_jobs=-1)]: Done   1 tasks      | elapsed:  1.6min\n",
            "[Parallel(n_jobs=-1)]: Done   4 tasks      | elapsed:  4.2min\n",
            "[Parallel(n_jobs=-1)]: Done   9 tasks      | elapsed: 11.4min\n",
            "[Parallel(n_jobs=-1)]: Done  16 out of  16 | elapsed: 23.3min finished\n"
          ]
        },
        {
          "output_type": "execute_result",
          "data": {
            "text/plain": [
              "['/content/drive/MyDrive/Parameters/fine_net_grid.pkl']"
            ]
          },
          "metadata": {},
          "execution_count": 10
        }
      ]
    },
    {
      "cell_type": "markdown",
      "metadata": {
        "id": "5TaQ8YmicVV9"
      },
      "source": [
        "Results"
      ]
    },
    {
      "cell_type": "code",
      "metadata": {
        "id": "2MS_mhp0SBSu",
        "colab": {
          "base_uri": "https://localhost:8080/"
        },
        "outputId": "0943ecfc-9030-4a2d-f4aa-81da82c9f2b6"
      },
      "source": [
        "net_results = joblib.load('/content/drive/MyDrive/Parameters/fine_net_grid.pkl')\n",
        "net_results.best_estimator_"
      ],
      "execution_count": null,
      "outputs": [
        {
          "output_type": "execute_result",
          "data": {
            "text/plain": [
              "MLPRegressor(activation='relu', alpha=0.001, batch_size=32, beta_1=0.9,\n",
              "             beta_2=0.999, early_stopping=False, epsilon=1e-07,\n",
              "             hidden_layer_sizes=(512, 512), learning_rate='adaptive',\n",
              "             learning_rate_init=0.1, max_fun=15000, max_iter=100, momentum=0.9,\n",
              "             n_iter_no_change=10, nesterovs_momentum=True, power_t=0.5,\n",
              "             random_state=None, shuffle=True, solver='adam', tol=1e-08,\n",
              "             validation_fraction=0.2, verbose=False, warm_start=False)"
            ]
          },
          "metadata": {},
          "execution_count": 11
        }
      ]
    },
    {
      "cell_type": "markdown",
      "metadata": {
        "id": "OAI5m8e1up_2"
      },
      "source": [
        "Compare Random Forest and Catboost"
      ]
    },
    {
      "cell_type": "markdown",
      "metadata": {
        "id": "ZVZye4U0xrSJ"
      },
      "source": [
        "Random Forest Parameter Tuning\n",
        "\n",
        "---\n",
        "\n"
      ]
    },
    {
      "cell_type": "markdown",
      "metadata": {
        "id": "H9IYhDS0cvR0"
      },
      "source": [
        "Coarse Grid Search"
      ]
    },
    {
      "cell_type": "code",
      "metadata": {
        "id": "My-V6YaVqvUh",
        "colab": {
          "base_uri": "https://localhost:8080/"
        },
        "outputId": "27128ee3-c4df-4090-d3a6-f19d43ac16dd"
      },
      "source": [
        "rf_n_estimators = [50, 200, 500, 1000, 3000] # Note lower values do not perform well\n",
        "rf_max_depth = [5, 10, 50, None]\n",
        "rf_max_features = ['sqrt']\n",
        "rf_criterion = ['mse']\n",
        "rf_min_samples_split = [2, 5, 10, 50]\n",
        "min_samples_leaf = [1, 10, 20]\n",
        "               \n",
        "rf_grid = {'n_estimators': rf_n_estimators,\n",
        "               'max_depth': rf_max_depth,\n",
        "               'max_features': rf_max_features,\n",
        "               'criterion': rf_criterion,\n",
        "               'min_samples_split': rf_min_samples_split,\n",
        "               'min_samples_leaf': min_samples_leaf}\n",
        "\n",
        "rf_base = RandomForestRegressor()\n",
        "rf_grid = GridSearchCV(estimator = rf_base, param_grid = rf_grid, cv = 4, verbose = 10, n_jobs = 8)\n",
        "rf_grid.fit(X_train, y_train)\n",
        "joblib.dump(rf_grid, '/content/drive/MyDrive/Parameters/coarse_random_forest_grid.pkl')"
      ],
      "execution_count": null,
      "outputs": [
        {
          "output_type": "stream",
          "name": "stdout",
          "text": [
            "Fitting 4 folds for each of 240 candidates, totalling 960 fits\n"
          ]
        },
        {
          "output_type": "stream",
          "name": "stderr",
          "text": [
            "[Parallel(n_jobs=8)]: Using backend LokyBackend with 8 concurrent workers.\n",
            "[Parallel(n_jobs=8)]: Done   2 tasks      | elapsed:    5.2s\n",
            "[Parallel(n_jobs=8)]: Done   9 tasks      | elapsed:   26.7s\n",
            "[Parallel(n_jobs=8)]: Done  16 tasks      | elapsed:   59.4s\n",
            "[Parallel(n_jobs=8)]: Done  25 tasks      | elapsed:  1.5min\n",
            "[Parallel(n_jobs=8)]: Done  34 tasks      | elapsed:  2.5min\n",
            "[Parallel(n_jobs=8)]: Done  45 tasks      | elapsed:  3.1min\n",
            "[Parallel(n_jobs=8)]: Done  56 tasks      | elapsed:  4.3min\n",
            "[Parallel(n_jobs=8)]: Done  69 tasks      | elapsed:  5.5min\n",
            "[Parallel(n_jobs=8)]: Done  82 tasks      | elapsed:  6.1min\n",
            "[Parallel(n_jobs=8)]: Done  97 tasks      | elapsed:  7.7min\n",
            "[Parallel(n_jobs=8)]: Done 112 tasks      | elapsed:  8.9min\n",
            "[Parallel(n_jobs=8)]: Done 129 tasks      | elapsed: 10.4min\n",
            "[Parallel(n_jobs=8)]: Done 146 tasks      | elapsed: 11.5min\n",
            "[Parallel(n_jobs=8)]: Done 165 tasks      | elapsed: 13.1min\n",
            "[Parallel(n_jobs=8)]: Done 184 tasks      | elapsed: 14.5min\n",
            "[Parallel(n_jobs=8)]: Done 205 tasks      | elapsed: 16.4min\n",
            "[Parallel(n_jobs=8)]: Done 226 tasks      | elapsed: 18.2min\n",
            "[Parallel(n_jobs=8)]: Done 249 tasks      | elapsed: 21.0min\n",
            "[Parallel(n_jobs=8)]: Done 272 tasks      | elapsed: 23.6min\n",
            "[Parallel(n_jobs=8)]: Done 297 tasks      | elapsed: 27.4min\n",
            "[Parallel(n_jobs=8)]: Done 322 tasks      | elapsed: 31.0min\n",
            "[Parallel(n_jobs=8)]: Done 349 tasks      | elapsed: 34.8min\n",
            "[Parallel(n_jobs=8)]: Done 376 tasks      | elapsed: 38.3min\n",
            "[Parallel(n_jobs=8)]: Done 405 tasks      | elapsed: 42.6min\n",
            "[Parallel(n_jobs=8)]: Done 434 tasks      | elapsed: 46.8min\n",
            "[Parallel(n_jobs=8)]: Done 465 tasks      | elapsed: 49.7min\n",
            "/usr/local/lib/python3.7/dist-packages/joblib/externals/loky/process_executor.py:691: UserWarning: A worker stopped while some jobs were given to the executor. This can be caused by a too short worker timeout or by a memory leak.\n",
            "  \"timeout or by a memory leak.\", UserWarning\n",
            "[Parallel(n_jobs=8)]: Done 496 tasks      | elapsed: 56.0min\n",
            "[Parallel(n_jobs=8)]: Done 529 tasks      | elapsed: 64.1min\n",
            "[Parallel(n_jobs=8)]: Done 562 tasks      | elapsed: 70.1min\n",
            "[Parallel(n_jobs=8)]: Done 597 tasks      | elapsed: 76.5min\n",
            "[Parallel(n_jobs=8)]: Done 632 tasks      | elapsed: 81.3min\n",
            "[Parallel(n_jobs=8)]: Done 669 tasks      | elapsed: 87.2min\n",
            "[Parallel(n_jobs=8)]: Done 706 tasks      | elapsed: 91.7min\n",
            "[Parallel(n_jobs=8)]: Done 745 tasks      | elapsed: 99.9min\n",
            "[Parallel(n_jobs=8)]: Done 784 tasks      | elapsed: 108.6min\n",
            "[Parallel(n_jobs=8)]: Done 825 tasks      | elapsed: 115.9min\n",
            "[Parallel(n_jobs=8)]: Done 866 tasks      | elapsed: 122.4min\n",
            "[Parallel(n_jobs=8)]: Done 909 tasks      | elapsed: 129.5min\n",
            "[Parallel(n_jobs=8)]: Done 960 out of 960 | elapsed: 137.6min finished\n"
          ]
        },
        {
          "output_type": "execute_result",
          "data": {
            "text/plain": [
              "['/content/drive/MyDrive/Parameters/coarse_random_forest_grid.pkl']"
            ]
          },
          "metadata": {},
          "execution_count": 13
        }
      ]
    },
    {
      "cell_type": "code",
      "metadata": {
        "colab": {
          "base_uri": "https://localhost:8080/"
        },
        "id": "cZnzhHXTnhmW",
        "outputId": "3bfb6eea-caea-4713-ec3d-b0d1ebddbaa6"
      },
      "source": [
        "rf_results = joblib.load('/content/drive/MyDrive/Parameters/coarse_random_forest_grid.pkl')\n",
        "rf_results.best_estimator_"
      ],
      "execution_count": 11,
      "outputs": [
        {
          "output_type": "execute_result",
          "data": {
            "text/plain": [
              "RandomForestRegressor(bootstrap=True, ccp_alpha=0.0, criterion='mse',\n",
              "                      max_depth=50, max_features='sqrt', max_leaf_nodes=None,\n",
              "                      max_samples=None, min_impurity_decrease=0.0,\n",
              "                      min_impurity_split=None, min_samples_leaf=1,\n",
              "                      min_samples_split=10, min_weight_fraction_leaf=0.0,\n",
              "                      n_estimators=1000, n_jobs=None, oob_score=False,\n",
              "                      random_state=None, verbose=0, warm_start=False)"
            ]
          },
          "metadata": {},
          "execution_count": 11
        }
      ]
    },
    {
      "cell_type": "markdown",
      "metadata": {
        "id": "k_z2XQ7AdF6q"
      },
      "source": [
        "Fine Grid Search"
      ]
    },
    {
      "cell_type": "code",
      "metadata": {
        "id": "4E7tWpdydGBl",
        "colab": {
          "base_uri": "https://localhost:8080/"
        },
        "outputId": "e9221b5c-d619-4ff2-fda1-5f41ae1b5551"
      },
      "source": [
        "rf_n_estimators = [2000]\n",
        "rf_max_depth = [40, 50, 60]\n",
        "rf_max_features = ['auto']\n",
        "rf_criterion = ['mse']\n",
        "rf_min_samples_split = [2]\n",
        "min_samples_leaf = [1, 3]\n",
        "               \n",
        "rf_grid = {'n_estimators': rf_n_estimators,\n",
        "               'max_depth': rf_max_depth,\n",
        "               'max_features': rf_max_features,\n",
        "               'criterion': rf_criterion,\n",
        "               'min_samples_split': rf_min_samples_split}\n",
        "rf_base = RandomForestRegressor()\n",
        "rf_grid = GridSearchCV(estimator = rf_base, param_grid = rf_grid, \n",
        "                              cv = 3, verbose = 10, n_jobs = 8)\n",
        "rf_grid.fit(X_train, y_train)\n",
        "joblib.dump(rf_grid, '/content/drive/MyDrive/Parameters/fine_random_forest_grid.pkl')"
      ],
      "execution_count": null,
      "outputs": [
        {
          "output_type": "stream",
          "name": "stdout",
          "text": [
            "Fitting 3 folds for each of 9 candidates, totalling 27 fits\n"
          ]
        },
        {
          "output_type": "stream",
          "name": "stderr",
          "text": [
            "[Parallel(n_jobs=8)]: Using backend LokyBackend with 8 concurrent workers.\n",
            "[Parallel(n_jobs=8)]: Done   2 tasks      | elapsed:  3.1min\n",
            "[Parallel(n_jobs=8)]: Done   9 tasks      | elapsed:  8.4min\n",
            "[Parallel(n_jobs=8)]: Done  15 out of  27 | elapsed: 13.2min remaining: 10.5min\n",
            "[Parallel(n_jobs=8)]: Done  18 out of  27 | elapsed: 13.7min remaining:  6.8min\n",
            "[Parallel(n_jobs=8)]: Done  21 out of  27 | elapsed: 14.4min remaining:  4.1min\n",
            "[Parallel(n_jobs=8)]: Done  24 out of  27 | elapsed: 17.6min remaining:  2.2min\n",
            "[Parallel(n_jobs=8)]: Done  27 out of  27 | elapsed: 17.9min remaining:    0.0s\n",
            "[Parallel(n_jobs=8)]: Done  27 out of  27 | elapsed: 17.9min finished\n"
          ]
        },
        {
          "output_type": "execute_result",
          "data": {
            "text/plain": [
              "['/content/drive/MyDrive/Parameters/fine_random_forest_grid.pkl']"
            ]
          },
          "metadata": {},
          "execution_count": 11
        }
      ]
    },
    {
      "cell_type": "markdown",
      "metadata": {
        "id": "CqTVOSbxdaY2"
      },
      "source": [
        "Results"
      ]
    },
    {
      "cell_type": "code",
      "metadata": {
        "id": "i8LTcGWFqvUi",
        "colab": {
          "base_uri": "https://localhost:8080/"
        },
        "outputId": "7ec3a681-a8e0-47c2-d331-fd67d4a78b70"
      },
      "source": [
        "rf_results = joblib.load('/content/drive/MyDrive/Parameters/fine_random_forest_grid.pkl')\n",
        "rf_results.best_estimator_"
      ],
      "execution_count": null,
      "outputs": [
        {
          "output_type": "execute_result",
          "data": {
            "text/plain": [
              "RandomForestRegressor(bootstrap=True, ccp_alpha=0.0, criterion='mse',\n",
              "                      max_depth=50, max_features='auto', max_leaf_nodes=None,\n",
              "                      max_samples=None, min_impurity_decrease=0.0,\n",
              "                      min_impurity_split=None, min_samples_leaf=1,\n",
              "                      min_samples_split=2, min_weight_fraction_leaf=0.0,\n",
              "                      n_estimators=1200, n_jobs=None, oob_score=False,\n",
              "                      random_state=None, verbose=0, warm_start=False)"
            ]
          },
          "metadata": {},
          "execution_count": 14
        }
      ]
    },
    {
      "cell_type": "markdown",
      "metadata": {
        "id": "PrAi5LT2T7Be"
      },
      "source": [
        "Support Vector Regression Parameter Tuning (~10 hours)\n",
        "\n",
        "---\n",
        "\n"
      ]
    },
    {
      "cell_type": "markdown",
      "metadata": {
        "id": "6-6FQ0s3aTKc"
      },
      "source": [
        "Coarse Grid Search (RBF)"
      ]
    },
    {
      "cell_type": "code",
      "metadata": {
        "id": "l8Dox0u6T_04",
        "colab": {
          "base_uri": "https://localhost:8080/"
        },
        "outputId": "0f403a5e-eddb-4efd-f501-ce7deb7b72e1"
      },
      "source": [
        "# Reduced grid size\n",
        "param_grid = {'C': [1, 10, 100], \n",
        "              'gamma': [1, 0.1, 0.001], \n",
        "              'epsilon' : [0.01, 0], \n",
        "              'kernel': ['rbf']}\n",
        "svr_grid = GridSearchCV(SVR(), param_grid, n_jobs= 8, cv = 4,verbose = 10).fit(X_train, y_train)\n",
        "joblib.dump(svr_grid, '/content/drive/MyDrive/Parameters/coarse_svr_grid_quad.pkl')"
      ],
      "execution_count": null,
      "outputs": [
        {
          "output_type": "stream",
          "name": "stdout",
          "text": [
            "Fitting 4 folds for each of 18 candidates, totalling 72 fits\n"
          ]
        },
        {
          "output_type": "stream",
          "name": "stderr",
          "text": [
            "[Parallel(n_jobs=8)]: Using backend LokyBackend with 8 concurrent workers.\n",
            "[Parallel(n_jobs=8)]: Done   2 tasks      | elapsed:  1.0min\n",
            "[Parallel(n_jobs=8)]: Done   9 tasks      | elapsed:  1.9min\n",
            "[Parallel(n_jobs=8)]: Done  16 tasks      | elapsed:  3.7min\n",
            "[Parallel(n_jobs=8)]: Done  25 tasks      | elapsed:  6.1min\n",
            "[Parallel(n_jobs=8)]: Done  34 tasks      | elapsed:  7.5min\n",
            "[Parallel(n_jobs=8)]: Done  45 tasks      | elapsed: 10.7min\n",
            "[Parallel(n_jobs=8)]: Done  56 tasks      | elapsed: 15.1min\n",
            "[Parallel(n_jobs=8)]: Done  65 out of  72 | elapsed: 18.9min remaining:  2.0min\n",
            "[Parallel(n_jobs=8)]: Done  72 out of  72 | elapsed: 19.5min finished\n"
          ]
        },
        {
          "output_type": "execute_result",
          "data": {
            "text/plain": [
              "['/content/drive/MyDrive/Parameters/coarse_svr_grid_quad.pkl']"
            ]
          },
          "metadata": {},
          "execution_count": 4
        }
      ]
    },
    {
      "cell_type": "code",
      "metadata": {
        "colab": {
          "base_uri": "https://localhost:8080/"
        },
        "id": "fTpZxs-y2bex",
        "outputId": "85f90c3d-9fb9-4a0e-fe09-bc258a7f696c"
      },
      "source": [
        "svr_grid.best_estimator_"
      ],
      "execution_count": null,
      "outputs": [
        {
          "output_type": "execute_result",
          "data": {
            "text/plain": [
              "SVR(C=1, cache_size=200, coef0=0.0, degree=3, epsilon=0.01, gamma=0.1,\n",
              "    kernel='rbf', max_iter=-1, shrinking=True, tol=0.001, verbose=False)"
            ]
          },
          "metadata": {},
          "execution_count": 5
        }
      ]
    },
    {
      "cell_type": "markdown",
      "metadata": {
        "id": "B7QSgWnbDMBN"
      },
      "source": [
        "Coarse Grid Search (Poly)"
      ]
    },
    {
      "cell_type": "code",
      "metadata": {
        "colab": {
          "base_uri": "https://localhost:8080/"
        },
        "id": "1E2U6wspDMBT",
        "outputId": "d1f77099-2fdc-4fc6-a447-a1a2c1756b35"
      },
      "source": [
        "# Reduced grid size\n",
        "param_grid = {'C': [1, 10, 100], \n",
        "              'degree': [2, 4, 6], \n",
        "              'epsilon' : [0.01, 0], \n",
        "              'kernel': ['poly']}\n",
        "svr_grid = GridSearchCV(SVR(), param_grid, n_jobs= 8, cv = 4,verbose = 10).fit(X_train, y_train)\n",
        "joblib.dump(svr_grid, '/content/drive/MyDrive/Parameters/coarse_svr_grid_poly.pkl')"
      ],
      "execution_count": null,
      "outputs": [
        {
          "output_type": "stream",
          "name": "stdout",
          "text": [
            "Fitting 4 folds for each of 18 candidates, totalling 72 fits\n"
          ]
        },
        {
          "output_type": "stream",
          "name": "stderr",
          "text": [
            "[Parallel(n_jobs=8)]: Using backend LokyBackend with 8 concurrent workers.\n",
            "[Parallel(n_jobs=8)]: Done   2 tasks      | elapsed:  1.7min\n",
            "[Parallel(n_jobs=8)]: Done   9 tasks      | elapsed:  5.2min\n",
            "[Parallel(n_jobs=8)]: Done  16 tasks      | elapsed:  8.5min\n",
            "[Parallel(n_jobs=8)]: Done  25 tasks      | elapsed: 28.6min\n",
            "[Parallel(n_jobs=8)]: Done  34 tasks      | elapsed: 54.3min\n",
            "[Parallel(n_jobs=8)]: Done  45 tasks      | elapsed: 77.0min\n",
            "[Parallel(n_jobs=8)]: Done  56 tasks      | elapsed: 417.8min\n",
            "[Parallel(n_jobs=8)]: Done  65 out of  72 | elapsed: 544.0min remaining: 58.6min\n"
          ]
        }
      ]
    },
    {
      "cell_type": "code",
      "metadata": {
        "colab": {
          "base_uri": "https://localhost:8080/",
          "height": 163
        },
        "id": "jJTXJVbVDMBU",
        "outputId": "d6189557-51af-48ed-f468-c00f98d7479c"
      },
      "source": [
        "svr_grid.best_estimator_"
      ],
      "execution_count": null,
      "outputs": [
        {
          "output_type": "error",
          "ename": "NameError",
          "evalue": "ignored",
          "traceback": [
            "\u001b[0;31m---------------------------------------------------------------------------\u001b[0m",
            "\u001b[0;31mNameError\u001b[0m                                 Traceback (most recent call last)",
            "\u001b[0;32m<ipython-input-1-0ff05aad37ea>\u001b[0m in \u001b[0;36m<module>\u001b[0;34m()\u001b[0m\n\u001b[0;32m----> 1\u001b[0;31m \u001b[0msvr_grid\u001b[0m\u001b[0;34m.\u001b[0m\u001b[0mbest_estimator_\u001b[0m\u001b[0;34m\u001b[0m\u001b[0;34m\u001b[0m\u001b[0m\n\u001b[0m",
            "\u001b[0;31mNameError\u001b[0m: name 'svr_grid' is not defined"
          ]
        }
      ]
    },
    {
      "cell_type": "markdown",
      "metadata": {
        "id": "31Bkc17CaYH6"
      },
      "source": [
        "Fine Grid Search"
      ]
    },
    {
      "cell_type": "code",
      "metadata": {
        "id": "8X8hV0dNSeKO",
        "colab": {
          "base_uri": "https://localhost:8080/"
        },
        "outputId": "5ca09769-0d34-4ac9-ff16-f1c17e2a52bb"
      },
      "source": [
        "from sklearn.svm import SVR  \n",
        "param_grid = {'C': [100, 200], \n",
        "              'gamma': [0.001], \n",
        "              'epsilon' : [0, 0.0001],\n",
        "              'kernel': ['rbf']}\n",
        "svr_grid = GridSearchCV(SVR(), param_grid, n_jobs= 8, cv = 4,verbose = 10).fit(X_train, y_train)\n",
        "joblib.dump(svr_grid, '/content/drive/MyDrive/Parameters/fine_svr_grid.pkl')"
      ],
      "execution_count": null,
      "outputs": [
        {
          "output_type": "stream",
          "name": "stdout",
          "text": [
            "Fitting 4 folds for each of 4 candidates, totalling 16 fits\n"
          ]
        },
        {
          "output_type": "stream",
          "name": "stderr",
          "text": [
            "[Parallel(n_jobs=8)]: Using backend LokyBackend with 8 concurrent workers.\n",
            "[Parallel(n_jobs=8)]: Done   3 out of  16 | elapsed:  2.6min remaining: 11.3min\n",
            "[Parallel(n_jobs=8)]: Done   5 out of  16 | elapsed:  2.8min remaining:  6.1min\n",
            "[Parallel(n_jobs=8)]: Done   7 out of  16 | elapsed:  6.3min remaining:  8.1min\n",
            "[Parallel(n_jobs=8)]: Done   9 out of  16 | elapsed: 10.2min remaining:  7.9min\n",
            "[Parallel(n_jobs=8)]: Done  11 out of  16 | elapsed: 10.8min remaining:  4.9min\n",
            "[Parallel(n_jobs=8)]: Done  13 out of  16 | elapsed: 10.9min remaining:  2.5min\n",
            "[Parallel(n_jobs=8)]: Done  16 out of  16 | elapsed: 12.0min finished\n"
          ]
        },
        {
          "output_type": "execute_result",
          "data": {
            "text/plain": [
              "['/content/drive/MyDrive/Parameters/fine_svr_grid.pkl']"
            ]
          },
          "metadata": {},
          "execution_count": 8
        }
      ]
    },
    {
      "cell_type": "markdown",
      "metadata": {
        "id": "vTIQklbMdeFO"
      },
      "source": [
        "Results"
      ]
    },
    {
      "cell_type": "code",
      "metadata": {
        "id": "rPVtRxZ5iwUx",
        "colab": {
          "base_uri": "https://localhost:8080/"
        },
        "outputId": "f6b14e04-5fcc-4e36-da47-c672df651ed0"
      },
      "source": [
        "svr_results = joblib.load('/content/drive/MyDrive/Parameters/fine_svr_grid.pkl')\n",
        "svr_results.best_estimator_"
      ],
      "execution_count": null,
      "outputs": [
        {
          "output_type": "execute_result",
          "data": {
            "text/plain": [
              "SVR(C=200, cache_size=200, coef0=0.0, degree=3, epsilon=0.0001, gamma=0.001,\n",
              "    kernel='rbf', max_iter=-1, shrinking=True, tol=0.001, verbose=False)"
            ]
          },
          "metadata": {},
          "execution_count": 9
        }
      ]
    },
    {
      "cell_type": "markdown",
      "metadata": {
        "id": "EVtqgbkMtW_y"
      },
      "source": [
        "k-Nearest Neighbors Regression Parameter Tuning (~10 min)\n",
        "\n",
        "---\n",
        "\n"
      ]
    },
    {
      "cell_type": "markdown",
      "metadata": {
        "id": "n-1k9xpvdqen"
      },
      "source": [
        "Coarse Grid Search"
      ]
    },
    {
      "cell_type": "code",
      "metadata": {
        "id": "2zSF146PtbMn",
        "colab": {
          "base_uri": "https://localhost:8080/"
        },
        "outputId": "fc34a116-1447-4dc4-cd6a-08e5cdef2d24"
      },
      "source": [
        "param_grid = {\n",
        "    'n_neighbors': (1, 100, 5),\n",
        "    'leaf_size': (10,100,10),\n",
        "    'p': (1,2),\n",
        "    'weights': ('uniform', 'distance'),\n",
        "    'metric': ('minkowski', 'chebyshev')}\n",
        "\n",
        "knn_grid = GridSearchCV(estimator=KNeighborsRegressor(algorithm='kd_tree'), param_grid=param_grid, n_jobs= 8, cv = 5, verbose = 10).fit(X_train, y_train)\n",
        "joblib.dump(svr_grid, '/content/drive/MyDrive/Parameters/coarse_knn_grid.pkl')"
      ],
      "execution_count": null,
      "outputs": [
        {
          "output_type": "stream",
          "name": "stdout",
          "text": [
            "Fitting 5 folds for each of 72 candidates, totalling 360 fits\n"
          ]
        },
        {
          "output_type": "stream",
          "name": "stderr",
          "text": [
            "[Parallel(n_jobs=8)]: Using backend LokyBackend with 8 concurrent workers.\n",
            "[Parallel(n_jobs=8)]: Done  16 tasks      | elapsed:   16.8s\n",
            "[Parallel(n_jobs=8)]: Done 112 tasks      | elapsed:  1.4min\n",
            "[Parallel(n_jobs=8)]: Done 272 tasks      | elapsed:  3.2min\n",
            "[Parallel(n_jobs=8)]: Done 360 out of 360 | elapsed:  4.0min finished\n"
          ]
        },
        {
          "output_type": "execute_result",
          "data": {
            "text/plain": [
              "KNeighborsRegressor(algorithm='kd_tree', leaf_size=10, metric='minkowski',\n",
              "                    metric_params=None, n_jobs=None, n_neighbors=5, p=1,\n",
              "                    weights='distance')"
            ]
          },
          "metadata": {},
          "execution_count": 21
        }
      ]
    },
    {
      "cell_type": "markdown",
      "metadata": {
        "id": "RMrjADihdqet"
      },
      "source": [
        "Fine Grid Search"
      ]
    },
    {
      "cell_type": "code",
      "metadata": {
        "id": "M1f-sV1sd5MV"
      },
      "source": [
        "param_grid = {\n",
        "    'n_neighbors': (1, 100, 5),\n",
        "    'leaf_size': (10,100,10),\n",
        "    'p': (1,2),\n",
        "    'weights': ('uniform', 'distance'),\n",
        "    'metric': ('minkowski', 'chebyshev')}\n",
        "\n",
        "knn_grid = GridSearchCV(estimator=KNeighborsRegressor(algorithm='kd_tree'), param_grid=param_grid, n_jobs= 8, cv = 5, verbose = 10).fit(X_train, y_train)\n",
        "joblib.dump(svr_grid, '/content/drive/MyDrive/Parameters/fine_knn_grid.pkl')"
      ],
      "execution_count": null,
      "outputs": []
    },
    {
      "cell_type": "markdown",
      "metadata": {
        "id": "cwU0JcNmdqeu"
      },
      "source": [
        "Results"
      ]
    },
    {
      "cell_type": "code",
      "metadata": {
        "id": "DiPkLSReeHD4"
      },
      "source": [
        "knn_results = joblib.load('/content/drive/MyDrive/Parameters/fine_knn_grid.pkl')\n",
        "knn_results.best_estimator_"
      ],
      "execution_count": null,
      "outputs": []
    },
    {
      "cell_type": "markdown",
      "metadata": {
        "id": "-9fYgai5eh27"
      },
      "source": [
        "Meta-learner Parameter Tuning\n",
        "\n",
        "---\n",
        "\n"
      ]
    },
    {
      "cell_type": "markdown",
      "metadata": {
        "id": "egvMJV6Eeh3C"
      },
      "source": [
        "Coarse Grid Search"
      ]
    },
    {
      "cell_type": "markdown",
      "metadata": {
        "id": "gSCOjQF5eh3C"
      },
      "source": [
        "Fine Grid Search"
      ]
    },
    {
      "cell_type": "code",
      "metadata": {
        "id": "Lwn2a6J-fdfw"
      },
      "source": [
        "# %%\n",
        "import matplotlib.pyplot as plt\n",
        "import numpy as np\n",
        "import pandas as pd\n",
        "from pandas.core.frame import DataFrame\n",
        "import seaborn as sns\n",
        "import sklearn.metrics as metrics\n",
        "from keras.backend import clear_session\n",
        "from keras.layers import Dense\n",
        "from keras.models import Sequential\n",
        "from sklearn.ensemble import RandomForestRegressor\n",
        "from sklearn.linear_model import LinearRegression\n",
        "from sklearn.neighbors import KNeighborsRegressor\n",
        "from sklearn.preprocessing import StandardScaler\n",
        "from sklearn.svm import SVR\n",
        "import numpy as np\n",
        "import pandas as pd\n",
        "from sklearn.decomposition import PCA\n",
        "import tensorflow as tf\n",
        "from sklearn.preprocessing import StandardScaler\n",
        "import matplotlib.pyplot as plt\n",
        "import numpy as np\n",
        "import pandas as pd\n",
        "from pandas.core.frame import DataFrame\n",
        "import seaborn as sns\n",
        "import sklearn\n",
        "import sklearn.metrics as metrics\n",
        "from keras.backend import clear_session\n",
        "from keras.layers import Dense\n",
        "from keras.models import Sequential\n",
        "from sklearn.ensemble import RandomForestRegressor\n",
        "from sklearn.linear_model import LinearRegression\n",
        "from sklearn.neighbors import KNeighborsRegressor\n",
        "from sklearn.preprocessing import StandardScaler\n",
        "from sklearn.svm import SVR\n",
        "import numpy as np\n",
        "import pandas as pd\n",
        "from sklearn.decomposition import PCA\n",
        "from sklearn.model_selection import cross_val_score\n",
        "from sklearn.model_selection import KFold \n",
        "from sklearn.model_selection import RandomizedSearchCV, GridSearchCV\n",
        "import joblib\n",
        "from sklearn.ensemble import BaggingRegressor\n",
        "import seaborn as sns\n",
        "\n",
        "  \n",
        "def plot_results(true_value, predicted_value, title):\n",
        "    sns.set()\n",
        "    plt.figure(figsize=(10,10))\n",
        "    plt.scatter(true_value, predicted_value, c='crimson')\n",
        "    p1 = max(max(predicted_value), max(true_value))\n",
        "    p2 = min(min(predicted_value), min(true_value))\n",
        "    plt.plot([p1, p2], [p1, p2], 'b-')\n",
        "    plt.xlabel('True Values', fontsize=15)\n",
        "    plt.ylabel('Predictions', fontsize=15)\n",
        "    plt.title(title)\n",
        "    plt.axis('equal')\n",
        "    plt.show()\n",
        "\n",
        "    \n",
        "def regression_results(y_true, y_pred, model_string):\n",
        "    print('# <><><><><><><><><><><><><><><><><><><><><><><><><><><><><><><><><><><><><><><><><><><><><><><><>')\n",
        "    print(model_string)\n",
        "    explained_variance=metrics.explained_variance_score(y_true, y_pred)\n",
        "    mean_absolute_error=metrics.mean_absolute_error(y_true, y_pred) \n",
        "    mse=metrics.mean_squared_error(y_true, y_pred) \n",
        "    r2=metrics.r2_score(y_true, y_pred)\n",
        "    print('explained_variance: ', round(explained_variance,4))    \n",
        "    print('r2: ', round(r2,4))\n",
        "    print('MAE: ', round(mean_absolute_error,4))\n",
        "    print('MSE: ', round(mse,4))\n",
        "    print('RMSE: ', round(np.sqrt(mse),4))\n",
        "\n",
        "def scaled_metrics(regressor, X_train, y_train, X_test, y_test, scl_y, GW, model_str, epochs = None):\n",
        "    if model_str is 'Scaled Net':\n",
        "        regressor.fit(X_train, y_train, epochs=50)\n",
        "    elif model_str is 'SklearnMLP':\n",
        "        regressor.fit(X_train, y_train)\n",
        "    else:\n",
        "        regressor.fit(X_train, y_train)\n",
        "        if model_str == 'Scaled RF':\n",
        "            plot_feature_importance(regressor.feature_importances_, X_train.columns,'RANDOM FOREST')\n",
        "    y_train_rescaled = np.round(scl_y.inverse_transform(y_train))\n",
        "    y_test_rescaled = np.round(scl_y.inverse_transform(y_test))\n",
        "    y_pred_test = np.round(scl_y.inverse_transform(regressor.predict(X_test)))\n",
        "    y_pred_train = np.round(scl_y.inverse_transform(regressor.predict(X_train)))\n",
        "    regression_results(y_test_rescaled, y_pred_test, model_str)\n",
        "    plot_results(y_test_rescaled, y_pred_test, title = f'Testing, 2020 Gameweek {GW}')\n",
        "    # regression_results(y_train_rescaled, y_pred_train, model_str)\n",
        "    # plot_results(y_train_rescaled, y_pred_train, title = f'Training, 2019 + 2020 GW: {GW - 1}')\n",
        "\n",
        "def test_scaled_LR_model(X_train, y_train, X_test, y_test, scl_y, GW):\n",
        "    \"\"\"[This function tests a linear regression model on the provided data]\n",
        "\n",
        "    Args:\n",
        "        X_train ([type]): [The training predictors]\n",
        "        X_test ([type]): [The testing predictors]\n",
        "        y_train ([type]): [The testing predictors]\n",
        "        y_test ([type]): [The training response]\n",
        "    \"\"\"\n",
        "    \n",
        "    regressor = LinearRegression(normalize=False, n_jobs=-1)\n",
        "    scaled_metrics(regressor, X_train, y_train, X_test, y_test, scl_y, GW, 'Scaled LR')\n",
        "    \n",
        "\n",
        "def test_scaled_knn_model(X_train, y_train, X_test, y_test, scl_y, GW):\n",
        "    \"\"\"[This function tests a linear regression model on the provided data]\n",
        "\n",
        "    Args:\n",
        "        X_train ([type]): [The training predictors]\n",
        "        X_test ([type]): [The testing predictors]\n",
        "        y_train ([type]): [The testing predictors]\n",
        "        y_test ([type]): [The training response]\n",
        "    \"\"\"\n",
        "    regressor = KNeighborsRegressor(algorithm='kd_tree', leaf_size=10, metric='minkowski',\n",
        "                    metric_params=None, n_jobs=None, n_neighbors=5, p=1,\n",
        "                    weights='distance')\n",
        "    scaled_metrics(regressor, X_train, y_train, X_test, y_test, scl_y, GW, 'Scaled kNN')\n",
        "        \n",
        "def plot_feature_importance(importance,names,model_type):\n",
        "\n",
        "    #Create arrays from feature importance and feature names\n",
        "    feature_importance = np.array(importance)\n",
        "    feature_names = np.array(names)\n",
        "\n",
        "    #Create a DataFrame using a Dictionary\n",
        "    data={'feature_names':feature_names,'feature_importance':feature_importance}\n",
        "    fi_df = pd.DataFrame(data)\n",
        "\n",
        "    #Sort the DataFrame in order decreasing feature importance\n",
        "    fi_df.sort_values(by=['feature_importance'], ascending=False,inplace=True)\n",
        "\n",
        "    #Define size of bar plot\n",
        "    plt.figure(figsize=(10,8))\n",
        "    #Plot Searborn bar chart\n",
        "    sns.barplot(x=fi_df['feature_importance'].head(10), y=fi_df['feature_names'].head(15))\n",
        "    #Add chart labels\n",
        "    plt.title(model_type + 'FEATURE IMPORTANCE')\n",
        "    plt.xlabel('FEATURE IMPORTANCE')\n",
        "    plt.ylabel('FEATURE NAMES')\n",
        "    plt.show()\n",
        "            \n",
        "def test_scaled_RF_model(X_train, y_train, X_test, y_test, std_scale_Y, GW):\n",
        "    \"\"\"[This function tests a linear regression model on the provided data]\n",
        "\n",
        "    Args:\n",
        "        X_train ([type]): [The training predictors]\n",
        "        X_test ([type]): [The testing predictors]\n",
        "        y_train ([type]): [The testing predictors]\n",
        "        y_test ([type]): [The training response]\n",
        "    \"\"\"\n",
        "    regressor = RandomForestRegressor(max_depth = 30, max_features = 'auto',\n",
        "                      min_samples_leaf = 2, min_samples_split = 5,\n",
        "                      n_estimators = 540) \n",
        "    scaled_metrics(regressor, X_train, y_train, X_test, y_test, std_scale_Y, GW, 'Scaled RF')\n",
        "\n",
        "\n",
        "    \n",
        "def test_scaled_SVR_model(X_train, y_train, X_test, y_test, std_scaler_Y, GW):\n",
        "    \"\"\"[This function tests a linear regression model on the provided data]\n",
        "\n",
        "    Args:\n",
        "        X_train ([type]): [The training predictors]\n",
        "        X_test ([type]): [The testing predictors]\n",
        "        y_train ([type]): [The testing predictors]\n",
        "        y_test ([type]): [The training response]\n",
        "    \"\"\"\n",
        "    # 100, 0, 0.01 infeasible\n",
        "    # 100, 0, 0.001 feasible?\n",
        "    regressor = SVR(C=1, cache_size=200, coef0=0.0, degree=3, epsilon=0.01, gamma=0.1, kernel='rbf', max_iter=-1, shrinking=True, tol=0.001, verbose=False)\n",
        "    scaled_metrics(regressor, X_train, y_train, X_test, y_test, std_scaler_Y, GW, 'Scaled SVR')\n",
        "\n",
        "\n",
        "def plot_history(history):\n",
        "    hist = pd.DataFrame(history.history)\n",
        "    hist['epoch'] = history.epoch\n",
        "    plt.figure()\n",
        "    plt.xlabel('Epoch')\n",
        "    plt.ylabel('Mean Square Error')\n",
        "    plt.plot(hist['epoch'], hist['mse'], label='Train Error')\n",
        "    plt.plot(hist['epoch'], hist['val_mse'], label = 'Val Error')\n",
        "    plt.legend()\n",
        "    plt.ylim([0,0.05])\n",
        "    \n",
        "    \n",
        "def test_scaled_net(X_train, y_train, X_test, y_test, std_scale_Y, GW):\n",
        "    \"\"\"[This is very much just a]\n",
        "\n",
        "    Args:\n",
        "        X_train ([type]): [description]\n",
        "        y_train ([type]): [description]\n",
        "        X_test ([type]): [description]\n",
        "        y_test ([type]): [description]\n",
        "        std_scale_Y_train ([type]): [description]\n",
        "        std_scale_Y_test ([type]): [description]\n",
        "        GW ([type]): [description]\n",
        "    \"\"\"    \n",
        "    regressor = Sequential()\n",
        "    regressor.add(Dense(1024, activation= \"relu\"))\n",
        "    regressor.add(Dense(1024, activation= \"relu\"))\n",
        "    regressor.add(Dense(1024, activation= \"relu\"))\n",
        "    regressor.add(Dense(1))\n",
        "    regressor.compile(loss= \"mse\" , optimizer=\"adam\", metrics=[\"mse\"])\n",
        "    history = regressor.fit(X_train, y_train, epochs=100, validation_split=0.2,\n",
        "                            callbacks = [tf.keras.callbacks.EarlyStopping(monitor='val_loss', patience=10,restore_best_weights=True)])\n",
        "    y_train_rescaled = np.round(std_scale_Y.inverse_transform(y_train))\n",
        "    y_test_rescaled = np.round(std_scale_Y.inverse_transform(y_test))\n",
        "    y_pred_test = np.round(std_scale_Y.inverse_transform(regressor.predict(X_test)))\n",
        "    y_pred_train = np.round(std_scale_Y.inverse_transform(regressor.predict(X_train)))\n",
        "    regression_results(y_test_rescaled, y_pred_test, 'Neural Net')\n",
        "    plot_results(y_test_rescaled, y_pred_test, title = f'Testing, 2020 Gameweek {GW}')\n",
        "    regression_results(y_train_rescaled, y_pred_train, 'Neural Net')\n",
        "    plot_results(y_train_rescaled, y_pred_train, title = f'Training, 2019 + 2020 GW: {GW - 1}')\n",
        "    plot_history(history)\n",
        "    clear_session()\n",
        "\n",
        "\n",
        "\n",
        "from sklearn.neural_network import MLPRegressor\n",
        "\n",
        "def test_scaled_MLP_model(X_train, y_train, X_test, y_test, std_scale_Y, GW):\n",
        "    \"\"\"[This function tests a linear regression model on the provided data]\n",
        "\n",
        "    Args:\n",
        "        X_train ([type]): [The training predictors]\n",
        "        X_test ([type]): [The testing predictors]\n",
        "        y_train ([type]): [The testing predictors]\n",
        "        y_test ([type]): [The training response]\n",
        "    \"\"\"\n",
        "    regressor = MLPRegressor(activation='relu', alpha=0.001, batch_size=32, beta_1=0.9,\n",
        "             beta_2=0.999, early_stopping=True, epsilon=1e-07,\n",
        "             hidden_layer_sizes=(1024, 1024), learning_rate='constant',\n",
        "             learning_rate_init=0.001, max_fun=15000, max_iter=100,\n",
        "             momentum=0.9, n_iter_no_change=10, nesterovs_momentum=True,\n",
        "             power_t=0.5, random_state=0, shuffle=True, solver='adam',\n",
        "             tol=1e-08, validation_fraction=0.2, verbose=True,\n",
        "             warm_start=False)\n",
        "    scaled_metrics(regressor, X_train, y_train, X_test, y_test, std_scale_Y, GW, 'SklearnMLP')\n",
        "\n",
        "\n",
        "\n",
        "X_train, X_test, y_train, y_test, std_x, std_y = get_training_data(GW = 2, scale = True)\n",
        "\n",
        "\n",
        "# test_scaled_RF_model(X_train, y_train, X_test, y_test, std_y, 10) \n",
        "# test_scaled_SVR_model(X_train, y_train, X_test, y_test, std_y, 2) # 0.2023 at 496, less...\n",
        "# test_scaled_LR_model(X_train, y_train, X_test, y_test, std_y, 10) \n",
        "# test_scaled_MLP_model(X_train, y_train, X_test, y_test, std_y, 1) \n",
        "# test_scaled_knn_model(X_train, y_train, X_test, y_test, std_resp, GW)\n",
        "# X_train, y_train, std_resp = scale_datasets(df) # For scaled \n",
        "# X_train.drop(columns = ['FDR_Med'], inplace = True)\n",
        "# reduce_multicollin(X_train, y_train, X_test, y_test, std_resp)\n",
        "# print(X_train.columns)\n",
        "# print(X_test.columns)\n",
        "# test_scaled_net(X_train, y_train, X_test, y_test, std_y, 3) # 0.2023 at 496, less...\n",
        "# 1024, 1024 does the worst  0.2335\n"
      ],
      "execution_count": 7,
      "outputs": []
    },
    {
      "cell_type": "code",
      "metadata": {
        "colab": {
          "base_uri": "https://localhost:8080/"
        },
        "id": "yLL6et2m_Bn_",
        "outputId": "92f02aec-591d-4e2b-abb1-bce06819e665"
      },
      "source": [
        "! pip install catboost\n",
        "import catboost as cb\n",
        "df = pd.read_csv('./drive/MyDrive/Data/engineered_us.csv')\n",
        "min_date = df[(df['GW'] == 3) & (df['kickoff_time'] >= '2020-08-12')]['kickoff_time'].min() # The first date of the gameweek\n",
        "max_date = df[(df['GW'] == 3) & (df['kickoff_time'] > '2020-08-12')]['kickoff_time'].max() # The last date of the gameweek\n",
        "df_scl = df[df['kickoff_time'] <= max_date].copy() # Only includes up to gameweek \n",
        "df_train, df_test = df_scl[df_scl['kickoff_time'] < min_date], df_scl[df_scl['kickoff_time'] >= min_date] \n",
        "X = df_train.drop(['total_points', 'kickoff_time', 'GW', 'player_name'], axis = 1)\n",
        "y = df_train['total_points']\n",
        "X_test = df_test.drop(['total_points', 'kickoff_time', 'GW', 'player_name', 'season'], axis = 1)\n",
        "y_test = df_test['total_points']\n",
        "X = X.reindex(columns=X.columns)\n",
        "X_test = X_test.reindex(columns=X.columns) # Order consistent\n",
        "categorical_features_indices = np.where(X.dtypes == 'object')[0]\n",
        "train_pool = cb.Pool(X, y, cat_features=categorical_features_indices)\n",
        "validation_pool = cb.Pool(X_test, y_test ,cat_features=categorical_features_indices)\n",
        "model = cb.CatBoostRegressor(loss_function='RMSE', verbose = 10000)\n",
        "grid = {'learning_rate': [0.03, 0.1],\n",
        "        'depth': [2, 4, 6, 8],\n",
        "        'l2_leaf_reg': [0.2, 0.5, 1, 3]}\n",
        "grid_search_result = model.grid_search(grid, train_pool, plot=False)\n",
        "pred = model.predict(X_test)\n",
        "regression_results(y_test, pred, 'catboost')"
      ],
      "execution_count": null,
      "outputs": [
        {
          "output_type": "stream",
          "name": "stdout",
          "text": [
            "Requirement already satisfied: catboost in /usr/local/lib/python3.7/dist-packages (1.0.0)\n",
            "Requirement already satisfied: scipy in /usr/local/lib/python3.7/dist-packages (from catboost) (1.4.1)\n",
            "Requirement already satisfied: numpy>=1.16.0 in /usr/local/lib/python3.7/dist-packages (from catboost) (1.19.5)\n",
            "Requirement already satisfied: matplotlib in /usr/local/lib/python3.7/dist-packages (from catboost) (3.2.2)\n",
            "Requirement already satisfied: plotly in /usr/local/lib/python3.7/dist-packages (from catboost) (4.4.1)\n",
            "Requirement already satisfied: graphviz in /usr/local/lib/python3.7/dist-packages (from catboost) (0.10.1)\n",
            "Requirement already satisfied: six in /usr/local/lib/python3.7/dist-packages (from catboost) (1.15.0)\n",
            "Requirement already satisfied: pandas>=0.24.0 in /usr/local/lib/python3.7/dist-packages (from catboost) (1.1.5)\n",
            "Requirement already satisfied: pytz>=2017.2 in /usr/local/lib/python3.7/dist-packages (from pandas>=0.24.0->catboost) (2018.9)\n",
            "Requirement already satisfied: python-dateutil>=2.7.3 in /usr/local/lib/python3.7/dist-packages (from pandas>=0.24.0->catboost) (2.8.2)\n",
            "Requirement already satisfied: cycler>=0.10 in /usr/local/lib/python3.7/dist-packages (from matplotlib->catboost) (0.10.0)\n",
            "Requirement already satisfied: pyparsing!=2.0.4,!=2.1.2,!=2.1.6,>=2.0.1 in /usr/local/lib/python3.7/dist-packages (from matplotlib->catboost) (2.4.7)\n",
            "Requirement already satisfied: kiwisolver>=1.0.1 in /usr/local/lib/python3.7/dist-packages (from matplotlib->catboost) (1.3.2)\n",
            "Requirement already satisfied: retrying>=1.3.3 in /usr/local/lib/python3.7/dist-packages (from plotly->catboost) (1.3.3)\n",
            "0:\tlearn: 4.0599323\ttest: 4.3198327\tbest: 4.3198327 (0)\ttotal: 6.71ms\tremaining: 6.7s\n",
            "999:\tlearn: 2.5956218\ttest: 2.8638360\tbest: 2.8636250 (982)\ttotal: 4.8s\tremaining: 0us\n",
            "\n",
            "bestTest = 2.86362504\n",
            "bestIteration = 982\n",
            "\n",
            "0:\tloss: 2.8636250\tbest: 2.8636250 (0)\ttotal: 4.87s\tremaining: 2m 31s\n",
            "0:\tlearn: 3.9114039\ttest: 4.1733584\tbest: 4.1733584 (0)\ttotal: 6.9ms\tremaining: 6.89s\n",
            "999:\tlearn: 2.4671519\ttest: 2.8514547\tbest: 2.8492577 (902)\ttotal: 5s\tremaining: 0us\n",
            "\n",
            "bestTest = 2.849257679\n",
            "bestIteration = 902\n",
            "\n",
            "1:\tloss: 2.8492577\tbest: 2.8492577 (1)\ttotal: 9.91s\tremaining: 2m 28s\n",
            "0:\tlearn: 4.0599387\ttest: 4.3198391\tbest: 4.3198391 (0)\ttotal: 6.37ms\tremaining: 6.36s\n",
            "999:\tlearn: 2.5998912\ttest: 2.8623710\tbest: 2.8622190 (986)\ttotal: 4.8s\tremaining: 0us\n",
            "\n",
            "bestTest = 2.862218995\n",
            "bestIteration = 986\n",
            "\n",
            "2:\tloss: 2.8622190\tbest: 2.8492577 (1)\ttotal: 14.8s\tremaining: 2m 22s\n",
            "0:\tlearn: 3.9114244\ttest: 4.1733788\tbest: 4.1733788 (0)\ttotal: 7.24ms\tremaining: 7.24s\n",
            "999:\tlearn: 2.4673721\ttest: 2.8490565\tbest: 2.8490368 (998)\ttotal: 4.91s\tremaining: 0us\n",
            "\n",
            "bestTest = 2.849036836\n",
            "bestIteration = 998\n",
            "\n",
            "3:\tloss: 2.8490368\tbest: 2.8490368 (3)\ttotal: 19.7s\tremaining: 2m 17s\n",
            "0:\tlearn: 4.0599493\ttest: 4.3198496\tbest: 4.3198496 (0)\ttotal: 6.14ms\tremaining: 6.13s\n",
            "999:\tlearn: 2.6008398\ttest: 2.8640813\tbest: 2.8639648 (983)\ttotal: 4.71s\tremaining: 0us\n",
            "\n",
            "bestTest = 2.863964772\n",
            "bestIteration = 983\n",
            "\n",
            "4:\tloss: 2.8639648\tbest: 2.8490368 (3)\ttotal: 24.4s\tremaining: 2m 12s\n",
            "0:\tlearn: 3.9114585\ttest: 4.1734126\tbest: 4.1734126 (0)\ttotal: 6.46ms\tremaining: 6.45s\n",
            "999:\tlearn: 2.4737596\ttest: 2.8513373\tbest: 2.8513308 (998)\ttotal: 4.87s\tremaining: 0us\n",
            "\n",
            "bestTest = 2.851330784\n",
            "bestIteration = 998\n",
            "\n",
            "5:\tloss: 2.8513308\tbest: 2.8490368 (3)\ttotal: 29.4s\tremaining: 2m 7s\n",
            "0:\tlearn: 4.0599918\ttest: 4.3198917\tbest: 4.3198917 (0)\ttotal: 6.26ms\tremaining: 6.25s\n",
            "999:\tlearn: 2.6075229\ttest: 2.8643340\tbest: 2.8639212 (937)\ttotal: 4.63s\tremaining: 0us\n",
            "\n",
            "bestTest = 2.863921228\n",
            "bestIteration = 937\n",
            "\n",
            "6:\tloss: 2.8639212\tbest: 2.8490368 (3)\ttotal: 34s\tremaining: 2m 1s\n",
            "0:\tlearn: 3.9115948\ttest: 4.1735481\tbest: 4.1735481 (0)\ttotal: 6.21ms\tremaining: 6.2s\n",
            "999:\tlearn: 2.4895040\ttest: 2.8490281\tbest: 2.8487309 (948)\ttotal: 4.84s\tremaining: 0us\n",
            "\n",
            "bestTest = 2.848730924\n",
            "bestIteration = 948\n",
            "\n",
            "7:\tloss: 2.8487309\tbest: 2.8487309 (7)\ttotal: 38.9s\tremaining: 1m 56s\n",
            "0:\tlearn: 4.0585722\ttest: 4.3189458\tbest: 4.3189458 (0)\ttotal: 14.6ms\tremaining: 14.6s\n",
            "999:\tlearn: 2.4116841\ttest: 2.8183152\tbest: 2.8180075 (997)\ttotal: 11.4s\tremaining: 0us\n",
            "\n",
            "bestTest = 2.818007527\n",
            "bestIteration = 997\n",
            "\n",
            "8:\tloss: 2.8180075\tbest: 2.8180075 (8)\ttotal: 50.3s\tremaining: 2m 8s\n",
            "0:\tlearn: 3.9068617\ttest: 4.1703700\tbest: 4.1703700 (0)\ttotal: 14.2ms\tremaining: 14.2s\n",
            "999:\tlearn: 2.0465996\ttest: 2.8167278\tbest: 2.8155543 (971)\ttotal: 11.4s\tremaining: 0us\n",
            "\n",
            "bestTest = 2.815554308\n",
            "bestIteration = 971\n",
            "\n",
            "9:\tloss: 2.8155543\tbest: 2.8155543 (9)\ttotal: 1m 1s\tremaining: 2m 15s\n",
            "0:\tlearn: 4.0585971\ttest: 4.3189703\tbest: 4.3189703 (0)\ttotal: 12.9ms\tremaining: 12.9s\n",
            "999:\tlearn: 2.4245176\ttest: 2.8215011\tbest: 2.8215011 (999)\ttotal: 11s\tremaining: 0us\n",
            "\n",
            "bestTest = 2.821501148\n",
            "bestIteration = 999\n",
            "\n",
            "10:\tloss: 2.8215011\tbest: 2.8155543 (9)\ttotal: 1m 12s\tremaining: 2m 18s\n",
            "0:\tlearn: 3.9069418\ttest: 4.1704488\tbest: 4.1704488 (0)\ttotal: 13.9ms\tremaining: 13.9s\n",
            "999:\tlearn: 2.0649648\ttest: 2.8019380\tbest: 2.8018737 (998)\ttotal: 11.3s\tremaining: 0us\n",
            "\n",
            "bestTest = 2.801873697\n",
            "bestIteration = 998\n",
            "\n",
            "11:\tloss: 2.8018737\tbest: 2.8018737 (11)\ttotal: 1m 24s\tremaining: 2m 20s\n",
            "0:\tlearn: 4.0586370\ttest: 4.3190091\tbest: 4.3190091 (0)\ttotal: 13.4ms\tremaining: 13.4s\n",
            "999:\tlearn: 2.4356851\ttest: 2.8211026\tbest: 2.8210366 (991)\ttotal: 10.9s\tremaining: 0us\n",
            "\n",
            "bestTest = 2.821036598\n",
            "bestIteration = 991\n",
            "\n",
            "12:\tloss: 2.8210366\tbest: 2.8018737 (11)\ttotal: 1m 35s\tremaining: 2m 19s\n",
            "0:\tlearn: 3.9070704\ttest: 4.1705738\tbest: 4.1705738 (0)\ttotal: 13.9ms\tremaining: 13.8s\n",
            "999:\tlearn: 2.0797044\ttest: 2.8068884\tbest: 2.8064378 (984)\ttotal: 11.3s\tremaining: 0us\n",
            "\n",
            "bestTest = 2.80643779\n",
            "bestIteration = 984\n",
            "\n",
            "13:\tloss: 2.8064378\tbest: 2.8018737 (11)\ttotal: 1m 46s\tremaining: 2m 16s\n",
            "0:\tlearn: 4.0587842\ttest: 4.3191491\tbest: 4.3191491 (0)\ttotal: 13.1ms\tremaining: 13.1s\n",
            "999:\tlearn: 2.4671095\ttest: 2.8274068\tbest: 2.8274068 (999)\ttotal: 10.9s\tremaining: 0us\n",
            "\n",
            "bestTest = 2.827406839\n",
            "bestIteration = 999\n",
            "\n",
            "14:\tloss: 2.8274068\tbest: 2.8018737 (11)\ttotal: 1m 57s\tremaining: 2m 13s\n",
            "0:\tlearn: 3.9075452\ttest: 4.1710269\tbest: 4.1710269 (0)\ttotal: 13.7ms\tremaining: 13.7s\n",
            "999:\tlearn: 2.1549220\ttest: 2.8000305\tbest: 2.7981932 (921)\ttotal: 11s\tremaining: 0us\n",
            "\n",
            "bestTest = 2.798193198\n",
            "bestIteration = 921\n",
            "\n",
            "15:\tloss: 2.7981932\tbest: 2.7981932 (15)\ttotal: 2m 8s\tremaining: 2m 8s\n",
            "0:\tlearn: 4.0584267\ttest: 4.3187551\tbest: 4.3187551 (0)\ttotal: 24.3ms\tremaining: 24.3s\n",
            "999:\tlearn: 2.1401006\ttest: 2.8011560\tbest: 2.8006740 (980)\ttotal: 20.1s\tremaining: 0us\n",
            "\n",
            "bestTest = 2.800674006\n",
            "bestIteration = 980\n",
            "\n",
            "16:\tloss: 2.8006740\tbest: 2.7981932 (15)\ttotal: 2m 28s\tremaining: 2m 11s\n",
            "0:\tlearn: 3.9063743\ttest: 4.1697394\tbest: 4.1697394 (0)\ttotal: 23.2ms\tremaining: 23.2s\n",
            "999:\tlearn: 1.4984208\ttest: 2.7959111\tbest: 2.7918438 (888)\ttotal: 20.6s\tremaining: 0us\n",
            "\n",
            "bestTest = 2.791843834\n",
            "bestIteration = 888\n",
            "\n",
            "17:\tloss: 2.7918438\tbest: 2.7918438 (17)\ttotal: 2m 49s\tremaining: 2m 11s\n",
            "0:\tlearn: 4.0584679\ttest: 4.3187940\tbest: 4.3187940 (0)\ttotal: 23.4ms\tremaining: 23.4s\n",
            "999:\tlearn: 2.1625185\ttest: 2.7966686\tbest: 2.7964578 (984)\ttotal: 20s\tremaining: 0us\n",
            "\n",
            "bestTest = 2.796457766\n",
            "bestIteration = 984\n",
            "\n",
            "18:\tloss: 2.7964578\tbest: 2.7918438 (17)\ttotal: 3m 9s\tremaining: 2m 9s\n",
            "0:\tlearn: 3.9065068\ttest: 4.1698645\tbest: 4.1698645 (0)\ttotal: 23.3ms\tremaining: 23.3s\n",
            "999:\tlearn: 1.5288544\ttest: 2.7962124\tbest: 2.7950361 (967)\ttotal: 20.5s\tremaining: 0us\n",
            "\n",
            "bestTest = 2.795036055\n",
            "bestIteration = 967\n",
            "\n",
            "19:\tloss: 2.7950361\tbest: 2.7918438 (17)\ttotal: 3m 29s\tremaining: 2m 5s\n",
            "0:\tlearn: 4.0585347\ttest: 4.3188567\tbest: 4.3188567 (0)\ttotal: 27.1ms\tremaining: 27.1s\n",
            "999:\tlearn: 2.1930541\ttest: 2.7947886\tbest: 2.7947706 (998)\ttotal: 19.8s\tremaining: 0us\n",
            "\n",
            "bestTest = 2.794770558\n",
            "bestIteration = 998\n",
            "\n",
            "20:\tloss: 2.7947706\tbest: 2.7918438 (17)\ttotal: 3m 49s\tremaining: 2m\n",
            "0:\tlearn: 3.9067220\ttest: 4.1700660\tbest: 4.1700660 (0)\ttotal: 22.8ms\tremaining: 22.7s\n",
            "999:\tlearn: 1.5826012\ttest: 2.8013447\tbest: 2.7983726 (785)\ttotal: 20.3s\tremaining: 0us\n",
            "\n",
            "bestTest = 2.798372567\n",
            "bestIteration = 785\n",
            "\n",
            "21:\tloss: 2.7983726\tbest: 2.7918438 (17)\ttotal: 4m 10s\tremaining: 1m 53s\n",
            "0:\tlearn: 4.0587867\ttest: 4.3190900\tbest: 4.3190900 (0)\ttotal: 23.8ms\tremaining: 23.8s\n",
            "999:\tlearn: 2.2656016\ttest: 2.8072099\tbest: 2.8068834 (996)\ttotal: 19.7s\tremaining: 0us\n",
            "\n",
            "bestTest = 2.806883392\n",
            "bestIteration = 996\n",
            "\n",
            "22:\tloss: 2.8068834\tbest: 2.7918438 (17)\ttotal: 4m 29s\tremaining: 1m 45s\n",
            "0:\tlearn: 3.9075342\ttest: 4.1708175\tbest: 4.1708175 (0)\ttotal: 23.4ms\tremaining: 23.4s\n",
            "999:\tlearn: 1.7147859\ttest: 2.7875592\tbest: 2.7850840 (925)\ttotal: 19.9s\tremaining: 0us\n",
            "\n",
            "bestTest = 2.785084017\n",
            "bestIteration = 925\n",
            "\n",
            "23:\tloss: 2.7850840\tbest: 2.7850840 (23)\ttotal: 4m 49s\tremaining: 1m 36s\n",
            "0:\tlearn: 4.0584267\ttest: 4.3187551\tbest: 4.3187551 (0)\ttotal: 25.4ms\tremaining: 25.4s\n",
            "999:\tlearn: 1.6989200\ttest: 2.7876363\tbest: 2.7872126 (960)\ttotal: 37.4s\tremaining: 0us\n",
            "\n",
            "bestTest = 2.787212642\n",
            "bestIteration = 960\n",
            "\n",
            "24:\tloss: 2.7872126\tbest: 2.7850840 (23)\ttotal: 5m 27s\tremaining: 1m 31s\n",
            "0:\tlearn: 3.9063743\ttest: 4.1697394\tbest: 4.1697394 (0)\ttotal: 23ms\tremaining: 23s\n",
            "999:\tlearn: 0.7909265\ttest: 2.8176865\tbest: 2.8098975 (527)\ttotal: 38.1s\tremaining: 0us\n",
            "\n",
            "bestTest = 2.809897521\n",
            "bestIteration = 527\n",
            "\n",
            "25:\tloss: 2.8098975\tbest: 2.7850840 (23)\ttotal: 6m 5s\tremaining: 1m 24s\n",
            "0:\tlearn: 4.0584679\ttest: 4.3187940\tbest: 4.3187940 (0)\ttotal: 22.4ms\tremaining: 22.3s\n",
            "999:\tlearn: 1.7632935\ttest: 2.7871311\tbest: 2.7871311 (999)\ttotal: 37.5s\tremaining: 0us\n",
            "\n",
            "bestTest = 2.787131095\n",
            "bestIteration = 999\n",
            "\n",
            "26:\tloss: 2.7871311\tbest: 2.7850840 (23)\ttotal: 6m 43s\tremaining: 1m 14s\n",
            "0:\tlearn: 3.9065068\ttest: 4.1698645\tbest: 4.1698645 (0)\ttotal: 23.3ms\tremaining: 23.3s\n"
          ]
        }
      ]
    },
    {
      "cell_type": "code",
      "metadata": {
        "colab": {
          "base_uri": "https://localhost:8080/"
        },
        "id": "nCNgE_jo4Qcw",
        "outputId": "26cff27b-8a3e-41c4-a171-7e602bbf1c97"
      },
      "source": [
        "X_test.dtypes # Ordering is wrong"
      ],
      "execution_count": 56,
      "outputs": [
        {
          "output_type": "execute_result",
          "data": {
            "text/plain": [
              "team                          object\n",
              "position                      object\n",
              "value                          int64\n",
              "season                         int64\n",
              "was_home                        bool\n",
              "opponent_team                 object\n",
              "selected                       int64\n",
              "FDR                           object\n",
              "substitution                    bool\n",
              "position_location             object\n",
              "supporters                      bool\n",
              "common_transfer                 bool\n",
              "premium_players               object\n",
              "double_week                     bool\n",
              "penalties_missed_shift       float64\n",
              "team_penalty_shift              bool\n",
              "team_win_perc_shift          float64\n",
              "penalties_saved_shift        float64\n",
              "bps_shift                    float64\n",
              "opp_team_win_perc_shift      float64\n",
              "ict_index_shift              float64\n",
              "xGBuildup_shift              float64\n",
              "xG_shift                     float64\n",
              "xGChain_shift                float64\n",
              "bonus_shift                  float64\n",
              "key_passes_shift             float64\n",
              "win_shift                       bool\n",
              "played_67_shift                 bool\n",
              "saves_shift                  float64\n",
              "npxG_shift                   float64\n",
              "creativity_shift             float64\n",
              "influence_shift              float64\n",
              "over_achiever_shift             bool\n",
              "red_cards_shift              float64\n",
              "goals_scored_shift           float64\n",
              "top_players_shift               bool\n",
              "opponent_team_score_shift    float64\n",
              "threat_shift                 float64\n",
              "goals_conceded_shift         float64\n",
              "own_goals_shift              float64\n",
              "shots_shift                  float64\n",
              "index_shift                  float64\n",
              "minutes_played_shift         float64\n",
              "assists_shift                float64\n",
              "clean_sheets_shift           float64\n",
              "team_score_shift             float64\n",
              "xA_shift                     float64\n",
              "minutes_shift                float64\n",
              "loss_shift                      bool\n",
              "yellow_cards_shift           float64\n",
              "dtype: object"
            ]
          },
          "metadata": {},
          "execution_count": 56
        }
      ]
    },
    {
      "cell_type": "code",
      "metadata": {
        "colab": {
          "base_uri": "https://localhost:8080/",
          "height": 350
        },
        "id": "03Cz_Hh0odvP",
        "outputId": "ecbb1d3a-edfd-4ba0-f8f9-37754813b6fc"
      },
      "source": [
        "import shap\n",
        "explainer = shap.TreeExplainer(model)\n",
        "shap_values = explainer.shap_values(X_test)\n",
        "shap.summary_plot(shap_values, X_test, feature_names = boston.feature_names[sorted_feature_importance])"
      ],
      "execution_count": 45,
      "outputs": [
        {
          "output_type": "error",
          "ename": "ModuleNotFoundError",
          "evalue": "ignored",
          "traceback": [
            "\u001b[0;31m---------------------------------------------------------------------------\u001b[0m",
            "\u001b[0;31mModuleNotFoundError\u001b[0m                       Traceback (most recent call last)",
            "\u001b[0;32m<ipython-input-45-8c262259bf03>\u001b[0m in \u001b[0;36m<module>\u001b[0;34m()\u001b[0m\n\u001b[0;32m----> 1\u001b[0;31m \u001b[0;32mimport\u001b[0m \u001b[0mshap\u001b[0m\u001b[0;34m\u001b[0m\u001b[0;34m\u001b[0m\u001b[0m\n\u001b[0m\u001b[1;32m      2\u001b[0m \u001b[0mexplainer\u001b[0m \u001b[0;34m=\u001b[0m \u001b[0mshap\u001b[0m\u001b[0;34m.\u001b[0m\u001b[0mTreeExplainer\u001b[0m\u001b[0;34m(\u001b[0m\u001b[0mmodel\u001b[0m\u001b[0;34m)\u001b[0m\u001b[0;34m\u001b[0m\u001b[0;34m\u001b[0m\u001b[0m\n\u001b[1;32m      3\u001b[0m \u001b[0mshap_values\u001b[0m \u001b[0;34m=\u001b[0m \u001b[0mexplainer\u001b[0m\u001b[0;34m.\u001b[0m\u001b[0mshap_values\u001b[0m\u001b[0;34m(\u001b[0m\u001b[0mX_test\u001b[0m\u001b[0;34m)\u001b[0m\u001b[0;34m\u001b[0m\u001b[0;34m\u001b[0m\u001b[0m\n\u001b[1;32m      4\u001b[0m \u001b[0mshap\u001b[0m\u001b[0;34m.\u001b[0m\u001b[0msummary_plot\u001b[0m\u001b[0;34m(\u001b[0m\u001b[0mshap_values\u001b[0m\u001b[0;34m,\u001b[0m \u001b[0mX_test\u001b[0m\u001b[0;34m,\u001b[0m \u001b[0mfeature_names\u001b[0m \u001b[0;34m=\u001b[0m \u001b[0mboston\u001b[0m\u001b[0;34m.\u001b[0m\u001b[0mfeature_names\u001b[0m\u001b[0;34m[\u001b[0m\u001b[0msorted_feature_importance\u001b[0m\u001b[0;34m]\u001b[0m\u001b[0;34m)\u001b[0m\u001b[0;34m\u001b[0m\u001b[0;34m\u001b[0m\u001b[0m\n",
            "\u001b[0;31mModuleNotFoundError\u001b[0m: No module named 'shap'",
            "",
            "\u001b[0;31m---------------------------------------------------------------------------\u001b[0;32m\nNOTE: If your import is failing due to a missing package, you can\nmanually install dependencies using either !pip or !apt.\n\nTo view examples of installing some common dependencies, click the\n\"Open Examples\" button below.\n\u001b[0;31m---------------------------------------------------------------------------\u001b[0m\n"
          ],
          "errorDetails": {
            "actions": [
              {
                "action": "open_url",
                "actionText": "Open Examples",
                "url": "/notebooks/snippets/importing_libraries.ipynb"
              }
            ]
          }
        }
      ]
    },
    {
      "cell_type": "code",
      "metadata": {
        "colab": {
          "base_uri": "https://localhost:8080/",
          "height": 697
        },
        "id": "W4deUAmE--uJ",
        "outputId": "7770ffc7-d203-46a6-e29c-75bc0ca7610f"
      },
      "source": [
        "pred = model.predict(X_test)\n",
        "regression_results(y_test, pred, 'catboost')"
      ],
      "execution_count": 46,
      "outputs": [
        {
          "output_type": "error",
          "ename": "CatBoostError",
          "evalue": "ignored",
          "traceback": [
            "\u001b[0;31m---------------------------------------------------------------------------\u001b[0m",
            "\u001b[0;31mCatBoostError\u001b[0m                             Traceback (most recent call last)",
            "\u001b[0;32m_catboost.pyx\u001b[0m in \u001b[0;36m_catboost.get_cat_factor_bytes_representation\u001b[0;34m()\u001b[0m\n",
            "\u001b[0;32m_catboost.pyx\u001b[0m in \u001b[0;36m_catboost.get_id_object_bytes_string_representation\u001b[0;34m()\u001b[0m\n",
            "\u001b[0;31mCatBoostError\u001b[0m: bad object for id: -0.03223483041846206",
            "\nDuring handling of the above exception, another exception occurred:\n",
            "\u001b[0;31mCatBoostError\u001b[0m                             Traceback (most recent call last)",
            "\u001b[0;32m<ipython-input-46-e445d7c2c655>\u001b[0m in \u001b[0;36m<module>\u001b[0;34m()\u001b[0m\n\u001b[0;32m----> 1\u001b[0;31m \u001b[0mpred\u001b[0m \u001b[0;34m=\u001b[0m \u001b[0mmodel\u001b[0m\u001b[0;34m.\u001b[0m\u001b[0mpredict\u001b[0m\u001b[0;34m(\u001b[0m\u001b[0mX_test\u001b[0m\u001b[0;34m)\u001b[0m\u001b[0;34m\u001b[0m\u001b[0;34m\u001b[0m\u001b[0m\n\u001b[0m\u001b[1;32m      2\u001b[0m \u001b[0mregression_results\u001b[0m\u001b[0;34m(\u001b[0m\u001b[0my_test\u001b[0m\u001b[0;34m,\u001b[0m \u001b[0mpred\u001b[0m\u001b[0;34m,\u001b[0m \u001b[0;34m'catboost'\u001b[0m\u001b[0;34m)\u001b[0m\u001b[0;34m\u001b[0m\u001b[0;34m\u001b[0m\u001b[0m\n",
            "\u001b[0;32m/usr/local/lib/python3.7/dist-packages/catboost/core.py\u001b[0m in \u001b[0;36mpredict\u001b[0;34m(self, data, prediction_type, ntree_start, ntree_end, thread_count, verbose, task_type)\u001b[0m\n\u001b[1;32m   5343\u001b[0m         \u001b[0;32mif\u001b[0m \u001b[0mprediction_type\u001b[0m \u001b[0;32mis\u001b[0m \u001b[0;32mNone\u001b[0m\u001b[0;34m:\u001b[0m\u001b[0;34m\u001b[0m\u001b[0;34m\u001b[0m\u001b[0m\n\u001b[1;32m   5344\u001b[0m             \u001b[0mprediction_type\u001b[0m \u001b[0;34m=\u001b[0m \u001b[0mself\u001b[0m\u001b[0;34m.\u001b[0m\u001b[0m_get_default_prediction_type\u001b[0m\u001b[0;34m(\u001b[0m\u001b[0;34m)\u001b[0m\u001b[0;34m\u001b[0m\u001b[0;34m\u001b[0m\u001b[0m\n\u001b[0;32m-> 5345\u001b[0;31m         \u001b[0;32mreturn\u001b[0m \u001b[0mself\u001b[0m\u001b[0;34m.\u001b[0m\u001b[0m_predict\u001b[0m\u001b[0;34m(\u001b[0m\u001b[0mdata\u001b[0m\u001b[0;34m,\u001b[0m \u001b[0mprediction_type\u001b[0m\u001b[0;34m,\u001b[0m \u001b[0mntree_start\u001b[0m\u001b[0;34m,\u001b[0m \u001b[0mntree_end\u001b[0m\u001b[0;34m,\u001b[0m \u001b[0mthread_count\u001b[0m\u001b[0;34m,\u001b[0m \u001b[0mverbose\u001b[0m\u001b[0;34m,\u001b[0m \u001b[0;34m'predict'\u001b[0m\u001b[0;34m,\u001b[0m \u001b[0mtask_type\u001b[0m\u001b[0;34m)\u001b[0m\u001b[0;34m\u001b[0m\u001b[0;34m\u001b[0m\u001b[0m\n\u001b[0m\u001b[1;32m   5346\u001b[0m \u001b[0;34m\u001b[0m\u001b[0m\n\u001b[1;32m   5347\u001b[0m     \u001b[0;32mdef\u001b[0m \u001b[0mstaged_predict\u001b[0m\u001b[0;34m(\u001b[0m\u001b[0mself\u001b[0m\u001b[0;34m,\u001b[0m \u001b[0mdata\u001b[0m\u001b[0;34m,\u001b[0m \u001b[0mprediction_type\u001b[0m\u001b[0;34m=\u001b[0m\u001b[0;34m'RawFormulaVal'\u001b[0m\u001b[0;34m,\u001b[0m \u001b[0mntree_start\u001b[0m\u001b[0;34m=\u001b[0m\u001b[0;36m0\u001b[0m\u001b[0;34m,\u001b[0m \u001b[0mntree_end\u001b[0m\u001b[0;34m=\u001b[0m\u001b[0;36m0\u001b[0m\u001b[0;34m,\u001b[0m \u001b[0meval_period\u001b[0m\u001b[0;34m=\u001b[0m\u001b[0;36m1\u001b[0m\u001b[0;34m,\u001b[0m \u001b[0mthread_count\u001b[0m\u001b[0;34m=\u001b[0m\u001b[0;34m-\u001b[0m\u001b[0;36m1\u001b[0m\u001b[0;34m,\u001b[0m \u001b[0mverbose\u001b[0m\u001b[0;34m=\u001b[0m\u001b[0;32mNone\u001b[0m\u001b[0;34m)\u001b[0m\u001b[0;34m:\u001b[0m\u001b[0;34m\u001b[0m\u001b[0;34m\u001b[0m\u001b[0m\n",
            "\u001b[0;32m/usr/local/lib/python3.7/dist-packages/catboost/core.py\u001b[0m in \u001b[0;36m_predict\u001b[0;34m(self, data, prediction_type, ntree_start, ntree_end, thread_count, verbose, parent_method_name, task_type)\u001b[0m\n\u001b[1;32m   2215\u001b[0m         \u001b[0;32mif\u001b[0m \u001b[0mverbose\u001b[0m \u001b[0;32mis\u001b[0m \u001b[0;32mNone\u001b[0m\u001b[0;34m:\u001b[0m\u001b[0;34m\u001b[0m\u001b[0;34m\u001b[0m\u001b[0m\n\u001b[1;32m   2216\u001b[0m             \u001b[0mverbose\u001b[0m \u001b[0;34m=\u001b[0m \u001b[0;32mFalse\u001b[0m\u001b[0;34m\u001b[0m\u001b[0;34m\u001b[0m\u001b[0m\n\u001b[0;32m-> 2217\u001b[0;31m         \u001b[0mdata\u001b[0m\u001b[0;34m,\u001b[0m \u001b[0mdata_is_single_object\u001b[0m \u001b[0;34m=\u001b[0m \u001b[0mself\u001b[0m\u001b[0;34m.\u001b[0m\u001b[0m_process_predict_input_data\u001b[0m\u001b[0;34m(\u001b[0m\u001b[0mdata\u001b[0m\u001b[0;34m,\u001b[0m \u001b[0mparent_method_name\u001b[0m\u001b[0;34m,\u001b[0m \u001b[0mthread_count\u001b[0m\u001b[0;34m)\u001b[0m\u001b[0;34m\u001b[0m\u001b[0;34m\u001b[0m\u001b[0m\n\u001b[0m\u001b[1;32m   2218\u001b[0m         \u001b[0mself\u001b[0m\u001b[0;34m.\u001b[0m\u001b[0m_validate_prediction_type\u001b[0m\u001b[0;34m(\u001b[0m\u001b[0mprediction_type\u001b[0m\u001b[0;34m)\u001b[0m\u001b[0;34m\u001b[0m\u001b[0;34m\u001b[0m\u001b[0m\n\u001b[1;32m   2219\u001b[0m \u001b[0;34m\u001b[0m\u001b[0m\n",
            "\u001b[0;32m/usr/local/lib/python3.7/dist-packages/catboost/core.py\u001b[0m in \u001b[0;36m_process_predict_input_data\u001b[0;34m(self, data, parent_method_name, thread_count, label)\u001b[0m\n\u001b[1;32m   2201\u001b[0m                 \u001b[0mtext_features\u001b[0m\u001b[0;34m=\u001b[0m\u001b[0mself\u001b[0m\u001b[0;34m.\u001b[0m\u001b[0m_get_text_feature_indices\u001b[0m\u001b[0;34m(\u001b[0m\u001b[0;34m)\u001b[0m \u001b[0;32mif\u001b[0m \u001b[0;32mnot\u001b[0m \u001b[0misinstance\u001b[0m\u001b[0;34m(\u001b[0m\u001b[0mdata\u001b[0m\u001b[0;34m,\u001b[0m \u001b[0mFeaturesData\u001b[0m\u001b[0;34m)\u001b[0m \u001b[0;32melse\u001b[0m \u001b[0;32mNone\u001b[0m\u001b[0;34m,\u001b[0m\u001b[0;34m\u001b[0m\u001b[0;34m\u001b[0m\u001b[0m\n\u001b[1;32m   2202\u001b[0m                 \u001b[0membedding_features\u001b[0m\u001b[0;34m=\u001b[0m\u001b[0mself\u001b[0m\u001b[0;34m.\u001b[0m\u001b[0m_get_embedding_feature_indices\u001b[0m\u001b[0;34m(\u001b[0m\u001b[0;34m)\u001b[0m \u001b[0;32mif\u001b[0m \u001b[0;32mnot\u001b[0m \u001b[0misinstance\u001b[0m\u001b[0;34m(\u001b[0m\u001b[0mdata\u001b[0m\u001b[0;34m,\u001b[0m \u001b[0mFeaturesData\u001b[0m\u001b[0;34m)\u001b[0m \u001b[0;32melse\u001b[0m \u001b[0;32mNone\u001b[0m\u001b[0;34m,\u001b[0m\u001b[0;34m\u001b[0m\u001b[0;34m\u001b[0m\u001b[0m\n\u001b[0;32m-> 2203\u001b[0;31m                 \u001b[0mthread_count\u001b[0m\u001b[0;34m=\u001b[0m\u001b[0mthread_count\u001b[0m\u001b[0;34m\u001b[0m\u001b[0;34m\u001b[0m\u001b[0m\n\u001b[0m\u001b[1;32m   2204\u001b[0m             )\n\u001b[1;32m   2205\u001b[0m         \u001b[0;32mreturn\u001b[0m \u001b[0mdata\u001b[0m\u001b[0;34m,\u001b[0m \u001b[0mis_single_object\u001b[0m\u001b[0;34m\u001b[0m\u001b[0;34m\u001b[0m\u001b[0m\n",
            "\u001b[0;32m/usr/local/lib/python3.7/dist-packages/catboost/core.py\u001b[0m in \u001b[0;36m__init__\u001b[0;34m(self, data, label, cat_features, text_features, embedding_features, column_description, pairs, delimiter, has_header, ignore_csv_quoting, weight, group_id, group_weight, subgroup_id, pairs_weight, baseline, timestamp, feature_names, thread_count, log_cout, log_cerr)\u001b[0m\n\u001b[1;32m    626\u001b[0m                     )\n\u001b[1;32m    627\u001b[0m \u001b[0;34m\u001b[0m\u001b[0m\n\u001b[0;32m--> 628\u001b[0;31m                 \u001b[0mself\u001b[0m\u001b[0;34m.\u001b[0m\u001b[0m_init\u001b[0m\u001b[0;34m(\u001b[0m\u001b[0mdata\u001b[0m\u001b[0;34m,\u001b[0m \u001b[0mlabel\u001b[0m\u001b[0;34m,\u001b[0m \u001b[0mcat_features\u001b[0m\u001b[0;34m,\u001b[0m \u001b[0mtext_features\u001b[0m\u001b[0;34m,\u001b[0m \u001b[0membedding_features\u001b[0m\u001b[0;34m,\u001b[0m \u001b[0mpairs\u001b[0m\u001b[0;34m,\u001b[0m \u001b[0mweight\u001b[0m\u001b[0;34m,\u001b[0m \u001b[0mgroup_id\u001b[0m\u001b[0;34m,\u001b[0m \u001b[0mgroup_weight\u001b[0m\u001b[0;34m,\u001b[0m \u001b[0msubgroup_id\u001b[0m\u001b[0;34m,\u001b[0m \u001b[0mpairs_weight\u001b[0m\u001b[0;34m,\u001b[0m \u001b[0mbaseline\u001b[0m\u001b[0;34m,\u001b[0m \u001b[0mtimestamp\u001b[0m\u001b[0;34m,\u001b[0m \u001b[0mfeature_names\u001b[0m\u001b[0;34m,\u001b[0m \u001b[0mthread_count\u001b[0m\u001b[0;34m)\u001b[0m\u001b[0;34m\u001b[0m\u001b[0;34m\u001b[0m\u001b[0m\n\u001b[0m\u001b[1;32m    629\u001b[0m         \u001b[0msuper\u001b[0m\u001b[0;34m(\u001b[0m\u001b[0mPool\u001b[0m\u001b[0;34m,\u001b[0m \u001b[0mself\u001b[0m\u001b[0;34m)\u001b[0m\u001b[0;34m.\u001b[0m\u001b[0m__init__\u001b[0m\u001b[0;34m(\u001b[0m\u001b[0;34m)\u001b[0m\u001b[0;34m\u001b[0m\u001b[0;34m\u001b[0m\u001b[0m\n\u001b[1;32m    630\u001b[0m \u001b[0;34m\u001b[0m\u001b[0m\n",
            "\u001b[0;32m/usr/local/lib/python3.7/dist-packages/catboost/core.py\u001b[0m in \u001b[0;36m_init\u001b[0;34m(self, data, label, cat_features, text_features, embedding_features, pairs, weight, group_id, group_weight, subgroup_id, pairs_weight, baseline, timestamp, feature_names, thread_count)\u001b[0m\n\u001b[1;32m   1169\u001b[0m             \u001b[0mtimestamp\u001b[0m \u001b[0;34m=\u001b[0m \u001b[0mself\u001b[0m\u001b[0;34m.\u001b[0m\u001b[0m_if_pandas_to_numpy\u001b[0m\u001b[0;34m(\u001b[0m\u001b[0mtimestamp\u001b[0m\u001b[0;34m)\u001b[0m\u001b[0;34m\u001b[0m\u001b[0;34m\u001b[0m\u001b[0m\n\u001b[1;32m   1170\u001b[0m             \u001b[0mself\u001b[0m\u001b[0;34m.\u001b[0m\u001b[0m_check_timestamp_shape\u001b[0m\u001b[0;34m(\u001b[0m\u001b[0mtimestamp\u001b[0m\u001b[0;34m,\u001b[0m \u001b[0msamples_count\u001b[0m\u001b[0;34m)\u001b[0m\u001b[0;34m\u001b[0m\u001b[0;34m\u001b[0m\u001b[0m\n\u001b[0;32m-> 1171\u001b[0;31m         \u001b[0mself\u001b[0m\u001b[0;34m.\u001b[0m\u001b[0m_init_pool\u001b[0m\u001b[0;34m(\u001b[0m\u001b[0mdata\u001b[0m\u001b[0;34m,\u001b[0m \u001b[0mlabel\u001b[0m\u001b[0;34m,\u001b[0m \u001b[0mcat_features\u001b[0m\u001b[0;34m,\u001b[0m \u001b[0mtext_features\u001b[0m\u001b[0;34m,\u001b[0m \u001b[0membedding_features\u001b[0m\u001b[0;34m,\u001b[0m \u001b[0mpairs\u001b[0m\u001b[0;34m,\u001b[0m \u001b[0mweight\u001b[0m\u001b[0;34m,\u001b[0m \u001b[0mgroup_id\u001b[0m\u001b[0;34m,\u001b[0m \u001b[0mgroup_weight\u001b[0m\u001b[0;34m,\u001b[0m \u001b[0msubgroup_id\u001b[0m\u001b[0;34m,\u001b[0m \u001b[0mpairs_weight\u001b[0m\u001b[0;34m,\u001b[0m \u001b[0mbaseline\u001b[0m\u001b[0;34m,\u001b[0m \u001b[0mtimestamp\u001b[0m\u001b[0;34m,\u001b[0m \u001b[0mfeature_names\u001b[0m\u001b[0;34m,\u001b[0m \u001b[0mthread_count\u001b[0m\u001b[0;34m)\u001b[0m\u001b[0;34m\u001b[0m\u001b[0;34m\u001b[0m\u001b[0m\n\u001b[0m\u001b[1;32m   1172\u001b[0m \u001b[0;34m\u001b[0m\u001b[0m\n\u001b[1;32m   1173\u001b[0m \u001b[0;34m\u001b[0m\u001b[0m\n",
            "\u001b[0;32m_catboost.pyx\u001b[0m in \u001b[0;36m_catboost._PoolBase._init_pool\u001b[0;34m()\u001b[0m\n",
            "\u001b[0;32m_catboost.pyx\u001b[0m in \u001b[0;36m_catboost._PoolBase._init_pool\u001b[0;34m()\u001b[0m\n",
            "\u001b[0;32m_catboost.pyx\u001b[0m in \u001b[0;36m_catboost._PoolBase._init_features_order_layout_pool\u001b[0;34m()\u001b[0m\n",
            "\u001b[0;32m_catboost.pyx\u001b[0m in \u001b[0;36m_catboost._set_features_order_data_pd_data_frame\u001b[0;34m()\u001b[0m\n",
            "\u001b[0;32m_catboost.pyx\u001b[0m in \u001b[0;36m_catboost.get_cat_factor_bytes_representation\u001b[0;34m()\u001b[0m\n",
            "\u001b[0;31mCatBoostError\u001b[0m: Invalid type for cat_feature[non-default value idx=0,feature_idx=0]=-0.03223483041846206 : cat_features must be integer or string, real number values and NaN values should be converted to string."
          ]
        }
      ]
    },
    {
      "cell_type": "markdown",
      "metadata": {
        "id": "Wx7WH-sDmUZM"
      },
      "source": [
        "Tune random forest"
      ]
    },
    {
      "cell_type": "code",
      "metadata": {
        "colab": {
          "base_uri": "https://localhost:8080/"
        },
        "id": "B6hoD9_5mUKd",
        "outputId": "86105a6b-4554-4783-d615-ef8d8cfc89b8"
      },
      "source": [
        "from sklearn.preprocessing import LabelEncoder \n",
        "\n",
        "def preprocess_random_forest(df):\n",
        "  label_encoder = LabelEncoder()\n",
        "  df = df.drop(columns = ['player_name', 'kickoff_time', 'season', 'GW'])\n",
        "  categoricals =  ['clean_sheets_shift', 'own_goals_shift', 'penalties_missed_shift', 'red_cards_shift', 'yellow_cards_shift', 'FDR', 'Team_Rank', 'Player_Rank', 'team', 'opponent_team', 'position']\n",
        "  for col in categoricals:\n",
        "    df[col] = label_encoder.fit_transform(df[col])\n",
        "  df[categoricals] = df[categoricals].apply(lambda x: x.astype('category')) \n",
        "  return df\n",
        "\n",
        "def scale_datasets(df):\n",
        "  scaled_cols = []\n",
        "  for col in df.select_dtypes(include = 'number').columns.drop('total_points_shift'):\n",
        "    if df[col].nunique() > 2:\n",
        "      scaled_cols.append(col)\n",
        "  std_pred, std_resp = StandardScaler(), StandardScaler()\n",
        "  X_train, y_train = df.drop('total_points_shift', axis=1), df['total_points_shift'] \n",
        "  X_train[scaled_cols] = pd.DataFrame(std_pred.fit_transform(X_train[scaled_cols]), columns=df[scaled_cols].columns, index=X_train.index)\n",
        "  y_train = pd.DataFrame(std_resp.fit_transform(y_train.to_numpy().reshape(-1, 1)),\n",
        "                                                columns=['total_points_shift'], index=y_train.index)\n",
        "  return X_train, y_train, std_resp\n",
        "\n",
        "def dont_scale_datasets(df):\n",
        "  X_train, y_train = df.drop('total_points_shift', axis=1), df['total_points_shift'] \n",
        "  return X_train, y_train\n",
        "  \n",
        "df = pd.read_csv('./drive/MyDrive/Data/engineered_us.csv')\n",
        "df = preprocess_random_forest(df)\n",
        "X_train, y_train = dont_scale_datasets(df)\n",
        "# X_train, y_train, std_resp = scale_datasets(df)\n",
        "# X_train.select_dtypes(include = 'category')\n",
        "\n",
        "# Random\n",
        "n_estimators = [int(x) for x in np.linspace(start = 100, stop = 1200, num = 6)]\n",
        "max_features = ['auto', 'sqrt']\n",
        "max_depth = [int(x) for x in np.linspace(5, 30, num = 6)]\n",
        "min_samples_split = [2, 5, 10, 15, 100]\n",
        "min_samples_leaf = [1, 2, 5, 10]\n",
        "random_grid = {'n_estimators': n_estimators,\n",
        "               'max_features': max_features,\n",
        "               'max_depth': max_depth,\n",
        "               'min_samples_split': min_samples_split,\n",
        "               'min_samples_leaf': min_samples_leaf}\n",
        "\n",
        "# rf_grid = GridSearchCV(RandomForestRegressor(), param_grid = random_grid, scoring='neg_mean_squared_error', cv = 5, verbose=10,  n_jobs = 8).fit(X_train, y_train)\n",
        "# rf_grid.best_estimator_\n",
        "rf_grid = RandomizedSearchCV(estimator = RandomForestRegressor(), param_distributions = random_grid,scoring='neg_mean_squared_error', n_iter = 10, cv = 5, verbose=2, random_state=42, n_jobs = 8).fit(X_train, y_train)\n",
        "rf_grid.best_params_ # 25 min\n"
      ],
      "execution_count": null,
      "outputs": [
        {
          "output_type": "stream",
          "name": "stdout",
          "text": [
            "Fitting 5 folds for each of 10 candidates, totalling 50 fits\n"
          ]
        },
        {
          "output_type": "stream",
          "name": "stderr",
          "text": [
            "[Parallel(n_jobs=8)]: Using backend LokyBackend with 8 concurrent workers.\n",
            "[Parallel(n_jobs=8)]: Done  25 tasks      | elapsed: 15.6min\n",
            "[Parallel(n_jobs=8)]: Done  50 out of  50 | elapsed: 24.1min finished\n"
          ]
        },
        {
          "output_type": "execute_result",
          "data": {
            "text/plain": [
              "{'max_depth': 30,\n",
              " 'max_features': 'auto',\n",
              " 'min_samples_leaf': 2,\n",
              " 'min_samples_split': 5,\n",
              " 'n_estimators': 540}"
            ]
          },
          "metadata": {},
          "execution_count": 325
        }
      ]
    },
    {
      "cell_type": "code",
      "metadata": {
        "id": "vxqX8syKNx7R"
      },
      "source": [
        "RandomForestRegressor(max_depth = 30, max_features = 'auto',\n",
        "                      min_samples_leaf = 2, min_samples_split = 5,\n",
        "                      n_estimators = 540)  # winner of randomized search\n"
      ],
      "execution_count": null,
      "outputs": []
    },
    {
      "cell_type": "markdown",
      "metadata": {
        "id": "_W-L1KUdzIwP"
      },
      "source": [
        "Compare PCA and Linear Regression with CV (Complete)\n",
        "\n"
      ]
    },
    {
      "cell_type": "code",
      "metadata": {
        "id": "-4otVmaBukVP",
        "colab": {
          "base_uri": "https://localhost:8080/",
          "height": 1000
        },
        "outputId": "c9ae521f-e0ae-4f76-a013-9dc825367f25"
      },
      "source": [
        "from sklearn.preprocessing import FunctionTransformer\n",
        "import pandas\n",
        "import seaborn as sns\n",
        "from sklearn import model_selection\n",
        "from sklearn.pipeline import Pipeline\n",
        "from mlxtend.feature_selection import ColumnSelector\n",
        "import statsmodels.api as sm\n",
        "sns.set()\n",
        "\n",
        "def backward_elimination(X, y, threshold_in = 0.05, verbose = True):\n",
        "    \"\"\"[This function recursively eliminates features and returns all features that are above the level of significance]\n",
        "\n",
        "    Args:\n",
        "        df ([type]): [description]\n",
        "        threshold_in ([type]): [description]\n",
        "        verbose (bool, optional): [description]. Defaults to True.\n",
        "\n",
        "    Returns:\n",
        "        [type]: [description]\n",
        "    \"\"\"    \n",
        "    iterations_log = \"\"\n",
        "    cols = list(X.columns)\n",
        "    while (len(cols) > 0):\n",
        "        X_1 = X[cols]\n",
        "        X_1 = sm.add_constant(X_1)\n",
        "        model = sm.OLS(y, X_1.astype(float)).fit()\n",
        "        iterations_log += \"\\n\"+str(model.summary())+\"\\nAIC: \"+ str(model.aic) + \"\\nBIC: \"+ str(model.bic)+\"\\n\"\n",
        "        p = pd.Series(model.pvalues.values[1:],index = cols)      \n",
        "        best_pval = max(p)\n",
        "        worst_feature = p.idxmax()\n",
        "        if(best_pval > threshold_in):\n",
        "            cols.remove(worst_feature)\n",
        "            if verbose:\n",
        "                print('Remove  {:30} with p-value {:.12}'.format(worst_feature, best_pval))\n",
        "        else:\n",
        "            break\n",
        "    selected_features = cols\n",
        "    print(f'{len(selected_features)} features selected')\n",
        "    print(selected_features)\n",
        "    return selected_features\n",
        "\n",
        "def forward_elimination(X, y, threshold_in = 0.05, verbose=True):\n",
        "    \"\"\"[This function recursively adds features and returns all features that are above the level of significance]\n",
        "\n",
        "    Args:\n",
        "        df ([type]): [description]\n",
        "        threshold_in ([type]): [description]\n",
        "        verbose (bool, optional): [description]. Defaults to True.\n",
        "\n",
        "    Returns:\n",
        "        [type]: [description]\n",
        "    \"\"\"    \n",
        "    \n",
        "    initial_list = []\n",
        "    selected_features = list(initial_list)\n",
        "    iterations_log = \"\"\n",
        "    while True:\n",
        "        changed=False\n",
        "        excluded_features = list(set(X.columns)-set(selected_features))\n",
        "        new_pval = pd.Series(index=excluded_features, dtype='float64')\n",
        "        for new_column in excluded_features:\n",
        "            model = sm.OLS(y, sm.add_constant(pd.DataFrame(X[selected_features+[new_column]]))).fit()\n",
        "            iterations_log += \"\\n\"+str(model.summary())+\"\\nAIC: \"+ str(model.aic) + \"\\nBIC: \"+ str(model.bic)+\"\\n\"\n",
        "            new_pval[new_column] = model.pvalues[new_column]\n",
        "        best_pval = new_pval.min()\n",
        "        if best_pval < threshold_in:\n",
        "            best_feature = new_pval.idxmin()\n",
        "            selected_features.append(best_feature)\n",
        "            changed=True\n",
        "            if verbose:\n",
        "                print('Add  {:30} with p-value {:.12}'.format(best_feature, best_pval))\n",
        "        if not changed:\n",
        "            break\n",
        "    print(f'{len(selected_features)} features selected')\n",
        "    return selected_features\n",
        "    \n",
        "def stepwise_selection(data, target,SL_in=0.05,SL_out = 0.05):\n",
        "    \"\"\"[This function recursively adds and removes features and returns all features that are above the level of significance]\n",
        "\n",
        "    Args:\n",
        "        df ([type]): [description]\n",
        "        threshold_in ([type]): [description]\n",
        "        verbose (bool, optional): [description]. Defaults to True.\n",
        "\n",
        "    Returns:\n",
        "        [type]: [description]\n",
        "    \"\"\"    \n",
        "\n",
        "    initial_features = data.columns.tolist()\n",
        "    best_features = []\n",
        "    while (len(initial_features)>0):\n",
        "        remaining_features = list(set(initial_features)-set(best_features))\n",
        "        new_pval = pd.Series(index=remaining_features)\n",
        "        for new_column in remaining_features:\n",
        "            # print('Adding ', new_column)\n",
        "            model = sm.OLS(target, sm.add_constant(data[best_features+[new_column]])).fit()\n",
        "            new_pval[new_column] = model.pvalues[new_column]\n",
        "        min_p_value = new_pval.min()\n",
        "        if(min_p_value<SL_in):\n",
        "            best_features.append(new_pval.idxmin())\n",
        "            while(len(best_features)>0):\n",
        "                best_features_with_constant = sm.add_constant(data[best_features])\n",
        "                p_values = sm.OLS(target, best_features_with_constant).fit().pvalues[1:]\n",
        "                max_p_value = p_values.max()\n",
        "                if(max_p_value >= SL_out):\n",
        "                    excluded_feature = p_values.idxmax()\n",
        "                    # print('Removing ', excluded_feature)\n",
        "                    best_features.remove(excluded_feature)\n",
        "                else:\n",
        "                    break \n",
        "        else:\n",
        "            break\n",
        "    return best_features\n",
        "\n",
        "\n",
        "# Read data\n",
        "df = pd.read_csv('./drive/MyDrive/Data/engineered_us.csv')\n",
        "X_train, X_test, y_train, y_test, std_x, std_y = get_training_data(GW = 1, scale = True)\n",
        "fwd_feat = forward_elimination(X_train, y_train)\n",
        "bwd_feat = backward_elimination(X_train, y_train)\n",
        "step_feat = stepwise_selection(X_train, y_train)\n",
        "get_fwd_data = FunctionTransformer(lambda x: x[fwd_feat], validate=False)\n",
        "get_bwd_data = FunctionTransformer(lambda x: x[bwd_feat], validate=False)\n",
        "get_step_data = FunctionTransformer(lambda x: x[step_feat], validate=False)\n",
        "\n",
        "# See if PCA can be beneficial\n",
        "models = []\n",
        "results = []\n",
        "names = []\n",
        "scoring = 'neg_mean_squared_error'\n",
        "for comp in [ 30,35,40, 45, 50,55, 58]:\n",
        "  models.append((f'{comp}', Pipeline([('pca', PCA(n_components=comp)), ('LR', LinearRegression())])))\n",
        "pca = PCA().fit(X_train)\n",
        "plt.plot(np.cumsum(pca.explained_variance_ratio_))\n",
        "plt.xlabel('Number of components')\n",
        "plt.ylabel('Cumulative explained variance');\n",
        "for name, model in models:\n",
        "\tkfold = model_selection.KFold(n_splits=10)\n",
        "\tcv_results = model_selection.cross_val_score(model, X_train, y_train, cv=kfold, scoring=scoring)\n",
        "\tresults.append(-1*cv_results)\n",
        "\tnames.append(name)\n",
        "\tmsg = \"%s: %f (%f)\" % (name, cv_results.mean(), cv_results.std())\n",
        "\tprint(msg)\n",
        " \n",
        "fig = plt.figure()\n",
        "ax = fig.add_subplot(111)\n",
        "plt.boxplot(results)\n",
        "ax.set_xticklabels(names)\n",
        "plt.xlabel('Number of components')\n",
        "plt.show()\n",
        "\n",
        "\n",
        "# Prepare\n",
        "models = []\n",
        "models.append(('LR', LinearRegression()))\n",
        "models.append(('FWD', Pipeline([\n",
        "    ('selector', get_fwd_data),\n",
        "    ('LR', LinearRegression())])))\n",
        "models.append(('BWD', Pipeline([\n",
        "    ('selector', get_bwd_data),\n",
        "    ('LR', LinearRegression())])))\n",
        "models.append(('SW', Pipeline([\n",
        "    ('selector', get_step_data),\n",
        "    ('LR', LinearRegression())])))\n",
        "\n",
        "\n",
        "# for comp in [90,100]:\n",
        "#   models.append((f'PCA {comp}', Pipeline([('pca', PCA(n_components=comp)), ('LR', LinearRegression())])))\n",
        "\n",
        "# evaluate each model in turn\n",
        "results = []\n",
        "names = []\n",
        "scoring = 'neg_mean_squared_error'\n",
        "for name, model in models:\n",
        "\tkfold = model_selection.KFold(n_splits=10)\n",
        "\tcv_results = model_selection.cross_val_score(model, X_train, y_train, cv=kfold, scoring=scoring)\n",
        "\tresults.append(-1*cv_results)\n",
        "\tnames.append(name)\n",
        "\tmsg = \"%s: %f (%f)\" % (name, cv_results.mean(), cv_results.std())\n",
        "\tprint(msg)\n",
        "# boxplot algorithm comparison\n",
        "fig = plt.figure()\n",
        "fig.suptitle('Algorithm Comparison')\n",
        "ax = fig.add_subplot(111)\n",
        "plt.boxplot(results)\n",
        "ax.set_xticklabels(names)\n",
        "plt.show()"
      ],
      "execution_count": null,
      "outputs": [
        {
          "output_type": "stream",
          "name": "stdout",
          "text": [
            "Add  substitution                   with p-value 2.0084983424e-185\n",
            "Add  value                          with p-value 7.08267653952e-130\n",
            "Add  was_home                       with p-value 3.26858255833e-18\n",
            "Add  FDR_Hard                       with p-value 1.06439214063e-17\n",
            "Add  position_location_Centre       with p-value 3.32866817958e-12\n",
            "Add  selected                       with p-value 3.01160960114e-09\n",
            "Add  FDR_Low                        with p-value 3.49666132754e-05\n",
            "Add  position_GK                    with p-value 0.00232444838273\n",
            "Add  position_DMID                  with p-value 0.0044068618013\n",
            "Add  shots_shift                    with p-value 0.00527508818857\n",
            "Add  team_score_shift               with p-value 0.00837574682885\n",
            "Add  common_transfer                with p-value 0.00867976618258\n",
            "Add  yellow_cards_shift             with p-value 0.0109944935524\n",
            "13 features selected\n",
            "Remove  supporters                     with p-value 0.961327992191\n",
            "Remove  penalties_saved_shift          with p-value 0.953152214886\n",
            "Remove  red_cards_shift                with p-value 0.90951460334\n",
            "Remove  position_DMID                  with p-value 0.970722840984\n",
            "Remove  goals_conceded_shift           with p-value 0.911477960614\n",
            "Remove  FDR_Hard                       with p-value 0.859113166474\n",
            "Remove  position_location_Centre       with p-value 0.871593954019\n",
            "Remove  top_players_shift              with p-value 0.804190200444\n",
            "Remove  loss_shift                     with p-value 0.791403255208\n",
            "Remove  bonus_shift                    with p-value 0.768002236066\n",
            "Remove  played_67_shift                with p-value 0.766739268186\n",
            "Remove  premium_players_Premium        with p-value 0.811053771036\n",
            "Remove  own_goals_shift                with p-value 0.745462827884\n",
            "Remove  premium_players_Medium         with p-value 0.677285019374\n",
            "Remove  minutes_played_shift           with p-value 0.637893322135\n",
            "Remove  over_achiever_shift            with p-value 0.636910157713\n",
            "Remove  team_score_shift               with p-value 0.639346830264\n",
            "Remove  goals_scored_shift             with p-value 0.642234502763\n",
            "Remove  double_week                    with p-value 0.613193395181\n",
            "Remove  saves_shift                    with p-value 0.485499823126\n",
            "Remove  clean_sheets_shift             with p-value 0.503003993369\n",
            "Remove  opponent_team_score_shift      with p-value 0.582851459616\n",
            "Remove  influence_shift                with p-value 0.452076367204\n",
            "Remove  threat_shift                   with p-value 0.60650737539\n",
            "Remove  ict_index_shift                with p-value 0.608313091075\n",
            "Remove  team_win_perc_shift            with p-value 0.412797116072\n",
            "Remove  bps_shift                      with p-value 0.248007206688\n",
            "Remove  opp_team_win_perc_shift        with p-value 0.229025252533\n",
            "Remove  index_shift                    with p-value 0.22318242667\n",
            "Remove  premium_players_Budget         with p-value 0.202623825263\n",
            "Remove  key_passes_shift               with p-value 0.12154147618\n",
            "Remove  minutes_shift                  with p-value 0.14975558069\n",
            "Remove  assists_shift                  with p-value 0.11145431624\n",
            "Remove  position_FWD                   with p-value 0.0791778342326\n",
            "Remove  position_AMID                  with p-value 0.216092347772\n",
            "Remove  xGChain_shift                  with p-value 0.0749364029456\n",
            "Remove  xA_shift                       with p-value 0.111056851179\n",
            "Remove  creativity_shift               with p-value 0.0747837280868\n",
            "Remove  position_DEF                   with p-value 0.0985109763509\n",
            "Remove  xGBuildup_shift                with p-value 0.101293943376\n",
            "18 features selected\n",
            "['value', 'was_home', 'selected', 'substitution', 'common_transfer', 'penalties_missed_shift', 'team_penalty_shift', 'xG_shift', 'win_shift', 'npxG_shift', 'shots_shift', 'yellow_cards_shift', 'position_GK', 'FDR_Low', 'FDR_Medium', 'position_location_General', 'position_location_Left', 'position_location_Right']\n"
          ]
        },
        {
          "output_type": "stream",
          "name": "stderr",
          "text": [
            "/usr/local/lib/python3.7/dist-packages/ipykernel_launcher.py:93: DeprecationWarning: The default dtype for empty Series will be 'object' instead of 'float64' in a future version. Specify a dtype explicitly to silence this warning.\n"
          ]
        },
        {
          "output_type": "stream",
          "name": "stdout",
          "text": [
            "30: -0.875512 (0.067864)\n",
            "35: -0.860023 (0.062655)\n",
            "40: -0.861138 (0.062399)\n",
            "45: -0.856941 (0.064840)\n",
            "50: -0.854701 (0.063632)\n",
            "55: -0.854595 (0.063776)\n",
            "58: -0.854732 (0.063673)\n"
          ]
        },
        {
          "output_type": "display_data",
          "data": {
            "image/png": "[encoded data removed]",
            "text/plain": [
              "<Figure size 432x288 with 1 Axes>"
            ]
          },
          "metadata": {}
        },
        {
          "output_type": "display_data",
          "data": {
            "image/png": "[encoded data removed]",
            "text/plain": [
              "<Figure size 432x288 with 1 Axes>"
            ]
          },
          "metadata": {}
        },
        {
          "output_type": "stream",
          "name": "stdout",
          "text": [
            "LR: -0.855204 (0.063228)\n",
            "FWD: -0.848584 (0.064968)\n",
            "BWD: -0.849961 (0.064930)\n",
            "SW: -0.848584 (0.064968)\n"
          ]
        },
        {
          "output_type": "display_data",
          "data": {
            "image/png": "[encoded data removed]",
            "text/plain": [
              "<Figure size 432x288 with 1 Axes>"
            ]
          },
          "metadata": {}
        }
      ]
    },
    {
      "cell_type": "code",
      "metadata": {
        "colab": {
          "base_uri": "https://localhost:8080/"
        },
        "id": "UMmWxfwVIe2n",
        "outputId": "fe6cedaf-a110-46c5-b605-cacefe4631f8"
      },
      "source": [
        ""
      ],
      "execution_count": null,
      "outputs": [
        {
          "output_type": "execute_result",
          "data": {
            "text/plain": [
              "[array([0.82393619, 0.91940454, 0.77871402, 0.79658052, 0.81610298,\n",
              "        0.89998901, 0.80984978, 0.81443306, 0.97534303, 0.91768264]),\n",
              " array([0.81647172, 0.90980625, 0.76956498, 0.79267298, 0.80501263,\n",
              "        0.89908551, 0.80003797, 0.80665402, 0.97123855, 0.9152962 ]),\n",
              " array([0.81290089, 0.91324746, 0.76822428, 0.7991277 , 0.8103803 ,\n",
              "        0.8970987 , 0.80355088, 0.80529509, 0.97276708, 0.91702032]),\n",
              " array([0.81647172, 0.90980625, 0.76956498, 0.79267298, 0.80501263,\n",
              "        0.89908551, 0.80003797, 0.80665402, 0.97123855, 0.9152962 ])]"
            ]
          },
          "metadata": {},
          "execution_count": 18
        }
      ]
    },
    {
      "cell_type": "markdown",
      "metadata": {
        "id": "zFHHA0GzRhbq"
      },
      "source": [
        "Keras Regressor"
      ]
    },
    {
      "cell_type": "code",
      "metadata": {
        "id": "OfJbPEI8D4EQ",
        "colab": {
          "base_uri": "https://localhost:8080/"
        },
        "outputId": "85b59938-cd6c-4293-80f8-1d74c7fd2c7c"
      },
      "source": [
        "from keras.wrappers.scikit_learn import KerasRegressor\n",
        "from keras.layers import Dense, Dropout, Activation\n",
        "from keras.models import Sequential\n",
        "\n",
        "\n",
        "def create_model(neurons = 512, dropout_rate = 0, activation = 'relu', init_mode = 'he_uniform', optimizer = 'SGD', weight_decay = 0.01, hidden_layers = 2):\n",
        "    model = Sequential()\n",
        "    if hidden_layers == 0:\n",
        "        pass\n",
        "    else:\n",
        "        for i in range(hidden_layers):\n",
        "            model.add(Dense(neurons, kernel_initializer=init_mode,  kernel_regularizer=l2(weight_decay), activation=activation))\n",
        "            model.add(Dropout(dropout_rate))\n",
        "\n",
        "    model.add(Dense(1, kernel_initializer=init_mode, activation='linear'))\n",
        "    model.compile(loss='mse', optimizer=optimizer, metrics=['mse'])\n",
        "    return model\n",
        "\n",
        "keras_model = KerasRegressor(build_fn=create_model, verbose=2)\n",
        "\n",
        "batch_size = [32] \n",
        "epochs = [1] \n",
        "neurons = [32] \n",
        "dropout_rate= [0.0]\n",
        "hidden_layers = [2] \n",
        "weight_decay = [0.01]\n",
        "activation = ['relu']\n",
        "init_mode = ['he_uniform']\n",
        "optimizer = ['SGD']\n",
        "\n",
        "param_grid = dict(batch_size=batch_size,\n",
        "    epochs=epochs,\n",
        "    hidden_layers=hidden_layers,\n",
        "    neurons=neurons,\n",
        "     dropout_rate=dropout_rate,\n",
        "     activation=activation,\n",
        "     init_mode=init_mode, \n",
        "     optimizer=optimizer)\n",
        "\n",
        "stopper = tf.keras.callbacks.EarlyStopping(monitor='mse', patience=5)\n",
        "fit_params = dict(callbacks=[stopper])\n",
        "grid = GridSearchCV(model, param_grid, n_jobs= 8, cv = 4,verbose = 10).fit(X_train, y_train, **fit_params)"
      ],
      "execution_count": null,
      "outputs": [
        {
          "output_type": "stream",
          "name": "stdout",
          "text": [
            "Fitting 4 folds for each of 1 candidates, totalling 4 fits\n"
          ]
        },
        {
          "output_type": "stream",
          "name": "stderr",
          "text": [
            "[Parallel(n_jobs=8)]: Using backend LokyBackend with 8 concurrent workers.\n",
            "[Parallel(n_jobs=8)]: Done   1 tasks      | elapsed:    2.5s\n",
            "[Parallel(n_jobs=8)]: Done   2 out of   4 | elapsed:    2.7s remaining:    2.7s\n",
            "[Parallel(n_jobs=8)]: Done   4 out of   4 | elapsed:    2.8s remaining:    0.0s\n",
            "[Parallel(n_jobs=8)]: Done   4 out of   4 | elapsed:    2.8s finished\n"
          ]
        },
        {
          "output_type": "stream",
          "name": "stdout",
          "text": [
            "334/334 - 1s - loss: 0.2041 - mse: 0.2041\n"
          ]
        }
      ]
    }
  ]
}